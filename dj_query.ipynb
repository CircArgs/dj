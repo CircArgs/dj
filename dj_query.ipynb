{
 "cells": [
  {
   "cell_type": "code",
   "execution_count": 1,
   "id": "0204a4de",
   "metadata": {},
   "outputs": [
    {
     "data": {
      "application/javascript": [
       "\n",
       "            setTimeout(function() {\n",
       "                var nbb_cell_id = 1;\n",
       "                var nbb_unformatted_code = \"%load_ext nb_black\";\n",
       "                var nbb_formatted_code = \"%load_ext nb_black\";\n",
       "                var nbb_cells = Jupyter.notebook.get_cells();\n",
       "                for (var i = 0; i < nbb_cells.length; ++i) {\n",
       "                    if (nbb_cells[i].input_prompt_number == nbb_cell_id) {\n",
       "                        if (nbb_cells[i].get_text() == nbb_unformatted_code) {\n",
       "                             nbb_cells[i].set_text(nbb_formatted_code);\n",
       "                        }\n",
       "                        break;\n",
       "                    }\n",
       "                }\n",
       "            }, 500);\n",
       "            "
      ],
      "text/plain": [
       "<IPython.core.display.Javascript object>"
      ]
     },
     "metadata": {},
     "output_type": "display_data"
    }
   ],
   "source": [
    "%load_ext nb_black"
   ]
  },
  {
   "cell_type": "code",
   "execution_count": 2,
   "id": "935ec781",
   "metadata": {
    "scrolled": true
   },
   "outputs": [
    {
     "name": "stderr",
     "output_type": "stream",
     "text": [
      "WARNING:root:no boto3 module found\n"
     ]
    },
    {
     "data": {
      "application/javascript": [
       "\n",
       "            setTimeout(function() {\n",
       "                var nbb_cell_id = 2;\n",
       "                var nbb_unformatted_code = \"from dj.sql.parsing.backends.sqloxide import parse\\nfrom dj.sql.parsing.backends.exceptions import DJParseException\\nfrom dj.construction.utils import make_name, get_dj_node, amenable_name\\nfrom dj.construction.build import build_ast_for_database\\nfrom dj.construction.compile import _compile_select_ast\\nfrom dj.sql.parsing import ast\\nfrom typing import Optional, List, Tuple\\nfrom sqlmodel import Session\\nfrom dj.models.node import Node, NodeType, NodeRevision\\nfrom dj.models.database import Database\\nfrom dj.errors import DJException\";\n",
       "                var nbb_formatted_code = \"from dj.sql.parsing.backends.sqloxide import parse\\nfrom dj.sql.parsing.backends.exceptions import DJParseException\\nfrom dj.construction.utils import make_name, get_dj_node, amenable_name\\nfrom dj.construction.build import build_ast_for_database\\nfrom dj.construction.compile import _compile_select_ast\\nfrom dj.sql.parsing import ast\\nfrom typing import Optional, List, Tuple\\nfrom sqlmodel import Session\\nfrom dj.models.node import Node, NodeType, NodeRevision\\nfrom dj.models.database import Database\\nfrom dj.errors import DJException\";\n",
       "                var nbb_cells = Jupyter.notebook.get_cells();\n",
       "                for (var i = 0; i < nbb_cells.length; ++i) {\n",
       "                    if (nbb_cells[i].input_prompt_number == nbb_cell_id) {\n",
       "                        if (nbb_cells[i].get_text() == nbb_unformatted_code) {\n",
       "                             nbb_cells[i].set_text(nbb_formatted_code);\n",
       "                        }\n",
       "                        break;\n",
       "                    }\n",
       "                }\n",
       "            }, 500);\n",
       "            "
      ],
      "text/plain": [
       "<IPython.core.display.Javascript object>"
      ]
     },
     "metadata": {},
     "output_type": "display_data"
    }
   ],
   "source": [
    "from dj.sql.parsing.backends.sqloxide import parse\n",
    "from dj.sql.parsing.backends.exceptions import DJParseException\n",
    "from dj.construction.utils import make_name, get_dj_node, amenable_name\n",
    "from dj.construction.build import build_ast_for_database\n",
    "from dj.construction.compile import _compile_select_ast\n",
    "from dj.sql.parsing import ast\n",
    "from typing import Optional, List, Tuple\n",
    "from sqlmodel import Session\n",
    "from dj.models.node import Node, NodeType, NodeRevision\n",
    "from dj.models.database import Database\n",
    "from dj.errors import DJException"
   ]
  },
  {
   "cell_type": "code",
   "execution_count": null,
   "id": "9bd7032b",
   "metadata": {},
   "outputs": [],
   "source": [
    "ast.Node.validate_strict = None"
   ]
  },
  {
   "cell_type": "code",
   "execution_count": 3,
   "id": "5d7bf3b3",
   "metadata": {},
   "outputs": [
    {
     "data": {
      "application/javascript": [
       "\n",
       "            setTimeout(function() {\n",
       "                var nbb_cell_id = 3;\n",
       "                var nbb_unformatted_code = \"alias = ast.Alias(ast.Name(\\\"b\\\"), child=ast.Table(ast.Name(\\\"tbl\\\")))\";\n",
       "                var nbb_formatted_code = \"alias = ast.Alias(ast.Name(\\\"b\\\"), child=ast.Table(ast.Name(\\\"tbl\\\")))\";\n",
       "                var nbb_cells = Jupyter.notebook.get_cells();\n",
       "                for (var i = 0; i < nbb_cells.length; ++i) {\n",
       "                    if (nbb_cells[i].input_prompt_number == nbb_cell_id) {\n",
       "                        if (nbb_cells[i].get_text() == nbb_unformatted_code) {\n",
       "                             nbb_cells[i].set_text(nbb_formatted_code);\n",
       "                        }\n",
       "                        break;\n",
       "                    }\n",
       "                }\n",
       "            }, 500);\n",
       "            "
      ],
      "text/plain": [
       "<IPython.core.display.Javascript object>"
      ]
     },
     "metadata": {},
     "output_type": "display_data"
    }
   ],
   "source": [
    "alias = Alias(Name(\"b\"), child=Table(Name(\"tbl\")))\n",
    "\n",
    "alias.replace(\n",
    "    Table(Name(\"tbl\")),\n",
    "    Alias(Name(\"a\"), child=Table(Name(\"tbl\"))),\n",
    ")"
   ]
  },
  {
   "cell_type": "code",
   "execution_count": 5,
   "id": "4a99ef62",
   "metadata": {},
   "outputs": [
    {
     "data": {
      "application/javascript": [
       "\n",
       "            setTimeout(function() {\n",
       "                var nbb_cell_id = 5;\n",
       "                var nbb_unformatted_code = \"alias.replace?\";\n",
       "                var nbb_formatted_code = \"alias.replace?\";\n",
       "                var nbb_cells = Jupyter.notebook.get_cells();\n",
       "                for (var i = 0; i < nbb_cells.length; ++i) {\n",
       "                    if (nbb_cells[i].input_prompt_number == nbb_cell_id) {\n",
       "                        if (nbb_cells[i].get_text() == nbb_unformatted_code) {\n",
       "                             nbb_cells[i].set_text(nbb_formatted_code);\n",
       "                        }\n",
       "                        break;\n",
       "                    }\n",
       "                }\n",
       "            }, 500);\n",
       "            "
      ],
      "text/plain": [
       "<IPython.core.display.Javascript object>"
      ]
     },
     "metadata": {},
     "output_type": "display_data"
    }
   ],
   "source": [
    "alias.replace?"
   ]
  },
  {
   "cell_type": "code",
   "execution_count": 8,
   "id": "b116b8c8",
   "metadata": {},
   "outputs": [
    {
     "name": "stdout",
     "output_type": "stream",
     "text": [
      "SELECT  Avg(n_comments),\n",
      "\tage \n",
      " FROM (SELECT  basic.num_comments AS n_comments,\n",
      "\tbasic.dimension.users.country AS country,\n",
      "\tbasic.dimension.users.age AS age \n",
      " FROM not_metrics\n",
      " \n",
      " GROUP BY  basic.dimension.users.country, basic.dimension.users.country)\n",
      " \n",
      " GROUP BY  age\n"
     ]
    },
    {
     "data": {
      "application/javascript": [
       "\n",
       "            setTimeout(function() {\n",
       "                var nbb_cell_id = 8;\n",
       "                var nbb_unformatted_code = \"print(\\n    \\\"\\\"\\\"SELECT  Avg(n_comments),\\\\n\\\\tage \\\\n FROM (SELECT  basic.num_comments AS n_comments,\\\\n\\\\tbasic.dimension.users.country AS country,\\\\n\\\\tbasic.dimension.users.age AS age \\\\n FROM not_metrics\\\\n \\\\n GROUP BY  basic.dimension.users.country, basic.dimension.users.country)\\\\n \\\\n GROUP BY  age\\\"\\\"\\\"\\n)\";\n",
       "                var nbb_formatted_code = \"print(\\n    \\\"\\\"\\\"SELECT  Avg(n_comments),\\\\n\\\\tage \\\\n FROM (SELECT  basic.num_comments AS n_comments,\\\\n\\\\tbasic.dimension.users.country AS country,\\\\n\\\\tbasic.dimension.users.age AS age \\\\n FROM not_metrics\\\\n \\\\n GROUP BY  basic.dimension.users.country, basic.dimension.users.country)\\\\n \\\\n GROUP BY  age\\\"\\\"\\\"\\n)\";\n",
       "                var nbb_cells = Jupyter.notebook.get_cells();\n",
       "                for (var i = 0; i < nbb_cells.length; ++i) {\n",
       "                    if (nbb_cells[i].input_prompt_number == nbb_cell_id) {\n",
       "                        if (nbb_cells[i].get_text() == nbb_unformatted_code) {\n",
       "                             nbb_cells[i].set_text(nbb_formatted_code);\n",
       "                        }\n",
       "                        break;\n",
       "                    }\n",
       "                }\n",
       "            }, 500);\n",
       "            "
      ],
      "text/plain": [
       "<IPython.core.display.Javascript object>"
      ]
     },
     "metadata": {},
     "output_type": "display_data"
    }
   ],
   "source": [
    "print(\n",
    "    \"\"\"SELECT  Avg(n_comments),\\n\\tage \\n FROM (SELECT  basic.num_comments AS n_comments,\\n\\tbasic.dimension.users.country AS country,\\n\\tbasic.dimension.users.age AS age \\n FROM not_metrics\\n \\n GROUP BY  basic.dimension.users.country, basic.dimension.users.country)\\n \\n GROUP BY  age\"\"\"\n",
    ")"
   ]
  },
  {
   "cell_type": "code",
   "execution_count": null,
   "id": "673ff313",
   "metadata": {},
   "outputs": [],
   "source": []
  },
  {
   "cell_type": "code",
   "execution_count": null,
   "id": "75b5e3f1",
   "metadata": {},
   "outputs": [],
   "source": []
  },
  {
   "cell_type": "code",
   "execution_count": 4,
   "id": "9b201f5b",
   "metadata": {},
   "outputs": [
    {
     "data": {
      "text/plain": [
       "Alias(name=Name(name='a', quote_style=''), namespace=None, child=Table(name=Name(name='tbl', quote_style=''), namespace=None))"
      ]
     },
     "execution_count": 4,
     "metadata": {},
     "output_type": "execute_result"
    }
   ],
   "source": [
    "ast.Alias(ast.Name('a'), child = )"
   ]
  },
  {
   "cell_type": "code",
   "execution_count": 10,
   "id": "744d776a",
   "metadata": {},
   "outputs": [
    {
     "name": "stdout",
     "output_type": "stream",
     "text": [
      "SELECT  Avg(n_comments),\n",
      "\tage \n",
      " FROM (SELECT  basic.num_comments AS n_comments,\n",
      "\tdimension.users.basic.country AS country,\n",
      "\tdimension.users.basic.age AS age \n",
      " FROM (SELECT  COUNT(1) AS cnt,\n",
      "\tbasic.source.comments.id AS basic_DOT_source_DOT_comments_DOT_id,\n",
      "\tbasic.source.comments.user_id AS basic_DOT_source_DOT_comments_DOT_user_id,\n",
      "\tbasic.source.comments.timestamp AS basic_DOT_source_DOT_comments_DOT_timestamp,\n",
      "\tbasic.source.comments.text AS basic_DOT_source_DOT_comments_DOT_text \n",
      " FROM basic.source.comments\n",
      " \n",
      ") AS basic_DOT_num_comments\n",
      "LEFT JOIN basic.source.comments\n",
      "        ON basic_DOT_num_comments.basic_DOT_source_DOT_comments_DOT_id = basic.source.comments.id AND basic_DOT_num_comments.basic_DOT_source_DOT_comments_DOT_user_id = basic.source.comments.user_id AND basic_DOT_num_comments.basic_DOT_source_DOT_comments_DOT_timestamp = basic.source.comments.timestamp AND basic_DOT_num_comments.basic_DOT_source_DOT_comments_DOT_text = basic.source.comments.text \n",
      " GROUP BY  dimension.users.basic.country, dimension.users.basic.age)\n",
      " \n",
      " GROUP BY  age\n"
     ]
    }
   ],
   "source": [
    "print(\"\"\"SELECT  Avg(n_comments),\\n\\tage \\n FROM (SELECT  basic.num_comments AS n_comments,\\n\\tdimension.users.basic.country AS country,\\n\\tdimension.users.basic.age AS age \\n FROM (SELECT  COUNT(1) AS cnt,\\n\\tbasic.source.comments.id AS basic_DOT_source_DOT_comments_DOT_id,\\n\\tbasic.source.comments.user_id AS basic_DOT_source_DOT_comments_DOT_user_id,\\n\\tbasic.source.comments.timestamp AS basic_DOT_source_DOT_comments_DOT_timestamp,\\n\\tbasic.source.comments.text AS basic_DOT_source_DOT_comments_DOT_text \\n FROM basic.source.comments\\n \\n) AS basic_DOT_num_comments\\nLEFT JOIN basic.source.comments\\n        ON basic_DOT_num_comments.basic_DOT_source_DOT_comments_DOT_id = basic.source.comments.id AND basic_DOT_num_comments.basic_DOT_source_DOT_comments_DOT_user_id = basic.source.comments.user_id AND basic_DOT_num_comments.basic_DOT_source_DOT_comments_DOT_timestamp = basic.source.comments.timestamp AND basic_DOT_num_comments.basic_DOT_source_DOT_comments_DOT_text = basic.source.comments.text \\n GROUP BY  dimension.users.basic.country, dimension.users.basic.age)\\n \\n GROUP BY  age\"\"\")"
   ]
  },
  {
   "cell_type": "code",
   "execution_count": null,
   "id": "5e7ce96e",
   "metadata": {},
   "outputs": [],
   "source": [
    "SELECT  basic_DOT_num_users_us.sum_users \n",
    " FROM (SELECT  SUM(basic_DOT_transform_DOT_country_agg.num_users) AS sum_users,\n",
    "        basic_DOT_transform_DOT_country_agg.country AS a_DOT_country,\n",
    "        basic_DOT_transform_DOT_country_agg.num_users AS a_DOT_num_users,\n",
    "        b.id AS b_DOT_id,\n",
    "        b.full_name AS b_DOT_full_name,\n",
    "        b.names_map AS b_DOT_names_map,\n",
    "        b.user_metadata AS b_DOT_user_metadata,\n",
    "        b.age AS b_DOT_age,\n",
    "        b.country AS b_DOT_country,\n",
    "        b.gender AS b_DOT_gender,\n",
    "        b.preferred_language AS b_DOT_preferred_language,\n",
    "        b.secret_number AS b_DOT_secret_number \n",
    " FROM (SELECT  basic.comments.country,\n",
    "        COUNT(DISTINCT basic.comments.id) AS num_users \n",
    " FROM basic.comments\n",
    " \n",
    " GROUP BY  basic.comments.country) AS basic_DOT_transform_DOT_country_agg\n",
    "INNER JOIN basic.comments AS b\n",
    "        ON basic_DOT_transform_DOT_country_agg.country = b.country \n",
    " WHERE  basic_DOT_transform_DOT_country_agg.country = 'US' \n",
    ") AS basic_DOT_num_users_us\n",
    "LEFT JOIN (SELECT  basic.comments.country,\n",
    "        COUNT(DISTINCT basic.comments.id) AS num_users \n",
    " FROM basic.comments\n",
    " \n",
    " GROUP BY  basic.comments.country) AS basic_DOT_transform_DOT_country_agg\n",
    "        ON basic_DOT_num_users_us.a_DOT_country = basic_DOT_transform_DOT_country_agg.country AND basic_DOT_num_users_us.a_DOT_num_users = basic_DOT_transform_DOT_country_agg.num_users\n",
    "LEFT JOIN basic.comments AS b\n",
    "        ON basic_DOT_num_users_us.b_DOT_id = b.id AND basic_DOT_num_users_us.b_DOT_full_name = b.full_name AND basic_DOT_num_users_us.b_DOT_names_map = b.names_map AND basic_DOT_num_users_us.b_DOT_user_metadata = b.user_metadata AND basic_DOT_num_users_us.b_DOT_age = b.age AND basic_DOT_num_users_us.b_DOT_country = b.country AND basic_DOT_num_users_us.b_DOT_gender = b.gender AND basic_DOT_num_users_us.b_DOT_preferred_language = b.preferred_language AND basic_DOT_num_users_us.b_DOT_secret_number = b.secret_number\n",
    "LEFT JOIN (SELECT  basic.comments.id,\n",
    "        basic.comments.full_name,\n",
    "        basic.comments.age,\n",
    "        basic.comments.country,\n",
    "        basic.comments.gender,\n",
    "        basic.comments.preferred_language,\n",
    "        basic.comments.secret_number \n",
    " FROM basic.comments\n",
    " \n",
    ") AS basic_DOT_dimension_DOT_users\n",
    "        ON basic_DOT_transform_DOT_country_agg.country = basic_DOT_dimension_DOT_users.country AND basic_DOT_transform_DOT_country_agg.country = basic_DOT_dimension_DOT_users.country \n",
    " GROUP BY  basic_DOT_dimension_DOT_users.country"
   ]
  },
  {
   "cell_type": "code",
   "execution_count": 9,
   "id": "bb1b3bd1",
   "metadata": {},
   "outputs": [
    {
     "name": "stdout",
     "output_type": "stream",
     "text": [
      "\n",
      "SELECT  Avg(n_comments),\n",
      "\tage \n",
      " FROM (SELECT  basic.num_comments AS n_comments,\n",
      "\tdimension.users.basic.country AS country,\n",
      "\tdimension.users.basic.age AS age \n",
      " FROM (SELECT  COUNT(1) AS cnt,\n",
      "\tbasic.source.comments.id AS basic_DOT_source_DOT_comments_DOT_id,\n",
      "\tbasic.source.comments.user_id AS basic_DOT_source_DOT_comments_DOT_user_id,\n",
      "\tbasic.source.comments.timestamp AS basic_DOT_source_DOT_comments_DOT_timestamp,\n",
      "\tbasic.source.comments.text AS basic_DOT_source_DOT_comments_DOT_text \n",
      " FROM basic.source.comments\n",
      " \n",
      ") AS basic_DOT_num_comments\n",
      "LEFT JOIN basic.source.comments\n",
      "        ON basic_DOT_num_comments.basic_DOT_source_DOT_comments_DOT_id = basic.source.comments.id AND basic_DOT_num_comments.basic_DOT_source_DOT_comments_DOT_user_id = basic.source.comments.user_id AND basic_DOT_num_comments.basic_DOT_source_DOT_comments_DOT_timestamp = basic.source.comments.timestamp AND basic_DOT_num_comments.basic_DOT_source_DOT_comments_DOT_text = basic.source.comments.text \n",
      " GROUP BY  dimension.users.basic.country, dimension.users.basic.country)\n",
      " \n",
      " GROUP BY  age\n",
      "\n",
      "\n"
     ]
    }
   ],
   "source": [
    "print('''\n",
    "SELECT  Avg(n_comments),\\n\\tage \\n FROM (SELECT  basic.num_comments AS n_comments,\\n\\tdimension.users.basic.country AS country,\\n\\tdimension.users.basic.age AS age \\n FROM (SELECT  COUNT(1) AS cnt,\\n\\tbasic.source.comments.id AS basic_DOT_source_DOT_comments_DOT_id,\\n\\tbasic.source.comments.user_id AS basic_DOT_source_DOT_comments_DOT_user_id,\\n\\tbasic.source.comments.timestamp AS basic_DOT_source_DOT_comments_DOT_timestamp,\\n\\tbasic.source.comments.text AS basic_DOT_source_DOT_comments_DOT_text \\n FROM basic.source.comments\\n \\n) AS basic_DOT_num_comments\\nLEFT JOIN basic.source.comments\\n        ON basic_DOT_num_comments.basic_DOT_source_DOT_comments_DOT_id = basic.source.comments.id AND basic_DOT_num_comments.basic_DOT_source_DOT_comments_DOT_user_id = basic.source.comments.user_id AND basic_DOT_num_comments.basic_DOT_source_DOT_comments_DOT_timestamp = basic.source.comments.timestamp AND basic_DOT_num_comments.basic_DOT_source_DOT_comments_DOT_text = basic.source.comments.text \\n GROUP BY  dimension.users.basic.country, dimension.users.basic.country)\\n \\n GROUP BY  age\n",
    "\n",
    "''')"
   ]
  },
  {
   "cell_type": "code",
   "execution_count": null,
   "id": "643ffe2d",
   "metadata": {},
   "outputs": [],
   "source": [
    "SELECT basic_DOT_num_users_us.sum_users\n",
    "FROM    AS basic_DOT_transform_DOT_country_agg\n",
    "       ,\n",
    "       basic.comments,\n",
    "AS\n",
    "       basic_DOT_num_users_us\n",
    "       LEFT JOIN  AS basic_DOT_dimension_DOT_users\n",
    "              ON basic_DOT_transform_DOT_country_agg.country =\n",
    "                           basic_DOT_dimension_DOT_users.country\n",
    "                 AND basic_DOT_transform_DOT_country_agg.country =\n",
    "                     basic_DOT_dimension_DOT_users.country\n",
    "GROUP  BY basic_DOT_dimension_DOT_users.country "
   ]
  },
  {
   "cell_type": "code",
   "execution_count": 1,
   "id": "2b6e2d80",
   "metadata": {},
   "outputs": [
    {
     "name": "stdout",
     "output_type": "stream",
     "text": [
      "SELECT  Avg(n_comments) AS col0,\n",
      "\tage \n",
      " FROM (SELECT  basic_DOT_num_comments.cnt AS n_comments,\n",
      "\tbasic_DOT_dimension_DOT_users.country AS country,\n",
      "\tbasic_DOT_dimension_DOT_users.age AS age \n",
      " FROM basic.comments, (SELECT  COUNT(1) AS cnt,\n",
      "\tbasic.comments.id,\n",
      "\tbasic.comments.user_id,\n",
      "\tbasic.comments.timestamp,\n",
      "\tbasic.comments.text \n",
      " FROM basic.comments\n",
      " \n",
      ") AS basic_DOT_num_comments\n",
      "LEFT JOIN (SELECT  basic.comments.id,\n",
      "\tbasic.comments.full_name,\n",
      "\tbasic.comments.age,\n",
      "\tbasic.comments.country,\n",
      "\tbasic.comments.gender,\n",
      "\tbasic.comments.preferred_language,\n",
      "\tbasic.comments.secret_number \n",
      " FROM basic.comments\n",
      " \n",
      ") AS basic_DOT_dimension_DOT_users\n",
      "        ON basic.comments.user_id = basic_DOT_dimension_DOT_users.id AND basic.comments.user_id = basic_DOT_dimension_DOT_users.id \n",
      " GROUP BY  basic_DOT_dimension_DOT_users.country, basic_DOT_dimension_DOT_users.country)\n",
      " \n",
      " GROUP BY  age\n"
     ]
    }
   ],
   "source": [
    "print('SELECT  Avg(n_comments) AS col0,\\n\\tage \\n FROM (SELECT  basic_DOT_num_comments.cnt AS n_comments,\\n\\tbasic_DOT_dimension_DOT_users.country AS country,\\n\\tbasic_DOT_dimension_DOT_users.age AS age \\n FROM basic.comments, (SELECT  COUNT(1) AS cnt,\\n\\tbasic.comments.id,\\n\\tbasic.comments.user_id,\\n\\tbasic.comments.timestamp,\\n\\tbasic.comments.text \\n FROM basic.comments\\n \\n) AS basic_DOT_num_comments\\nLEFT JOIN (SELECT  basic.comments.id,\\n\\tbasic.comments.full_name,\\n\\tbasic.comments.age,\\n\\tbasic.comments.country,\\n\\tbasic.comments.gender,\\n\\tbasic.comments.preferred_language,\\n\\tbasic.comments.secret_number \\n FROM basic.comments\\n \\n) AS basic_DOT_dimension_DOT_users\\n        ON basic.comments.user_id = basic_DOT_dimension_DOT_users.id AND basic.comments.user_id = basic_DOT_dimension_DOT_users.id \\n GROUP BY  basic_DOT_dimension_DOT_users.country, basic_DOT_dimension_DOT_users.country)\\n \\n GROUP BY  age')"
   ]
  },
  {
   "cell_type": "code",
   "execution_count": 2,
   "id": "e2ae5efb",
   "metadata": {},
   "outputs": [],
   "source": [
    "a=\"\"\"SELECT Avg(n_comments) AS col0,\n",
    "       age\n",
    "FROM   (SELECT basic_DOT_num_comments.cnt            AS n_comments,\n",
    "               basic_DOT_dimension_DOT_users.country AS country,\n",
    "               basic_DOT_dimension_DOT_users.age     AS age\n",
    "        FROM   basic.comments,\n",
    "               (SELECT Count(1) AS cnt,\n",
    "                       basic.comments.id,\n",
    "                       basic.comments.user_id,\n",
    "                       basic.comments.timestamp,\n",
    "                       basic.comments.text\n",
    "                FROM   basic.comments) AS basic_DOT_num_comments\n",
    "               LEFT JOIN (SELECT basic.comments.id,\n",
    "                                 basic.comments.full_name,\n",
    "                                 basic.comments.age,\n",
    "                                 basic.comments.country,\n",
    "                                 basic.comments.gender,\n",
    "                                 basic.comments.preferred_language,\n",
    "                                 basic.comments.secret_number\n",
    "                          FROM   basic.comments) AS\n",
    "                         basic_DOT_dimension_DOT_users\n",
    "                      ON basic.comments.user_id =\n",
    "basic_DOT_dimension_DOT_users.id\n",
    "                         AND basic.comments.user_id =\n",
    "                             basic_DOT_dimension_DOT_users.id\n",
    "        GROUP  BY basic_DOT_dimension_DOT_users.country,\n",
    "                  basic_DOT_dimension_DOT_users.country)\n",
    "GROUP  BY age \"\"\"\n",
    "    \n",
    "b=\"\"\"\n",
    "SELECT  Avg(n_comments) AS col0,\n",
    "        age \n",
    " FROM (SELECT  basic_DOT_num_comments.cnt AS n_comments,\n",
    "        basic_DOT_dimension_DOT_users.country AS country,\n",
    "        basic_DOT_dimension_DOT_users.age AS age \n",
    " FROM basic.comments, (SELECT  COUNT(1) AS cnt,\n",
    "        basic.comments.id,\n",
    "        basic.comments.user_id,\n",
    "        basic.comments.timestamp,\n",
    "        basic.comments.text \n",
    " FROM basic.comments\n",
    " \n",
    ") AS basic_DOT_num_comments\n",
    "LEFT JOIN (SELECT  basic.comments.id,\n",
    "        basic.comments.full_name,\n",
    "        basic.comments.age,\n",
    "        basic.comments.country,\n",
    "        basic.comments.gender,\n",
    "        basic.comments.preferred_language,\n",
    "        basic.comments.secret_number \n",
    " FROM basic.comments\n",
    " \n",
    ") AS basic_DOT_dimension_DOT_users\n",
    "        ON basic.comments.user_id = basic_DOT_dimension_DOT_users.id AND basic.comments.user_id = basic_DOT_dimension_DOT_users.id \n",
    " GROUP BY  basic_DOT_dimension_DOT_users.country, basic_DOT_dimension_DOT_users.country)\n",
    " \n",
    " GROUP BY  age\"\"\""
   ]
  },
  {
   "cell_type": "code",
   "execution_count": 4,
   "id": "7ee9a30e",
   "metadata": {},
   "outputs": [
    {
     "name": "stderr",
     "output_type": "stream",
     "text": [
      "WARNING:root:no boto3 module found\n"
     ]
    }
   ],
   "source": [
    "from dj.sql.parsing.backends.sqloxide import parse"
   ]
  },
  {
   "cell_type": "code",
   "execution_count": 7,
   "id": "77b89bca",
   "metadata": {},
   "outputs": [
    {
     "data": {
      "text/plain": [
       "[(Name(name='Count', quote_style=''), Name(name='COUNT', quote_style=''))]"
      ]
     },
     "execution_count": 7,
     "metadata": {},
     "output_type": "execute_result"
    }
   ],
   "source": [
    "parse(a).diff(parse(b))"
   ]
  },
  {
   "cell_type": "raw",
   "id": "2866ee05",
   "metadata": {},
   "source": [
    "from dj.utils import get_session"
   ]
  },
  {
   "cell_type": "code",
   "execution_count": 5,
   "id": "d1e03101",
   "metadata": {},
   "outputs": [
    {
     "data": {
      "application/javascript": [
       "\n",
       "            setTimeout(function() {\n",
       "                var nbb_cell_id = 5;\n",
       "                var nbb_unformatted_code = \"from typing import Dict, List, Optional, Tuple\\n\\nimport pytest\\nfrom sqlmodel import Session\\n\\nfrom dj.models import Column, Database, NodeRevision, Table\\nfrom dj.models.column import ColumnType\\nfrom dj.models.node import Node, NodeType\";\n",
       "                var nbb_formatted_code = \"from typing import Dict, List, Optional, Tuple\\n\\nimport pytest\\nfrom sqlmodel import Session\\n\\nfrom dj.models import Column, Database, NodeRevision, Table\\nfrom dj.models.column import ColumnType\\nfrom dj.models.node import Node, NodeType\";\n",
       "                var nbb_cells = Jupyter.notebook.get_cells();\n",
       "                for (var i = 0; i < nbb_cells.length; ++i) {\n",
       "                    if (nbb_cells[i].input_prompt_number == nbb_cell_id) {\n",
       "                        if (nbb_cells[i].get_text() == nbb_unformatted_code) {\n",
       "                             nbb_cells[i].set_text(nbb_formatted_code);\n",
       "                        }\n",
       "                        break;\n",
       "                    }\n",
       "                }\n",
       "            }, 500);\n",
       "            "
      ],
      "text/plain": [
       "<IPython.core.display.Javascript object>"
      ]
     },
     "metadata": {},
     "output_type": "display_data"
    }
   ],
   "source": [
    "from typing import Dict, List, Optional, Tuple\n",
    "\n",
    "import pytest\n",
    "from sqlmodel import Session\n",
    "\n",
    "from dj.models import Column, Database, NodeRevision, Table\n",
    "from dj.models.column import ColumnType\n",
    "from dj.models.node import Node, NodeType"
   ]
  },
  {
   "cell_type": "code",
   "execution_count": 6,
   "id": "225864f2",
   "metadata": {},
   "outputs": [
    {
     "name": "stderr",
     "output_type": "stream",
     "text": [
      "/tmp/ipykernel_81/2990427111.py:1: SAWarning: relationship 'Node.cubes' will copy column node.id to column noderevision.node_id, which conflicts with relationship(s): 'Node.revisions' (copies node.id to noderevision.node_id). If this is not the intention, consider if these relationships should be linked with back_populates, or if viewonly=True should be applied to one or more if they are read-only. For the less common case that foreign key constraints are partially overlapping, the orm.foreign() annotation can be used to isolate the columns that should be written towards.   To silence this warning, add the parameter 'overlaps=\"revisions\"' to the 'Node.cubes' relationship. (Background on this error at: https://sqlalche.me/e/14/qzyx)\n",
      "  postgres = Database(name=\"postgres\", URI=\"\", cost=10, id=1)\n",
      "/tmp/ipykernel_81/2990427111.py:1: SAWarning: relationship 'NodeRevision.node' will copy column node.id to column noderevision.node_id, which conflicts with relationship(s): 'Node.cubes' (copies node.id to noderevision.node_id). If this is not the intention, consider if these relationships should be linked with back_populates, or if viewonly=True should be applied to one or more if they are read-only. For the less common case that foreign key constraints are partially overlapping, the orm.foreign() annotation can be used to isolate the columns that should be written towards.   To silence this warning, add the parameter 'overlaps=\"cubes\"' to the 'NodeRevision.node' relationship. (Background on this error at: https://sqlalche.me/e/14/qzyx)\n",
      "  postgres = Database(name=\"postgres\", URI=\"\", cost=10, id=1)\n",
      "/tmp/ipykernel_81/2990427111.py:1: SAWarning: relationship 'NodeRevision.parent_links' will copy column noderevision.id to column noderelationship.child_id, which conflicts with relationship(s): 'Node.children' (copies noderevision.id to noderelationship.child_id), 'NodeRevision.parents' (copies noderevision.id to noderelationship.child_id). If this is not the intention, consider if these relationships should be linked with back_populates, or if viewonly=True should be applied to one or more if they are read-only. For the less common case that foreign key constraints are partially overlapping, the orm.foreign() annotation can be used to isolate the columns that should be written towards.   To silence this warning, add the parameter 'overlaps=\"children,parents\"' to the 'NodeRevision.parent_links' relationship. (Background on this error at: https://sqlalche.me/e/14/qzyx)\n",
      "  postgres = Database(name=\"postgres\", URI=\"\", cost=10, id=1)\n"
     ]
    },
    {
     "ename": "OperationalError",
     "evalue": "(sqlite3.OperationalError) no such table: database\n[SQL: INSERT INTO \"database\" (uuid, name, extra_params, created_at, updated_at, id, description, \"URI\", read_only, async, cost) VALUES (?, ?, ?, ?, ?, ?, ?, ?, ?, ?, ?)]\n[parameters: ((<memory at 0x405a4ba980>, 'postgres', '{}', '2023-02-18 17:18:05.500705', '2023-02-18 17:18:05.500924', 1, '', '', 1, 0, 10.0), (<memory at 0x405a4baa40>, 'gsheets', '{}', '2023-02-18 17:18:05.502556', '2023-02-18 17:18:05.502567', 2, '', '', 1, 0, 100.0))]\n(Background on this error at: https://sqlalche.me/e/14/e3q8)",
     "output_type": "error",
     "traceback": [
      "\u001b[0;31m---------------------------------------------------------------------------\u001b[0m",
      "\u001b[0;31mOperationalError\u001b[0m                          Traceback (most recent call last)",
      "File \u001b[0;32m/usr/local/lib/python3.10/site-packages/sqlalchemy/engine/base.py:1799\u001b[0m, in \u001b[0;36mConnection._execute_context\u001b[0;34m(self, dialect, constructor, statement, parameters, execution_options, *args, **kw)\u001b[0m\n\u001b[1;32m   1798\u001b[0m     \u001b[38;5;28;01mif\u001b[39;00m \u001b[38;5;129;01mnot\u001b[39;00m evt_handled:\n\u001b[0;32m-> 1799\u001b[0m         \u001b[38;5;28;43mself\u001b[39;49m\u001b[38;5;241;43m.\u001b[39;49m\u001b[43mdialect\u001b[49m\u001b[38;5;241;43m.\u001b[39;49m\u001b[43mdo_executemany\u001b[49m\u001b[43m(\u001b[49m\n\u001b[1;32m   1800\u001b[0m \u001b[43m            \u001b[49m\u001b[43mcursor\u001b[49m\u001b[43m,\u001b[49m\u001b[43m \u001b[49m\u001b[43mstatement\u001b[49m\u001b[43m,\u001b[49m\u001b[43m \u001b[49m\u001b[43mparameters\u001b[49m\u001b[43m,\u001b[49m\u001b[43m \u001b[49m\u001b[43mcontext\u001b[49m\n\u001b[1;32m   1801\u001b[0m \u001b[43m        \u001b[49m\u001b[43m)\u001b[49m\n\u001b[1;32m   1802\u001b[0m \u001b[38;5;28;01melif\u001b[39;00m \u001b[38;5;129;01mnot\u001b[39;00m parameters \u001b[38;5;129;01mand\u001b[39;00m context\u001b[38;5;241m.\u001b[39mno_parameters:\n",
      "File \u001b[0;32m/usr/local/lib/python3.10/site-packages/sqlalchemy/engine/default.py:729\u001b[0m, in \u001b[0;36mDefaultDialect.do_executemany\u001b[0;34m(self, cursor, statement, parameters, context)\u001b[0m\n\u001b[1;32m    728\u001b[0m \u001b[38;5;28;01mdef\u001b[39;00m \u001b[38;5;21mdo_executemany\u001b[39m(\u001b[38;5;28mself\u001b[39m, cursor, statement, parameters, context\u001b[38;5;241m=\u001b[39m\u001b[38;5;28;01mNone\u001b[39;00m):\n\u001b[0;32m--> 729\u001b[0m     \u001b[43mcursor\u001b[49m\u001b[38;5;241;43m.\u001b[39;49m\u001b[43mexecutemany\u001b[49m\u001b[43m(\u001b[49m\u001b[43mstatement\u001b[49m\u001b[43m,\u001b[49m\u001b[43m \u001b[49m\u001b[43mparameters\u001b[49m\u001b[43m)\u001b[49m\n",
      "\u001b[0;31mOperationalError\u001b[0m: no such table: database",
      "\nThe above exception was the direct cause of the following exception:\n",
      "\u001b[0;31mOperationalError\u001b[0m                          Traceback (most recent call last)",
      "Cell \u001b[0;32mIn[6], line 390\u001b[0m\n\u001b[1;32m    387\u001b[0m session\u001b[38;5;241m.\u001b[39madd(orders_src)\n\u001b[1;32m    388\u001b[0m session\u001b[38;5;241m.\u001b[39madd(customers_src)\n\u001b[0;32m--> 390\u001b[0m \u001b[43msession\u001b[49m\u001b[38;5;241;43m.\u001b[39;49m\u001b[43mcommit\u001b[49m\u001b[43m(\u001b[49m\u001b[43m)\u001b[49m\n",
      "File \u001b[0;32m/usr/local/lib/python3.10/site-packages/sqlalchemy/orm/session.py:1431\u001b[0m, in \u001b[0;36mSession.commit\u001b[0;34m(self)\u001b[0m\n\u001b[1;32m   1428\u001b[0m     \u001b[38;5;28;01mif\u001b[39;00m \u001b[38;5;129;01mnot\u001b[39;00m \u001b[38;5;28mself\u001b[39m\u001b[38;5;241m.\u001b[39m_autobegin():\n\u001b[1;32m   1429\u001b[0m         \u001b[38;5;28;01mraise\u001b[39;00m sa_exc\u001b[38;5;241m.\u001b[39mInvalidRequestError(\u001b[38;5;124m\"\u001b[39m\u001b[38;5;124mNo transaction is begun.\u001b[39m\u001b[38;5;124m\"\u001b[39m)\n\u001b[0;32m-> 1431\u001b[0m \u001b[38;5;28;43mself\u001b[39;49m\u001b[38;5;241;43m.\u001b[39;49m\u001b[43m_transaction\u001b[49m\u001b[38;5;241;43m.\u001b[39;49m\u001b[43mcommit\u001b[49m\u001b[43m(\u001b[49m\u001b[43m_to_root\u001b[49m\u001b[38;5;241;43m=\u001b[39;49m\u001b[38;5;28;43mself\u001b[39;49m\u001b[38;5;241;43m.\u001b[39;49m\u001b[43mfuture\u001b[49m\u001b[43m)\u001b[49m\n",
      "File \u001b[0;32m/usr/local/lib/python3.10/site-packages/sqlalchemy/orm/session.py:829\u001b[0m, in \u001b[0;36mSessionTransaction.commit\u001b[0;34m(self, _to_root)\u001b[0m\n\u001b[1;32m    827\u001b[0m \u001b[38;5;28mself\u001b[39m\u001b[38;5;241m.\u001b[39m_assert_active(prepared_ok\u001b[38;5;241m=\u001b[39m\u001b[38;5;28;01mTrue\u001b[39;00m)\n\u001b[1;32m    828\u001b[0m \u001b[38;5;28;01mif\u001b[39;00m \u001b[38;5;28mself\u001b[39m\u001b[38;5;241m.\u001b[39m_state \u001b[38;5;129;01mis\u001b[39;00m \u001b[38;5;129;01mnot\u001b[39;00m PREPARED:\n\u001b[0;32m--> 829\u001b[0m     \u001b[38;5;28;43mself\u001b[39;49m\u001b[38;5;241;43m.\u001b[39;49m\u001b[43m_prepare_impl\u001b[49m\u001b[43m(\u001b[49m\u001b[43m)\u001b[49m\n\u001b[1;32m    831\u001b[0m \u001b[38;5;28;01mif\u001b[39;00m \u001b[38;5;28mself\u001b[39m\u001b[38;5;241m.\u001b[39m_parent \u001b[38;5;129;01mis\u001b[39;00m \u001b[38;5;28;01mNone\u001b[39;00m \u001b[38;5;129;01mor\u001b[39;00m \u001b[38;5;28mself\u001b[39m\u001b[38;5;241m.\u001b[39mnested:\n\u001b[1;32m    832\u001b[0m     \u001b[38;5;28;01mfor\u001b[39;00m conn, trans, should_commit, autoclose \u001b[38;5;129;01min\u001b[39;00m \u001b[38;5;28mset\u001b[39m(\n\u001b[1;32m    833\u001b[0m         \u001b[38;5;28mself\u001b[39m\u001b[38;5;241m.\u001b[39m_connections\u001b[38;5;241m.\u001b[39mvalues()\n\u001b[1;32m    834\u001b[0m     ):\n",
      "File \u001b[0;32m/usr/local/lib/python3.10/site-packages/sqlalchemy/orm/session.py:808\u001b[0m, in \u001b[0;36mSessionTransaction._prepare_impl\u001b[0;34m(self)\u001b[0m\n\u001b[1;32m    806\u001b[0m     \u001b[38;5;28;01mif\u001b[39;00m \u001b[38;5;28mself\u001b[39m\u001b[38;5;241m.\u001b[39msession\u001b[38;5;241m.\u001b[39m_is_clean():\n\u001b[1;32m    807\u001b[0m         \u001b[38;5;28;01mbreak\u001b[39;00m\n\u001b[0;32m--> 808\u001b[0m     \u001b[38;5;28;43mself\u001b[39;49m\u001b[38;5;241;43m.\u001b[39;49m\u001b[43msession\u001b[49m\u001b[38;5;241;43m.\u001b[39;49m\u001b[43mflush\u001b[49m\u001b[43m(\u001b[49m\u001b[43m)\u001b[49m\n\u001b[1;32m    809\u001b[0m \u001b[38;5;28;01melse\u001b[39;00m:\n\u001b[1;32m    810\u001b[0m     \u001b[38;5;28;01mraise\u001b[39;00m exc\u001b[38;5;241m.\u001b[39mFlushError(\n\u001b[1;32m    811\u001b[0m         \u001b[38;5;124m\"\u001b[39m\u001b[38;5;124mOver 100 subsequent flushes have occurred within \u001b[39m\u001b[38;5;124m\"\u001b[39m\n\u001b[1;32m    812\u001b[0m         \u001b[38;5;124m\"\u001b[39m\u001b[38;5;124msession.commit() - is an after_flush() hook \u001b[39m\u001b[38;5;124m\"\u001b[39m\n\u001b[1;32m    813\u001b[0m         \u001b[38;5;124m\"\u001b[39m\u001b[38;5;124mcreating new objects?\u001b[39m\u001b[38;5;124m\"\u001b[39m\n\u001b[1;32m    814\u001b[0m     )\n",
      "File \u001b[0;32m/usr/local/lib/python3.10/site-packages/sqlalchemy/orm/session.py:3363\u001b[0m, in \u001b[0;36mSession.flush\u001b[0;34m(self, objects)\u001b[0m\n\u001b[1;32m   3361\u001b[0m \u001b[38;5;28;01mtry\u001b[39;00m:\n\u001b[1;32m   3362\u001b[0m     \u001b[38;5;28mself\u001b[39m\u001b[38;5;241m.\u001b[39m_flushing \u001b[38;5;241m=\u001b[39m \u001b[38;5;28;01mTrue\u001b[39;00m\n\u001b[0;32m-> 3363\u001b[0m     \u001b[38;5;28;43mself\u001b[39;49m\u001b[38;5;241;43m.\u001b[39;49m\u001b[43m_flush\u001b[49m\u001b[43m(\u001b[49m\u001b[43mobjects\u001b[49m\u001b[43m)\u001b[49m\n\u001b[1;32m   3364\u001b[0m \u001b[38;5;28;01mfinally\u001b[39;00m:\n\u001b[1;32m   3365\u001b[0m     \u001b[38;5;28mself\u001b[39m\u001b[38;5;241m.\u001b[39m_flushing \u001b[38;5;241m=\u001b[39m \u001b[38;5;28;01mFalse\u001b[39;00m\n",
      "File \u001b[0;32m/usr/local/lib/python3.10/site-packages/sqlalchemy/orm/session.py:3502\u001b[0m, in \u001b[0;36mSession._flush\u001b[0;34m(self, objects)\u001b[0m\n\u001b[1;32m   3499\u001b[0m     transaction\u001b[38;5;241m.\u001b[39mcommit()\n\u001b[1;32m   3501\u001b[0m \u001b[38;5;28;01mexcept\u001b[39;00m:\n\u001b[0;32m-> 3502\u001b[0m     \u001b[38;5;28;01mwith\u001b[39;00m util\u001b[38;5;241m.\u001b[39msafe_reraise():\n\u001b[1;32m   3503\u001b[0m         transaction\u001b[38;5;241m.\u001b[39mrollback(_capture_exception\u001b[38;5;241m=\u001b[39m\u001b[38;5;28;01mTrue\u001b[39;00m)\n",
      "File \u001b[0;32m/usr/local/lib/python3.10/site-packages/sqlalchemy/util/langhelpers.py:70\u001b[0m, in \u001b[0;36msafe_reraise.__exit__\u001b[0;34m(self, type_, value, traceback)\u001b[0m\n\u001b[1;32m     68\u001b[0m     \u001b[38;5;28mself\u001b[39m\u001b[38;5;241m.\u001b[39m_exc_info \u001b[38;5;241m=\u001b[39m \u001b[38;5;28;01mNone\u001b[39;00m  \u001b[38;5;66;03m# remove potential circular references\u001b[39;00m\n\u001b[1;32m     69\u001b[0m     \u001b[38;5;28;01mif\u001b[39;00m \u001b[38;5;129;01mnot\u001b[39;00m \u001b[38;5;28mself\u001b[39m\u001b[38;5;241m.\u001b[39mwarn_only:\n\u001b[0;32m---> 70\u001b[0m         \u001b[43mcompat\u001b[49m\u001b[38;5;241;43m.\u001b[39;49m\u001b[43mraise_\u001b[49m\u001b[43m(\u001b[49m\n\u001b[1;32m     71\u001b[0m \u001b[43m            \u001b[49m\u001b[43mexc_value\u001b[49m\u001b[43m,\u001b[49m\n\u001b[1;32m     72\u001b[0m \u001b[43m            \u001b[49m\u001b[43mwith_traceback\u001b[49m\u001b[38;5;241;43m=\u001b[39;49m\u001b[43mexc_tb\u001b[49m\u001b[43m,\u001b[49m\n\u001b[1;32m     73\u001b[0m \u001b[43m        \u001b[49m\u001b[43m)\u001b[49m\n\u001b[1;32m     74\u001b[0m \u001b[38;5;28;01melse\u001b[39;00m:\n\u001b[1;32m     75\u001b[0m     \u001b[38;5;28;01mif\u001b[39;00m \u001b[38;5;129;01mnot\u001b[39;00m compat\u001b[38;5;241m.\u001b[39mpy3k \u001b[38;5;129;01mand\u001b[39;00m \u001b[38;5;28mself\u001b[39m\u001b[38;5;241m.\u001b[39m_exc_info \u001b[38;5;129;01mand\u001b[39;00m \u001b[38;5;28mself\u001b[39m\u001b[38;5;241m.\u001b[39m_exc_info[\u001b[38;5;241m1\u001b[39m]:\n\u001b[1;32m     76\u001b[0m         \u001b[38;5;66;03m# emulate Py3K's behavior of telling us when an exception\u001b[39;00m\n\u001b[1;32m     77\u001b[0m         \u001b[38;5;66;03m# occurs in an exception handler.\u001b[39;00m\n",
      "File \u001b[0;32m/usr/local/lib/python3.10/site-packages/sqlalchemy/util/compat.py:207\u001b[0m, in \u001b[0;36mraise_\u001b[0;34m(***failed resolving arguments***)\u001b[0m\n\u001b[1;32m    204\u001b[0m     exception\u001b[38;5;241m.\u001b[39m__cause__ \u001b[38;5;241m=\u001b[39m replace_context\n\u001b[1;32m    206\u001b[0m \u001b[38;5;28;01mtry\u001b[39;00m:\n\u001b[0;32m--> 207\u001b[0m     \u001b[38;5;28;01mraise\u001b[39;00m exception\n\u001b[1;32m    208\u001b[0m \u001b[38;5;28;01mfinally\u001b[39;00m:\n\u001b[1;32m    209\u001b[0m     \u001b[38;5;66;03m# credit to\u001b[39;00m\n\u001b[1;32m    210\u001b[0m     \u001b[38;5;66;03m# https://cosmicpercolator.com/2016/01/13/exception-leaks-in-python-2-and-3/\u001b[39;00m\n\u001b[1;32m    211\u001b[0m     \u001b[38;5;66;03m# as the __traceback__ object creates a cycle\u001b[39;00m\n\u001b[1;32m    212\u001b[0m     \u001b[38;5;28;01mdel\u001b[39;00m exception, replace_context, from_, with_traceback\n",
      "File \u001b[0;32m/usr/local/lib/python3.10/site-packages/sqlalchemy/orm/session.py:3463\u001b[0m, in \u001b[0;36mSession._flush\u001b[0;34m(self, objects)\u001b[0m\n\u001b[1;32m   3461\u001b[0m \u001b[38;5;28mself\u001b[39m\u001b[38;5;241m.\u001b[39m_warn_on_events \u001b[38;5;241m=\u001b[39m \u001b[38;5;28;01mTrue\u001b[39;00m\n\u001b[1;32m   3462\u001b[0m \u001b[38;5;28;01mtry\u001b[39;00m:\n\u001b[0;32m-> 3463\u001b[0m     \u001b[43mflush_context\u001b[49m\u001b[38;5;241;43m.\u001b[39;49m\u001b[43mexecute\u001b[49m\u001b[43m(\u001b[49m\u001b[43m)\u001b[49m\n\u001b[1;32m   3464\u001b[0m \u001b[38;5;28;01mfinally\u001b[39;00m:\n\u001b[1;32m   3465\u001b[0m     \u001b[38;5;28mself\u001b[39m\u001b[38;5;241m.\u001b[39m_warn_on_events \u001b[38;5;241m=\u001b[39m \u001b[38;5;28;01mFalse\u001b[39;00m\n",
      "File \u001b[0;32m/usr/local/lib/python3.10/site-packages/sqlalchemy/orm/unitofwork.py:456\u001b[0m, in \u001b[0;36mUOWTransaction.execute\u001b[0;34m(self)\u001b[0m\n\u001b[1;32m    454\u001b[0m \u001b[38;5;28;01melse\u001b[39;00m:\n\u001b[1;32m    455\u001b[0m     \u001b[38;5;28;01mfor\u001b[39;00m rec \u001b[38;5;129;01min\u001b[39;00m topological\u001b[38;5;241m.\u001b[39msort(\u001b[38;5;28mself\u001b[39m\u001b[38;5;241m.\u001b[39mdependencies, postsort_actions):\n\u001b[0;32m--> 456\u001b[0m         \u001b[43mrec\u001b[49m\u001b[38;5;241;43m.\u001b[39;49m\u001b[43mexecute\u001b[49m\u001b[43m(\u001b[49m\u001b[38;5;28;43mself\u001b[39;49m\u001b[43m)\u001b[49m\n",
      "File \u001b[0;32m/usr/local/lib/python3.10/site-packages/sqlalchemy/orm/unitofwork.py:630\u001b[0m, in \u001b[0;36mSaveUpdateAll.execute\u001b[0;34m(self, uow)\u001b[0m\n\u001b[1;32m    628\u001b[0m \u001b[38;5;129m@util\u001b[39m\u001b[38;5;241m.\u001b[39mpreload_module(\u001b[38;5;124m\"\u001b[39m\u001b[38;5;124msqlalchemy.orm.persistence\u001b[39m\u001b[38;5;124m\"\u001b[39m)\n\u001b[1;32m    629\u001b[0m \u001b[38;5;28;01mdef\u001b[39;00m \u001b[38;5;21mexecute\u001b[39m(\u001b[38;5;28mself\u001b[39m, uow):\n\u001b[0;32m--> 630\u001b[0m     \u001b[43mutil\u001b[49m\u001b[38;5;241;43m.\u001b[39;49m\u001b[43mpreloaded\u001b[49m\u001b[38;5;241;43m.\u001b[39;49m\u001b[43morm_persistence\u001b[49m\u001b[38;5;241;43m.\u001b[39;49m\u001b[43msave_obj\u001b[49m\u001b[43m(\u001b[49m\n\u001b[1;32m    631\u001b[0m \u001b[43m        \u001b[49m\u001b[38;5;28;43mself\u001b[39;49m\u001b[38;5;241;43m.\u001b[39;49m\u001b[43mmapper\u001b[49m\u001b[43m,\u001b[49m\n\u001b[1;32m    632\u001b[0m \u001b[43m        \u001b[49m\u001b[43muow\u001b[49m\u001b[38;5;241;43m.\u001b[39;49m\u001b[43mstates_for_mapper_hierarchy\u001b[49m\u001b[43m(\u001b[49m\u001b[38;5;28;43mself\u001b[39;49m\u001b[38;5;241;43m.\u001b[39;49m\u001b[43mmapper\u001b[49m\u001b[43m,\u001b[49m\u001b[43m \u001b[49m\u001b[38;5;28;43;01mFalse\u001b[39;49;00m\u001b[43m,\u001b[49m\u001b[43m \u001b[49m\u001b[38;5;28;43;01mFalse\u001b[39;49;00m\u001b[43m)\u001b[49m\u001b[43m,\u001b[49m\n\u001b[1;32m    633\u001b[0m \u001b[43m        \u001b[49m\u001b[43muow\u001b[49m\u001b[43m,\u001b[49m\n\u001b[1;32m    634\u001b[0m \u001b[43m    \u001b[49m\u001b[43m)\u001b[49m\n",
      "File \u001b[0;32m/usr/local/lib/python3.10/site-packages/sqlalchemy/orm/persistence.py:245\u001b[0m, in \u001b[0;36msave_obj\u001b[0;34m(base_mapper, states, uowtransaction, single)\u001b[0m\n\u001b[1;32m    233\u001b[0m     update \u001b[38;5;241m=\u001b[39m _collect_update_commands(\n\u001b[1;32m    234\u001b[0m         uowtransaction, table, states_to_update\n\u001b[1;32m    235\u001b[0m     )\n\u001b[1;32m    237\u001b[0m     _emit_update_statements(\n\u001b[1;32m    238\u001b[0m         base_mapper,\n\u001b[1;32m    239\u001b[0m         uowtransaction,\n\u001b[0;32m   (...)\u001b[0m\n\u001b[1;32m    242\u001b[0m         update,\n\u001b[1;32m    243\u001b[0m     )\n\u001b[0;32m--> 245\u001b[0m     \u001b[43m_emit_insert_statements\u001b[49m\u001b[43m(\u001b[49m\n\u001b[1;32m    246\u001b[0m \u001b[43m        \u001b[49m\u001b[43mbase_mapper\u001b[49m\u001b[43m,\u001b[49m\n\u001b[1;32m    247\u001b[0m \u001b[43m        \u001b[49m\u001b[43muowtransaction\u001b[49m\u001b[43m,\u001b[49m\n\u001b[1;32m    248\u001b[0m \u001b[43m        \u001b[49m\u001b[43mmapper\u001b[49m\u001b[43m,\u001b[49m\n\u001b[1;32m    249\u001b[0m \u001b[43m        \u001b[49m\u001b[43mtable\u001b[49m\u001b[43m,\u001b[49m\n\u001b[1;32m    250\u001b[0m \u001b[43m        \u001b[49m\u001b[43minsert\u001b[49m\u001b[43m,\u001b[49m\n\u001b[1;32m    251\u001b[0m \u001b[43m    \u001b[49m\u001b[43m)\u001b[49m\n\u001b[1;32m    253\u001b[0m _finalize_insert_update_commands(\n\u001b[1;32m    254\u001b[0m     base_mapper,\n\u001b[1;32m    255\u001b[0m     uowtransaction,\n\u001b[0;32m   (...)\u001b[0m\n\u001b[1;32m    271\u001b[0m     ),\n\u001b[1;32m    272\u001b[0m )\n",
      "File \u001b[0;32m/usr/local/lib/python3.10/site-packages/sqlalchemy/orm/persistence.py:1097\u001b[0m, in \u001b[0;36m_emit_insert_statements\u001b[0;34m(base_mapper, uowtransaction, mapper, table, insert, bookkeeping)\u001b[0m\n\u001b[1;32m   1094\u001b[0m records \u001b[38;5;241m=\u001b[39m \u001b[38;5;28mlist\u001b[39m(records)\n\u001b[1;32m   1095\u001b[0m multiparams \u001b[38;5;241m=\u001b[39m [rec[\u001b[38;5;241m2\u001b[39m] \u001b[38;5;28;01mfor\u001b[39;00m rec \u001b[38;5;129;01min\u001b[39;00m records]\n\u001b[0;32m-> 1097\u001b[0m c \u001b[38;5;241m=\u001b[39m \u001b[43mconnection\u001b[49m\u001b[38;5;241;43m.\u001b[39;49m\u001b[43m_execute_20\u001b[49m\u001b[43m(\u001b[49m\n\u001b[1;32m   1098\u001b[0m \u001b[43m    \u001b[49m\u001b[43mstatement\u001b[49m\u001b[43m,\u001b[49m\u001b[43m \u001b[49m\u001b[43mmultiparams\u001b[49m\u001b[43m,\u001b[49m\u001b[43m \u001b[49m\u001b[43mexecution_options\u001b[49m\u001b[38;5;241;43m=\u001b[39;49m\u001b[43mexecution_options\u001b[49m\n\u001b[1;32m   1099\u001b[0m \u001b[43m\u001b[49m\u001b[43m)\u001b[49m\n\u001b[1;32m   1101\u001b[0m \u001b[38;5;28;01mif\u001b[39;00m bookkeeping:\n\u001b[1;32m   1102\u001b[0m     \u001b[38;5;28;01mfor\u001b[39;00m (\n\u001b[1;32m   1103\u001b[0m         (\n\u001b[1;32m   1104\u001b[0m             state,\n\u001b[0;32m   (...)\u001b[0m\n\u001b[1;32m   1113\u001b[0m         last_inserted_params,\n\u001b[1;32m   1114\u001b[0m     ) \u001b[38;5;129;01min\u001b[39;00m \u001b[38;5;28mzip\u001b[39m(records, c\u001b[38;5;241m.\u001b[39mcontext\u001b[38;5;241m.\u001b[39mcompiled_parameters):\n",
      "File \u001b[0;32m/usr/local/lib/python3.10/site-packages/sqlalchemy/engine/base.py:1631\u001b[0m, in \u001b[0;36mConnection._execute_20\u001b[0;34m(self, statement, parameters, execution_options)\u001b[0m\n\u001b[1;32m   1627\u001b[0m     util\u001b[38;5;241m.\u001b[39mraise_(\n\u001b[1;32m   1628\u001b[0m         exc\u001b[38;5;241m.\u001b[39mObjectNotExecutableError(statement), replace_context\u001b[38;5;241m=\u001b[39merr\n\u001b[1;32m   1629\u001b[0m     )\n\u001b[1;32m   1630\u001b[0m \u001b[38;5;28;01melse\u001b[39;00m:\n\u001b[0;32m-> 1631\u001b[0m     \u001b[38;5;28;01mreturn\u001b[39;00m \u001b[43mmeth\u001b[49m\u001b[43m(\u001b[49m\u001b[38;5;28;43mself\u001b[39;49m\u001b[43m,\u001b[49m\u001b[43m \u001b[49m\u001b[43margs_10style\u001b[49m\u001b[43m,\u001b[49m\u001b[43m \u001b[49m\u001b[43mkwargs_10style\u001b[49m\u001b[43m,\u001b[49m\u001b[43m \u001b[49m\u001b[43mexecution_options\u001b[49m\u001b[43m)\u001b[49m\n",
      "File \u001b[0;32m/usr/local/lib/python3.10/site-packages/sqlalchemy/sql/elements.py:325\u001b[0m, in \u001b[0;36mClauseElement._execute_on_connection\u001b[0;34m(self, connection, multiparams, params, execution_options, _force)\u001b[0m\n\u001b[1;32m    321\u001b[0m \u001b[38;5;28;01mdef\u001b[39;00m \u001b[38;5;21m_execute_on_connection\u001b[39m(\n\u001b[1;32m    322\u001b[0m     \u001b[38;5;28mself\u001b[39m, connection, multiparams, params, execution_options, _force\u001b[38;5;241m=\u001b[39m\u001b[38;5;28;01mFalse\u001b[39;00m\n\u001b[1;32m    323\u001b[0m ):\n\u001b[1;32m    324\u001b[0m     \u001b[38;5;28;01mif\u001b[39;00m _force \u001b[38;5;129;01mor\u001b[39;00m \u001b[38;5;28mself\u001b[39m\u001b[38;5;241m.\u001b[39msupports_execution:\n\u001b[0;32m--> 325\u001b[0m         \u001b[38;5;28;01mreturn\u001b[39;00m \u001b[43mconnection\u001b[49m\u001b[38;5;241;43m.\u001b[39;49m\u001b[43m_execute_clauseelement\u001b[49m\u001b[43m(\u001b[49m\n\u001b[1;32m    326\u001b[0m \u001b[43m            \u001b[49m\u001b[38;5;28;43mself\u001b[39;49m\u001b[43m,\u001b[49m\u001b[43m \u001b[49m\u001b[43mmultiparams\u001b[49m\u001b[43m,\u001b[49m\u001b[43m \u001b[49m\u001b[43mparams\u001b[49m\u001b[43m,\u001b[49m\u001b[43m \u001b[49m\u001b[43mexecution_options\u001b[49m\n\u001b[1;32m    327\u001b[0m \u001b[43m        \u001b[49m\u001b[43m)\u001b[49m\n\u001b[1;32m    328\u001b[0m     \u001b[38;5;28;01melse\u001b[39;00m:\n\u001b[1;32m    329\u001b[0m         \u001b[38;5;28;01mraise\u001b[39;00m exc\u001b[38;5;241m.\u001b[39mObjectNotExecutableError(\u001b[38;5;28mself\u001b[39m)\n",
      "File \u001b[0;32m/usr/local/lib/python3.10/site-packages/sqlalchemy/engine/base.py:1498\u001b[0m, in \u001b[0;36mConnection._execute_clauseelement\u001b[0;34m(self, elem, multiparams, params, execution_options)\u001b[0m\n\u001b[1;32m   1486\u001b[0m compiled_cache \u001b[38;5;241m=\u001b[39m execution_options\u001b[38;5;241m.\u001b[39mget(\n\u001b[1;32m   1487\u001b[0m     \u001b[38;5;124m\"\u001b[39m\u001b[38;5;124mcompiled_cache\u001b[39m\u001b[38;5;124m\"\u001b[39m, \u001b[38;5;28mself\u001b[39m\u001b[38;5;241m.\u001b[39mengine\u001b[38;5;241m.\u001b[39m_compiled_cache\n\u001b[1;32m   1488\u001b[0m )\n\u001b[1;32m   1490\u001b[0m compiled_sql, extracted_params, cache_hit \u001b[38;5;241m=\u001b[39m elem\u001b[38;5;241m.\u001b[39m_compile_w_cache(\n\u001b[1;32m   1491\u001b[0m     dialect\u001b[38;5;241m=\u001b[39mdialect,\n\u001b[1;32m   1492\u001b[0m     compiled_cache\u001b[38;5;241m=\u001b[39mcompiled_cache,\n\u001b[0;32m   (...)\u001b[0m\n\u001b[1;32m   1496\u001b[0m     linting\u001b[38;5;241m=\u001b[39m\u001b[38;5;28mself\u001b[39m\u001b[38;5;241m.\u001b[39mdialect\u001b[38;5;241m.\u001b[39mcompiler_linting \u001b[38;5;241m|\u001b[39m compiler\u001b[38;5;241m.\u001b[39mWARN_LINTING,\n\u001b[1;32m   1497\u001b[0m )\n\u001b[0;32m-> 1498\u001b[0m ret \u001b[38;5;241m=\u001b[39m \u001b[38;5;28;43mself\u001b[39;49m\u001b[38;5;241;43m.\u001b[39;49m\u001b[43m_execute_context\u001b[49m\u001b[43m(\u001b[49m\n\u001b[1;32m   1499\u001b[0m \u001b[43m    \u001b[49m\u001b[43mdialect\u001b[49m\u001b[43m,\u001b[49m\n\u001b[1;32m   1500\u001b[0m \u001b[43m    \u001b[49m\u001b[43mdialect\u001b[49m\u001b[38;5;241;43m.\u001b[39;49m\u001b[43mexecution_ctx_cls\u001b[49m\u001b[38;5;241;43m.\u001b[39;49m\u001b[43m_init_compiled\u001b[49m\u001b[43m,\u001b[49m\n\u001b[1;32m   1501\u001b[0m \u001b[43m    \u001b[49m\u001b[43mcompiled_sql\u001b[49m\u001b[43m,\u001b[49m\n\u001b[1;32m   1502\u001b[0m \u001b[43m    \u001b[49m\u001b[43mdistilled_params\u001b[49m\u001b[43m,\u001b[49m\n\u001b[1;32m   1503\u001b[0m \u001b[43m    \u001b[49m\u001b[43mexecution_options\u001b[49m\u001b[43m,\u001b[49m\n\u001b[1;32m   1504\u001b[0m \u001b[43m    \u001b[49m\u001b[43mcompiled_sql\u001b[49m\u001b[43m,\u001b[49m\n\u001b[1;32m   1505\u001b[0m \u001b[43m    \u001b[49m\u001b[43mdistilled_params\u001b[49m\u001b[43m,\u001b[49m\n\u001b[1;32m   1506\u001b[0m \u001b[43m    \u001b[49m\u001b[43melem\u001b[49m\u001b[43m,\u001b[49m\n\u001b[1;32m   1507\u001b[0m \u001b[43m    \u001b[49m\u001b[43mextracted_params\u001b[49m\u001b[43m,\u001b[49m\n\u001b[1;32m   1508\u001b[0m \u001b[43m    \u001b[49m\u001b[43mcache_hit\u001b[49m\u001b[38;5;241;43m=\u001b[39;49m\u001b[43mcache_hit\u001b[49m\u001b[43m,\u001b[49m\n\u001b[1;32m   1509\u001b[0m \u001b[43m\u001b[49m\u001b[43m)\u001b[49m\n\u001b[1;32m   1510\u001b[0m \u001b[38;5;28;01mif\u001b[39;00m has_events:\n\u001b[1;32m   1511\u001b[0m     \u001b[38;5;28mself\u001b[39m\u001b[38;5;241m.\u001b[39mdispatch\u001b[38;5;241m.\u001b[39mafter_execute(\n\u001b[1;32m   1512\u001b[0m         \u001b[38;5;28mself\u001b[39m,\n\u001b[1;32m   1513\u001b[0m         elem,\n\u001b[0;32m   (...)\u001b[0m\n\u001b[1;32m   1517\u001b[0m         ret,\n\u001b[1;32m   1518\u001b[0m     )\n",
      "File \u001b[0;32m/usr/local/lib/python3.10/site-packages/sqlalchemy/engine/base.py:1862\u001b[0m, in \u001b[0;36mConnection._execute_context\u001b[0;34m(self, dialect, constructor, statement, parameters, execution_options, *args, **kw)\u001b[0m\n\u001b[1;32m   1859\u001b[0m             branched\u001b[38;5;241m.\u001b[39mclose()\n\u001b[1;32m   1861\u001b[0m \u001b[38;5;28;01mexcept\u001b[39;00m \u001b[38;5;167;01mBaseException\u001b[39;00m \u001b[38;5;28;01mas\u001b[39;00m e:\n\u001b[0;32m-> 1862\u001b[0m     \u001b[38;5;28;43mself\u001b[39;49m\u001b[38;5;241;43m.\u001b[39;49m\u001b[43m_handle_dbapi_exception\u001b[49m\u001b[43m(\u001b[49m\n\u001b[1;32m   1863\u001b[0m \u001b[43m        \u001b[49m\u001b[43me\u001b[49m\u001b[43m,\u001b[49m\u001b[43m \u001b[49m\u001b[43mstatement\u001b[49m\u001b[43m,\u001b[49m\u001b[43m \u001b[49m\u001b[43mparameters\u001b[49m\u001b[43m,\u001b[49m\u001b[43m \u001b[49m\u001b[43mcursor\u001b[49m\u001b[43m,\u001b[49m\u001b[43m \u001b[49m\u001b[43mcontext\u001b[49m\n\u001b[1;32m   1864\u001b[0m \u001b[43m    \u001b[49m\u001b[43m)\u001b[49m\n\u001b[1;32m   1866\u001b[0m \u001b[38;5;28;01mreturn\u001b[39;00m result\n",
      "File \u001b[0;32m/usr/local/lib/python3.10/site-packages/sqlalchemy/engine/base.py:2043\u001b[0m, in \u001b[0;36mConnection._handle_dbapi_exception\u001b[0;34m(self, e, statement, parameters, cursor, context)\u001b[0m\n\u001b[1;32m   2041\u001b[0m     util\u001b[38;5;241m.\u001b[39mraise_(newraise, with_traceback\u001b[38;5;241m=\u001b[39mexc_info[\u001b[38;5;241m2\u001b[39m], from_\u001b[38;5;241m=\u001b[39me)\n\u001b[1;32m   2042\u001b[0m \u001b[38;5;28;01melif\u001b[39;00m should_wrap:\n\u001b[0;32m-> 2043\u001b[0m     \u001b[43mutil\u001b[49m\u001b[38;5;241;43m.\u001b[39;49m\u001b[43mraise_\u001b[49m\u001b[43m(\u001b[49m\n\u001b[1;32m   2044\u001b[0m \u001b[43m        \u001b[49m\u001b[43msqlalchemy_exception\u001b[49m\u001b[43m,\u001b[49m\u001b[43m \u001b[49m\u001b[43mwith_traceback\u001b[49m\u001b[38;5;241;43m=\u001b[39;49m\u001b[43mexc_info\u001b[49m\u001b[43m[\u001b[49m\u001b[38;5;241;43m2\u001b[39;49m\u001b[43m]\u001b[49m\u001b[43m,\u001b[49m\u001b[43m \u001b[49m\u001b[43mfrom_\u001b[49m\u001b[38;5;241;43m=\u001b[39;49m\u001b[43me\u001b[49m\n\u001b[1;32m   2045\u001b[0m \u001b[43m    \u001b[49m\u001b[43m)\u001b[49m\n\u001b[1;32m   2046\u001b[0m \u001b[38;5;28;01melse\u001b[39;00m:\n\u001b[1;32m   2047\u001b[0m     util\u001b[38;5;241m.\u001b[39mraise_(exc_info[\u001b[38;5;241m1\u001b[39m], with_traceback\u001b[38;5;241m=\u001b[39mexc_info[\u001b[38;5;241m2\u001b[39m])\n",
      "File \u001b[0;32m/usr/local/lib/python3.10/site-packages/sqlalchemy/util/compat.py:207\u001b[0m, in \u001b[0;36mraise_\u001b[0;34m(***failed resolving arguments***)\u001b[0m\n\u001b[1;32m    204\u001b[0m     exception\u001b[38;5;241m.\u001b[39m__cause__ \u001b[38;5;241m=\u001b[39m replace_context\n\u001b[1;32m    206\u001b[0m \u001b[38;5;28;01mtry\u001b[39;00m:\n\u001b[0;32m--> 207\u001b[0m     \u001b[38;5;28;01mraise\u001b[39;00m exception\n\u001b[1;32m    208\u001b[0m \u001b[38;5;28;01mfinally\u001b[39;00m:\n\u001b[1;32m    209\u001b[0m     \u001b[38;5;66;03m# credit to\u001b[39;00m\n\u001b[1;32m    210\u001b[0m     \u001b[38;5;66;03m# https://cosmicpercolator.com/2016/01/13/exception-leaks-in-python-2-and-3/\u001b[39;00m\n\u001b[1;32m    211\u001b[0m     \u001b[38;5;66;03m# as the __traceback__ object creates a cycle\u001b[39;00m\n\u001b[1;32m    212\u001b[0m     \u001b[38;5;28;01mdel\u001b[39;00m exception, replace_context, from_, with_traceback\n",
      "File \u001b[0;32m/usr/local/lib/python3.10/site-packages/sqlalchemy/engine/base.py:1799\u001b[0m, in \u001b[0;36mConnection._execute_context\u001b[0;34m(self, dialect, constructor, statement, parameters, execution_options, *args, **kw)\u001b[0m\n\u001b[1;32m   1797\u001b[0m                 \u001b[38;5;28;01mbreak\u001b[39;00m\n\u001b[1;32m   1798\u001b[0m     \u001b[38;5;28;01mif\u001b[39;00m \u001b[38;5;129;01mnot\u001b[39;00m evt_handled:\n\u001b[0;32m-> 1799\u001b[0m         \u001b[38;5;28;43mself\u001b[39;49m\u001b[38;5;241;43m.\u001b[39;49m\u001b[43mdialect\u001b[49m\u001b[38;5;241;43m.\u001b[39;49m\u001b[43mdo_executemany\u001b[49m\u001b[43m(\u001b[49m\n\u001b[1;32m   1800\u001b[0m \u001b[43m            \u001b[49m\u001b[43mcursor\u001b[49m\u001b[43m,\u001b[49m\u001b[43m \u001b[49m\u001b[43mstatement\u001b[49m\u001b[43m,\u001b[49m\u001b[43m \u001b[49m\u001b[43mparameters\u001b[49m\u001b[43m,\u001b[49m\u001b[43m \u001b[49m\u001b[43mcontext\u001b[49m\n\u001b[1;32m   1801\u001b[0m \u001b[43m        \u001b[49m\u001b[43m)\u001b[49m\n\u001b[1;32m   1802\u001b[0m \u001b[38;5;28;01melif\u001b[39;00m \u001b[38;5;129;01mnot\u001b[39;00m parameters \u001b[38;5;129;01mand\u001b[39;00m context\u001b[38;5;241m.\u001b[39mno_parameters:\n\u001b[1;32m   1803\u001b[0m     \u001b[38;5;28;01mif\u001b[39;00m \u001b[38;5;28mself\u001b[39m\u001b[38;5;241m.\u001b[39mdialect\u001b[38;5;241m.\u001b[39m_has_events:\n",
      "File \u001b[0;32m/usr/local/lib/python3.10/site-packages/sqlalchemy/engine/default.py:729\u001b[0m, in \u001b[0;36mDefaultDialect.do_executemany\u001b[0;34m(self, cursor, statement, parameters, context)\u001b[0m\n\u001b[1;32m    728\u001b[0m \u001b[38;5;28;01mdef\u001b[39;00m \u001b[38;5;21mdo_executemany\u001b[39m(\u001b[38;5;28mself\u001b[39m, cursor, statement, parameters, context\u001b[38;5;241m=\u001b[39m\u001b[38;5;28;01mNone\u001b[39;00m):\n\u001b[0;32m--> 729\u001b[0m     \u001b[43mcursor\u001b[49m\u001b[38;5;241;43m.\u001b[39;49m\u001b[43mexecutemany\u001b[49m\u001b[43m(\u001b[49m\u001b[43mstatement\u001b[49m\u001b[43m,\u001b[49m\u001b[43m \u001b[49m\u001b[43mparameters\u001b[49m\u001b[43m)\u001b[49m\n",
      "\u001b[0;31mOperationalError\u001b[0m: (sqlite3.OperationalError) no such table: database\n[SQL: INSERT INTO \"database\" (uuid, name, extra_params, created_at, updated_at, id, description, \"URI\", read_only, async, cost) VALUES (?, ?, ?, ?, ?, ?, ?, ?, ?, ?, ?)]\n[parameters: ((<memory at 0x405a4ba980>, 'postgres', '{}', '2023-02-18 17:18:05.500705', '2023-02-18 17:18:05.500924', 1, '', '', 1, 0, 10.0), (<memory at 0x405a4baa40>, 'gsheets', '{}', '2023-02-18 17:18:05.502556', '2023-02-18 17:18:05.502567', 2, '', '', 1, 0, 100.0))]\n(Background on this error at: https://sqlalche.me/e/14/e3q8)"
     ]
    },
    {
     "data": {
      "application/javascript": [
       "\n",
       "            setTimeout(function() {\n",
       "                var nbb_cell_id = 6;\n",
       "                var nbb_unformatted_code = \"postgres = Database(name=\\\"postgres\\\", URI=\\\"\\\", cost=10, id=1)\\n\\ngsheets = Database(name=\\\"gsheets\\\", URI=\\\"\\\", cost=100, id=2)\\n\\ncountries_dim_ref = Node(\\n    name=\\\"basic.dimension.countries\\\",\\n    type=NodeType.DIMENSION,\\n    current_version=\\\"1\\\",\\n)\\ncountries_dim = NodeRevision(\\n    name=countries_dim_ref.name,\\n    type=countries_dim_ref.type,\\n    node=countries_dim_ref,\\n    version=\\\"1\\\",\\n    query=\\\"\\\"\\\"\\n      SELECT country,\\n             COUNT(1) AS user_cnt\\n      FROM basic.dimension.users\\n      GROUP BY country\\n    \\\"\\\"\\\",\\n    columns=[\\n        Column(name=\\\"country\\\", type=ColumnType.STR),\\n        Column(name=\\\"user_cnt\\\", type=ColumnType.INT),\\n    ],\\n)\\n\\nuser_dim_ref = Node(\\n    name=\\\"basic.dimension.users\\\",\\n    type=NodeType.DIMENSION,\\n    current_version=\\\"1\\\",\\n)\\nuser_dim = NodeRevision(\\n    name=user_dim_ref.name,\\n    type=user_dim_ref.type,\\n    node=user_dim_ref,\\n    version=\\\"1\\\",\\n    query=\\\"\\\"\\\"\\n      SELECT id,\\n             full_name,\\n             age,\\n             country,\\n             gender,\\n             preferred_language,\\n             secret_number\\n      FROM basic.source.users\\n    \\\"\\\"\\\",\\n    columns=[\\n        Column(name=\\\"id\\\", type=ColumnType.INT),\\n        Column(name=\\\"full_name\\\", type=ColumnType.STR),\\n        Column(name=\\\"age\\\", type=ColumnType.INT),\\n        Column(name=\\\"country\\\", type=ColumnType.STR),\\n        Column(name=\\\"gender\\\", type=ColumnType.STR),\\n        Column(name=\\\"preferred_language\\\", type=ColumnType.STR),\\n        Column(name=\\\"secret_number\\\", type=ColumnType.FLOAT),\\n    ],\\n)\\n\\ncountry_agg_tfm_ref = Node(\\n    name=\\\"basic.transform.country_agg\\\",\\n    type=NodeType.TRANSFORM,\\n    current_version=\\\"1\\\",\\n)\\ncountry_agg_tfm = NodeRevision(\\n    name=country_agg_tfm_ref.name,\\n    type=country_agg_tfm_ref.type,\\n    node=country_agg_tfm_ref,\\n    version=\\\"1\\\",\\n    query=\\\"\\\"\\\"\\n    SELECT country,\\n            COUNT(DISTINCT id) AS num_users\\n    FROM basic.source.users\\n    GROUP BY country\\n    \\\"\\\"\\\",\\n    columns=[\\n        Column(\\n            name=\\\"country\\\",\\n            type=ColumnType.STR,\\n            dimension=user_dim_ref,\\n            dimension_column=\\\"event_id\\\",\\n        ),\\n        Column(name=\\\"num_users\\\", type=ColumnType.INT),\\n    ],\\n)\\n\\nusers_src_ref = Node(\\n    name=\\\"basic.source.users\\\",\\n    type=NodeType.SOURCE,\\n    current_version=\\\"1\\\",\\n)\\nusers_src = NodeRevision(\\n    name=users_src_ref.name,\\n    type=users_src_ref.type,\\n    node=users_src_ref,\\n    version=\\\"1\\\",\\n    columns=[\\n        Column(name=\\\"id\\\", type=ColumnType.INT),\\n        Column(name=\\\"full_name\\\", type=ColumnType.STR),\\n        Column(name=\\\"age\\\", type=ColumnType.INT),\\n        Column(name=\\\"country\\\", type=ColumnType.STR),\\n        Column(name=\\\"gender\\\", type=ColumnType.STR),\\n        Column(name=\\\"preferred_language\\\", type=ColumnType.STR),\\n        Column(name=\\\"secret_number\\\", type=ColumnType.FLOAT),\\n    ],\\n    tables=[\\n        Table(\\n            node_id=4249,\\n            schema=\\\"basic\\\",\\n            table=\\\"comments\\\",\\n            columns=[\\n                Column(name=\\\"id\\\", type=ColumnType.INT),\\n                Column(name=\\\"full_name\\\", type=ColumnType.STR),\\n                Column(name=\\\"age\\\", type=ColumnType.INT),\\n                Column(name=\\\"country\\\", type=ColumnType.STR),\\n                Column(name=\\\"gender\\\", type=ColumnType.STR),\\n                Column(name=\\\"preferred_language\\\", type=ColumnType.STR),\\n                Column(name=\\\"secret_number\\\", type=ColumnType.FLOAT),\\n            ],\\n            cost=10.0,\\n            database=postgres,\\n            database_id=1,\\n        ),\\n        Table(\\n            node_id=4250,\\n            table=\\\"comments\\\",\\n            columns=[\\n                Column(name=\\\"id\\\", type=ColumnType.INT),\\n                Column(name=\\\"full_name\\\", type=ColumnType.STR),\\n                Column(name=\\\"age\\\", type=ColumnType.INT),\\n                Column(name=\\\"country\\\", type=ColumnType.STR),\\n                Column(name=\\\"gender\\\", type=ColumnType.STR),\\n                Column(name=\\\"preferred_language\\\", type=ColumnType.STR),\\n                Column(name=\\\"secret_number\\\", type=ColumnType.FLOAT),\\n            ],\\n            cost=100.0,\\n            database=gsheets,\\n            database_id=2,\\n        ),\\n    ],\\n)\\n\\ncomments_src_ref = Node(\\n    name=\\\"basic.source.comments\\\",\\n    type=NodeType.SOURCE,\\n    current_version=\\\"1\\\",\\n)\\ncomments_src = NodeRevision(\\n    name=comments_src_ref.name,\\n    type=comments_src_ref.type,\\n    node=comments_src_ref,\\n    version=\\\"1\\\",\\n    columns=[\\n        Column(name=\\\"id\\\", type=ColumnType.INT),\\n        Column(\\n            name=\\\"user_id\\\",\\n            type=ColumnType.INT,\\n            dimension=user_dim_ref,\\n        ),\\n        Column(name=\\\"timestamp\\\", type=ColumnType.TIMESTAMP),\\n        Column(name=\\\"text\\\", type=ColumnType.STR),\\n    ],\\n    tables=[\\n        Table(\\n            node_id=4251,\\n            schema=\\\"basic\\\",\\n            table=\\\"comments\\\",\\n            columns=[\\n                Column(name=\\\"id\\\", type=ColumnType.INT),\\n                Column(name=\\\"user_id\\\", type=ColumnType.INT),\\n                Column(name=\\\"timestamp\\\", type=ColumnType.TIMESTAMP),\\n                Column(name=\\\"text\\\", type=ColumnType.STR),\\n            ],\\n            cost=10.0,\\n            database=postgres,\\n            database_id=1,\\n        ),\\n        Table(\\n            node_id=4252,\\n            table=\\\"comments\\\",\\n            columns=[\\n                Column(name=\\\"id\\\", type=ColumnType.INT),\\n                Column(name=\\\"user_id\\\", type=ColumnType.INT),\\n                Column(name=\\\"timestamp\\\", type=ColumnType.TIMESTAMP),\\n                Column(name=\\\"text\\\", type=ColumnType.STR),\\n            ],\\n            cost=100.0,\\n            database=gsheets,\\n            database_id=2,\\n        ),\\n    ],\\n)\\n\\nnum_comments_mtc_ref = Node(\\n    name=\\\"basic.num_comments\\\",\\n    type=NodeType.METRIC,\\n    current_version=\\\"1\\\",\\n)\\nnum_comments_mtc = NodeRevision(\\n    name=num_comments_mtc_ref.name,\\n    type=num_comments_mtc_ref.type,\\n    node=num_comments_mtc_ref,\\n    version=\\\"1\\\",\\n    query=\\\"\\\"\\\"\\n    SELECT COUNT(1) AS cnt\\n    FROM basic.source.comments\\n    \\\"\\\"\\\",\\n    columns=[\\n        Column(name=\\\"cnt\\\", type=ColumnType.INT),\\n    ],\\n)\\n\\nnum_users_mtc_ref = Node(\\n    name=\\\"basic.num_users\\\",\\n    type=NodeType.METRIC,\\n    current_version=\\\"1\\\",\\n)\\nnum_users_mtc = NodeRevision(\\n    name=num_users_mtc_ref.name,\\n    type=num_users_mtc_ref.type,\\n    node=num_users_mtc_ref,\\n    version=\\\"1\\\",\\n    query=\\\"\\\"\\\"\\n    SELECT SUM(num_users)\\n    FROM basic.transform.country_agg\\n    \\\"\\\"\\\",\\n    columns=[\\n        Column(name=\\\"col0\\\", type=ColumnType.INT),\\n    ],\\n)\\nnum_users_us_join_mtc_ref = Node(\\n    name=\\\"basic.num_users_us\\\",\\n    type=NodeType.METRIC,\\n    current_version=\\\"1\\\",\\n)\\nnum_users_us_join_mtc = NodeRevision(\\n    name=num_users_us_join_mtc_ref.name,\\n    type=num_users_us_join_mtc_ref.type,\\n    node=num_users_us_join_mtc_ref,\\n    version=\\\"1\\\",\\n    query=\\\"\\\"\\\"\\n    SELECT SUM(a.num_users) as sum_users\\n    FROM basic.transform.country_agg a\\n    INNER JOIN basic.source.users b\\n    ON a.country=b.country\\n    WHERE a.country='US'\\n    \\\"\\\"\\\",\\n    columns=[\\n        Column(name=\\\"sum_users\\\", type=ColumnType.INT),\\n    ],\\n)\\ncustomers_dim_ref = Node(\\n    name=\\\"dbt.dimension.customers\\\",\\n    type=NodeType.DIMENSION,\\n    current_version=\\\"1\\\",\\n)\\ncustomers_dim = NodeRevision(\\n    name=customers_dim_ref.name,\\n    type=customers_dim_ref.type,\\n    node=customers_dim_ref,\\n    version=\\\"1\\\",\\n    query=\\\"\\\"\\\"\\n      SELECT id,\\n         first_name,\\n         last_name\\n      FROM dbt.source.jaffle_shop.customers\\n    \\\"\\\"\\\",\\n    columns=[\\n        Column(name=\\\"id\\\", type=ColumnType.INT),\\n        Column(name=\\\"first_name\\\", type=ColumnType.STR),\\n        Column(name=\\\"last_name\\\", type=ColumnType.STR),\\n    ],\\n)\\n\\ncustomers_agg_tfm_ref = Node(\\n    name=\\\"dbt.transform.customer_agg\\\",\\n    type=NodeType.TRANSFORM,\\n    current_version=\\\"1\\\",\\n)\\ncustomers_agg_tfm = NodeRevision(\\n    name=customers_agg_tfm_ref.name,\\n    type=customers_agg_tfm_ref.type,\\n    node=customers_agg_tfm_ref,\\n    version=\\\"1\\\",\\n    query=\\\"\\\"\\\"\\n      SELECT c.id,\\n             c.first_name,\\n             c.last_name,\\n             COUNT(1) AS order_cnt\\n      FROM dbt.source.jaffle_shop.orders o\\n      JOIN dbt.source.jaffle_shop.customers c ON o.user_id = c.id\\n      GROUP BY c.id,\\n               c.first_name,\\n               c.last_name\\n    \\\"\\\"\\\",\\n    columns=[\\n        Column(name=\\\"id\\\", type=ColumnType.INT),\\n        Column(name=\\\"first_name\\\", type=ColumnType.STR),\\n        Column(name=\\\"last_name\\\", type=ColumnType.STR),\\n        Column(name=\\\"order_cnt\\\", type=ColumnType.INT),\\n    ],\\n)\\n\\norders_src_ref = Node(\\n    name=\\\"dbt.source.jaffle_shop.orders\\\",\\n    type=NodeType.SOURCE,\\n    current_version=\\\"1\\\",\\n)\\norders_src = NodeRevision(\\n    name=orders_src_ref.name,\\n    type=orders_src_ref.type,\\n    node=orders_src_ref,\\n    version=\\\"1\\\",\\n    columns=[\\n        Column(name=\\\"id\\\", type=ColumnType.INT),\\n        Column(\\n            name=\\\"user_id\\\",\\n            type=ColumnType.INT,\\n            dimension=customers_dim_ref,\\n            dimension_column=\\\"event_id\\\",\\n        ),\\n        Column(name=\\\"order_date\\\", type=ColumnType.DATE),\\n        Column(name=\\\"status\\\", type=ColumnType.STR),\\n        Column(name=\\\"_etl_loaded_at\\\", type=ColumnType.TIMESTAMP),\\n    ],\\n    tables=[\\n        Table(\\n            node_id=4253,\\n            schema=\\\"jaffle_shop\\\",\\n            table=\\\"orders\\\",\\n            columns=[\\n                Column(name=\\\"id\\\", type=ColumnType.INT),\\n                Column(name=\\\"user_id\\\", type=ColumnType.INT),\\n                Column(name=\\\"order_date\\\", type=ColumnType.DATE),\\n                Column(name=\\\"status\\\", type=ColumnType.STR),\\n                Column(name=\\\"_etl_loaded_at\\\", type=ColumnType.TIMESTAMP),\\n            ],\\n            cost=10.0,\\n            database=postgres,\\n            database_id=1,\\n        ),\\n    ],\\n)\\n\\ncustomers_src_ref = Node(\\n    name=\\\"dbt.source.jaffle_shop.customers\\\",\\n    type=NodeType.SOURCE,\\n    current_version=\\\"1\\\",\\n)\\ncustomers_src = NodeRevision(\\n    name=customers_src_ref.name,\\n    type=customers_src_ref.type,\\n    node=customers_src_ref,\\n    version=\\\"1\\\",\\n    columns=[\\n        Column(name=\\\"id\\\", type=ColumnType.INT),\\n        Column(name=\\\"first_name\\\", type=ColumnType.STR),\\n        Column(name=\\\"last_name\\\", type=ColumnType.STR),\\n    ],\\n    tables=[\\n        Table(\\n            node_id=4254,\\n            schema=\\\"jaffle_shop\\\",\\n            table=\\\"customers\\\",\\n            columns=[\\n                Column(name=\\\"id\\\", type=ColumnType.INT),\\n                Column(name=\\\"first_name\\\", type=ColumnType.STR),\\n                Column(name=\\\"last_name\\\", type=ColumnType.STR),\\n            ],\\n            cost=10.0,\\n            database=postgres,\\n            database_id=1,\\n        ),\\n    ],\\n)\\n\\nsession.add(postgres)\\nsession.add(gsheets)\\nsession.add(countries_dim)\\nsession.add(user_dim)\\nsession.add(country_agg_tfm)\\nsession.add(users_src)\\nsession.add(comments_src)\\nsession.add(num_users_us_join_mtc)\\nsession.add(num_comments_mtc)\\nsession.add(num_users_mtc)\\nsession.add(customers_dim)\\nsession.add(customers_agg_tfm)\\nsession.add(orders_src)\\nsession.add(customers_src)\\n\\nsession.commit()\";\n",
       "                var nbb_formatted_code = \"postgres = Database(name=\\\"postgres\\\", URI=\\\"\\\", cost=10, id=1)\\n\\ngsheets = Database(name=\\\"gsheets\\\", URI=\\\"\\\", cost=100, id=2)\\n\\ncountries_dim_ref = Node(\\n    name=\\\"basic.dimension.countries\\\",\\n    type=NodeType.DIMENSION,\\n    current_version=\\\"1\\\",\\n)\\ncountries_dim = NodeRevision(\\n    name=countries_dim_ref.name,\\n    type=countries_dim_ref.type,\\n    node=countries_dim_ref,\\n    version=\\\"1\\\",\\n    query=\\\"\\\"\\\"\\n      SELECT country,\\n             COUNT(1) AS user_cnt\\n      FROM basic.dimension.users\\n      GROUP BY country\\n    \\\"\\\"\\\",\\n    columns=[\\n        Column(name=\\\"country\\\", type=ColumnType.STR),\\n        Column(name=\\\"user_cnt\\\", type=ColumnType.INT),\\n    ],\\n)\\n\\nuser_dim_ref = Node(\\n    name=\\\"basic.dimension.users\\\",\\n    type=NodeType.DIMENSION,\\n    current_version=\\\"1\\\",\\n)\\nuser_dim = NodeRevision(\\n    name=user_dim_ref.name,\\n    type=user_dim_ref.type,\\n    node=user_dim_ref,\\n    version=\\\"1\\\",\\n    query=\\\"\\\"\\\"\\n      SELECT id,\\n             full_name,\\n             age,\\n             country,\\n             gender,\\n             preferred_language,\\n             secret_number\\n      FROM basic.source.users\\n    \\\"\\\"\\\",\\n    columns=[\\n        Column(name=\\\"id\\\", type=ColumnType.INT),\\n        Column(name=\\\"full_name\\\", type=ColumnType.STR),\\n        Column(name=\\\"age\\\", type=ColumnType.INT),\\n        Column(name=\\\"country\\\", type=ColumnType.STR),\\n        Column(name=\\\"gender\\\", type=ColumnType.STR),\\n        Column(name=\\\"preferred_language\\\", type=ColumnType.STR),\\n        Column(name=\\\"secret_number\\\", type=ColumnType.FLOAT),\\n    ],\\n)\\n\\ncountry_agg_tfm_ref = Node(\\n    name=\\\"basic.transform.country_agg\\\",\\n    type=NodeType.TRANSFORM,\\n    current_version=\\\"1\\\",\\n)\\ncountry_agg_tfm = NodeRevision(\\n    name=country_agg_tfm_ref.name,\\n    type=country_agg_tfm_ref.type,\\n    node=country_agg_tfm_ref,\\n    version=\\\"1\\\",\\n    query=\\\"\\\"\\\"\\n    SELECT country,\\n            COUNT(DISTINCT id) AS num_users\\n    FROM basic.source.users\\n    GROUP BY country\\n    \\\"\\\"\\\",\\n    columns=[\\n        Column(\\n            name=\\\"country\\\",\\n            type=ColumnType.STR,\\n            dimension=user_dim_ref,\\n            dimension_column=\\\"event_id\\\",\\n        ),\\n        Column(name=\\\"num_users\\\", type=ColumnType.INT),\\n    ],\\n)\\n\\nusers_src_ref = Node(\\n    name=\\\"basic.source.users\\\",\\n    type=NodeType.SOURCE,\\n    current_version=\\\"1\\\",\\n)\\nusers_src = NodeRevision(\\n    name=users_src_ref.name,\\n    type=users_src_ref.type,\\n    node=users_src_ref,\\n    version=\\\"1\\\",\\n    columns=[\\n        Column(name=\\\"id\\\", type=ColumnType.INT),\\n        Column(name=\\\"full_name\\\", type=ColumnType.STR),\\n        Column(name=\\\"age\\\", type=ColumnType.INT),\\n        Column(name=\\\"country\\\", type=ColumnType.STR),\\n        Column(name=\\\"gender\\\", type=ColumnType.STR),\\n        Column(name=\\\"preferred_language\\\", type=ColumnType.STR),\\n        Column(name=\\\"secret_number\\\", type=ColumnType.FLOAT),\\n    ],\\n    tables=[\\n        Table(\\n            node_id=4249,\\n            schema=\\\"basic\\\",\\n            table=\\\"comments\\\",\\n            columns=[\\n                Column(name=\\\"id\\\", type=ColumnType.INT),\\n                Column(name=\\\"full_name\\\", type=ColumnType.STR),\\n                Column(name=\\\"age\\\", type=ColumnType.INT),\\n                Column(name=\\\"country\\\", type=ColumnType.STR),\\n                Column(name=\\\"gender\\\", type=ColumnType.STR),\\n                Column(name=\\\"preferred_language\\\", type=ColumnType.STR),\\n                Column(name=\\\"secret_number\\\", type=ColumnType.FLOAT),\\n            ],\\n            cost=10.0,\\n            database=postgres,\\n            database_id=1,\\n        ),\\n        Table(\\n            node_id=4250,\\n            table=\\\"comments\\\",\\n            columns=[\\n                Column(name=\\\"id\\\", type=ColumnType.INT),\\n                Column(name=\\\"full_name\\\", type=ColumnType.STR),\\n                Column(name=\\\"age\\\", type=ColumnType.INT),\\n                Column(name=\\\"country\\\", type=ColumnType.STR),\\n                Column(name=\\\"gender\\\", type=ColumnType.STR),\\n                Column(name=\\\"preferred_language\\\", type=ColumnType.STR),\\n                Column(name=\\\"secret_number\\\", type=ColumnType.FLOAT),\\n            ],\\n            cost=100.0,\\n            database=gsheets,\\n            database_id=2,\\n        ),\\n    ],\\n)\\n\\ncomments_src_ref = Node(\\n    name=\\\"basic.source.comments\\\",\\n    type=NodeType.SOURCE,\\n    current_version=\\\"1\\\",\\n)\\ncomments_src = NodeRevision(\\n    name=comments_src_ref.name,\\n    type=comments_src_ref.type,\\n    node=comments_src_ref,\\n    version=\\\"1\\\",\\n    columns=[\\n        Column(name=\\\"id\\\", type=ColumnType.INT),\\n        Column(\\n            name=\\\"user_id\\\",\\n            type=ColumnType.INT,\\n            dimension=user_dim_ref,\\n        ),\\n        Column(name=\\\"timestamp\\\", type=ColumnType.TIMESTAMP),\\n        Column(name=\\\"text\\\", type=ColumnType.STR),\\n    ],\\n    tables=[\\n        Table(\\n            node_id=4251,\\n            schema=\\\"basic\\\",\\n            table=\\\"comments\\\",\\n            columns=[\\n                Column(name=\\\"id\\\", type=ColumnType.INT),\\n                Column(name=\\\"user_id\\\", type=ColumnType.INT),\\n                Column(name=\\\"timestamp\\\", type=ColumnType.TIMESTAMP),\\n                Column(name=\\\"text\\\", type=ColumnType.STR),\\n            ],\\n            cost=10.0,\\n            database=postgres,\\n            database_id=1,\\n        ),\\n        Table(\\n            node_id=4252,\\n            table=\\\"comments\\\",\\n            columns=[\\n                Column(name=\\\"id\\\", type=ColumnType.INT),\\n                Column(name=\\\"user_id\\\", type=ColumnType.INT),\\n                Column(name=\\\"timestamp\\\", type=ColumnType.TIMESTAMP),\\n                Column(name=\\\"text\\\", type=ColumnType.STR),\\n            ],\\n            cost=100.0,\\n            database=gsheets,\\n            database_id=2,\\n        ),\\n    ],\\n)\\n\\nnum_comments_mtc_ref = Node(\\n    name=\\\"basic.num_comments\\\",\\n    type=NodeType.METRIC,\\n    current_version=\\\"1\\\",\\n)\\nnum_comments_mtc = NodeRevision(\\n    name=num_comments_mtc_ref.name,\\n    type=num_comments_mtc_ref.type,\\n    node=num_comments_mtc_ref,\\n    version=\\\"1\\\",\\n    query=\\\"\\\"\\\"\\n    SELECT COUNT(1) AS cnt\\n    FROM basic.source.comments\\n    \\\"\\\"\\\",\\n    columns=[\\n        Column(name=\\\"cnt\\\", type=ColumnType.INT),\\n    ],\\n)\\n\\nnum_users_mtc_ref = Node(\\n    name=\\\"basic.num_users\\\",\\n    type=NodeType.METRIC,\\n    current_version=\\\"1\\\",\\n)\\nnum_users_mtc = NodeRevision(\\n    name=num_users_mtc_ref.name,\\n    type=num_users_mtc_ref.type,\\n    node=num_users_mtc_ref,\\n    version=\\\"1\\\",\\n    query=\\\"\\\"\\\"\\n    SELECT SUM(num_users)\\n    FROM basic.transform.country_agg\\n    \\\"\\\"\\\",\\n    columns=[\\n        Column(name=\\\"col0\\\", type=ColumnType.INT),\\n    ],\\n)\\nnum_users_us_join_mtc_ref = Node(\\n    name=\\\"basic.num_users_us\\\",\\n    type=NodeType.METRIC,\\n    current_version=\\\"1\\\",\\n)\\nnum_users_us_join_mtc = NodeRevision(\\n    name=num_users_us_join_mtc_ref.name,\\n    type=num_users_us_join_mtc_ref.type,\\n    node=num_users_us_join_mtc_ref,\\n    version=\\\"1\\\",\\n    query=\\\"\\\"\\\"\\n    SELECT SUM(a.num_users) as sum_users\\n    FROM basic.transform.country_agg a\\n    INNER JOIN basic.source.users b\\n    ON a.country=b.country\\n    WHERE a.country='US'\\n    \\\"\\\"\\\",\\n    columns=[\\n        Column(name=\\\"sum_users\\\", type=ColumnType.INT),\\n    ],\\n)\\ncustomers_dim_ref = Node(\\n    name=\\\"dbt.dimension.customers\\\",\\n    type=NodeType.DIMENSION,\\n    current_version=\\\"1\\\",\\n)\\ncustomers_dim = NodeRevision(\\n    name=customers_dim_ref.name,\\n    type=customers_dim_ref.type,\\n    node=customers_dim_ref,\\n    version=\\\"1\\\",\\n    query=\\\"\\\"\\\"\\n      SELECT id,\\n         first_name,\\n         last_name\\n      FROM dbt.source.jaffle_shop.customers\\n    \\\"\\\"\\\",\\n    columns=[\\n        Column(name=\\\"id\\\", type=ColumnType.INT),\\n        Column(name=\\\"first_name\\\", type=ColumnType.STR),\\n        Column(name=\\\"last_name\\\", type=ColumnType.STR),\\n    ],\\n)\\n\\ncustomers_agg_tfm_ref = Node(\\n    name=\\\"dbt.transform.customer_agg\\\",\\n    type=NodeType.TRANSFORM,\\n    current_version=\\\"1\\\",\\n)\\ncustomers_agg_tfm = NodeRevision(\\n    name=customers_agg_tfm_ref.name,\\n    type=customers_agg_tfm_ref.type,\\n    node=customers_agg_tfm_ref,\\n    version=\\\"1\\\",\\n    query=\\\"\\\"\\\"\\n      SELECT c.id,\\n             c.first_name,\\n             c.last_name,\\n             COUNT(1) AS order_cnt\\n      FROM dbt.source.jaffle_shop.orders o\\n      JOIN dbt.source.jaffle_shop.customers c ON o.user_id = c.id\\n      GROUP BY c.id,\\n               c.first_name,\\n               c.last_name\\n    \\\"\\\"\\\",\\n    columns=[\\n        Column(name=\\\"id\\\", type=ColumnType.INT),\\n        Column(name=\\\"first_name\\\", type=ColumnType.STR),\\n        Column(name=\\\"last_name\\\", type=ColumnType.STR),\\n        Column(name=\\\"order_cnt\\\", type=ColumnType.INT),\\n    ],\\n)\\n\\norders_src_ref = Node(\\n    name=\\\"dbt.source.jaffle_shop.orders\\\",\\n    type=NodeType.SOURCE,\\n    current_version=\\\"1\\\",\\n)\\norders_src = NodeRevision(\\n    name=orders_src_ref.name,\\n    type=orders_src_ref.type,\\n    node=orders_src_ref,\\n    version=\\\"1\\\",\\n    columns=[\\n        Column(name=\\\"id\\\", type=ColumnType.INT),\\n        Column(\\n            name=\\\"user_id\\\",\\n            type=ColumnType.INT,\\n            dimension=customers_dim_ref,\\n            dimension_column=\\\"event_id\\\",\\n        ),\\n        Column(name=\\\"order_date\\\", type=ColumnType.DATE),\\n        Column(name=\\\"status\\\", type=ColumnType.STR),\\n        Column(name=\\\"_etl_loaded_at\\\", type=ColumnType.TIMESTAMP),\\n    ],\\n    tables=[\\n        Table(\\n            node_id=4253,\\n            schema=\\\"jaffle_shop\\\",\\n            table=\\\"orders\\\",\\n            columns=[\\n                Column(name=\\\"id\\\", type=ColumnType.INT),\\n                Column(name=\\\"user_id\\\", type=ColumnType.INT),\\n                Column(name=\\\"order_date\\\", type=ColumnType.DATE),\\n                Column(name=\\\"status\\\", type=ColumnType.STR),\\n                Column(name=\\\"_etl_loaded_at\\\", type=ColumnType.TIMESTAMP),\\n            ],\\n            cost=10.0,\\n            database=postgres,\\n            database_id=1,\\n        ),\\n    ],\\n)\\n\\ncustomers_src_ref = Node(\\n    name=\\\"dbt.source.jaffle_shop.customers\\\",\\n    type=NodeType.SOURCE,\\n    current_version=\\\"1\\\",\\n)\\ncustomers_src = NodeRevision(\\n    name=customers_src_ref.name,\\n    type=customers_src_ref.type,\\n    node=customers_src_ref,\\n    version=\\\"1\\\",\\n    columns=[\\n        Column(name=\\\"id\\\", type=ColumnType.INT),\\n        Column(name=\\\"first_name\\\", type=ColumnType.STR),\\n        Column(name=\\\"last_name\\\", type=ColumnType.STR),\\n    ],\\n    tables=[\\n        Table(\\n            node_id=4254,\\n            schema=\\\"jaffle_shop\\\",\\n            table=\\\"customers\\\",\\n            columns=[\\n                Column(name=\\\"id\\\", type=ColumnType.INT),\\n                Column(name=\\\"first_name\\\", type=ColumnType.STR),\\n                Column(name=\\\"last_name\\\", type=ColumnType.STR),\\n            ],\\n            cost=10.0,\\n            database=postgres,\\n            database_id=1,\\n        ),\\n    ],\\n)\\n\\nsession.add(postgres)\\nsession.add(gsheets)\\nsession.add(countries_dim)\\nsession.add(user_dim)\\nsession.add(country_agg_tfm)\\nsession.add(users_src)\\nsession.add(comments_src)\\nsession.add(num_users_us_join_mtc)\\nsession.add(num_comments_mtc)\\nsession.add(num_users_mtc)\\nsession.add(customers_dim)\\nsession.add(customers_agg_tfm)\\nsession.add(orders_src)\\nsession.add(customers_src)\\n\\nsession.commit()\";\n",
       "                var nbb_cells = Jupyter.notebook.get_cells();\n",
       "                for (var i = 0; i < nbb_cells.length; ++i) {\n",
       "                    if (nbb_cells[i].input_prompt_number == nbb_cell_id) {\n",
       "                        if (nbb_cells[i].get_text() == nbb_unformatted_code) {\n",
       "                             nbb_cells[i].set_text(nbb_formatted_code);\n",
       "                        }\n",
       "                        break;\n",
       "                    }\n",
       "                }\n",
       "            }, 500);\n",
       "            "
      ],
      "text/plain": [
       "<IPython.core.display.Javascript object>"
      ]
     },
     "metadata": {},
     "output_type": "display_data"
    }
   ],
   "source": [
    "postgres = Database(name=\"postgres\", URI=\"\", cost=10, id=1)\n",
    "\n",
    "gsheets = Database(name=\"gsheets\", URI=\"\", cost=100, id=2)\n",
    "\n",
    "countries_dim_ref = Node(\n",
    "    name=\"basic.dimension.countries\",\n",
    "    type=NodeType.DIMENSION,\n",
    "    current_version=\"1\",\n",
    ")\n",
    "countries_dim = NodeRevision(\n",
    "    name=countries_dim_ref.name,\n",
    "    type=countries_dim_ref.type,\n",
    "    node=countries_dim_ref,\n",
    "    version=\"1\",\n",
    "    query=\"\"\"\n",
    "      SELECT country,\n",
    "             COUNT(1) AS user_cnt\n",
    "      FROM basic.dimension.users\n",
    "      GROUP BY country\n",
    "    \"\"\",\n",
    "    columns=[\n",
    "        Column(name=\"country\", type=ColumnType.STR),\n",
    "        Column(name=\"user_cnt\", type=ColumnType.INT),\n",
    "    ],\n",
    ")\n",
    "\n",
    "user_dim_ref = Node(\n",
    "    name=\"basic.dimension.users\",\n",
    "    type=NodeType.DIMENSION,\n",
    "    current_version=\"1\",\n",
    ")\n",
    "user_dim = NodeRevision(\n",
    "    name=user_dim_ref.name,\n",
    "    type=user_dim_ref.type,\n",
    "    node=user_dim_ref,\n",
    "    version=\"1\",\n",
    "    query=\"\"\"\n",
    "      SELECT id,\n",
    "             full_name,\n",
    "             age,\n",
    "             country,\n",
    "             gender,\n",
    "             preferred_language,\n",
    "             secret_number\n",
    "      FROM basic.source.users\n",
    "    \"\"\",\n",
    "    columns=[\n",
    "        Column(name=\"id\", type=ColumnType.INT),\n",
    "        Column(name=\"full_name\", type=ColumnType.STR),\n",
    "        Column(name=\"age\", type=ColumnType.INT),\n",
    "        Column(name=\"country\", type=ColumnType.STR),\n",
    "        Column(name=\"gender\", type=ColumnType.STR),\n",
    "        Column(name=\"preferred_language\", type=ColumnType.STR),\n",
    "        Column(name=\"secret_number\", type=ColumnType.FLOAT),\n",
    "    ],\n",
    ")\n",
    "\n",
    "country_agg_tfm_ref = Node(\n",
    "    name=\"basic.transform.country_agg\",\n",
    "    type=NodeType.TRANSFORM,\n",
    "    current_version=\"1\",\n",
    ")\n",
    "country_agg_tfm = NodeRevision(\n",
    "    name=country_agg_tfm_ref.name,\n",
    "    type=country_agg_tfm_ref.type,\n",
    "    node=country_agg_tfm_ref,\n",
    "    version=\"1\",\n",
    "    query=\"\"\"\n",
    "    SELECT country,\n",
    "            COUNT(DISTINCT id) AS num_users\n",
    "    FROM basic.source.users\n",
    "    GROUP BY country\n",
    "    \"\"\",\n",
    "    columns=[\n",
    "        Column(\n",
    "            name=\"country\",\n",
    "            type=ColumnType.STR,\n",
    "            dimension=user_dim_ref,\n",
    "            dimension_column=\"event_id\",\n",
    "        ),\n",
    "        Column(name=\"num_users\", type=ColumnType.INT),\n",
    "    ],\n",
    ")\n",
    "\n",
    "users_src_ref = Node(\n",
    "    name=\"basic.source.users\",\n",
    "    type=NodeType.SOURCE,\n",
    "    current_version=\"1\",\n",
    ")\n",
    "users_src = NodeRevision(\n",
    "    name=users_src_ref.name,\n",
    "    type=users_src_ref.type,\n",
    "    node=users_src_ref,\n",
    "    version=\"1\",\n",
    "    columns=[\n",
    "        Column(name=\"id\", type=ColumnType.INT),\n",
    "        Column(name=\"full_name\", type=ColumnType.STR),\n",
    "        Column(name=\"age\", type=ColumnType.INT),\n",
    "        Column(name=\"country\", type=ColumnType.STR),\n",
    "        Column(name=\"gender\", type=ColumnType.STR),\n",
    "        Column(name=\"preferred_language\", type=ColumnType.STR),\n",
    "        Column(name=\"secret_number\", type=ColumnType.FLOAT),\n",
    "    ],\n",
    "    tables=[\n",
    "        Table(\n",
    "            node_id=4249,\n",
    "            schema=\"basic\",\n",
    "            table=\"comments\",\n",
    "            columns=[\n",
    "                Column(name=\"id\", type=ColumnType.INT),\n",
    "                Column(name=\"full_name\", type=ColumnType.STR),\n",
    "                Column(name=\"age\", type=ColumnType.INT),\n",
    "                Column(name=\"country\", type=ColumnType.STR),\n",
    "                Column(name=\"gender\", type=ColumnType.STR),\n",
    "                Column(name=\"preferred_language\", type=ColumnType.STR),\n",
    "                Column(name=\"secret_number\", type=ColumnType.FLOAT),\n",
    "            ],\n",
    "            cost=10.0,\n",
    "            database=postgres,\n",
    "            database_id=1,\n",
    "        ),\n",
    "        Table(\n",
    "            node_id=4250,\n",
    "            table=\"comments\",\n",
    "            columns=[\n",
    "                Column(name=\"id\", type=ColumnType.INT),\n",
    "                Column(name=\"full_name\", type=ColumnType.STR),\n",
    "                Column(name=\"age\", type=ColumnType.INT),\n",
    "                Column(name=\"country\", type=ColumnType.STR),\n",
    "                Column(name=\"gender\", type=ColumnType.STR),\n",
    "                Column(name=\"preferred_language\", type=ColumnType.STR),\n",
    "                Column(name=\"secret_number\", type=ColumnType.FLOAT),\n",
    "            ],\n",
    "            cost=100.0,\n",
    "            database=gsheets,\n",
    "            database_id=2,\n",
    "        ),\n",
    "    ],\n",
    ")\n",
    "\n",
    "comments_src_ref = Node(\n",
    "    name=\"basic.source.comments\",\n",
    "    type=NodeType.SOURCE,\n",
    "    current_version=\"1\",\n",
    ")\n",
    "comments_src = NodeRevision(\n",
    "    name=comments_src_ref.name,\n",
    "    type=comments_src_ref.type,\n",
    "    node=comments_src_ref,\n",
    "    version=\"1\",\n",
    "    columns=[\n",
    "        Column(name=\"id\", type=ColumnType.INT),\n",
    "        Column(\n",
    "            name=\"user_id\",\n",
    "            type=ColumnType.INT,\n",
    "            dimension=user_dim_ref,\n",
    "        ),\n",
    "        Column(name=\"timestamp\", type=ColumnType.TIMESTAMP),\n",
    "        Column(name=\"text\", type=ColumnType.STR),\n",
    "    ],\n",
    "    tables=[\n",
    "        Table(\n",
    "            node_id=4251,\n",
    "            schema=\"basic\",\n",
    "            table=\"comments\",\n",
    "            columns=[\n",
    "                Column(name=\"id\", type=ColumnType.INT),\n",
    "                Column(name=\"user_id\", type=ColumnType.INT),\n",
    "                Column(name=\"timestamp\", type=ColumnType.TIMESTAMP),\n",
    "                Column(name=\"text\", type=ColumnType.STR),\n",
    "            ],\n",
    "            cost=10.0,\n",
    "            database=postgres,\n",
    "            database_id=1,\n",
    "        ),\n",
    "        Table(\n",
    "            node_id=4252,\n",
    "            table=\"comments\",\n",
    "            columns=[\n",
    "                Column(name=\"id\", type=ColumnType.INT),\n",
    "                Column(name=\"user_id\", type=ColumnType.INT),\n",
    "                Column(name=\"timestamp\", type=ColumnType.TIMESTAMP),\n",
    "                Column(name=\"text\", type=ColumnType.STR),\n",
    "            ],\n",
    "            cost=100.0,\n",
    "            database=gsheets,\n",
    "            database_id=2,\n",
    "        ),\n",
    "    ],\n",
    ")\n",
    "\n",
    "num_comments_mtc_ref = Node(\n",
    "    name=\"basic.num_comments\",\n",
    "    type=NodeType.METRIC,\n",
    "    current_version=\"1\",\n",
    ")\n",
    "num_comments_mtc = NodeRevision(\n",
    "    name=num_comments_mtc_ref.name,\n",
    "    type=num_comments_mtc_ref.type,\n",
    "    node=num_comments_mtc_ref,\n",
    "    version=\"1\",\n",
    "    query=\"\"\"\n",
    "    SELECT COUNT(1) AS cnt\n",
    "    FROM basic.source.comments\n",
    "    \"\"\",\n",
    "    columns=[\n",
    "        Column(name=\"cnt\", type=ColumnType.INT),\n",
    "    ],\n",
    ")\n",
    "\n",
    "num_users_mtc_ref = Node(\n",
    "    name=\"basic.num_users\",\n",
    "    type=NodeType.METRIC,\n",
    "    current_version=\"1\",\n",
    ")\n",
    "num_users_mtc = NodeRevision(\n",
    "    name=num_users_mtc_ref.name,\n",
    "    type=num_users_mtc_ref.type,\n",
    "    node=num_users_mtc_ref,\n",
    "    version=\"1\",\n",
    "    query=\"\"\"\n",
    "    SELECT SUM(num_users)\n",
    "    FROM basic.transform.country_agg\n",
    "    \"\"\",\n",
    "    columns=[\n",
    "        Column(name=\"col0\", type=ColumnType.INT),\n",
    "    ],\n",
    ")\n",
    "num_users_us_join_mtc_ref = Node(\n",
    "    name=\"basic.num_users_us\",\n",
    "    type=NodeType.METRIC,\n",
    "    current_version=\"1\",\n",
    ")\n",
    "num_users_us_join_mtc = NodeRevision(\n",
    "    name=num_users_us_join_mtc_ref.name,\n",
    "    type=num_users_us_join_mtc_ref.type,\n",
    "    node=num_users_us_join_mtc_ref,\n",
    "    version=\"1\",\n",
    "    query=\"\"\"\n",
    "    SELECT SUM(a.num_users) as sum_users\n",
    "    FROM basic.transform.country_agg a\n",
    "    INNER JOIN basic.source.users b\n",
    "    ON a.country=b.country\n",
    "    WHERE a.country='US'\n",
    "    \"\"\",\n",
    "    columns=[\n",
    "        Column(name=\"sum_users\", type=ColumnType.INT),\n",
    "    ],\n",
    ")\n",
    "customers_dim_ref = Node(\n",
    "    name=\"dbt.dimension.customers\",\n",
    "    type=NodeType.DIMENSION,\n",
    "    current_version=\"1\",\n",
    ")\n",
    "customers_dim = NodeRevision(\n",
    "    name=customers_dim_ref.name,\n",
    "    type=customers_dim_ref.type,\n",
    "    node=customers_dim_ref,\n",
    "    version=\"1\",\n",
    "    query=\"\"\"\n",
    "      SELECT id,\n",
    "         first_name,\n",
    "         last_name\n",
    "      FROM dbt.source.jaffle_shop.customers\n",
    "    \"\"\",\n",
    "    columns=[\n",
    "        Column(name=\"id\", type=ColumnType.INT),\n",
    "        Column(name=\"first_name\", type=ColumnType.STR),\n",
    "        Column(name=\"last_name\", type=ColumnType.STR),\n",
    "    ],\n",
    ")\n",
    "\n",
    "customers_agg_tfm_ref = Node(\n",
    "    name=\"dbt.transform.customer_agg\",\n",
    "    type=NodeType.TRANSFORM,\n",
    "    current_version=\"1\",\n",
    ")\n",
    "customers_agg_tfm = NodeRevision(\n",
    "    name=customers_agg_tfm_ref.name,\n",
    "    type=customers_agg_tfm_ref.type,\n",
    "    node=customers_agg_tfm_ref,\n",
    "    version=\"1\",\n",
    "    query=\"\"\"\n",
    "      SELECT c.id,\n",
    "             c.first_name,\n",
    "             c.last_name,\n",
    "             COUNT(1) AS order_cnt\n",
    "      FROM dbt.source.jaffle_shop.orders o\n",
    "      JOIN dbt.source.jaffle_shop.customers c ON o.user_id = c.id\n",
    "      GROUP BY c.id,\n",
    "               c.first_name,\n",
    "               c.last_name\n",
    "    \"\"\",\n",
    "    columns=[\n",
    "        Column(name=\"id\", type=ColumnType.INT),\n",
    "        Column(name=\"first_name\", type=ColumnType.STR),\n",
    "        Column(name=\"last_name\", type=ColumnType.STR),\n",
    "        Column(name=\"order_cnt\", type=ColumnType.INT),\n",
    "    ],\n",
    ")\n",
    "\n",
    "orders_src_ref = Node(\n",
    "    name=\"dbt.source.jaffle_shop.orders\",\n",
    "    type=NodeType.SOURCE,\n",
    "    current_version=\"1\",\n",
    ")\n",
    "orders_src = NodeRevision(\n",
    "    name=orders_src_ref.name,\n",
    "    type=orders_src_ref.type,\n",
    "    node=orders_src_ref,\n",
    "    version=\"1\",\n",
    "    columns=[\n",
    "        Column(name=\"id\", type=ColumnType.INT),\n",
    "        Column(\n",
    "            name=\"user_id\",\n",
    "            type=ColumnType.INT,\n",
    "            dimension=customers_dim_ref,\n",
    "            dimension_column=\"event_id\",\n",
    "        ),\n",
    "        Column(name=\"order_date\", type=ColumnType.DATE),\n",
    "        Column(name=\"status\", type=ColumnType.STR),\n",
    "        Column(name=\"_etl_loaded_at\", type=ColumnType.TIMESTAMP),\n",
    "    ],\n",
    "    tables=[\n",
    "        Table(\n",
    "            node_id=4253,\n",
    "            schema=\"jaffle_shop\",\n",
    "            table=\"orders\",\n",
    "            columns=[\n",
    "                Column(name=\"id\", type=ColumnType.INT),\n",
    "                Column(name=\"user_id\", type=ColumnType.INT),\n",
    "                Column(name=\"order_date\", type=ColumnType.DATE),\n",
    "                Column(name=\"status\", type=ColumnType.STR),\n",
    "                Column(name=\"_etl_loaded_at\", type=ColumnType.TIMESTAMP),\n",
    "            ],\n",
    "            cost=10.0,\n",
    "            database=postgres,\n",
    "            database_id=1,\n",
    "        ),\n",
    "    ],\n",
    ")\n",
    "\n",
    "customers_src_ref = Node(\n",
    "    name=\"dbt.source.jaffle_shop.customers\",\n",
    "    type=NodeType.SOURCE,\n",
    "    current_version=\"1\",\n",
    ")\n",
    "customers_src = NodeRevision(\n",
    "    name=customers_src_ref.name,\n",
    "    type=customers_src_ref.type,\n",
    "    node=customers_src_ref,\n",
    "    version=\"1\",\n",
    "    columns=[\n",
    "        Column(name=\"id\", type=ColumnType.INT),\n",
    "        Column(name=\"first_name\", type=ColumnType.STR),\n",
    "        Column(name=\"last_name\", type=ColumnType.STR),\n",
    "    ],\n",
    "    tables=[\n",
    "        Table(\n",
    "            node_id=4254,\n",
    "            schema=\"jaffle_shop\",\n",
    "            table=\"customers\",\n",
    "            columns=[\n",
    "                Column(name=\"id\", type=ColumnType.INT),\n",
    "                Column(name=\"first_name\", type=ColumnType.STR),\n",
    "                Column(name=\"last_name\", type=ColumnType.STR),\n",
    "            ],\n",
    "            cost=10.0,\n",
    "            database=postgres,\n",
    "            database_id=1,\n",
    "        ),\n",
    "    ],\n",
    ")\n",
    "\n",
    "session.add(postgres)\n",
    "session.add(gsheets)\n",
    "session.add(countries_dim)\n",
    "session.add(user_dim)\n",
    "session.add(country_agg_tfm)\n",
    "session.add(users_src)\n",
    "session.add(comments_src)\n",
    "session.add(num_users_us_join_mtc)\n",
    "session.add(num_comments_mtc)\n",
    "session.add(num_users_mtc)\n",
    "session.add(customers_dim)\n",
    "session.add(customers_agg_tfm)\n",
    "session.add(orders_src)\n",
    "session.add(customers_src)\n",
    "\n",
    "session.commit()"
   ]
  },
  {
   "cell_type": "code",
   "execution_count": null,
   "id": "127f92dc",
   "metadata": {},
   "outputs": [],
   "source": [
    "SELECT basic_DOT_num_users_us.sum_users\n",
    "FROM   basic.transform.country_agg,\n",
    "       basic.source.users,\n",
    "       (SELECT Sum(a.num_users) AS sum_users,\n",
    "               basic.transform.country_agg.country,\n",
    "               a.num_users,\n",
    "               b.id,\n",
    "               b.full_name,\n",
    "               b.age,\n",
    "               basic.source.users.country,\n",
    "               b.gender,\n",
    "               b.preferred_language,\n",
    "               b.secret_number\n",
    "        FROM   basic.transform.country_agg AS a\n",
    "               INNER JOIN basic.source.users AS b\n",
    "                       ON a.country = b.country\n",
    "        WHERE  a.country = 'US') AS basic_DOT_num_users_us\n",
    "GROUP  BY dimension.users.basic.country "
   ]
  },
  {
   "cell_type": "code",
   "execution_count": 11,
   "id": "a8c58654",
   "metadata": {},
   "outputs": [
    {
     "name": "stdout",
     "output_type": "stream",
     "text": [
      "Object `get_session` not found.\n"
     ]
    },
    {
     "data": {
      "application/javascript": [
       "\n",
       "            setTimeout(function() {\n",
       "                var nbb_cell_id = 11;\n",
       "                var nbb_unformatted_code = \"get_session??\";\n",
       "                var nbb_formatted_code = \"get_session??\";\n",
       "                var nbb_cells = Jupyter.notebook.get_cells();\n",
       "                for (var i = 0; i < nbb_cells.length; ++i) {\n",
       "                    if (nbb_cells[i].input_prompt_number == nbb_cell_id) {\n",
       "                        if (nbb_cells[i].get_text() == nbb_unformatted_code) {\n",
       "                             nbb_cells[i].set_text(nbb_formatted_code);\n",
       "                        }\n",
       "                        break;\n",
       "                    }\n",
       "                }\n",
       "            }, 500);\n",
       "            "
      ],
      "text/plain": [
       "<IPython.core.display.Javascript object>"
      ]
     },
     "metadata": {},
     "output_type": "display_data"
    }
   ],
   "source": [
    "get_session??"
   ]
  },
  {
   "cell_type": "code",
   "execution_count": 5,
   "id": "b13f1448",
   "metadata": {},
   "outputs": [
    {
     "data": {
      "application/javascript": [
       "\n",
       "            setTimeout(function() {\n",
       "                var nbb_cell_id = 5;\n",
       "                var nbb_unformatted_code = \"session = next(get_session())\";\n",
       "                var nbb_formatted_code = \"session = next(get_session())\";\n",
       "                var nbb_cells = Jupyter.notebook.get_cells();\n",
       "                for (var i = 0; i < nbb_cells.length; ++i) {\n",
       "                    if (nbb_cells[i].input_prompt_number == nbb_cell_id) {\n",
       "                        if (nbb_cells[i].get_text() == nbb_unformatted_code) {\n",
       "                             nbb_cells[i].set_text(nbb_formatted_code);\n",
       "                        }\n",
       "                        break;\n",
       "                    }\n",
       "                }\n",
       "            }, 500);\n",
       "            "
      ],
      "text/plain": [
       "<IPython.core.display.Javascript object>"
      ]
     },
     "metadata": {},
     "output_type": "display_data"
    }
   ],
   "source": [
    "session = next(get_session())"
   ]
  },
  {
   "cell_type": "code",
   "execution_count": 14,
   "id": "d48327b1",
   "metadata": {},
   "outputs": [
    {
     "data": {
      "application/javascript": [
       "\n",
       "            setTimeout(function() {\n",
       "                var nbb_cell_id = 14;\n",
       "                var nbb_unformatted_code = \"q = \\\"\\\"\\\"SELECT    basic_dot_num_users_us.sum_users\\nFROM      (\\n                   SELECT   basic.comments.country,\\n                            Count(DISTINCT basic.comments.id) AS num_users\\n                   FROM     basic.comments\\n                   GROUP BY basic.comments.country) AS basic_dot_transform_dot_country_agg,\\n          basic.comments,\\n          (\\n                     SELECT     Sum(a.num_users) AS sum_users,\\n                                a.country,\\n                                a.num_users,\\n                                b.id,\\n                                b.full_name,\\n                                b.age,\\n                                b.country,\\n                                b.gender,\\n                                b.preferred_language,\\n                                b.secret_number\\n                     FROM       (\\n                                         SELECT   basic.comments.country,\\n                                                  Count(DISTINCT basic.comments.id) AS num_users\\n                                         FROM     basic.comments\\n                                         GROUP BY basic.comments.country) a\\n                     INNER JOIN basic.comments                            AS b\\n                     ON         a.country = b.country\\n                     WHERE      a.country = 'US' ) AS basic_dot_num_users_us\\nLEFT JOIN\\n          (\\n                 SELECT basic.comments.id,\\n                        basic.comments.full_name,\\n                        basic.comments.age,\\n                        basic.comments.country,\\n                        basic.comments.gender,\\n                        basic.comments.preferred_language,\\n                        basic.comments.secret_number\\n                 FROM   basic.comments ) AS basic_dot_dimension_dot_users\\nON        basic_dot_transform_dot_country_agg.country = basic_dot_dimension_dot_users.country\\nAND       basic_dot_transform_dot_country_agg.country = basic_dot_dimension_dot_users.country\\nGROUP BY  basic_dot_dimension_dot_users.country\\\"\\\"\\\"\";\n",
       "                var nbb_formatted_code = \"q = \\\"\\\"\\\"SELECT    basic_dot_num_users_us.sum_users\\nFROM      (\\n                   SELECT   basic.comments.country,\\n                            Count(DISTINCT basic.comments.id) AS num_users\\n                   FROM     basic.comments\\n                   GROUP BY basic.comments.country) AS basic_dot_transform_dot_country_agg,\\n          basic.comments,\\n          (\\n                     SELECT     Sum(a.num_users) AS sum_users,\\n                                a.country,\\n                                a.num_users,\\n                                b.id,\\n                                b.full_name,\\n                                b.age,\\n                                b.country,\\n                                b.gender,\\n                                b.preferred_language,\\n                                b.secret_number\\n                     FROM       (\\n                                         SELECT   basic.comments.country,\\n                                                  Count(DISTINCT basic.comments.id) AS num_users\\n                                         FROM     basic.comments\\n                                         GROUP BY basic.comments.country) a\\n                     INNER JOIN basic.comments                            AS b\\n                     ON         a.country = b.country\\n                     WHERE      a.country = 'US' ) AS basic_dot_num_users_us\\nLEFT JOIN\\n          (\\n                 SELECT basic.comments.id,\\n                        basic.comments.full_name,\\n                        basic.comments.age,\\n                        basic.comments.country,\\n                        basic.comments.gender,\\n                        basic.comments.preferred_language,\\n                        basic.comments.secret_number\\n                 FROM   basic.comments ) AS basic_dot_dimension_dot_users\\nON        basic_dot_transform_dot_country_agg.country = basic_dot_dimension_dot_users.country\\nAND       basic_dot_transform_dot_country_agg.country = basic_dot_dimension_dot_users.country\\nGROUP BY  basic_dot_dimension_dot_users.country\\\"\\\"\\\"\";\n",
       "                var nbb_cells = Jupyter.notebook.get_cells();\n",
       "                for (var i = 0; i < nbb_cells.length; ++i) {\n",
       "                    if (nbb_cells[i].input_prompt_number == nbb_cell_id) {\n",
       "                        if (nbb_cells[i].get_text() == nbb_unformatted_code) {\n",
       "                             nbb_cells[i].set_text(nbb_formatted_code);\n",
       "                        }\n",
       "                        break;\n",
       "                    }\n",
       "                }\n",
       "            }, 500);\n",
       "            "
      ],
      "text/plain": [
       "<IPython.core.display.Javascript object>"
      ]
     },
     "metadata": {},
     "output_type": "display_data"
    }
   ],
   "source": [
    "q = \"\"\"SELECT    basic_dot_num_users_us.sum_users\n",
    "FROM      (\n",
    "                   SELECT   basic.comments.country,\n",
    "                            Count(DISTINCT basic.comments.id) AS num_users\n",
    "                   FROM     basic.comments\n",
    "                   GROUP BY basic.comments.country) AS basic_dot_transform_dot_country_agg,\n",
    "          basic.comments,\n",
    "          (\n",
    "                     SELECT     Sum(a.num_users) AS sum_users,\n",
    "                                a.country,\n",
    "                                a.num_users,\n",
    "                                b.id,\n",
    "                                b.full_name,\n",
    "                                b.age,\n",
    "                                b.country,\n",
    "                                b.gender,\n",
    "                                b.preferred_language,\n",
    "                                b.secret_number\n",
    "                     FROM       (\n",
    "                                         SELECT   basic.comments.country,\n",
    "                                                  Count(DISTINCT basic.comments.id) AS num_users\n",
    "                                         FROM     basic.comments\n",
    "                                         GROUP BY basic.comments.country) a\n",
    "                     INNER JOIN basic.comments                            AS b\n",
    "                     ON         a.country = b.country\n",
    "                     WHERE      a.country = 'US' ) AS basic_dot_num_users_us\n",
    "LEFT JOIN\n",
    "          (\n",
    "                 SELECT basic.comments.id,\n",
    "                        basic.comments.full_name,\n",
    "                        basic.comments.age,\n",
    "                        basic.comments.country,\n",
    "                        basic.comments.gender,\n",
    "                        basic.comments.preferred_language,\n",
    "                        basic.comments.secret_number\n",
    "                 FROM   basic.comments ) AS basic_dot_dimension_dot_users\n",
    "ON        basic_dot_transform_dot_country_agg.country = basic_dot_dimension_dot_users.country\n",
    "AND       basic_dot_transform_dot_country_agg.country = basic_dot_dimension_dot_users.country\n",
    "GROUP BY  basic_dot_dimension_dot_users.country\"\"\""
   ]
  },
  {
   "cell_type": "code",
   "execution_count": 15,
   "id": "863c5f83",
   "metadata": {},
   "outputs": [
    {
     "data": {
      "text/plain": [
       "Query(select=Select(from_=From(tables=[Alias(name=Name(name='basic_dot_transform_dot_country_agg', quote_style=''), namespace=None, child=Select(from_=From(tables=[Table(name=Name(name='comments', quote_style=''), namespace=Namespace(names=[Name(name='basic', quote_style='')]))], joins=[]), group_by=[Column(name=Name(name='country', quote_style=''), namespace=Namespace(names=[Name(name='basic', quote_style=''), Name(name='comments', quote_style='')]), _api_column=False)], having=None, projection=[Column(name=Name(name='country', quote_style=''), namespace=Namespace(names=[Name(name='basic', quote_style=''), Name(name='comments', quote_style='')]), _api_column=False), Alias(name=Name(name='num_users', quote_style=''), namespace=None, child=Function(name=Name(name='Count', quote_style=''), namespace=Namespace(names=[]), args=[Column(name=Name(name='id', quote_style=''), namespace=Namespace(names=[Name(name='basic', quote_style=''), Name(name='comments', quote_style='')]), _api_column=False)], distinct=True, over=None))], where=None, limit=None, distinct=False, order_by=[])), Table(name=Name(name='comments', quote_style=''), namespace=Namespace(names=[Name(name='basic', quote_style='')])), Alias(name=Name(name='basic_dot_num_users_us', quote_style=''), namespace=None, child=Select(from_=From(tables=[Alias(name=Name(name='a', quote_style=''), namespace=None, child=Select(from_=From(tables=[Table(name=Name(name='comments', quote_style=''), namespace=Namespace(names=[Name(name='basic', quote_style='')]))], joins=[]), group_by=[Column(name=Name(name='country', quote_style=''), namespace=Namespace(names=[Name(name='basic', quote_style=''), Name(name='comments', quote_style='')]), _api_column=False)], having=None, projection=[Column(name=Name(name='country', quote_style=''), namespace=Namespace(names=[Name(name='basic', quote_style=''), Name(name='comments', quote_style='')]), _api_column=False), Alias(name=Name(name='num_users', quote_style=''), namespace=None, child=Function(name=Name(name='Count', quote_style=''), namespace=Namespace(names=[]), args=[Column(name=Name(name='id', quote_style=''), namespace=Namespace(names=[Name(name='basic', quote_style=''), Name(name='comments', quote_style='')]), _api_column=False)], distinct=True, over=None))], where=None, limit=None, distinct=False, order_by=[]))], joins=[Join(kind=JoinKind.Inner, table=Alias(name=Name(name='b', quote_style=''), namespace=None, child=Table(name=Name(name='comments', quote_style=''), namespace=Namespace(names=[Name(name='basic', quote_style='')]))), on=BinaryOp(op=BinaryOpKind.Eq, left=Column(name=Name(name='country', quote_style=''), namespace=Namespace(names=[Name(name='a', quote_style='')]), _api_column=False), right=Column(name=Name(name='country', quote_style=''), namespace=Namespace(names=[Name(name='b', quote_style='')]), _api_column=False)))]), group_by=[], having=None, projection=[Alias(name=Name(name='sum_users', quote_style=''), namespace=None, child=Function(name=Name(name='Sum', quote_style=''), namespace=Namespace(names=[]), args=[Column(name=Name(name='num_users', quote_style=''), namespace=Namespace(names=[Name(name='a', quote_style='')]), _api_column=False)], distinct=False, over=None)), Column(name=Name(name='country', quote_style=''), namespace=Namespace(names=[Name(name='a', quote_style='')]), _api_column=False), Column(name=Name(name='num_users', quote_style=''), namespace=Namespace(names=[Name(name='a', quote_style='')]), _api_column=False), Column(name=Name(name='id', quote_style=''), namespace=Namespace(names=[Name(name='b', quote_style='')]), _api_column=False), Column(name=Name(name='full_name', quote_style=''), namespace=Namespace(names=[Name(name='b', quote_style='')]), _api_column=False), Column(name=Name(name='age', quote_style=''), namespace=Namespace(names=[Name(name='b', quote_style='')]), _api_column=False), Column(name=Name(name='country', quote_style=''), namespace=Namespace(names=[Name(name='b', quote_style='')]), _api_column=False), Column(name=Name(name='gender', quote_style=''), namespace=Namespace(names=[Name(name='b', quote_style='')]), _api_column=False), Column(name=Name(name='preferred_language', quote_style=''), namespace=Namespace(names=[Name(name='b', quote_style='')]), _api_column=False), Column(name=Name(name='secret_number', quote_style=''), namespace=Namespace(names=[Name(name='b', quote_style='')]), _api_column=False)], where=BinaryOp(op=BinaryOpKind.Eq, left=Column(name=Name(name='country', quote_style=''), namespace=Namespace(names=[Name(name='a', quote_style='')]), _api_column=False), right=String(value='US')), limit=None, distinct=False, order_by=[]))], joins=[Join(kind=JoinKind.LeftOuter, table=Alias(name=Name(name='basic_dot_dimension_dot_users', quote_style=''), namespace=None, child=Select(from_=From(tables=[Table(name=Name(name='comments', quote_style=''), namespace=Namespace(names=[Name(name='basic', quote_style='')]))], joins=[]), group_by=[], having=None, projection=[Column(name=Name(name='id', quote_style=''), namespace=Namespace(names=[Name(name='basic', quote_style=''), Name(name='comments', quote_style='')]), _api_column=False), Column(name=Name(name='full_name', quote_style=''), namespace=Namespace(names=[Name(name='basic', quote_style=''), Name(name='comments', quote_style='')]), _api_column=False), Column(name=Name(name='age', quote_style=''), namespace=Namespace(names=[Name(name='basic', quote_style=''), Name(name='comments', quote_style='')]), _api_column=False), Column(name=Name(name='country', quote_style=''), namespace=Namespace(names=[Name(name='basic', quote_style=''), Name(name='comments', quote_style='')]), _api_column=False), Column(name=Name(name='gender', quote_style=''), namespace=Namespace(names=[Name(name='basic', quote_style=''), Name(name='comments', quote_style='')]), _api_column=False), Column(name=Name(name='preferred_language', quote_style=''), namespace=Namespace(names=[Name(name='basic', quote_style=''), Name(name='comments', quote_style='')]), _api_column=False), Column(name=Name(name='secret_number', quote_style=''), namespace=Namespace(names=[Name(name='basic', quote_style=''), Name(name='comments', quote_style='')]), _api_column=False)], where=None, limit=None, distinct=False, order_by=[])), on=BinaryOp(op=BinaryOpKind.And, left=BinaryOp(op=BinaryOpKind.Eq, left=Column(name=Name(name='country', quote_style=''), namespace=Namespace(names=[Name(name='basic_dot_transform_dot_country_agg', quote_style='')]), _api_column=False), right=Column(name=Name(name='country', quote_style=''), namespace=Namespace(names=[Name(name='basic_dot_dimension_dot_users', quote_style='')]), _api_column=False)), right=BinaryOp(op=BinaryOpKind.Eq, left=Column(name=Name(name='country', quote_style=''), namespace=Namespace(names=[Name(name='basic_dot_transform_dot_country_agg', quote_style='')]), _api_column=False), right=Column(name=Name(name='country', quote_style=''), namespace=Namespace(names=[Name(name='basic_dot_dimension_dot_users', quote_style='')]), _api_column=False))))]), group_by=[Column(name=Name(name='country', quote_style=''), namespace=Namespace(names=[Name(name='basic_dot_dimension_dot_users', quote_style='')]), _api_column=False)], having=None, projection=[Column(name=Name(name='sum_users', quote_style=''), namespace=Namespace(names=[Name(name='basic_dot_num_users_us', quote_style='')]), _api_column=False)], where=None, limit=None, distinct=False, order_by=[]), ctes=[])"
      ]
     },
     "execution_count": 15,
     "metadata": {},
     "output_type": "execute_result"
    },
    {
     "data": {
      "application/javascript": [
       "\n",
       "            setTimeout(function() {\n",
       "                var nbb_cell_id = 15;\n",
       "                var nbb_unformatted_code = \"parse(q)\";\n",
       "                var nbb_formatted_code = \"parse(q)\";\n",
       "                var nbb_cells = Jupyter.notebook.get_cells();\n",
       "                for (var i = 0; i < nbb_cells.length; ++i) {\n",
       "                    if (nbb_cells[i].input_prompt_number == nbb_cell_id) {\n",
       "                        if (nbb_cells[i].get_text() == nbb_unformatted_code) {\n",
       "                             nbb_cells[i].set_text(nbb_formatted_code);\n",
       "                        }\n",
       "                        break;\n",
       "                    }\n",
       "                }\n",
       "            }, 500);\n",
       "            "
      ],
      "text/plain": [
       "<IPython.core.display.Javascript object>"
      ]
     },
     "metadata": {},
     "output_type": "display_data"
    }
   ],
   "source": [
    "parse(q)"
   ]
  },
  {
   "cell_type": "code",
   "execution_count": null,
   "id": "80c4b57b",
   "metadata": {},
   "outputs": [],
   "source": [
    "SELECT basic_DOT_num_users_us.sum_users\n",
    "FROM   (SELECT basic.comments.country,\n",
    "               Count(DISTINCT basic.comments.id) AS num_users\n",
    "        FROM   basic.comments\n",
    "        GROUP  BY basic.comments.country) AS basic_DOT_transform_DOT_country_agg\n",
    "       ,\n",
    "       basic.comments,\n",
    "       (SELECT Sum(a.num_users) AS sum_users,\n",
    "               a.country,\n",
    "               a.num_users,\n",
    "               b.id,\n",
    "               b.full_name,\n",
    "               b.age,\n",
    "               b.country,\n",
    "               b.gender,\n",
    "               b.preferred_language,\n",
    "               b.secret_number\n",
    "        FROM   (SELECT basic.comments.country,\n",
    "                       Count(DISTINCT basic.comments.id) AS num_users\n",
    "                FROM   basic.comments\n",
    "                GROUP  BY basic.comments.country) AS\n",
    "               basic_DOT_transform_DOT_country_agg\n",
    "               INNER JOIN basic.comments AS b\n",
    "                       ON basic_DOT_transform_DOT_country_agg.country =\n",
    "                          b.country\n",
    "        WHERE  a.country = 'US') AS basic_DOT_num_users_us\n",
    "       LEFT JOIN (SELECT basic.comments.id,\n",
    "                         basic.comments.full_name,\n",
    "                         basic.comments.age,\n",
    "                         basic.comments.country,\n",
    "                         basic.comments.gender,\n",
    "                         basic.comments.preferred_language,\n",
    "                         basic.comments.secret_number\n",
    "                  FROM   basic.comments) AS basic_DOT_dimension_DOT_users\n",
    "              ON basic_DOT_transform_DOT_country_agg.country =\n",
    "                           basic_DOT_dimension_DOT_users.country\n",
    "                 AND basic_DOT_transform_DOT_country_agg.country =\n",
    "                     basic_DOT_dimension_DOT_users.country\n",
    "GROUP  BY basic_DOT_dimension_DOT_users.country "
   ]
  },
  {
   "cell_type": "code",
   "execution_count": 6,
   "id": "573563a0",
   "metadata": {},
   "outputs": [
    {
     "name": "stdout",
     "output_type": "stream",
     "text": [
      "SELECT  basic_DOT_num_users_us.sum_users \n",
      " FROM (SELECT  basic.comments.country,\n",
      "\tCOUNT(DISTINCT basic.comments.id) AS num_users \n",
      " FROM basic.comments\n",
      " \n",
      " GROUP BY  basic.comments.country) AS basic_DOT_transform_DOT_country_agg, basic.comments, (SELECT  SUM(a.num_users) AS sum_users,\n",
      "\ta.country,\n",
      "\ta.num_users,\n",
      "\tb.id,\n",
      "\tb.full_name,\n",
      "\tb.age,\n",
      "\tb.country,\n",
      "\tb.gender,\n",
      "\tb.preferred_language,\n",
      "\tb.secret_number \n",
      " FROM (SELECT  basic.comments.country,\n",
      "\tCOUNT(DISTINCT basic.comments.id) AS num_users \n",
      " FROM basic.comments\n",
      " \n",
      " GROUP BY  basic.comments.country) AS basic_DOT_transform_DOT_country_agg\n",
      "INNER JOIN basic.comments AS b\n",
      "        ON basic_DOT_transform_DOT_country_agg.country = b.country \n",
      " WHERE  a.country = 'US' \n",
      ") AS basic_DOT_num_users_us\n",
      "LEFT JOIN (SELECT  basic.comments.id,\n",
      "\tbasic.comments.full_name,\n",
      "\tbasic.comments.age,\n",
      "\tbasic.comments.country,\n",
      "\tbasic.comments.gender,\n",
      "\tbasic.comments.preferred_language,\n",
      "\tbasic.comments.secret_number \n",
      " FROM basic.comments\n",
      " \n",
      ") AS basic_DOT_dimension_DOT_users\n",
      "        ON basic_DOT_transform_DOT_country_agg.country = basic_DOT_dimension_DOT_users.country AND basic_DOT_transform_DOT_country_agg.country = basic_DOT_dimension_DOT_users.country \n",
      " GROUP BY  basic_DOT_dimension_DOT_users.country\n"
     ]
    },
    {
     "data": {
      "application/javascript": [
       "\n",
       "            setTimeout(function() {\n",
       "                var nbb_cell_id = 6;\n",
       "                var nbb_unformatted_code = \"print(\\n    \\\"SELECT  basic_DOT_num_users_us.sum_users \\\\n FROM (SELECT  basic.comments.country,\\\\n\\\\tCOUNT(DISTINCT basic.comments.id) AS num_users \\\\n FROM basic.comments\\\\n \\\\n GROUP BY  basic.comments.country) AS basic_DOT_transform_DOT_country_agg, basic.comments, (SELECT  SUM(a.num_users) AS sum_users,\\\\n\\\\ta.country,\\\\n\\\\ta.num_users,\\\\n\\\\tb.id,\\\\n\\\\tb.full_name,\\\\n\\\\tb.age,\\\\n\\\\tb.country,\\\\n\\\\tb.gender,\\\\n\\\\tb.preferred_language,\\\\n\\\\tb.secret_number \\\\n FROM (SELECT  basic.comments.country,\\\\n\\\\tCOUNT(DISTINCT basic.comments.id) AS num_users \\\\n FROM basic.comments\\\\n \\\\n GROUP BY  basic.comments.country) AS basic_DOT_transform_DOT_country_agg\\\\nINNER JOIN basic.comments AS b\\\\n        ON basic_DOT_transform_DOT_country_agg.country = b.country \\\\n WHERE  a.country = 'US' \\\\n) AS basic_DOT_num_users_us\\\\nLEFT JOIN (SELECT  basic.comments.id,\\\\n\\\\tbasic.comments.full_name,\\\\n\\\\tbasic.comments.age,\\\\n\\\\tbasic.comments.country,\\\\n\\\\tbasic.comments.gender,\\\\n\\\\tbasic.comments.preferred_language,\\\\n\\\\tbasic.comments.secret_number \\\\n FROM basic.comments\\\\n \\\\n) AS basic_DOT_dimension_DOT_users\\\\n        ON basic_DOT_transform_DOT_country_agg.country = basic_DOT_dimension_DOT_users.country AND basic_DOT_transform_DOT_country_agg.country = basic_DOT_dimension_DOT_users.country \\\\n GROUP BY  basic_DOT_dimension_DOT_users.country\\\")\";\n",
       "                var nbb_formatted_code = \"print(\\n    \\\"SELECT  basic_DOT_num_users_us.sum_users \\\\n FROM (SELECT  basic.comments.country,\\\\n\\\\tCOUNT(DISTINCT basic.comments.id) AS num_users \\\\n FROM basic.comments\\\\n \\\\n GROUP BY  basic.comments.country) AS basic_DOT_transform_DOT_country_agg, basic.comments, (SELECT  SUM(a.num_users) AS sum_users,\\\\n\\\\ta.country,\\\\n\\\\ta.num_users,\\\\n\\\\tb.id,\\\\n\\\\tb.full_name,\\\\n\\\\tb.age,\\\\n\\\\tb.country,\\\\n\\\\tb.gender,\\\\n\\\\tb.preferred_language,\\\\n\\\\tb.secret_number \\\\n FROM (SELECT  basic.comments.country,\\\\n\\\\tCOUNT(DISTINCT basic.comments.id) AS num_users \\\\n FROM basic.comments\\\\n \\\\n GROUP BY  basic.comments.country) AS basic_DOT_transform_DOT_country_agg\\\\nINNER JOIN basic.comments AS b\\\\n        ON basic_DOT_transform_DOT_country_agg.country = b.country \\\\n WHERE  a.country = 'US' \\\\n) AS basic_DOT_num_users_us\\\\nLEFT JOIN (SELECT  basic.comments.id,\\\\n\\\\tbasic.comments.full_name,\\\\n\\\\tbasic.comments.age,\\\\n\\\\tbasic.comments.country,\\\\n\\\\tbasic.comments.gender,\\\\n\\\\tbasic.comments.preferred_language,\\\\n\\\\tbasic.comments.secret_number \\\\n FROM basic.comments\\\\n \\\\n) AS basic_DOT_dimension_DOT_users\\\\n        ON basic_DOT_transform_DOT_country_agg.country = basic_DOT_dimension_DOT_users.country AND basic_DOT_transform_DOT_country_agg.country = basic_DOT_dimension_DOT_users.country \\\\n GROUP BY  basic_DOT_dimension_DOT_users.country\\\"\\n)\";\n",
       "                var nbb_cells = Jupyter.notebook.get_cells();\n",
       "                for (var i = 0; i < nbb_cells.length; ++i) {\n",
       "                    if (nbb_cells[i].input_prompt_number == nbb_cell_id) {\n",
       "                        if (nbb_cells[i].get_text() == nbb_unformatted_code) {\n",
       "                             nbb_cells[i].set_text(nbb_formatted_code);\n",
       "                        }\n",
       "                        break;\n",
       "                    }\n",
       "                }\n",
       "            }, 500);\n",
       "            "
      ],
      "text/plain": [
       "<IPython.core.display.Javascript object>"
      ]
     },
     "metadata": {},
     "output_type": "display_data"
    }
   ],
   "source": [
    "print(\n",
    "    \"SELECT  basic_DOT_num_users_us.sum_users \\n FROM (SELECT  basic.comments.country,\\n\\tCOUNT(DISTINCT basic.comments.id) AS num_users \\n FROM basic.comments\\n \\n GROUP BY  basic.comments.country) AS basic_DOT_transform_DOT_country_agg, basic.comments, (SELECT  SUM(a.num_users) AS sum_users,\\n\\ta.country,\\n\\ta.num_users,\\n\\tb.id,\\n\\tb.full_name,\\n\\tb.age,\\n\\tb.country,\\n\\tb.gender,\\n\\tb.preferred_language,\\n\\tb.secret_number \\n FROM (SELECT  basic.comments.country,\\n\\tCOUNT(DISTINCT basic.comments.id) AS num_users \\n FROM basic.comments\\n \\n GROUP BY  basic.comments.country) AS basic_DOT_transform_DOT_country_agg\\nINNER JOIN basic.comments AS b\\n        ON basic_DOT_transform_DOT_country_agg.country = b.country \\n WHERE  a.country = 'US' \\n) AS basic_DOT_num_users_us\\nLEFT JOIN (SELECT  basic.comments.id,\\n\\tbasic.comments.full_name,\\n\\tbasic.comments.age,\\n\\tbasic.comments.country,\\n\\tbasic.comments.gender,\\n\\tbasic.comments.preferred_language,\\n\\tbasic.comments.secret_number \\n FROM basic.comments\\n \\n) AS basic_DOT_dimension_DOT_users\\n        ON basic_DOT_transform_DOT_country_agg.country = basic_DOT_dimension_DOT_users.country AND basic_DOT_transform_DOT_country_agg.country = basic_DOT_dimension_DOT_users.country \\n GROUP BY  basic_DOT_dimension_DOT_users.country\")"
   ]
  },
  {
   "cell_type": "code",
   "execution_count": 6,
   "id": "8243e985",
   "metadata": {},
   "outputs": [
    {
     "data": {
      "application/javascript": [
       "\n",
       "            setTimeout(function() {\n",
       "                var nbb_cell_id = 6;\n",
       "                var nbb_unformatted_code = \"query = \\\"\\\"\\\"\\nSELECT Avg(n_comments),\\n       Avg(n_users),\\n       age\\nFROM   (SELECT basic.num_comments            AS n_comments,\\n               basic.num_users               AS n_users,\\n               basic.dimension.users.country country,\\n               basic.dimension.users.age     AS age\\n        FROM   metrics\\n        GROUP  BY basic.dimension.users.country, basic.dimension.users.country)\\nGROUP  BY age \\n\\\"\\\"\\\"\";\n",
       "                var nbb_formatted_code = \"query = \\\"\\\"\\\"\\nSELECT Avg(n_comments),\\n       Avg(n_users),\\n       age\\nFROM   (SELECT basic.num_comments            AS n_comments,\\n               basic.num_users               AS n_users,\\n               basic.dimension.users.country country,\\n               basic.dimension.users.age     AS age\\n        FROM   metrics\\n        GROUP  BY basic.dimension.users.country, basic.dimension.users.country)\\nGROUP  BY age \\n\\\"\\\"\\\"\";\n",
       "                var nbb_cells = Jupyter.notebook.get_cells();\n",
       "                for (var i = 0; i < nbb_cells.length; ++i) {\n",
       "                    if (nbb_cells[i].input_prompt_number == nbb_cell_id) {\n",
       "                        if (nbb_cells[i].get_text() == nbb_unformatted_code) {\n",
       "                             nbb_cells[i].set_text(nbb_formatted_code);\n",
       "                        }\n",
       "                        break;\n",
       "                    }\n",
       "                }\n",
       "            }, 500);\n",
       "            "
      ],
      "text/plain": [
       "<IPython.core.display.Javascript object>"
      ]
     },
     "metadata": {},
     "output_type": "display_data"
    }
   ],
   "source": [
    "query = \"\"\"\n",
    "SELECT Avg(n_comments),\n",
    "       Avg(n_users),\n",
    "       age\n",
    "FROM   (SELECT basic.num_comments            AS n_comments,\n",
    "               basic.num_users               AS n_users,\n",
    "               basic.dimension.users.country country,\n",
    "               basic.dimension.users.age     AS age\n",
    "        FROM   metrics\n",
    "        GROUP  BY basic.dimension.users.country, basic.dimension.users.country)\n",
    "GROUP  BY age \n",
    "\"\"\""
   ]
  },
  {
   "cell_type": "code",
   "execution_count": 7,
   "id": "e342a60b",
   "metadata": {},
   "outputs": [
    {
     "data": {
      "application/javascript": [
       "\n",
       "            setTimeout(function() {\n",
       "                var nbb_cell_id = 7;\n",
       "                var nbb_unformatted_code = \"\\\"\\\"\\\"\\nFunctions for making queries directly against DJ\\n\\\"\\\"\\\"\\n\\nfrom typing import Optional, Tuple, cast\\n\\nfrom sqlmodel import Session\\n\\nfrom dj.construction.build import build_ast_for_database\\nfrom dj.construction.utils import amenable_name, get_dj_node, make_name\\nfrom dj.models.database import Database\\nfrom dj.models.node import NodeType\\nfrom dj.sql.parsing import ast\\nfrom dj.sql.parsing.backends.exceptions import DJParseException\\nfrom dj.sql.parsing.backends.sqloxide import parse\\n\\n\\nasync def build_dj_metric_query(  # pylint: disable=R0914,R0912\\n    session: Session,\\n    query: str,\\n    dialect: Optional[str] = None,\\n    database_id: Optional[int] = None,\\n) -> Tuple[ast.Query, Database]:\\n    \\\"\\\"\\\"\\n    Build a dj query in SQL that may include dj metrics\\n    \\\"\\\"\\\"\\n    query_ast = parse(query, dialect)\\n    select = query_ast._to_select()  # pylint: disable=W0212\\n\\n    # we check all columns looking for metric nodes\\n    for col in select.find_all(ast.Column):\\n        froms = []\\n        col_name = make_name(col.namespace, col.name.name)\\n        if metric_node := get_dj_node(\\n            session,\\n            col_name,\\n            {NodeType.METRIC},\\n            raise_=False,\\n        ):\\n            # if we found a metric node we need to check where it came from\\n            parent_select = cast(ast.Select, col.get_nearest_parent_of_type(ast.Select))\\n            if not getattr(parent_select, \\\"_validated\\\", False):\\n                if len(parent_select.from_.tables) != 1 or parent_select.from_.joins:\\n                    raise DJParseException(\\n                        \\\"Any SELECT referencing a Metric must source \\\"\\n                        \\\"from a single unaliased Table named `metrics`.\\\",\\n                    )\\n                metrics_ref = parent_select.from_.tables[0]\\n                try:\\n                    metrics_ref_name = make_name(\\n                        metrics_ref.namespace,  # type: ignore\\n                        metrics_ref.name.name,  # type: ignore\\n                    )\\n                except AttributeError:\\n                    metrics_ref_name = \\\"\\\"\\n                if metrics_ref_name != \\\"metrics\\\":\\n                    raise DJParseException(\\n                        \\\"The name of the table in a Metric query must be `metrics`.\\\",\\n                    )\\n                parent_select.from_ = ast.From([])\\n                parent_select._validated = True  # pylint: disable=W0212\\n\\n            # we have a metric from `metrics`\\n            metric_name = amenable_name(metric_node.name)\\n            metric_select = parse(  # pylint: disable=W0212\\n                cast(str, metric_node.query),\\n            )._to_select()\\n            metric_select.add_aliases_to_unnamed_columns()\\n            import pdb; pdb.set_trace()\\n            tables = metric_select.from_.tables + [\\n                join.table for join in metric_select.from_.joins\\n            ]\\n            # we go through all the dep nodes directly in the metric's from\\n            # we need to surface the node itself to join potential dims\\n            # and to surface the node we need to source all its columns\\n            # - in the metric for an implicit join\\n            for table in tables:\\n                if isinstance(table, ast.Select):\\n                    continue\\n                if isinstance(table, ast.Alias):\\n                    if isinstance(table.child, ast.Select):\\n                        continue\\n                    table = table.child\\n                table_name = make_name(table.namespace, table.name.name)\\n                if table_node := get_dj_node(\\n                    session,\\n                    table_name,\\n                    {NodeType.SOURCE, NodeType.TRANSFORM, NodeType.DIMENSION},\\n                    raise_=False,\\n                ):\\n                    metric_select.projection += [\\n                        ast.Column(ast.Name(col.name)) for col in table_node.columns\\n                    ]\\n                    froms.append(table.copy())\\n\\n            metric_table_expression = ast.Alias(\\n                ast.Name(metric_name),\\n                None,\\n                metric_select,\\n            )\\n            froms.append(metric_table_expression)  # type: ignore\\n            metric_column = ast.Column(\\n                ast.Name(metric_node.columns[0].name),\\n                _table=metric_table_expression,\\n            )\\n            parent_select.replace(col, metric_column)\\n            parent_select.from_.tables += froms\\n\\n    # make the ast aware of all dimensions that are mentioned\\n    # that have come from the api\\n    for col in select.find_all(ast.Column):\\n        col_name = make_name(col.namespace)\\n        if get_dj_node(session, col_name, {NodeType.DIMENSION}, raise_=False):\\n            col.set_api_column(True)\\n\\n    return await build_ast_for_database(\\n        session,\\n        query=ast.Query(select),\\n        dialect=dialect,\\n        database_id=database_id,\\n    )\";\n",
       "                var nbb_formatted_code = \"\\\"\\\"\\\"\\nFunctions for making queries directly against DJ\\n\\\"\\\"\\\"\\n\\nfrom typing import Optional, Tuple, cast\\n\\nfrom sqlmodel import Session\\n\\nfrom dj.construction.build import build_ast_for_database\\nfrom dj.construction.utils import amenable_name, get_dj_node, make_name\\nfrom dj.models.database import Database\\nfrom dj.models.node import NodeType\\nfrom dj.sql.parsing import ast\\nfrom dj.sql.parsing.backends.exceptions import DJParseException\\nfrom dj.sql.parsing.backends.sqloxide import parse\\n\\n\\nasync def build_dj_metric_query(  # pylint: disable=R0914,R0912\\n    session: Session,\\n    query: str,\\n    dialect: Optional[str] = None,\\n    database_id: Optional[int] = None,\\n) -> Tuple[ast.Query, Database]:\\n    \\\"\\\"\\\"\\n    Build a dj query in SQL that may include dj metrics\\n    \\\"\\\"\\\"\\n    query_ast = parse(query, dialect)\\n    select = query_ast._to_select()  # pylint: disable=W0212\\n\\n    # we check all columns looking for metric nodes\\n    for col in select.find_all(ast.Column):\\n        froms = []\\n        col_name = make_name(col.namespace, col.name.name)\\n        if metric_node := get_dj_node(\\n            session,\\n            col_name,\\n            {NodeType.METRIC},\\n            raise_=False,\\n        ):\\n            # if we found a metric node we need to check where it came from\\n            parent_select = cast(ast.Select, col.get_nearest_parent_of_type(ast.Select))\\n            if not getattr(parent_select, \\\"_validated\\\", False):\\n                if len(parent_select.from_.tables) != 1 or parent_select.from_.joins:\\n                    raise DJParseException(\\n                        \\\"Any SELECT referencing a Metric must source \\\"\\n                        \\\"from a single unaliased Table named `metrics`.\\\",\\n                    )\\n                metrics_ref = parent_select.from_.tables[0]\\n                try:\\n                    metrics_ref_name = make_name(\\n                        metrics_ref.namespace,  # type: ignore\\n                        metrics_ref.name.name,  # type: ignore\\n                    )\\n                except AttributeError:\\n                    metrics_ref_name = \\\"\\\"\\n                if metrics_ref_name != \\\"metrics\\\":\\n                    raise DJParseException(\\n                        \\\"The name of the table in a Metric query must be `metrics`.\\\",\\n                    )\\n                parent_select.from_ = ast.From([])\\n                parent_select._validated = True  # pylint: disable=W0212\\n\\n            # we have a metric from `metrics`\\n            metric_name = amenable_name(metric_node.name)\\n            metric_select = parse(  # pylint: disable=W0212\\n                cast(str, metric_node.query),\\n            )._to_select()\\n            metric_select.add_aliases_to_unnamed_columns()\\n            import pdb\\n\\n            pdb.set_trace()\\n            tables = metric_select.from_.tables + [\\n                join.table for join in metric_select.from_.joins\\n            ]\\n            # we go through all the dep nodes directly in the metric's from\\n            # we need to surface the node itself to join potential dims\\n            # and to surface the node we need to source all its columns\\n            # - in the metric for an implicit join\\n            for table in tables:\\n                if isinstance(table, ast.Select):\\n                    continue\\n                if isinstance(table, ast.Alias):\\n                    if isinstance(table.child, ast.Select):\\n                        continue\\n                    table = table.child\\n                table_name = make_name(table.namespace, table.name.name)\\n                if table_node := get_dj_node(\\n                    session,\\n                    table_name,\\n                    {NodeType.SOURCE, NodeType.TRANSFORM, NodeType.DIMENSION},\\n                    raise_=False,\\n                ):\\n                    metric_select.projection += [\\n                        ast.Column(ast.Name(col.name)) for col in table_node.columns\\n                    ]\\n                    froms.append(table.copy())\\n\\n            metric_table_expression = ast.Alias(\\n                ast.Name(metric_name),\\n                None,\\n                metric_select,\\n            )\\n            froms.append(metric_table_expression)  # type: ignore\\n            metric_column = ast.Column(\\n                ast.Name(metric_node.columns[0].name),\\n                _table=metric_table_expression,\\n            )\\n            parent_select.replace(col, metric_column)\\n            parent_select.from_.tables += froms\\n\\n    # make the ast aware of all dimensions that are mentioned\\n    # that have come from the api\\n    for col in select.find_all(ast.Column):\\n        col_name = make_name(col.namespace)\\n        if get_dj_node(session, col_name, {NodeType.DIMENSION}, raise_=False):\\n            col.set_api_column(True)\\n\\n    return await build_ast_for_database(\\n        session,\\n        query=ast.Query(select),\\n        dialect=dialect,\\n        database_id=database_id,\\n    )\";\n",
       "                var nbb_cells = Jupyter.notebook.get_cells();\n",
       "                for (var i = 0; i < nbb_cells.length; ++i) {\n",
       "                    if (nbb_cells[i].input_prompt_number == nbb_cell_id) {\n",
       "                        if (nbb_cells[i].get_text() == nbb_unformatted_code) {\n",
       "                             nbb_cells[i].set_text(nbb_formatted_code);\n",
       "                        }\n",
       "                        break;\n",
       "                    }\n",
       "                }\n",
       "            }, 500);\n",
       "            "
      ],
      "text/plain": [
       "<IPython.core.display.Javascript object>"
      ]
     },
     "metadata": {},
     "output_type": "display_data"
    }
   ],
   "source": [
    "\"\"\"\n",
    "Functions for making queries directly against DJ\n",
    "\"\"\"\n",
    "\n",
    "from typing import Optional, Tuple, cast\n",
    "\n",
    "from sqlmodel import Session\n",
    "\n",
    "from dj.construction.build import build_ast_for_database\n",
    "from dj.construction.utils import amenable_name, get_dj_node, make_name\n",
    "from dj.models.database import Database\n",
    "from dj.models.node import NodeType\n",
    "from dj.sql.parsing import ast\n",
    "from dj.sql.parsing.backends.exceptions import DJParseException\n",
    "from dj.sql.parsing.backends.sqloxide import parse\n",
    "\n",
    "\n",
    "async def build_dj_metric_query(  # pylint: disable=R0914,R0912\n",
    "    session: Session,\n",
    "    query: str,\n",
    "    dialect: Optional[str] = None,\n",
    "    database_id: Optional[int] = None,\n",
    ") -> Tuple[ast.Query, Database]:\n",
    "    \"\"\"\n",
    "    Build a dj query in SQL that may include dj metrics\n",
    "    \"\"\"\n",
    "    query_ast = parse(query, dialect)\n",
    "    select = query_ast._to_select()  # pylint: disable=W0212\n",
    "    # we check all columns looking for metric nodes\n",
    "    for col in select.find_all(ast.Column):\n",
    "        froms = []\n",
    "        col_name = make_name(col.namespace, col.name.name)\n",
    "        if metric_node := get_dj_node(\n",
    "            session,\n",
    "            col_name,\n",
    "            {NodeType.METRIC},\n",
    "            raise_=False,\n",
    "        ):\n",
    "            # if we found a metric node we need to check where it came from\n",
    "            parent_select = cast(ast.Select, col.get_nearest_parent_of_type(ast.Select))\n",
    "            if not getattr(parent_select, \"_validated\", False):# we haven't seen this\n",
    "                if len(parent_select.from_.tables) != 1 or parent_select.from_.joins:\n",
    "                    raise DJParseException(\n",
    "                        \"Any SELECT referencing a Metric must source \"\n",
    "                        \"from a single unaliased Table named `metrics`.\",\n",
    "                    )\n",
    "                metrics_ref = parent_select.from_.tables[0]\n",
    "                try:\n",
    "                    metrics_ref_name = make_name(\n",
    "                        metrics_ref.namespace,  # type: ignore\n",
    "                        metrics_ref.name.name,  # type: ignore\n",
    "                    )\n",
    "                except AttributeError:\n",
    "                    metrics_ref_name = \"\"\n",
    "                if metrics_ref_name != \"metrics\":\n",
    "                    raise DJParseException(\n",
    "                        \"The name of the table in a Metric query must be `metrics`.\",\n",
    "                    )\n",
    "                parent_select.from_ = ast.From([])# clear the FROM to prep it for the actual tables\n",
    "                parent_select._validated = True  # pylint: disable=W0212\n",
    "\n",
    "            # we have a metric from `metrics`\n",
    "            metric_name = amenable_name(metric_node.name)\n",
    "            metric_select = parse(  # pylint: disable=W0212\n",
    "                cast(str, metric_node.query),\n",
    "            )._to_select()\n",
    "            tables = metric_select.from_.tables + [\n",
    "                join.table for join in metric_select.from_.joins\n",
    "            ]\n",
    "            # we go through all the dep nodes directly in the metric's from\n",
    "            # we need to surface the node itself to join potential dims\n",
    "            # and to surface the node we need to source all its columns\n",
    "            # - in the metric for an implicit join\n",
    "            for table in tables:\n",
    "                if isinstance(table, ast.Select):\n",
    "                    continue#pragma: no cover\n",
    "                if isinstance(table, ast.Alias):\n",
    "                    if isinstance(table.child, ast.Select):\n",
    "                        continue\n",
    "                    table = table.child\n",
    "                table_name = make_name(table.namespace, table.name.name)\n",
    "                if table_node := get_dj_node(\n",
    "                    session,\n",
    "                    table_name,\n",
    "                    {NodeType.SOURCE, NodeType.TRANSFORM, NodeType.DIMENSION},\n",
    "                    raise_=False,\n",
    "                ):\n",
    "                    metric_select.projection += [\n",
    "                        ast.Column(ast.Name(col.name)) for col in table_node.columns\n",
    "                    ]\n",
    "                    froms.append(table.copy())\n",
    "\n",
    "            metric_table_expression = ast.Alias(\n",
    "                ast.Name(metric_name),\n",
    "                None,\n",
    "                metric_select,\n",
    "            )\n",
    "            froms.append(metric_table_expression)  # type: ignore\n",
    "            metric_column = ast.Column(\n",
    "                ast.Name(metric_node.columns[0].name),\n",
    "                _table=metric_table_expression,\n",
    "            )\n",
    "            parent_select.replace(col, metric_column)\n",
    "            parent_select.from_.tables += froms\n",
    "\n",
    "    # make the ast aware of all dimensions that are mentioned\n",
    "    # that have come from the api\n",
    "    for col in select.find_all(ast.Column):\n",
    "        col_name = make_name(col.namespace)\n",
    "        if get_dj_node(session, col_name, {NodeType.DIMENSION}, raise_=False):\n",
    "            col.set_api_column(True)\n",
    "\n",
    "    return await build_ast_for_database(\n",
    "        session,\n",
    "        query=ast.Query(select),\n",
    "        dialect=dialect,\n",
    "        database_id=database_id,\n",
    "    )\n"
   ]
  },
  {
   "cell_type": "code",
   "execution_count": 8,
   "id": "5178e00a",
   "metadata": {},
   "outputs": [
    {
     "name": "stdout",
     "output_type": "stream",
     "text": [
      "Automatic pdb calling has been turned ON\n"
     ]
    },
    {
     "data": {
      "application/javascript": [
       "\n",
       "            setTimeout(function() {\n",
       "                var nbb_cell_id = 8;\n",
       "                var nbb_unformatted_code = \"%pdb\";\n",
       "                var nbb_formatted_code = \"%pdb\";\n",
       "                var nbb_cells = Jupyter.notebook.get_cells();\n",
       "                for (var i = 0; i < nbb_cells.length; ++i) {\n",
       "                    if (nbb_cells[i].input_prompt_number == nbb_cell_id) {\n",
       "                        if (nbb_cells[i].get_text() == nbb_unformatted_code) {\n",
       "                             nbb_cells[i].set_text(nbb_formatted_code);\n",
       "                        }\n",
       "                        break;\n",
       "                    }\n",
       "                }\n",
       "            }, 500);\n",
       "            "
      ],
      "text/plain": [
       "<IPython.core.display.Javascript object>"
      ]
     },
     "metadata": {},
     "output_type": "display_data"
    }
   ],
   "source": [
    "%pdb"
   ]
  },
  {
   "cell_type": "code",
   "execution_count": 8,
   "id": "791d0ac0",
   "metadata": {},
   "outputs": [
    {
     "name": "stderr",
     "output_type": "stream",
     "text": [
      "/usr/local/lib/python3.10/site-packages/sqlmodel/orm/session.py:60: SAWarning: relationship 'Node.cubes' will copy column node.id to column noderevision.node_id, which conflicts with relationship(s): 'Node.revisions' (copies node.id to noderevision.node_id). If this is not the intention, consider if these relationships should be linked with back_populates, or if viewonly=True should be applied to one or more if they are read-only. For the less common case that foreign key constraints are partially overlapping, the orm.foreign() annotation can be used to isolate the columns that should be written towards.   To silence this warning, add the parameter 'overlaps=\"revisions\"' to the 'Node.cubes' relationship. (Background on this error at: https://sqlalche.me/e/14/qzyx)\n",
      "  results = super().execute(\n",
      "/usr/local/lib/python3.10/site-packages/sqlmodel/orm/session.py:60: SAWarning: relationship 'NodeRevision.node' will copy column node.id to column noderevision.node_id, which conflicts with relationship(s): 'Node.cubes' (copies node.id to noderevision.node_id). If this is not the intention, consider if these relationships should be linked with back_populates, or if viewonly=True should be applied to one or more if they are read-only. For the less common case that foreign key constraints are partially overlapping, the orm.foreign() annotation can be used to isolate the columns that should be written towards.   To silence this warning, add the parameter 'overlaps=\"cubes\"' to the 'NodeRevision.node' relationship. (Background on this error at: https://sqlalche.me/e/14/qzyx)\n",
      "  results = super().execute(\n",
      "/usr/local/lib/python3.10/site-packages/sqlmodel/orm/session.py:60: SAWarning: relationship 'NodeRevision.parent_links' will copy column noderevision.id to column noderelationship.child_id, which conflicts with relationship(s): 'Node.children' (copies noderevision.id to noderelationship.child_id), 'NodeRevision.parents' (copies noderevision.id to noderelationship.child_id). If this is not the intention, consider if these relationships should be linked with back_populates, or if viewonly=True should be applied to one or more if they are read-only. For the less common case that foreign key constraints are partially overlapping, the orm.foreign() annotation can be used to isolate the columns that should be written towards.   To silence this warning, add the parameter 'overlaps=\"children,parents\"' to the 'NodeRevision.parent_links' relationship. (Background on this error at: https://sqlalche.me/e/14/qzyx)\n",
      "  results = super().execute(\n"
     ]
    },
    {
     "name": "stdout",
     "output_type": "stream",
     "text": [
      "> \u001b[0;32m/tmp/ipykernel_208/3252020500.py\u001b[0m(70)\u001b[0;36mbuild_dj_metric_query\u001b[0;34m()\u001b[0m\n",
      "\u001b[0;32m     68 \u001b[0;31m            \u001b[0mmetric_select\u001b[0m\u001b[0;34m.\u001b[0m\u001b[0madd_aliases_to_unnamed_columns\u001b[0m\u001b[0;34m(\u001b[0m\u001b[0;34m)\u001b[0m\u001b[0;34m\u001b[0m\u001b[0;34m\u001b[0m\u001b[0m\n",
      "\u001b[0m\u001b[0;32m     69 \u001b[0;31m            \u001b[0;32mimport\u001b[0m \u001b[0mpdb\u001b[0m\u001b[0;34m;\u001b[0m \u001b[0mpdb\u001b[0m\u001b[0;34m.\u001b[0m\u001b[0mset_trace\u001b[0m\u001b[0;34m(\u001b[0m\u001b[0;34m)\u001b[0m\u001b[0;34m\u001b[0m\u001b[0;34m\u001b[0m\u001b[0m\n",
      "\u001b[0m\u001b[0;32m---> 70 \u001b[0;31m            tables = metric_select.from_.tables + [\n",
      "\u001b[0m\u001b[0;32m     71 \u001b[0;31m                \u001b[0mjoin\u001b[0m\u001b[0;34m.\u001b[0m\u001b[0mtable\u001b[0m \u001b[0;32mfor\u001b[0m \u001b[0mjoin\u001b[0m \u001b[0;32min\u001b[0m \u001b[0mmetric_select\u001b[0m\u001b[0;34m.\u001b[0m\u001b[0mfrom_\u001b[0m\u001b[0;34m.\u001b[0m\u001b[0mjoins\u001b[0m\u001b[0;34m\u001b[0m\u001b[0;34m\u001b[0m\u001b[0m\n",
      "\u001b[0m\u001b[0;32m     72 \u001b[0;31m            ]\n",
      "\u001b[0m\n",
      "ipdb> c\n",
      "> \u001b[0;32m/tmp/ipykernel_208/3252020500.py\u001b[0m(70)\u001b[0;36mbuild_dj_metric_query\u001b[0;34m()\u001b[0m\n",
      "\u001b[0;32m     68 \u001b[0;31m            \u001b[0mmetric_select\u001b[0m\u001b[0;34m.\u001b[0m\u001b[0madd_aliases_to_unnamed_columns\u001b[0m\u001b[0;34m(\u001b[0m\u001b[0;34m)\u001b[0m\u001b[0;34m\u001b[0m\u001b[0;34m\u001b[0m\u001b[0m\n",
      "\u001b[0m\u001b[0;32m     69 \u001b[0;31m            \u001b[0;32mimport\u001b[0m \u001b[0mpdb\u001b[0m\u001b[0;34m;\u001b[0m \u001b[0mpdb\u001b[0m\u001b[0;34m.\u001b[0m\u001b[0mset_trace\u001b[0m\u001b[0;34m(\u001b[0m\u001b[0;34m)\u001b[0m\u001b[0;34m\u001b[0m\u001b[0;34m\u001b[0m\u001b[0m\n",
      "\u001b[0m\u001b[0;32m---> 70 \u001b[0;31m            tables = metric_select.from_.tables + [\n",
      "\u001b[0m\u001b[0;32m     71 \u001b[0;31m                \u001b[0mjoin\u001b[0m\u001b[0;34m.\u001b[0m\u001b[0mtable\u001b[0m \u001b[0;32mfor\u001b[0m \u001b[0mjoin\u001b[0m \u001b[0;32min\u001b[0m \u001b[0mmetric_select\u001b[0m\u001b[0;34m.\u001b[0m\u001b[0mfrom_\u001b[0m\u001b[0;34m.\u001b[0m\u001b[0mjoins\u001b[0m\u001b[0;34m\u001b[0m\u001b[0;34m\u001b[0m\u001b[0m\n",
      "\u001b[0m\u001b[0;32m     72 \u001b[0;31m            ]\n",
      "\u001b[0m\n",
      "ipdb> c\n"
     ]
    },
    {
     "data": {
      "application/javascript": [
       "\n",
       "            setTimeout(function() {\n",
       "                var nbb_cell_id = 8;\n",
       "                var nbb_unformatted_code = \"a, db = await build_dj_metric_query(session, query)\";\n",
       "                var nbb_formatted_code = \"a, db = await build_dj_metric_query(session, query)\";\n",
       "                var nbb_cells = Jupyter.notebook.get_cells();\n",
       "                for (var i = 0; i < nbb_cells.length; ++i) {\n",
       "                    if (nbb_cells[i].input_prompt_number == nbb_cell_id) {\n",
       "                        if (nbb_cells[i].get_text() == nbb_unformatted_code) {\n",
       "                             nbb_cells[i].set_text(nbb_formatted_code);\n",
       "                        }\n",
       "                        break;\n",
       "                    }\n",
       "                }\n",
       "            }, 500);\n",
       "            "
      ],
      "text/plain": [
       "<IPython.core.display.Javascript object>"
      ]
     },
     "metadata": {},
     "output_type": "display_data"
    }
   ],
   "source": [
    "a, db = await build_dj_metric_query(session, query)"
   ]
  },
  {
   "cell_type": "code",
   "execution_count": 9,
   "id": "266393bd",
   "metadata": {},
   "outputs": [
    {
     "name": "stdout",
     "output_type": "stream",
     "text": [
      "SELECT  Avg(n_comments) AS \"_col0\",\n",
      "\tAvg(n_users) AS \"_col1\",\n",
      "\tage \n",
      " FROM (SELECT  basic_DOT_num_comments.cnt AS n_comments,\n",
      "\tbasic_DOT_num_users._col0 AS n_users,\n",
      "\tbasic_DOT_dimension_DOT_users.country AS country,\n",
      "\tbasic_DOT_dimension_DOT_users.age AS age \n",
      " FROM comments, (SELECT  COUNT(1) AS cnt,\n",
      "\tcomments.id,\n",
      "\tcomments.user_id,\n",
      "\tcomments.timestamp,\n",
      "\tcomments.text \n",
      " FROM comments\n",
      " \n",
      ") AS basic_DOT_num_comments, (SELECT  users.country,\n",
      "\tCOUNT(DISTINCT users.id) AS num_users \n",
      " FROM users\n",
      " \n",
      " GROUP BY  1) AS basic_DOT_transform_DOT_country_agg, (SELECT  SUM(basic_DOT_transform_DOT_country_agg.num_users) AS \"_col0\",\n",
      "\tbasic_DOT_transform_DOT_country_agg.country,\n",
      "\tbasic_DOT_transform_DOT_country_agg.num_users \n",
      " FROM (SELECT  users.country,\n",
      "\tCOUNT(DISTINCT users.id) AS num_users \n",
      " FROM users\n",
      " \n",
      " GROUP BY  1) AS basic_DOT_transform_DOT_country_agg\n",
      " \n",
      ") AS basic_DOT_num_users\n",
      "LEFT JOIN (SELECT  users.id,\n",
      "\tusers.full_name,\n",
      "\tusers.age,\n",
      "\tusers.country,\n",
      "\tusers.gender,\n",
      "\tusers.preferred_language,\n",
      "\tusers.secret_number \n",
      " FROM users\n",
      " \n",
      ") AS basic_DOT_dimension_DOT_users\n",
      "        ON comments.user_id = basic_DOT_dimension_DOT_users.id AND comments.user_id = basic_DOT_dimension_DOT_users.id \n",
      " GROUP BY  basic_DOT_dimension_DOT_users.country, basic_DOT_dimension_DOT_users.country)\n",
      " \n",
      " GROUP BY  age\n"
     ]
    },
    {
     "data": {
      "application/javascript": [
       "\n",
       "            setTimeout(function() {\n",
       "                var nbb_cell_id = 9;\n",
       "                var nbb_unformatted_code = \"print(a)\";\n",
       "                var nbb_formatted_code = \"print(a)\";\n",
       "                var nbb_cells = Jupyter.notebook.get_cells();\n",
       "                for (var i = 0; i < nbb_cells.length; ++i) {\n",
       "                    if (nbb_cells[i].input_prompt_number == nbb_cell_id) {\n",
       "                        if (nbb_cells[i].get_text() == nbb_unformatted_code) {\n",
       "                             nbb_cells[i].set_text(nbb_formatted_code);\n",
       "                        }\n",
       "                        break;\n",
       "                    }\n",
       "                }\n",
       "            }, 500);\n",
       "            "
      ],
      "text/plain": [
       "<IPython.core.display.Javascript object>"
      ]
     },
     "metadata": {},
     "output_type": "display_data"
    }
   ],
   "source": [
    "print(a)"
   ]
  },
  {
   "cell_type": "code",
   "execution_count": null,
   "id": "1e572f1e",
   "metadata": {},
   "outputs": [],
   "source": []
  },
  {
   "cell_type": "code",
   "execution_count": null,
   "id": "7a9afc47",
   "metadata": {},
   "outputs": [],
   "source": []
  },
  {
   "cell_type": "code",
   "execution_count": null,
   "id": "e685e751",
   "metadata": {},
   "outputs": [],
   "source": []
  },
  {
   "cell_type": "code",
   "execution_count": null,
   "id": "7cc52f6f",
   "metadata": {},
   "outputs": [],
   "source": []
  },
  {
   "cell_type": "code",
   "execution_count": 11,
   "id": "d568a07c",
   "metadata": {},
   "outputs": [
    {
     "data": {
      "application/javascript": [
       "\n",
       "            setTimeout(function() {\n",
       "                var nbb_cell_id = 11;\n",
       "                var nbb_unformatted_code = \"async def build_dj_query(\\n    session: Session,\\n    query: str,\\n    dialect: Optional[str] = None,\\n    database_id: Optional[int] = None,\\n) -> Tuple[ast.Query, Database]:\\n    \\\"\\\"\\\"\\n    Build a dj query\\n    \\\"\\\"\\\"\\n    query_ast = parse(query, dialect)\\n    select = query_ast._to_select()\\n\\n    for col in select.find_all(ast.Column):\\n        froms = []\\n        col_name = make_name(col.namespace, col.name.name)\\n        if metric_node := get_dj_node(\\n            session, col_name, {NodeType.METRIC}, raise_=False\\n        ):\\n            parent_select = col.get_nearest_parent_of_type(ast.Select)\\n            if not getattr(parent_select, \\\"_validated\\\", False):\\n                if len(parent_select.from_.tables) != 1 or parent_select.from_.joins:\\n                    raise DJParseException(\\n                        \\\"Any SELECT referencing a Metric must source from a single unaliased Table named 'metrics.'.\\\"\\n                    )\\n                metrics_ref = parent_select.from_.tables[0]\\n                metrics_ref_name = make_name(\\n                    metrics_ref.namespace, metrics_ref.name.name\\n                )\\n                if metrics_ref_name != \\\"metrics\\\":\\n                    raise DJParseException(\\n                        \\\"The name of the table for a Metric select must be 'metrics'.\\\"\\n                    )\\n                parent_select.from_ = ast.From([])\\n                parent_select._validated = True\\n\\n            metric_name = amenable_name(metric_node.name)\\n            metric_select = parse(metric_node.query)._to_select()\\n            tables = metric_select.from_.tables + [\\n                join.table for join in metric_select.from_.joins\\n            ]\\n            for table in tables:\\n                if isinstance(table, ast.Select):\\n                    continue\\n                if isinstance(table, ast.Alias):\\n                    if isinstance(table.child, ast.Select):\\n                        continue\\n                    table = table.child\\n                table_name = make_name(table.namespace, table.name.name)\\n                if table_node := get_dj_node(\\n                    session,\\n                    table_name,\\n                    {NodeType.SOURCE, NodeType.TRANSFORM, NodeType.DIMENSION},\\n                    raise_=False,\\n                ):\\n                    metric_select.projection += [\\n                        ast.Column(ast.Name(col.name)) for col in table_node.columns\\n                    ]\\n                    froms.append(table.copy())\\n\\n            metric_table_expression = ast.Alias(\\n                ast.Name(metric_name), None, metric_select\\n            )\\n            froms.append(metric_table_expression)\\n            metric_column = ast.Column(\\n                ast.Name(metric_node.columns[0].name), _table=metric_table_expression\\n            )\\n            parent_select.replace(col, metric_column)\\n            parent_select.from_.tables += froms\\n\\n    for col in select.find_all(ast.Column):\\n        col_name = make_name(col.namespace)\\n        if get_dj_node(session, col_name, {NodeType.DIMENSION}, raise_=False):\\n            col.set_api_column(True)\\n\\n    return await build_ast_for_database(\\n        session, query=ast.Query(select), dialect=dialect, database_id=database_id\\n    )\";\n",
       "                var nbb_formatted_code = \"async def build_dj_query(\\n    session: Session,\\n    query: str,\\n    dialect: Optional[str] = None,\\n    database_id: Optional[int] = None,\\n) -> Tuple[ast.Query, Database]:\\n    \\\"\\\"\\\"\\n    Build a dj query\\n    \\\"\\\"\\\"\\n    query_ast = parse(query, dialect)\\n    select = query_ast._to_select()\\n\\n    for col in select.find_all(ast.Column):\\n        froms = []\\n        col_name = make_name(col.namespace, col.name.name)\\n        if metric_node := get_dj_node(\\n            session, col_name, {NodeType.METRIC}, raise_=False\\n        ):\\n            parent_select = col.get_nearest_parent_of_type(ast.Select)\\n            if not getattr(parent_select, \\\"_validated\\\", False):\\n                if len(parent_select.from_.tables) != 1 or parent_select.from_.joins:\\n                    raise DJParseException(\\n                        \\\"Any SELECT referencing a Metric must source from a single unaliased Table named 'metrics.'.\\\"\\n                    )\\n                metrics_ref = parent_select.from_.tables[0]\\n                metrics_ref_name = make_name(\\n                    metrics_ref.namespace, metrics_ref.name.name\\n                )\\n                if metrics_ref_name != \\\"metrics\\\":\\n                    raise DJParseException(\\n                        \\\"The name of the table for a Metric select must be 'metrics'.\\\"\\n                    )\\n                parent_select.from_ = ast.From([])\\n                parent_select._validated = True\\n\\n            metric_name = amenable_name(metric_node.name)\\n            metric_select = parse(metric_node.query)._to_select()\\n            tables = metric_select.from_.tables + [\\n                join.table for join in metric_select.from_.joins\\n            ]\\n            for table in tables:\\n                if isinstance(table, ast.Select):\\n                    continue\\n                if isinstance(table, ast.Alias):\\n                    if isinstance(table.child, ast.Select):\\n                        continue\\n                    table = table.child\\n                table_name = make_name(table.namespace, table.name.name)\\n                if table_node := get_dj_node(\\n                    session,\\n                    table_name,\\n                    {NodeType.SOURCE, NodeType.TRANSFORM, NodeType.DIMENSION},\\n                    raise_=False,\\n                ):\\n                    metric_select.projection += [\\n                        ast.Column(ast.Name(col.name)) for col in table_node.columns\\n                    ]\\n                    froms.append(table.copy())\\n\\n            metric_table_expression = ast.Alias(\\n                ast.Name(metric_name), None, metric_select\\n            )\\n            froms.append(metric_table_expression)\\n            metric_column = ast.Column(\\n                ast.Name(metric_node.columns[0].name), _table=metric_table_expression\\n            )\\n            parent_select.replace(col, metric_column)\\n            parent_select.from_.tables += froms\\n\\n    for col in select.find_all(ast.Column):\\n        col_name = make_name(col.namespace)\\n        if get_dj_node(session, col_name, {NodeType.DIMENSION}, raise_=False):\\n            col.set_api_column(True)\\n\\n    return await build_ast_for_database(\\n        session, query=ast.Query(select), dialect=dialect, database_id=database_id\\n    )\";\n",
       "                var nbb_cells = Jupyter.notebook.get_cells();\n",
       "                for (var i = 0; i < nbb_cells.length; ++i) {\n",
       "                    if (nbb_cells[i].input_prompt_number == nbb_cell_id) {\n",
       "                        if (nbb_cells[i].get_text() == nbb_unformatted_code) {\n",
       "                             nbb_cells[i].set_text(nbb_formatted_code);\n",
       "                        }\n",
       "                        break;\n",
       "                    }\n",
       "                }\n",
       "            }, 500);\n",
       "            "
      ],
      "text/plain": [
       "<IPython.core.display.Javascript object>"
      ]
     },
     "metadata": {},
     "output_type": "display_data"
    }
   ],
   "source": [
    "async def build_dj_query(\n",
    "    session: Session,\n",
    "    query: str,\n",
    "    dialect: Optional[str] = None,\n",
    "    database_id: Optional[int] = None,\n",
    ") -> Tuple[ast.Query, Database]:\n",
    "    \"\"\"\n",
    "    Build a dj query\n",
    "    \"\"\"\n",
    "    query_ast = parse(query, dialect)\n",
    "    select = query_ast._to_select()\n",
    "\n",
    "    for col in select.find_all(ast.Column):\n",
    "        froms = []\n",
    "        col_name = make_name(col.namespace, col.name.name)\n",
    "        if metric_node := get_dj_node(\n",
    "            session, col_name, {NodeType.METRIC}, raise_=False\n",
    "        ):\n",
    "            parent_select = col.get_nearest_parent_of_type(ast.Select)\n",
    "            if not getattr(parent_select, \"_validated\", False):\n",
    "                if len(parent_select.from_.tables) != 1 or parent_select.from_.joins:\n",
    "                    raise DJParseException(\n",
    "                        \"Any SELECT referencing a Metric must source from a single unaliased Table named 'metrics.'.\"\n",
    "                    )\n",
    "                metrics_ref = parent_select.from_.tables[0]\n",
    "                metrics_ref_name = make_name(\n",
    "                    metrics_ref.namespace, metrics_ref.name.name\n",
    "                )\n",
    "                if metrics_ref_name != \"metrics\":\n",
    "                    raise DJParseException(\n",
    "                        \"The name of the table for a Metric select must be 'metrics'.\"\n",
    "                    )\n",
    "                parent_select.from_ = ast.From([])\n",
    "                parent_select._validated = True\n",
    "\n",
    "            metric_name = amenable_name(metric_node.name)\n",
    "            metric_select = parse(metric_node.query)._to_select()\n",
    "            tables = metric_select.from_.tables + [\n",
    "                join.table for join in metric_select.from_.joins\n",
    "            ]\n",
    "            for table in tables:\n",
    "                if isinstance(table, ast.Select):\n",
    "                    continue\n",
    "                if isinstance(table, ast.Alias):\n",
    "                    if isinstance(table.child, ast.Select):\n",
    "                        continue\n",
    "                    table = table.child\n",
    "                table_name = make_name(table.namespace, table.name.name)\n",
    "                if table_node := get_dj_node(\n",
    "                    session,\n",
    "                    table_name,\n",
    "                    {NodeType.SOURCE, NodeType.TRANSFORM, NodeType.DIMENSION},\n",
    "                    raise_=False,\n",
    "                ):\n",
    "                    metric_select.projection += [\n",
    "                        ast.Column(ast.Name(col.name)) for col in table_node.columns\n",
    "                    ]\n",
    "                    froms.append(table.copy())\n",
    "\n",
    "            metric_table_expression = ast.Alias(\n",
    "                ast.Name(metric_name), None, metric_select\n",
    "            )\n",
    "            froms.append(metric_table_expression)\n",
    "            metric_column = ast.Column(\n",
    "                ast.Name(metric_node.columns[0].name), _table=metric_table_expression\n",
    "            )\n",
    "            parent_select.replace(col, metric_column)\n",
    "            parent_select.from_.tables += froms\n",
    "\n",
    "    for col in select.find_all(ast.Column):\n",
    "        col_name = make_name(col.namespace)\n",
    "        if get_dj_node(session, col_name, {NodeType.DIMENSION}, raise_=False):\n",
    "            col.set_api_column(True)\n",
    "\n",
    "    return await build_ast_for_database(\n",
    "        session, query=ast.Query(select), dialect=dialect, database_id=database_id\n",
    "    )"
   ]
  },
  {
   "cell_type": "code",
   "execution_count": 12,
   "id": "605ae63d",
   "metadata": {},
   "outputs": [
    {
     "data": {
      "application/javascript": [
       "\n",
       "            setTimeout(function() {\n",
       "                var nbb_cell_id = 12;\n",
       "                var nbb_unformatted_code = \"query_ast, db = await build_dj_query(session, query)\";\n",
       "                var nbb_formatted_code = \"query_ast, db = await build_dj_query(session, query)\";\n",
       "                var nbb_cells = Jupyter.notebook.get_cells();\n",
       "                for (var i = 0; i < nbb_cells.length; ++i) {\n",
       "                    if (nbb_cells[i].input_prompt_number == nbb_cell_id) {\n",
       "                        if (nbb_cells[i].get_text() == nbb_unformatted_code) {\n",
       "                             nbb_cells[i].set_text(nbb_formatted_code);\n",
       "                        }\n",
       "                        break;\n",
       "                    }\n",
       "                }\n",
       "            }, 500);\n",
       "            "
      ],
      "text/plain": [
       "<IPython.core.display.Javascript object>"
      ]
     },
     "metadata": {},
     "output_type": "display_data"
    }
   ],
   "source": [
    "query_ast, db = await build_dj_query(session, query)"
   ]
  },
  {
   "cell_type": "code",
   "execution_count": 13,
   "id": "f1a3e045",
   "metadata": {},
   "outputs": [
    {
     "name": "stdout",
     "output_type": "stream",
     "text": [
      "SELECT  Avg(n_comments),\n",
      "\tage \n",
      " FROM (SELECT  basic_DOT_num_comments.cnt AS n_comments,\n",
      "\tbasic_DOT_dimension_DOT_users.country AS country,\n",
      "\tbasic_DOT_dimension_DOT_users.age AS age \n",
      " FROM comments, (SELECT  COUNT(1) AS cnt,\n",
      "\tcomments.id,\n",
      "\tcomments.user_id,\n",
      "\tcomments.timestamp,\n",
      "\tcomments.text \n",
      " FROM comments\n",
      " \n",
      ") AS basic_DOT_num_comments\n",
      "LEFT JOIN (SELECT  users.id,\n",
      "\tusers.full_name,\n",
      "\tusers.age,\n",
      "\tusers.country,\n",
      "\tusers.gender,\n",
      "\tusers.preferred_language,\n",
      "\tusers.secret_number \n",
      " FROM users\n",
      " \n",
      ") AS basic_DOT_dimension_DOT_users\n",
      "        ON comments.user_id = basic_DOT_dimension_DOT_users.id AND comments.user_id = basic_DOT_dimension_DOT_users.id \n",
      " GROUP BY  basic_DOT_dimension_DOT_users.country, basic_DOT_dimension_DOT_users.country)\n",
      " \n",
      " GROUP BY  age\n"
     ]
    },
    {
     "data": {
      "application/javascript": [
       "\n",
       "            setTimeout(function() {\n",
       "                var nbb_cell_id = 13;\n",
       "                var nbb_unformatted_code = \"print(query_ast)\";\n",
       "                var nbb_formatted_code = \"print(query_ast)\";\n",
       "                var nbb_cells = Jupyter.notebook.get_cells();\n",
       "                for (var i = 0; i < nbb_cells.length; ++i) {\n",
       "                    if (nbb_cells[i].input_prompt_number == nbb_cell_id) {\n",
       "                        if (nbb_cells[i].get_text() == nbb_unformatted_code) {\n",
       "                             nbb_cells[i].set_text(nbb_formatted_code);\n",
       "                        }\n",
       "                        break;\n",
       "                    }\n",
       "                }\n",
       "            }, 500);\n",
       "            "
      ],
      "text/plain": [
       "<IPython.core.display.Javascript object>"
      ]
     },
     "metadata": {},
     "output_type": "display_data"
    }
   ],
   "source": [
    "print(query_ast)"
   ]
  },
  {
   "cell_type": "code",
   "execution_count": 10,
   "id": "a5d3c888",
   "metadata": {},
   "outputs": [
    {
     "data": {
      "application/javascript": [
       "\n",
       "            setTimeout(function() {\n",
       "                var nbb_cell_id = 10;\n",
       "                var nbb_unformatted_code = \"from sqlalchemy.sql import text\";\n",
       "                var nbb_formatted_code = \"from sqlalchemy.sql import text\";\n",
       "                var nbb_cells = Jupyter.notebook.get_cells();\n",
       "                for (var i = 0; i < nbb_cells.length; ++i) {\n",
       "                    if (nbb_cells[i].input_prompt_number == nbb_cell_id) {\n",
       "                        if (nbb_cells[i].get_text() == nbb_unformatted_code) {\n",
       "                             nbb_cells[i].set_text(nbb_formatted_code);\n",
       "                        }\n",
       "                        break;\n",
       "                    }\n",
       "                }\n",
       "            }, 500);\n",
       "            "
      ],
      "text/plain": [
       "<IPython.core.display.Javascript object>"
      ]
     },
     "metadata": {},
     "output_type": "display_data"
    }
   ],
   "source": [
    "from sqlalchemy.sql import text"
   ]
  },
  {
   "cell_type": "code",
   "execution_count": 11,
   "id": "36f02cb0",
   "metadata": {},
   "outputs": [
    {
     "name": "stdout",
     "output_type": "stream",
     "text": [
      "Requirement already satisfied: pandas in /usr/local/lib/python3.10/site-packages (1.5.3)\n",
      "Requirement already satisfied: numpy>=1.21.0 in /usr/local/lib/python3.10/site-packages (from pandas) (1.24.2)\n",
      "Requirement already satisfied: pytz>=2020.1 in /usr/local/lib/python3.10/site-packages (from pandas) (2022.7.1)\n",
      "Requirement already satisfied: python-dateutil>=2.8.1 in /usr/local/lib/python3.10/site-packages (from pandas) (2.8.2)\n",
      "Requirement already satisfied: six>=1.5 in /usr/local/lib/python3.10/site-packages (from python-dateutil>=2.8.1->pandas) (1.16.0)\n",
      "\u001b[33mWARNING: Running pip as the 'root' user can result in broken permissions and conflicting behaviour with the system package manager. It is recommended to use a virtual environment instead: https://pip.pypa.io/warnings/venv\u001b[0m\u001b[33m\n",
      "\u001b[0m\n",
      "\u001b[1m[\u001b[0m\u001b[34;49mnotice\u001b[0m\u001b[1;39;49m]\u001b[0m\u001b[39;49m A new release of pip available: \u001b[0m\u001b[31;49m22.3.1\u001b[0m\u001b[39;49m -> \u001b[0m\u001b[32;49m23.0\u001b[0m\n",
      "\u001b[1m[\u001b[0m\u001b[34;49mnotice\u001b[0m\u001b[1;39;49m]\u001b[0m\u001b[39;49m To update, run: \u001b[0m\u001b[32;49mpip install --upgrade pip\u001b[0m\n"
     ]
    },
    {
     "data": {
      "application/javascript": [
       "\n",
       "            setTimeout(function() {\n",
       "                var nbb_cell_id = 11;\n",
       "                var nbb_unformatted_code = \"!pip install pandas\";\n",
       "                var nbb_formatted_code = \"!pip install pandas\";\n",
       "                var nbb_cells = Jupyter.notebook.get_cells();\n",
       "                for (var i = 0; i < nbb_cells.length; ++i) {\n",
       "                    if (nbb_cells[i].input_prompt_number == nbb_cell_id) {\n",
       "                        if (nbb_cells[i].get_text() == nbb_unformatted_code) {\n",
       "                             nbb_cells[i].set_text(nbb_formatted_code);\n",
       "                        }\n",
       "                        break;\n",
       "                    }\n",
       "                }\n",
       "            }, 500);\n",
       "            "
      ],
      "text/plain": [
       "<IPython.core.display.Javascript object>"
      ]
     },
     "metadata": {},
     "output_type": "display_data"
    }
   ],
   "source": [
    "!pip install pandas"
   ]
  },
  {
   "cell_type": "code",
   "execution_count": 12,
   "id": "ab676375",
   "metadata": {},
   "outputs": [
    {
     "data": {
      "application/javascript": [
       "\n",
       "            setTimeout(function() {\n",
       "                var nbb_cell_id = 12;\n",
       "                var nbb_unformatted_code = \"import pandas as pd\";\n",
       "                var nbb_formatted_code = \"import pandas as pd\";\n",
       "                var nbb_cells = Jupyter.notebook.get_cells();\n",
       "                for (var i = 0; i < nbb_cells.length; ++i) {\n",
       "                    if (nbb_cells[i].input_prompt_number == nbb_cell_id) {\n",
       "                        if (nbb_cells[i].get_text() == nbb_unformatted_code) {\n",
       "                             nbb_cells[i].set_text(nbb_formatted_code);\n",
       "                        }\n",
       "                        break;\n",
       "                    }\n",
       "                }\n",
       "            }, 500);\n",
       "            "
      ],
      "text/plain": [
       "<IPython.core.display.Javascript object>"
      ]
     },
     "metadata": {},
     "output_type": "display_data"
    }
   ],
   "source": [
    "import pandas as pd"
   ]
  },
  {
   "cell_type": "code",
   "execution_count": 13,
   "id": "c46cb949",
   "metadata": {},
   "outputs": [
    {
     "data": {
      "application/javascript": [
       "\n",
       "            setTimeout(function() {\n",
       "                var nbb_cell_id = 13;\n",
       "                var nbb_unformatted_code = \"with db.engine.connect() as conn:\\n    df = pd.read_sql(\\n        text(str(a)),\\n        conn,\\n    )\";\n",
       "                var nbb_formatted_code = \"with db.engine.connect() as conn:\\n    df = pd.read_sql(\\n        text(str(a)),\\n        conn,\\n    )\";\n",
       "                var nbb_cells = Jupyter.notebook.get_cells();\n",
       "                for (var i = 0; i < nbb_cells.length; ++i) {\n",
       "                    if (nbb_cells[i].input_prompt_number == nbb_cell_id) {\n",
       "                        if (nbb_cells[i].get_text() == nbb_unformatted_code) {\n",
       "                             nbb_cells[i].set_text(nbb_formatted_code);\n",
       "                        }\n",
       "                        break;\n",
       "                    }\n",
       "                }\n",
       "            }, 500);\n",
       "            "
      ],
      "text/plain": [
       "<IPython.core.display.Javascript object>"
      ]
     },
     "metadata": {},
     "output_type": "display_data"
    }
   ],
   "source": [
    "with db.engine.connect() as conn:\n",
    "    df = pd.read_sql(\n",
    "        text(str(a)),\n",
    "        conn,\n",
    "    )"
   ]
  },
  {
   "cell_type": "code",
   "execution_count": 14,
   "id": "5afd1422",
   "metadata": {},
   "outputs": [
    {
     "data": {
      "text/html": [
       "<div>\n",
       "<style scoped>\n",
       "    .dataframe tbody tr th:only-of-type {\n",
       "        vertical-align: middle;\n",
       "    }\n",
       "\n",
       "    .dataframe tbody tr th {\n",
       "        vertical-align: top;\n",
       "    }\n",
       "\n",
       "    .dataframe thead th {\n",
       "        text-align: right;\n",
       "    }\n",
       "</style>\n",
       "<table border=\"1\" class=\"dataframe\">\n",
       "  <thead>\n",
       "    <tr style=\"text-align: right;\">\n",
       "      <th></th>\n",
       "      <th>_col0</th>\n",
       "      <th>_col1</th>\n",
       "      <th>age</th>\n",
       "    </tr>\n",
       "  </thead>\n",
       "  <tbody>\n",
       "    <tr>\n",
       "      <th>0</th>\n",
       "      <td>21.0</td>\n",
       "      <td>6.0</td>\n",
       "      <td>10.0</td>\n",
       "    </tr>\n",
       "    <tr>\n",
       "      <th>1</th>\n",
       "      <td>21.0</td>\n",
       "      <td>6.0</td>\n",
       "      <td>15.0</td>\n",
       "    </tr>\n",
       "    <tr>\n",
       "      <th>2</th>\n",
       "      <td>21.0</td>\n",
       "      <td>6.0</td>\n",
       "      <td>20.0</td>\n",
       "    </tr>\n",
       "    <tr>\n",
       "      <th>3</th>\n",
       "      <td>21.0</td>\n",
       "      <td>6.0</td>\n",
       "      <td>25.0</td>\n",
       "    </tr>\n",
       "    <tr>\n",
       "      <th>4</th>\n",
       "      <td>21.0</td>\n",
       "      <td>6.0</td>\n",
       "      <td>27.0</td>\n",
       "    </tr>\n",
       "    <tr>\n",
       "      <th>5</th>\n",
       "      <td>21.0</td>\n",
       "      <td>6.0</td>\n",
       "      <td>29.0</td>\n",
       "    </tr>\n",
       "  </tbody>\n",
       "</table>\n",
       "</div>"
      ],
      "text/plain": [
       "   _col0  _col1   age\n",
       "0   21.0    6.0  10.0\n",
       "1   21.0    6.0  15.0\n",
       "2   21.0    6.0  20.0\n",
       "3   21.0    6.0  25.0\n",
       "4   21.0    6.0  27.0\n",
       "5   21.0    6.0  29.0"
      ]
     },
     "execution_count": 14,
     "metadata": {},
     "output_type": "execute_result"
    },
    {
     "data": {
      "application/javascript": [
       "\n",
       "            setTimeout(function() {\n",
       "                var nbb_cell_id = 14;\n",
       "                var nbb_unformatted_code = \"df\";\n",
       "                var nbb_formatted_code = \"df\";\n",
       "                var nbb_cells = Jupyter.notebook.get_cells();\n",
       "                for (var i = 0; i < nbb_cells.length; ++i) {\n",
       "                    if (nbb_cells[i].input_prompt_number == nbb_cell_id) {\n",
       "                        if (nbb_cells[i].get_text() == nbb_unformatted_code) {\n",
       "                             nbb_cells[i].set_text(nbb_formatted_code);\n",
       "                        }\n",
       "                        break;\n",
       "                    }\n",
       "                }\n",
       "            }, 500);\n",
       "            "
      ],
      "text/plain": [
       "<IPython.core.display.Javascript object>"
      ]
     },
     "metadata": {},
     "output_type": "display_data"
    }
   ],
   "source": [
    "df"
   ]
  },
  {
   "cell_type": "raw",
   "id": "69bc6741",
   "metadata": {},
   "source": [
    "!pip install sqlglot"
   ]
  },
  {
   "cell_type": "code",
   "execution_count": 6,
   "id": "1819dc35",
   "metadata": {},
   "outputs": [],
   "source": [
    "from sqlglot import parse_one, exp"
   ]
  },
  {
   "cell_type": "code",
   "execution_count": 16,
   "id": "f0745591",
   "metadata": {},
   "outputs": [
    {
     "name": "stdout",
     "output_type": "stream",
     "text": [
      "Automatic pdb calling has been turned ON\n"
     ]
    }
   ],
   "source": [
    "%pdb"
   ]
  },
  {
   "cell_type": "code",
   "execution_count": 17,
   "id": "2b34fa7d",
   "metadata": {},
   "outputs": [
    {
     "ename": "DJParseException",
     "evalue": "Failed to parse Expression",
     "output_type": "error",
     "traceback": [
      "\u001b[0;31m---------------------------------------------------------------------------\u001b[0m",
      "\u001b[0;31mDJParseException\u001b[0m                          Traceback (most recent call last)",
      "Cell \u001b[0;32mIn[17], line 1\u001b[0m\n\u001b[0;32m----> 1\u001b[0m \u001b[43mparse\u001b[49m\u001b[43m(\u001b[49m\u001b[38;5;124;43m'''\u001b[39;49m\u001b[38;5;124;43mSELECT measures_map[\u001b[39;49m\u001b[38;5;124;43m\"\u001b[39;49m\u001b[38;5;124;43mmeasures_name\u001b[39;49m\u001b[38;5;124;43m\"\u001b[39;49m\u001b[38;5;124;43m] AS measure_name FROM foo\u001b[39;49m\u001b[38;5;124;43m'''\u001b[39;49m\u001b[43m)\u001b[49m\n",
      "File \u001b[0;32m/code/dj/sql/parsing/backends/sqloxide.py:425\u001b[0m, in \u001b[0;36mparse\u001b[0;34m(sql, dialect, process_raw)\u001b[0m\n\u001b[1;32m    423\u001b[0m \u001b[38;5;28;01mif\u001b[39;00m \u001b[38;5;28mlen\u001b[39m(oxide_parsed) \u001b[38;5;241m!=\u001b[39m \u001b[38;5;241m1\u001b[39m:\n\u001b[1;32m    424\u001b[0m     \u001b[38;5;28;01mraise\u001b[39;00m DJParseException(\u001b[38;5;124m\"\u001b[39m\u001b[38;5;124mExpected a single sql statement.\u001b[39m\u001b[38;5;124m\"\u001b[39m)\n\u001b[0;32m--> 425\u001b[0m query_ast \u001b[38;5;241m=\u001b[39m \u001b[43mparse_oxide_tree\u001b[49m\u001b[43m(\u001b[49m\u001b[43moxide_parsed\u001b[49m\u001b[43m[\u001b[49m\u001b[38;5;241;43m0\u001b[39;49m\u001b[43m]\u001b[49m\u001b[43m)\u001b[49m\n\u001b[1;32m    426\u001b[0m \u001b[38;5;28;01mif\u001b[39;00m process_raw:\n\u001b[1;32m    427\u001b[0m     \u001b[38;5;28;01mfor\u001b[39;00m func \u001b[38;5;129;01min\u001b[39;00m query_ast\u001b[38;5;241m.\u001b[39mfind_all(ast\u001b[38;5;241m.\u001b[39mFunction):\n",
      "File \u001b[0;32m/code/dj/sql/parsing/backends/sqloxide.py:403\u001b[0m, in \u001b[0;36mparse_oxide_tree\u001b[0;34m(parse_tree)\u001b[0m\n\u001b[1;32m    401\u001b[0m \u001b[38;5;250m\u001b[39m\u001b[38;5;124;03m\"\"\"take a sqloxide parsed statement ast dict and transform it into a DJ ast\"\"\"\u001b[39;00m\n\u001b[1;32m    402\u001b[0m \u001b[38;5;28;01mif\u001b[39;00m match_keys(parse_tree, {\u001b[38;5;124m\"\u001b[39m\u001b[38;5;124mQuery\u001b[39m\u001b[38;5;124m\"\u001b[39m}):\n\u001b[0;32m--> 403\u001b[0m     \u001b[38;5;28;01mreturn\u001b[39;00m \u001b[43mparse_query\u001b[49m\u001b[43m(\u001b[49m\n\u001b[1;32m    404\u001b[0m \u001b[43m        \u001b[49m\u001b[43mparse_tree\u001b[49m\u001b[43m[\u001b[49m\u001b[38;5;124;43m\"\u001b[39;49m\u001b[38;5;124;43mQuery\u001b[39;49m\u001b[38;5;124;43m\"\u001b[39;49m\u001b[43m]\u001b[49m\u001b[43m,\u001b[49m\n\u001b[1;32m    405\u001b[0m \u001b[43m    \u001b[49m\u001b[43m)\u001b[49m\n\u001b[1;32m    407\u001b[0m \u001b[38;5;28;01mraise\u001b[39;00m DJParseException(\u001b[38;5;124m\"\u001b[39m\u001b[38;5;124mFailed to parse Query\u001b[39m\u001b[38;5;124m\"\u001b[39m)\n",
      "File \u001b[0;32m/code/dj/sql/parsing/backends/sqloxide.py:380\u001b[0m, in \u001b[0;36mparse_query\u001b[0;34m(parse_tree)\u001b[0m\n\u001b[1;32m    378\u001b[0m body \u001b[38;5;241m=\u001b[39m parse_tree[\u001b[38;5;124m\"\u001b[39m\u001b[38;5;124mbody\u001b[39m\u001b[38;5;124m\"\u001b[39m]\n\u001b[1;32m    379\u001b[0m \u001b[38;5;28;01mif\u001b[39;00m match_keys(body, {\u001b[38;5;124m\"\u001b[39m\u001b[38;5;124mSelect\u001b[39m\u001b[38;5;124m\"\u001b[39m}):\n\u001b[0;32m--> 380\u001b[0m     select \u001b[38;5;241m=\u001b[39m \u001b[43mparse_select\u001b[49m\u001b[43m(\u001b[49m\u001b[43mbody\u001b[49m\u001b[43m[\u001b[49m\u001b[38;5;124;43m\"\u001b[39;49m\u001b[38;5;124;43mSelect\u001b[39;49m\u001b[38;5;124;43m\"\u001b[39;49m\u001b[43m]\u001b[49m\u001b[43m)\u001b[49m\n\u001b[1;32m    381\u001b[0m     select\u001b[38;5;241m.\u001b[39mlimit \u001b[38;5;241m=\u001b[39m \u001b[38;5;28;01mNone\u001b[39;00m\n\u001b[1;32m    382\u001b[0m     \u001b[38;5;28;01mif\u001b[39;00m parse_tree[\u001b[38;5;124m\"\u001b[39m\u001b[38;5;124mlimit\u001b[39m\u001b[38;5;124m\"\u001b[39m] \u001b[38;5;129;01mis\u001b[39;00m \u001b[38;5;129;01mnot\u001b[39;00m \u001b[38;5;28;01mNone\u001b[39;00m:\n",
      "File \u001b[0;32m/code/dj/sql/parsing/backends/sqloxide.py:348\u001b[0m, in \u001b[0;36mparse_select\u001b[0;34m(parse_tree)\u001b[0m\n\u001b[1;32m    337\u001b[0m \u001b[38;5;250m\u001b[39m\u001b[38;5;124;03m\"\"\"parse the select of a query or subquery\"\"\"\u001b[39;00m\n\u001b[1;32m    338\u001b[0m \u001b[38;5;28;01mif\u001b[39;00m match_keys_subset(\n\u001b[1;32m    339\u001b[0m     parse_tree,\n\u001b[1;32m    340\u001b[0m     {\u001b[38;5;124m\"\u001b[39m\u001b[38;5;124mdistinct\u001b[39m\u001b[38;5;124m\"\u001b[39m, \u001b[38;5;124m\"\u001b[39m\u001b[38;5;124mfrom\u001b[39m\u001b[38;5;124m\"\u001b[39m, \u001b[38;5;124m\"\u001b[39m\u001b[38;5;124mgroup_by\u001b[39m\u001b[38;5;124m\"\u001b[39m, \u001b[38;5;124m\"\u001b[39m\u001b[38;5;124mhaving\u001b[39m\u001b[38;5;124m\"\u001b[39m, \u001b[38;5;124m\"\u001b[39m\u001b[38;5;124mprojection\u001b[39m\u001b[38;5;124m\"\u001b[39m, \u001b[38;5;124m\"\u001b[39m\u001b[38;5;124mselection\u001b[39m\u001b[38;5;124m\"\u001b[39m},\n\u001b[1;32m    341\u001b[0m ):\n\u001b[1;32m    342\u001b[0m     \u001b[38;5;28;01mreturn\u001b[39;00m ast\u001b[38;5;241m.\u001b[39mSelect(\n\u001b[1;32m    343\u001b[0m         parse_from(parse_tree[\u001b[38;5;124m\"\u001b[39m\u001b[38;5;124mfrom\u001b[39m\u001b[38;5;124m\"\u001b[39m]),\n\u001b[1;32m    344\u001b[0m         [parse_expression(exp) \u001b[38;5;28;01mfor\u001b[39;00m exp \u001b[38;5;129;01min\u001b[39;00m parse_tree[\u001b[38;5;124m\"\u001b[39m\u001b[38;5;124mgroup_by\u001b[39m\u001b[38;5;124m\"\u001b[39m]],\n\u001b[1;32m    345\u001b[0m         parse_expression(parse_tree[\u001b[38;5;124m\"\u001b[39m\u001b[38;5;124mhaving\u001b[39m\u001b[38;5;124m\"\u001b[39m])\n\u001b[1;32m    346\u001b[0m         \u001b[38;5;28;01mif\u001b[39;00m parse_tree[\u001b[38;5;124m\"\u001b[39m\u001b[38;5;124mhaving\u001b[39m\u001b[38;5;124m\"\u001b[39m] \u001b[38;5;129;01mis\u001b[39;00m \u001b[38;5;129;01mnot\u001b[39;00m \u001b[38;5;28;01mNone\u001b[39;00m\n\u001b[1;32m    347\u001b[0m         \u001b[38;5;28;01melse\u001b[39;00m \u001b[38;5;28;01mNone\u001b[39;00m,\n\u001b[0;32m--> 348\u001b[0m         [parse_expression(exp) \u001b[38;5;28;01mfor\u001b[39;00m exp \u001b[38;5;129;01min\u001b[39;00m parse_tree[\u001b[38;5;124m\"\u001b[39m\u001b[38;5;124mprojection\u001b[39m\u001b[38;5;124m\"\u001b[39m]],\n\u001b[1;32m    349\u001b[0m         parse_expression(parse_tree[\u001b[38;5;124m\"\u001b[39m\u001b[38;5;124mselection\u001b[39m\u001b[38;5;124m\"\u001b[39m])\n\u001b[1;32m    350\u001b[0m         \u001b[38;5;28;01mif\u001b[39;00m parse_tree[\u001b[38;5;124m\"\u001b[39m\u001b[38;5;124mselection\u001b[39m\u001b[38;5;124m\"\u001b[39m] \u001b[38;5;129;01mis\u001b[39;00m \u001b[38;5;129;01mnot\u001b[39;00m \u001b[38;5;28;01mNone\u001b[39;00m\n\u001b[1;32m    351\u001b[0m         \u001b[38;5;28;01melse\u001b[39;00m \u001b[38;5;28;01mNone\u001b[39;00m,\n\u001b[1;32m    352\u001b[0m         \u001b[38;5;28;01mNone\u001b[39;00m,\n\u001b[1;32m    353\u001b[0m         parse_tree[\u001b[38;5;124m\"\u001b[39m\u001b[38;5;124mdistinct\u001b[39m\u001b[38;5;124m\"\u001b[39m],\n\u001b[1;32m    354\u001b[0m     )\n\u001b[1;32m    356\u001b[0m \u001b[38;5;28;01mraise\u001b[39;00m DJParseException(\u001b[38;5;124m\"\u001b[39m\u001b[38;5;124mFailed to parse Select\u001b[39m\u001b[38;5;124m\"\u001b[39m)\n",
      "File \u001b[0;32m/code/dj/sql/parsing/backends/sqloxide.py:348\u001b[0m, in \u001b[0;36m<listcomp>\u001b[0;34m(.0)\u001b[0m\n\u001b[1;32m    337\u001b[0m \u001b[38;5;250m\u001b[39m\u001b[38;5;124;03m\"\"\"parse the select of a query or subquery\"\"\"\u001b[39;00m\n\u001b[1;32m    338\u001b[0m \u001b[38;5;28;01mif\u001b[39;00m match_keys_subset(\n\u001b[1;32m    339\u001b[0m     parse_tree,\n\u001b[1;32m    340\u001b[0m     {\u001b[38;5;124m\"\u001b[39m\u001b[38;5;124mdistinct\u001b[39m\u001b[38;5;124m\"\u001b[39m, \u001b[38;5;124m\"\u001b[39m\u001b[38;5;124mfrom\u001b[39m\u001b[38;5;124m\"\u001b[39m, \u001b[38;5;124m\"\u001b[39m\u001b[38;5;124mgroup_by\u001b[39m\u001b[38;5;124m\"\u001b[39m, \u001b[38;5;124m\"\u001b[39m\u001b[38;5;124mhaving\u001b[39m\u001b[38;5;124m\"\u001b[39m, \u001b[38;5;124m\"\u001b[39m\u001b[38;5;124mprojection\u001b[39m\u001b[38;5;124m\"\u001b[39m, \u001b[38;5;124m\"\u001b[39m\u001b[38;5;124mselection\u001b[39m\u001b[38;5;124m\"\u001b[39m},\n\u001b[1;32m    341\u001b[0m ):\n\u001b[1;32m    342\u001b[0m     \u001b[38;5;28;01mreturn\u001b[39;00m ast\u001b[38;5;241m.\u001b[39mSelect(\n\u001b[1;32m    343\u001b[0m         parse_from(parse_tree[\u001b[38;5;124m\"\u001b[39m\u001b[38;5;124mfrom\u001b[39m\u001b[38;5;124m\"\u001b[39m]),\n\u001b[1;32m    344\u001b[0m         [parse_expression(exp) \u001b[38;5;28;01mfor\u001b[39;00m exp \u001b[38;5;129;01min\u001b[39;00m parse_tree[\u001b[38;5;124m\"\u001b[39m\u001b[38;5;124mgroup_by\u001b[39m\u001b[38;5;124m\"\u001b[39m]],\n\u001b[1;32m    345\u001b[0m         parse_expression(parse_tree[\u001b[38;5;124m\"\u001b[39m\u001b[38;5;124mhaving\u001b[39m\u001b[38;5;124m\"\u001b[39m])\n\u001b[1;32m    346\u001b[0m         \u001b[38;5;28;01mif\u001b[39;00m parse_tree[\u001b[38;5;124m\"\u001b[39m\u001b[38;5;124mhaving\u001b[39m\u001b[38;5;124m\"\u001b[39m] \u001b[38;5;129;01mis\u001b[39;00m \u001b[38;5;129;01mnot\u001b[39;00m \u001b[38;5;28;01mNone\u001b[39;00m\n\u001b[1;32m    347\u001b[0m         \u001b[38;5;28;01melse\u001b[39;00m \u001b[38;5;28;01mNone\u001b[39;00m,\n\u001b[0;32m--> 348\u001b[0m         [\u001b[43mparse_expression\u001b[49m\u001b[43m(\u001b[49m\u001b[43mexp\u001b[49m\u001b[43m)\u001b[49m \u001b[38;5;28;01mfor\u001b[39;00m exp \u001b[38;5;129;01min\u001b[39;00m parse_tree[\u001b[38;5;124m\"\u001b[39m\u001b[38;5;124mprojection\u001b[39m\u001b[38;5;124m\"\u001b[39m]],\n\u001b[1;32m    349\u001b[0m         parse_expression(parse_tree[\u001b[38;5;124m\"\u001b[39m\u001b[38;5;124mselection\u001b[39m\u001b[38;5;124m\"\u001b[39m])\n\u001b[1;32m    350\u001b[0m         \u001b[38;5;28;01mif\u001b[39;00m parse_tree[\u001b[38;5;124m\"\u001b[39m\u001b[38;5;124mselection\u001b[39m\u001b[38;5;124m\"\u001b[39m] \u001b[38;5;129;01mis\u001b[39;00m \u001b[38;5;129;01mnot\u001b[39;00m \u001b[38;5;28;01mNone\u001b[39;00m\n\u001b[1;32m    351\u001b[0m         \u001b[38;5;28;01melse\u001b[39;00m \u001b[38;5;28;01mNone\u001b[39;00m,\n\u001b[1;32m    352\u001b[0m         \u001b[38;5;28;01mNone\u001b[39;00m,\n\u001b[1;32m    353\u001b[0m         parse_tree[\u001b[38;5;124m\"\u001b[39m\u001b[38;5;124mdistinct\u001b[39m\u001b[38;5;124m\"\u001b[39m],\n\u001b[1;32m    354\u001b[0m     )\n\u001b[1;32m    356\u001b[0m \u001b[38;5;28;01mraise\u001b[39;00m DJParseException(\u001b[38;5;124m\"\u001b[39m\u001b[38;5;124mFailed to parse Select\u001b[39m\u001b[38;5;124m\"\u001b[39m)\n",
      "File \u001b[0;32m/code/dj/sql/parsing/backends/sqloxide.py:146\u001b[0m, in \u001b[0;36mparse_expression\u001b[0;34m(parse_tree)\u001b[0m\n\u001b[1;32m    142\u001b[0m \u001b[38;5;28;01mif\u001b[39;00m match_keys(parse_tree, {\u001b[38;5;124m\"\u001b[39m\u001b[38;5;124mExprWithAlias\u001b[39m\u001b[38;5;124m\"\u001b[39m}):\n\u001b[1;32m    143\u001b[0m     subtree \u001b[38;5;241m=\u001b[39m parse_tree[\u001b[38;5;124m\"\u001b[39m\u001b[38;5;124mExprWithAlias\u001b[39m\u001b[38;5;124m\"\u001b[39m]\n\u001b[1;32m    144\u001b[0m     \u001b[38;5;28;01mreturn\u001b[39;00m ast\u001b[38;5;241m.\u001b[39mAlias(\n\u001b[1;32m    145\u001b[0m         parse_name(subtree[\u001b[38;5;124m\"\u001b[39m\u001b[38;5;124malias\u001b[39m\u001b[38;5;124m\"\u001b[39m]),\n\u001b[0;32m--> 146\u001b[0m         child\u001b[38;5;241m=\u001b[39m\u001b[43mparse_column\u001b[49m\u001b[43m(\u001b[49m\u001b[43msubtree\u001b[49m\u001b[43m[\u001b[49m\u001b[38;5;124;43m\"\u001b[39;49m\u001b[38;5;124;43mexpr\u001b[39;49m\u001b[38;5;124;43m\"\u001b[39;49m\u001b[43m]\u001b[49m\u001b[43m)\u001b[49m,\n\u001b[1;32m    147\u001b[0m     )\n\u001b[1;32m    148\u001b[0m \u001b[38;5;28;01mif\u001b[39;00m match_keys(parse_tree, {\u001b[38;5;124m\"\u001b[39m\u001b[38;5;124mSubquery\u001b[39m\u001b[38;5;124m\"\u001b[39m}):\n\u001b[1;32m    149\u001b[0m     \u001b[38;5;28;01mreturn\u001b[39;00m parse_query(  \u001b[38;5;66;03m# pylint: disable=W0212\u001b[39;00m\n\u001b[1;32m    150\u001b[0m         parse_tree[\u001b[38;5;124m\"\u001b[39m\u001b[38;5;124mSubquery\u001b[39m\u001b[38;5;124m\"\u001b[39m],\n\u001b[1;32m    151\u001b[0m     )\u001b[38;5;241m.\u001b[39m_to_select()\n",
      "File \u001b[0;32m/code/dj/sql/parsing/backends/sqloxide.py:194\u001b[0m, in \u001b[0;36mparse_column\u001b[0;34m(parse_tree)\u001b[0m\n\u001b[1;32m    192\u001b[0m         \u001b[38;5;28;01mreturn\u001b[39;00m parse_namespace(subtree)\u001b[38;5;241m.\u001b[39mto_named_type(ast\u001b[38;5;241m.\u001b[39mColumn)\n\u001b[1;32m    193\u001b[0m     \u001b[38;5;28;01mreturn\u001b[39;00m parse_name(parse_tree[\u001b[38;5;124m\"\u001b[39m\u001b[38;5;124mIdentifier\u001b[39m\u001b[38;5;124m\"\u001b[39m])\u001b[38;5;241m.\u001b[39mto_named_type(ast\u001b[38;5;241m.\u001b[39mColumn)\n\u001b[0;32m--> 194\u001b[0m \u001b[38;5;28;01mreturn\u001b[39;00m \u001b[43mparse_expression\u001b[49m\u001b[43m(\u001b[49m\u001b[43mparse_tree\u001b[49m\u001b[43m)\u001b[49m\n",
      "File \u001b[0;32m/code/dj/sql/parsing/backends/sqloxide.py:152\u001b[0m, in \u001b[0;36mparse_expression\u001b[0;34m(parse_tree)\u001b[0m\n\u001b[1;32m    148\u001b[0m     \u001b[38;5;28;01mif\u001b[39;00m match_keys(parse_tree, {\u001b[38;5;124m\"\u001b[39m\u001b[38;5;124mSubquery\u001b[39m\u001b[38;5;124m\"\u001b[39m}):\n\u001b[1;32m    149\u001b[0m         \u001b[38;5;28;01mreturn\u001b[39;00m parse_query(  \u001b[38;5;66;03m# pylint: disable=W0212\u001b[39;00m\n\u001b[1;32m    150\u001b[0m             parse_tree[\u001b[38;5;124m\"\u001b[39m\u001b[38;5;124mSubquery\u001b[39m\u001b[38;5;124m\"\u001b[39m],\n\u001b[1;32m    151\u001b[0m         )\u001b[38;5;241m.\u001b[39m_to_select()\n\u001b[0;32m--> 152\u001b[0m \u001b[38;5;28;01mraise\u001b[39;00m DJParseException(\u001b[38;5;124m\"\u001b[39m\u001b[38;5;124mFailed to parse Expression\u001b[39m\u001b[38;5;124m\"\u001b[39m)\n",
      "\u001b[0;31mDJParseException\u001b[0m: Failed to parse Expression"
     ]
    },
    {
     "name": "stdout",
     "output_type": "stream",
     "text": [
      "> \u001b[0;32m/code/dj/sql/parsing/backends/sqloxide.py\u001b[0m(152)\u001b[0;36mparse_expression\u001b[0;34m()\u001b[0m\n",
      "\u001b[0;32m    150 \u001b[0;31m                \u001b[0mparse_tree\u001b[0m\u001b[0;34m[\u001b[0m\u001b[0;34m\"Subquery\"\u001b[0m\u001b[0;34m]\u001b[0m\u001b[0;34m,\u001b[0m\u001b[0;34m\u001b[0m\u001b[0;34m\u001b[0m\u001b[0m\n",
      "\u001b[0m\u001b[0;32m    151 \u001b[0;31m            )._to_select()\n",
      "\u001b[0m\u001b[0;32m--> 152 \u001b[0;31m    \u001b[0;32mraise\u001b[0m \u001b[0mDJParseException\u001b[0m\u001b[0;34m(\u001b[0m\u001b[0;34m\"Failed to parse Expression\"\u001b[0m\u001b[0;34m)\u001b[0m  \u001b[0;31m# pragma: no cover\u001b[0m\u001b[0;34m\u001b[0m\u001b[0;34m\u001b[0m\u001b[0m\n",
      "\u001b[0m\u001b[0;32m    153 \u001b[0;31m\u001b[0;34m\u001b[0m\u001b[0m\n",
      "\u001b[0m\u001b[0;32m    154 \u001b[0;31m\u001b[0;34m\u001b[0m\u001b[0m\n",
      "\u001b[0m\n",
      "ipdb> parse_tree\n",
      "{'MapAccess': {'column': {'Identifier': {'value': 'measures_map', 'quote_style': None}}, 'keys': [{'Value': {'SingleQuotedString': 'measures_name'}}]}}\n",
      "ipdb> q\n"
     ]
    }
   ],
   "source": [
    "parse('''SELECT measures_map[\"measures_name\"] AS measure_name FROM foo''')"
   ]
  },
  {
   "cell_type": "code",
   "execution_count": 9,
   "id": "c0949d4f",
   "metadata": {},
   "outputs": [],
   "source": [
    "long = \"\"\"\n",
    "SELECT\n",
    "  \"e\".\"employee_id\" AS \"Employee #\",\n",
    "  \"e\".\"first_name\" || ' ' || \"e\".\"last_name\" AS \"Name\",\n",
    "  \"e\".\"email\" AS \"Email\",\n",
    "  \"e\".\"phone_number\" AS \"Phone\",\n",
    "  TO_CHAR(\"e\".\"hire_date\", 'MM/DD/YYYY') AS \"Hire Date\",\n",
    "  TO_CHAR(\"e\".\"salary\", 'L99G999D99', 'NLS_NUMERIC_CHARACTERS = ''.,'' NLS_CURRENCY = ''$''') AS \"Salary\",\n",
    "  \"e\".\"commission_pct\" AS \"Commission %\",\n",
    "  'works as ' || \"j\".\"job_title\" || ' in ' || \"d\".\"department_name\" || ' department (manager: ' || \"dm\".\"first_name\" || ' ' || \"dm\".\"last_name\" || ') and immediate supervisor: ' || \"m\".\"first_name\" || ' ' || \"m\".\"last_name\" AS \"Current Job\",\n",
    "  TO_CHAR(\"j\".\"min_salary\", 'L99G999D99', 'NLS_NUMERIC_CHARACTERS = ''.,'' NLS_CURRENCY = ''$''') || ' - ' || TO_CHAR(\"j\".\"max_salary\", 'L99G999D99', 'NLS_NUMERIC_CHARACTERS = ''.,'' NLS_CURRENCY = ''$''') AS \"Current Salary\",\n",
    "  \"l\".\"street_address\" || ', ' || \"l\".\"postal_code\" || ', ' || \"l\".\"city\" || ', ' || \"l\".\"state_province\" || ', ' || \"c\".\"country_name\" || ' (' || \"r\".\"region_name\" || ')' AS \"Location\",\n",
    "  \"jh\".\"job_id\" AS \"History Job ID\",\n",
    "  'worked from ' || TO_CHAR(\"jh\".\"start_date\", 'MM/DD/YYYY') || ' to ' || TO_CHAR(\"jh\".\"end_date\", 'MM/DD/YYYY') || ' as ' || \"jj\".\"job_title\" || ' in ' || \"dd\".\"department_name\" || ' department' AS \"History Job Title\",\n",
    "  case when 1 then 1 when 2 then 2 when 3 then 3 when 4 then 4 when 5 then 5 else a(b(c + 1 * 3 % 4)) end\n",
    "FROM \"employees\" AS e\n",
    "JOIN \"jobs\" AS j\n",
    "  ON \"e\".\"job_id\" = \"j\".\"job_id\"\n",
    "LEFT JOIN \"employees\" AS m\n",
    "  ON \"e\".\"manager_id\" = \"m\".\"employee_id\"\n",
    "LEFT JOIN \"departments\" AS d\n",
    "  ON \"d\".\"department_id\" = \"e\".\"department_id\"\n",
    "LEFT JOIN \"employees\" AS dm\n",
    "  ON \"d\".\"manager_id\" = \"dm\".\"employee_id\"\n",
    "LEFT JOIN \"locations\" AS l\n",
    "  ON \"d\".\"location_id\" = \"l\".\"location_id\"\n",
    "LEFT JOIN \"countries\" AS c\n",
    "  ON \"l\".\"country_id\" = \"c\".\"country_id\"\n",
    "LEFT JOIN \"regions\" AS r\n",
    "  ON \"c\".\"region_id\" = \"r\".\"region_id\"\n",
    "LEFT JOIN \"job_history\" AS jh\n",
    "  ON \"e\".\"employee_id\" = \"jh\".\"employee_id\"\n",
    "LEFT JOIN \"jobs\" AS jj\n",
    "  ON \"jj\".\"job_id\" = \"jh\".\"job_id\"\n",
    "LEFT JOIN \"departments\" AS dd\n",
    "  ON \"dd\".\"department_id\" = \"jh\".\"department_id\"\n",
    "ORDER BY\n",
    "  \"e\".\"employee_id\"\n",
    "\"\"\"\n",
    "\n",
    "short = \"select 1 as a, case when 1 then 1 when 2 then 2 else 3 end as b, c from x\"\n",
    "\n",
    "crazy = \"SELECT 1+\"\n",
    "crazy += \"+\".join(str(i) for i in range(500))\n",
    "crazy += \" AS a, 2*\"\n",
    "crazy += \"*\".join(str(i) for i in range(500))\n",
    "crazy += \" AS b FROM x\"\n",
    "\n",
    "tpch = \"\"\"\n",
    "WITH \"_e_0\" AS (\n",
    "  SELECT\n",
    "    \"partsupp\".\"ps_partkey\" AS \"ps_partkey\",\n",
    "    \"partsupp\".\"ps_suppkey\" AS \"ps_suppkey\",\n",
    "    \"partsupp\".\"ps_supplycost\" AS \"ps_supplycost\"\n",
    "  FROM \"partsupp\" AS \"partsupp\"\n",
    "), \"_e_1\" AS (\n",
    "  SELECT\n",
    "    \"region\".\"r_regionkey\" AS \"r_regionkey\",\n",
    "    \"region\".\"r_name\" AS \"r_name\"\n",
    "  FROM \"region\" AS \"region\"\n",
    "  WHERE\n",
    "    \"region\".\"r_name\" = 'EUROPE'\n",
    ")\n",
    "SELECT\n",
    "  \"supplier\".\"s_acctbal\" AS \"s_acctbal\",\n",
    "  \"supplier\".\"s_name\" AS \"s_name\",\n",
    "  \"nation\".\"n_name\" AS \"n_name\",\n",
    "  \"part\".\"p_partkey\" AS \"p_partkey\",\n",
    "  \"part\".\"p_mfgr\" AS \"p_mfgr\",\n",
    "  \"supplier\".\"s_address\" AS \"s_address\",\n",
    "  \"supplier\".\"s_phone\" AS \"s_phone\",\n",
    "  \"supplier\".\"s_comment\" AS \"s_comment\"\n",
    "FROM (\n",
    "  SELECT\n",
    "    \"part\".\"p_partkey\" AS \"p_partkey\",\n",
    "    \"part\".\"p_mfgr\" AS \"p_mfgr\",\n",
    "    \"part\".\"p_type\" AS \"p_type\",\n",
    "    \"part\".\"p_size\" AS \"p_size\"\n",
    "  FROM \"part\" AS \"part\"\n",
    "  WHERE\n",
    "    \"part\".\"p_size\" = 15\n",
    "    AND \"part\".\"p_type\" LIKE '%BRASS'\n",
    ") AS \"part\"\n",
    "LEFT JOIN (\n",
    "  SELECT\n",
    "    MIN(\"partsupp\".\"ps_supplycost\") AS \"_col_0\",\n",
    "    \"partsupp\".\"ps_partkey\" AS \"_u_1\"\n",
    "  FROM \"_e_0\" AS \"partsupp\"\n",
    "  CROSS JOIN \"_e_1\" AS \"region\"\n",
    "  JOIN (\n",
    "    SELECT\n",
    "      \"nation\".\"n_nationkey\" AS \"n_nationkey\",\n",
    "      \"nation\".\"n_regionkey\" AS \"n_regionkey\"\n",
    "    FROM \"nation\" AS \"nation\"\n",
    "  ) AS \"nation\"\n",
    "    ON \"nation\".\"n_regionkey\" = \"region\".\"r_regionkey\"\n",
    "  JOIN (\n",
    "    SELECT\n",
    "      \"supplier\".\"s_suppkey\" AS \"s_suppkey\",\n",
    "      \"supplier\".\"s_nationkey\" AS \"s_nationkey\"\n",
    "    FROM \"supplier\" AS \"supplier\"\n",
    "  ) AS \"supplier\"\n",
    "    ON \"supplier\".\"s_nationkey\" = \"nation\".\"n_nationkey\"\n",
    "    AND \"supplier\".\"s_suppkey\" = \"partsupp\".\"ps_suppkey\"\n",
    "  GROUP BY\n",
    "    \"partsupp\".\"ps_partkey\"\n",
    ") AS \"_u_0\"\n",
    "  ON \"part\".\"p_partkey\" = \"_u_0\".\"_u_1\"\n",
    "CROSS JOIN \"_e_1\" AS \"region\"\n",
    "JOIN (\n",
    "  SELECT\n",
    "    \"nation\".\"n_nationkey\" AS \"n_nationkey\",\n",
    "    \"nation\".\"n_name\" AS \"n_name\",\n",
    "    \"nation\".\"n_regionkey\" AS \"n_regionkey\"\n",
    "  FROM \"nation\" AS \"nation\"\n",
    ") AS \"nation\"\n",
    "  ON \"nation\".\"n_regionkey\" = \"region\".\"r_regionkey\"\n",
    "JOIN \"_e_0\" AS \"partsupp\"\n",
    "  ON \"part\".\"p_partkey\" = \"partsupp\".\"ps_partkey\"\n",
    "JOIN (\n",
    "  SELECT\n",
    "    \"supplier\".\"s_suppkey\" AS \"s_suppkey\",\n",
    "    \"supplier\".\"s_name\" AS \"s_name\",\n",
    "    \"supplier\".\"s_address\" AS \"s_address\",\n",
    "    \"supplier\".\"s_nationkey\" AS \"s_nationkey\",\n",
    "    \"supplier\".\"s_phone\" AS \"s_phone\",\n",
    "    \"supplier\".\"s_acctbal\" AS \"s_acctbal\",\n",
    "    \"supplier\".\"s_comment\" AS \"s_comment\"\n",
    "  FROM \"supplier\" AS \"supplier\"\n",
    ") AS \"supplier\"\n",
    "  ON \"supplier\".\"s_nationkey\" = \"nation\".\"n_nationkey\"\n",
    "  AND \"supplier\".\"s_suppkey\" = \"partsupp\".\"ps_suppkey\"\n",
    "WHERE\n",
    "  \"partsupp\".\"ps_supplycost\" = \"_u_0\".\"_col_0\"\n",
    "  AND NOT \"_u_0\".\"_u_1\" IS NULL\n",
    "ORDER BY\n",
    "  \"supplier\".\"s_acctbal\" DESC,\n",
    "  \"nation\".\"n_name\",\n",
    "  \"supplier\".\"s_name\",\n",
    "  \"part\".\"p_partkey\"\n",
    "LIMIT 100\n",
    "\"\"\"\n",
    "\n"
   ]
  },
  {
   "cell_type": "code",
   "execution_count": 12,
   "id": "fe4c0307",
   "metadata": {},
   "outputs": [],
   "source": [
    "from dj.sql.parsing.backends.sqloxide import parse"
   ]
  },
  {
   "cell_type": "code",
   "execution_count": 14,
   "id": "f0aee5ab",
   "metadata": {},
   "outputs": [
    {
     "ename": "DJParseException",
     "evalue": "Unknown operator StringConcat",
     "output_type": "error",
     "traceback": [
      "\u001b[0;31m---------------------------------------------------------------------------\u001b[0m",
      "\u001b[0;31mDJParseException\u001b[0m                          Traceback (most recent call last)",
      "Cell \u001b[0;32mIn[14], line 1\u001b[0m\n\u001b[0;32m----> 1\u001b[0m \u001b[43mparse\u001b[49m\u001b[43m(\u001b[49m\u001b[43mlong\u001b[49m\u001b[43m)\u001b[49m\n",
      "File \u001b[0;32m/code/dj/sql/parsing/backends/sqloxide.py:425\u001b[0m, in \u001b[0;36mparse\u001b[0;34m(sql, dialect, process_raw)\u001b[0m\n\u001b[1;32m    423\u001b[0m \u001b[38;5;28;01mif\u001b[39;00m \u001b[38;5;28mlen\u001b[39m(oxide_parsed) \u001b[38;5;241m!=\u001b[39m \u001b[38;5;241m1\u001b[39m:\n\u001b[1;32m    424\u001b[0m     \u001b[38;5;28;01mraise\u001b[39;00m DJParseException(\u001b[38;5;124m\"\u001b[39m\u001b[38;5;124mExpected a single sql statement.\u001b[39m\u001b[38;5;124m\"\u001b[39m)\n\u001b[0;32m--> 425\u001b[0m query_ast \u001b[38;5;241m=\u001b[39m \u001b[43mparse_oxide_tree\u001b[49m\u001b[43m(\u001b[49m\u001b[43moxide_parsed\u001b[49m\u001b[43m[\u001b[49m\u001b[38;5;241;43m0\u001b[39;49m\u001b[43m]\u001b[49m\u001b[43m)\u001b[49m\n\u001b[1;32m    426\u001b[0m \u001b[38;5;28;01mif\u001b[39;00m process_raw:\n\u001b[1;32m    427\u001b[0m     \u001b[38;5;28;01mfor\u001b[39;00m func \u001b[38;5;129;01min\u001b[39;00m query_ast\u001b[38;5;241m.\u001b[39mfind_all(ast\u001b[38;5;241m.\u001b[39mFunction):\n",
      "File \u001b[0;32m/code/dj/sql/parsing/backends/sqloxide.py:403\u001b[0m, in \u001b[0;36mparse_oxide_tree\u001b[0;34m(parse_tree)\u001b[0m\n\u001b[1;32m    401\u001b[0m \u001b[38;5;250m\u001b[39m\u001b[38;5;124;03m\"\"\"take a sqloxide parsed statement ast dict and transform it into a DJ ast\"\"\"\u001b[39;00m\n\u001b[1;32m    402\u001b[0m \u001b[38;5;28;01mif\u001b[39;00m match_keys(parse_tree, {\u001b[38;5;124m\"\u001b[39m\u001b[38;5;124mQuery\u001b[39m\u001b[38;5;124m\"\u001b[39m}):\n\u001b[0;32m--> 403\u001b[0m     \u001b[38;5;28;01mreturn\u001b[39;00m \u001b[43mparse_query\u001b[49m\u001b[43m(\u001b[49m\n\u001b[1;32m    404\u001b[0m \u001b[43m        \u001b[49m\u001b[43mparse_tree\u001b[49m\u001b[43m[\u001b[49m\u001b[38;5;124;43m\"\u001b[39;49m\u001b[38;5;124;43mQuery\u001b[39;49m\u001b[38;5;124;43m\"\u001b[39;49m\u001b[43m]\u001b[49m\u001b[43m,\u001b[49m\n\u001b[1;32m    405\u001b[0m \u001b[43m    \u001b[49m\u001b[43m)\u001b[49m\n\u001b[1;32m    407\u001b[0m \u001b[38;5;28;01mraise\u001b[39;00m DJParseException(\u001b[38;5;124m\"\u001b[39m\u001b[38;5;124mFailed to parse Query\u001b[39m\u001b[38;5;124m\"\u001b[39m)\n",
      "File \u001b[0;32m/code/dj/sql/parsing/backends/sqloxide.py:380\u001b[0m, in \u001b[0;36mparse_query\u001b[0;34m(parse_tree)\u001b[0m\n\u001b[1;32m    378\u001b[0m body \u001b[38;5;241m=\u001b[39m parse_tree[\u001b[38;5;124m\"\u001b[39m\u001b[38;5;124mbody\u001b[39m\u001b[38;5;124m\"\u001b[39m]\n\u001b[1;32m    379\u001b[0m \u001b[38;5;28;01mif\u001b[39;00m match_keys(body, {\u001b[38;5;124m\"\u001b[39m\u001b[38;5;124mSelect\u001b[39m\u001b[38;5;124m\"\u001b[39m}):\n\u001b[0;32m--> 380\u001b[0m     select \u001b[38;5;241m=\u001b[39m \u001b[43mparse_select\u001b[49m\u001b[43m(\u001b[49m\u001b[43mbody\u001b[49m\u001b[43m[\u001b[49m\u001b[38;5;124;43m\"\u001b[39;49m\u001b[38;5;124;43mSelect\u001b[39;49m\u001b[38;5;124;43m\"\u001b[39;49m\u001b[43m]\u001b[49m\u001b[43m)\u001b[49m\n\u001b[1;32m    381\u001b[0m     select\u001b[38;5;241m.\u001b[39mlimit \u001b[38;5;241m=\u001b[39m \u001b[38;5;28;01mNone\u001b[39;00m\n\u001b[1;32m    382\u001b[0m     \u001b[38;5;28;01mif\u001b[39;00m parse_tree[\u001b[38;5;124m\"\u001b[39m\u001b[38;5;124mlimit\u001b[39m\u001b[38;5;124m\"\u001b[39m] \u001b[38;5;129;01mis\u001b[39;00m \u001b[38;5;129;01mnot\u001b[39;00m \u001b[38;5;28;01mNone\u001b[39;00m:\n",
      "File \u001b[0;32m/code/dj/sql/parsing/backends/sqloxide.py:348\u001b[0m, in \u001b[0;36mparse_select\u001b[0;34m(parse_tree)\u001b[0m\n\u001b[1;32m    337\u001b[0m \u001b[38;5;250m\u001b[39m\u001b[38;5;124;03m\"\"\"parse the select of a query or subquery\"\"\"\u001b[39;00m\n\u001b[1;32m    338\u001b[0m \u001b[38;5;28;01mif\u001b[39;00m match_keys_subset(\n\u001b[1;32m    339\u001b[0m     parse_tree,\n\u001b[1;32m    340\u001b[0m     {\u001b[38;5;124m\"\u001b[39m\u001b[38;5;124mdistinct\u001b[39m\u001b[38;5;124m\"\u001b[39m, \u001b[38;5;124m\"\u001b[39m\u001b[38;5;124mfrom\u001b[39m\u001b[38;5;124m\"\u001b[39m, \u001b[38;5;124m\"\u001b[39m\u001b[38;5;124mgroup_by\u001b[39m\u001b[38;5;124m\"\u001b[39m, \u001b[38;5;124m\"\u001b[39m\u001b[38;5;124mhaving\u001b[39m\u001b[38;5;124m\"\u001b[39m, \u001b[38;5;124m\"\u001b[39m\u001b[38;5;124mprojection\u001b[39m\u001b[38;5;124m\"\u001b[39m, \u001b[38;5;124m\"\u001b[39m\u001b[38;5;124mselection\u001b[39m\u001b[38;5;124m\"\u001b[39m},\n\u001b[1;32m    341\u001b[0m ):\n\u001b[1;32m    342\u001b[0m     \u001b[38;5;28;01mreturn\u001b[39;00m ast\u001b[38;5;241m.\u001b[39mSelect(\n\u001b[1;32m    343\u001b[0m         parse_from(parse_tree[\u001b[38;5;124m\"\u001b[39m\u001b[38;5;124mfrom\u001b[39m\u001b[38;5;124m\"\u001b[39m]),\n\u001b[1;32m    344\u001b[0m         [parse_expression(exp) \u001b[38;5;28;01mfor\u001b[39;00m exp \u001b[38;5;129;01min\u001b[39;00m parse_tree[\u001b[38;5;124m\"\u001b[39m\u001b[38;5;124mgroup_by\u001b[39m\u001b[38;5;124m\"\u001b[39m]],\n\u001b[1;32m    345\u001b[0m         parse_expression(parse_tree[\u001b[38;5;124m\"\u001b[39m\u001b[38;5;124mhaving\u001b[39m\u001b[38;5;124m\"\u001b[39m])\n\u001b[1;32m    346\u001b[0m         \u001b[38;5;28;01mif\u001b[39;00m parse_tree[\u001b[38;5;124m\"\u001b[39m\u001b[38;5;124mhaving\u001b[39m\u001b[38;5;124m\"\u001b[39m] \u001b[38;5;129;01mis\u001b[39;00m \u001b[38;5;129;01mnot\u001b[39;00m \u001b[38;5;28;01mNone\u001b[39;00m\n\u001b[1;32m    347\u001b[0m         \u001b[38;5;28;01melse\u001b[39;00m \u001b[38;5;28;01mNone\u001b[39;00m,\n\u001b[0;32m--> 348\u001b[0m         [parse_expression(exp) \u001b[38;5;28;01mfor\u001b[39;00m exp \u001b[38;5;129;01min\u001b[39;00m parse_tree[\u001b[38;5;124m\"\u001b[39m\u001b[38;5;124mprojection\u001b[39m\u001b[38;5;124m\"\u001b[39m]],\n\u001b[1;32m    349\u001b[0m         parse_expression(parse_tree[\u001b[38;5;124m\"\u001b[39m\u001b[38;5;124mselection\u001b[39m\u001b[38;5;124m\"\u001b[39m])\n\u001b[1;32m    350\u001b[0m         \u001b[38;5;28;01mif\u001b[39;00m parse_tree[\u001b[38;5;124m\"\u001b[39m\u001b[38;5;124mselection\u001b[39m\u001b[38;5;124m\"\u001b[39m] \u001b[38;5;129;01mis\u001b[39;00m \u001b[38;5;129;01mnot\u001b[39;00m \u001b[38;5;28;01mNone\u001b[39;00m\n\u001b[1;32m    351\u001b[0m         \u001b[38;5;28;01melse\u001b[39;00m \u001b[38;5;28;01mNone\u001b[39;00m,\n\u001b[1;32m    352\u001b[0m         \u001b[38;5;28;01mNone\u001b[39;00m,\n\u001b[1;32m    353\u001b[0m         parse_tree[\u001b[38;5;124m\"\u001b[39m\u001b[38;5;124mdistinct\u001b[39m\u001b[38;5;124m\"\u001b[39m],\n\u001b[1;32m    354\u001b[0m     )\n\u001b[1;32m    356\u001b[0m \u001b[38;5;28;01mraise\u001b[39;00m DJParseException(\u001b[38;5;124m\"\u001b[39m\u001b[38;5;124mFailed to parse Select\u001b[39m\u001b[38;5;124m\"\u001b[39m)\n",
      "File \u001b[0;32m/code/dj/sql/parsing/backends/sqloxide.py:348\u001b[0m, in \u001b[0;36m<listcomp>\u001b[0;34m(.0)\u001b[0m\n\u001b[1;32m    337\u001b[0m \u001b[38;5;250m\u001b[39m\u001b[38;5;124;03m\"\"\"parse the select of a query or subquery\"\"\"\u001b[39;00m\n\u001b[1;32m    338\u001b[0m \u001b[38;5;28;01mif\u001b[39;00m match_keys_subset(\n\u001b[1;32m    339\u001b[0m     parse_tree,\n\u001b[1;32m    340\u001b[0m     {\u001b[38;5;124m\"\u001b[39m\u001b[38;5;124mdistinct\u001b[39m\u001b[38;5;124m\"\u001b[39m, \u001b[38;5;124m\"\u001b[39m\u001b[38;5;124mfrom\u001b[39m\u001b[38;5;124m\"\u001b[39m, \u001b[38;5;124m\"\u001b[39m\u001b[38;5;124mgroup_by\u001b[39m\u001b[38;5;124m\"\u001b[39m, \u001b[38;5;124m\"\u001b[39m\u001b[38;5;124mhaving\u001b[39m\u001b[38;5;124m\"\u001b[39m, \u001b[38;5;124m\"\u001b[39m\u001b[38;5;124mprojection\u001b[39m\u001b[38;5;124m\"\u001b[39m, \u001b[38;5;124m\"\u001b[39m\u001b[38;5;124mselection\u001b[39m\u001b[38;5;124m\"\u001b[39m},\n\u001b[1;32m    341\u001b[0m ):\n\u001b[1;32m    342\u001b[0m     \u001b[38;5;28;01mreturn\u001b[39;00m ast\u001b[38;5;241m.\u001b[39mSelect(\n\u001b[1;32m    343\u001b[0m         parse_from(parse_tree[\u001b[38;5;124m\"\u001b[39m\u001b[38;5;124mfrom\u001b[39m\u001b[38;5;124m\"\u001b[39m]),\n\u001b[1;32m    344\u001b[0m         [parse_expression(exp) \u001b[38;5;28;01mfor\u001b[39;00m exp \u001b[38;5;129;01min\u001b[39;00m parse_tree[\u001b[38;5;124m\"\u001b[39m\u001b[38;5;124mgroup_by\u001b[39m\u001b[38;5;124m\"\u001b[39m]],\n\u001b[1;32m    345\u001b[0m         parse_expression(parse_tree[\u001b[38;5;124m\"\u001b[39m\u001b[38;5;124mhaving\u001b[39m\u001b[38;5;124m\"\u001b[39m])\n\u001b[1;32m    346\u001b[0m         \u001b[38;5;28;01mif\u001b[39;00m parse_tree[\u001b[38;5;124m\"\u001b[39m\u001b[38;5;124mhaving\u001b[39m\u001b[38;5;124m\"\u001b[39m] \u001b[38;5;129;01mis\u001b[39;00m \u001b[38;5;129;01mnot\u001b[39;00m \u001b[38;5;28;01mNone\u001b[39;00m\n\u001b[1;32m    347\u001b[0m         \u001b[38;5;28;01melse\u001b[39;00m \u001b[38;5;28;01mNone\u001b[39;00m,\n\u001b[0;32m--> 348\u001b[0m         [\u001b[43mparse_expression\u001b[49m\u001b[43m(\u001b[49m\u001b[43mexp\u001b[49m\u001b[43m)\u001b[49m \u001b[38;5;28;01mfor\u001b[39;00m exp \u001b[38;5;129;01min\u001b[39;00m parse_tree[\u001b[38;5;124m\"\u001b[39m\u001b[38;5;124mprojection\u001b[39m\u001b[38;5;124m\"\u001b[39m]],\n\u001b[1;32m    349\u001b[0m         parse_expression(parse_tree[\u001b[38;5;124m\"\u001b[39m\u001b[38;5;124mselection\u001b[39m\u001b[38;5;124m\"\u001b[39m])\n\u001b[1;32m    350\u001b[0m         \u001b[38;5;28;01mif\u001b[39;00m parse_tree[\u001b[38;5;124m\"\u001b[39m\u001b[38;5;124mselection\u001b[39m\u001b[38;5;124m\"\u001b[39m] \u001b[38;5;129;01mis\u001b[39;00m \u001b[38;5;129;01mnot\u001b[39;00m \u001b[38;5;28;01mNone\u001b[39;00m\n\u001b[1;32m    351\u001b[0m         \u001b[38;5;28;01melse\u001b[39;00m \u001b[38;5;28;01mNone\u001b[39;00m,\n\u001b[1;32m    352\u001b[0m         \u001b[38;5;28;01mNone\u001b[39;00m,\n\u001b[1;32m    353\u001b[0m         parse_tree[\u001b[38;5;124m\"\u001b[39m\u001b[38;5;124mdistinct\u001b[39m\u001b[38;5;124m\"\u001b[39m],\n\u001b[1;32m    354\u001b[0m     )\n\u001b[1;32m    356\u001b[0m \u001b[38;5;28;01mraise\u001b[39;00m DJParseException(\u001b[38;5;124m\"\u001b[39m\u001b[38;5;124mFailed to parse Select\u001b[39m\u001b[38;5;124m\"\u001b[39m)\n",
      "File \u001b[0;32m/code/dj/sql/parsing/backends/sqloxide.py:146\u001b[0m, in \u001b[0;36mparse_expression\u001b[0;34m(parse_tree)\u001b[0m\n\u001b[1;32m    142\u001b[0m \u001b[38;5;28;01mif\u001b[39;00m match_keys(parse_tree, {\u001b[38;5;124m\"\u001b[39m\u001b[38;5;124mExprWithAlias\u001b[39m\u001b[38;5;124m\"\u001b[39m}):\n\u001b[1;32m    143\u001b[0m     subtree \u001b[38;5;241m=\u001b[39m parse_tree[\u001b[38;5;124m\"\u001b[39m\u001b[38;5;124mExprWithAlias\u001b[39m\u001b[38;5;124m\"\u001b[39m]\n\u001b[1;32m    144\u001b[0m     \u001b[38;5;28;01mreturn\u001b[39;00m ast\u001b[38;5;241m.\u001b[39mAlias(\n\u001b[1;32m    145\u001b[0m         parse_name(subtree[\u001b[38;5;124m\"\u001b[39m\u001b[38;5;124malias\u001b[39m\u001b[38;5;124m\"\u001b[39m]),\n\u001b[0;32m--> 146\u001b[0m         child\u001b[38;5;241m=\u001b[39m\u001b[43mparse_column\u001b[49m\u001b[43m(\u001b[49m\u001b[43msubtree\u001b[49m\u001b[43m[\u001b[49m\u001b[38;5;124;43m\"\u001b[39;49m\u001b[38;5;124;43mexpr\u001b[39;49m\u001b[38;5;124;43m\"\u001b[39;49m\u001b[43m]\u001b[49m\u001b[43m)\u001b[49m,\n\u001b[1;32m    147\u001b[0m     )\n\u001b[1;32m    148\u001b[0m \u001b[38;5;28;01mif\u001b[39;00m match_keys(parse_tree, {\u001b[38;5;124m\"\u001b[39m\u001b[38;5;124mSubquery\u001b[39m\u001b[38;5;124m\"\u001b[39m}):\n\u001b[1;32m    149\u001b[0m     \u001b[38;5;28;01mreturn\u001b[39;00m parse_query(  \u001b[38;5;66;03m# pylint: disable=W0212\u001b[39;00m\n\u001b[1;32m    150\u001b[0m         parse_tree[\u001b[38;5;124m\"\u001b[39m\u001b[38;5;124mSubquery\u001b[39m\u001b[38;5;124m\"\u001b[39m],\n\u001b[1;32m    151\u001b[0m     )\u001b[38;5;241m.\u001b[39m_to_select()\n",
      "File \u001b[0;32m/code/dj/sql/parsing/backends/sqloxide.py:194\u001b[0m, in \u001b[0;36mparse_column\u001b[0;34m(parse_tree)\u001b[0m\n\u001b[1;32m    192\u001b[0m         \u001b[38;5;28;01mreturn\u001b[39;00m parse_namespace(subtree)\u001b[38;5;241m.\u001b[39mto_named_type(ast\u001b[38;5;241m.\u001b[39mColumn)\n\u001b[1;32m    193\u001b[0m     \u001b[38;5;28;01mreturn\u001b[39;00m parse_name(parse_tree[\u001b[38;5;124m\"\u001b[39m\u001b[38;5;124mIdentifier\u001b[39m\u001b[38;5;124m\"\u001b[39m])\u001b[38;5;241m.\u001b[39mto_named_type(ast\u001b[38;5;241m.\u001b[39mColumn)\n\u001b[0;32m--> 194\u001b[0m \u001b[38;5;28;01mreturn\u001b[39;00m \u001b[43mparse_expression\u001b[49m\u001b[43m(\u001b[49m\u001b[43mparse_tree\u001b[49m\u001b[43m)\u001b[49m\n",
      "File \u001b[0;32m/code/dj/sql/parsing/backends/sqloxide.py:118\u001b[0m, in \u001b[0;36mparse_expression\u001b[0;34m(parse_tree)\u001b[0m\n\u001b[1;32m    116\u001b[0m     \u001b[38;5;28;01mreturn\u001b[39;00m parse_expression(parse_tree[\u001b[38;5;124m\"\u001b[39m\u001b[38;5;124mNested\u001b[39m\u001b[38;5;124m\"\u001b[39m])\n\u001b[1;32m    117\u001b[0m \u001b[38;5;28;01mif\u001b[39;00m match_keys(parse_tree, {\u001b[38;5;124m\"\u001b[39m\u001b[38;5;124mUnaryOp\u001b[39m\u001b[38;5;124m\"\u001b[39m}, {\u001b[38;5;124m\"\u001b[39m\u001b[38;5;124mBinaryOp\u001b[39m\u001b[38;5;124m\"\u001b[39m}, {\u001b[38;5;124m\"\u001b[39m\u001b[38;5;124mBetween\u001b[39m\u001b[38;5;124m\"\u001b[39m}):\n\u001b[0;32m--> 118\u001b[0m     \u001b[38;5;28;01mreturn\u001b[39;00m \u001b[43mparse_op\u001b[49m\u001b[43m(\u001b[49m\u001b[43mparse_tree\u001b[49m\u001b[43m)\u001b[49m\n\u001b[1;32m    119\u001b[0m \u001b[38;5;28;01mif\u001b[39;00m match_keys(parse_tree, {\u001b[38;5;124m\"\u001b[39m\u001b[38;5;124mUnnamed\u001b[39m\u001b[38;5;124m\"\u001b[39m}):\n\u001b[1;32m    120\u001b[0m     \u001b[38;5;28;01mreturn\u001b[39;00m parse_expression(parse_tree[\u001b[38;5;124m\"\u001b[39m\u001b[38;5;124mUnnamed\u001b[39m\u001b[38;5;124m\"\u001b[39m])\n",
      "File \u001b[0;32m/code/dj/sql/parsing/backends/sqloxide.py:43\u001b[0m, in \u001b[0;36mparse_op\u001b[0;34m(parse_tree)\u001b[0m\n\u001b[1;32m     37\u001b[0m         \u001b[38;5;28;01mif\u001b[39;00m subtree[\u001b[38;5;124m\"\u001b[39m\u001b[38;5;124mop\u001b[39m\u001b[38;5;124m\"\u001b[39m] \u001b[38;5;241m==\u001b[39m binop_kind:\n\u001b[1;32m     38\u001b[0m             \u001b[38;5;28;01mreturn\u001b[39;00m ast\u001b[38;5;241m.\u001b[39mBinaryOp(\n\u001b[1;32m     39\u001b[0m                 ast\u001b[38;5;241m.\u001b[39mBinaryOpKind[binop_kind],\n\u001b[1;32m     40\u001b[0m                 parse_expression(subtree[\u001b[38;5;124m\"\u001b[39m\u001b[38;5;124mleft\u001b[39m\u001b[38;5;124m\"\u001b[39m]),\n\u001b[1;32m     41\u001b[0m                 parse_expression(subtree[\u001b[38;5;124m\"\u001b[39m\u001b[38;5;124mright\u001b[39m\u001b[38;5;124m\"\u001b[39m]),\n\u001b[1;32m     42\u001b[0m             )\n\u001b[0;32m---> 43\u001b[0m     \u001b[38;5;28;01mraise\u001b[39;00m DJParseException(\u001b[38;5;124mf\u001b[39m\u001b[38;5;124m\"\u001b[39m\u001b[38;5;124mUnknown operator \u001b[39m\u001b[38;5;132;01m{\u001b[39;00msubtree[\u001b[38;5;124m'\u001b[39m\u001b[38;5;124mop\u001b[39m\u001b[38;5;124m'\u001b[39m]\u001b[38;5;132;01m}\u001b[39;00m\u001b[38;5;124m\"\u001b[39m)  \u001b[38;5;66;03m# pragma: no cover\u001b[39;00m\n\u001b[1;32m     44\u001b[0m \u001b[38;5;28;01mif\u001b[39;00m match_keys(parse_tree, {\u001b[38;5;124m\"\u001b[39m\u001b[38;5;124mUnaryOp\u001b[39m\u001b[38;5;124m\"\u001b[39m}):\n\u001b[1;32m     45\u001b[0m     subtree \u001b[38;5;241m=\u001b[39m parse_tree[\u001b[38;5;124m\"\u001b[39m\u001b[38;5;124mUnaryOp\u001b[39m\u001b[38;5;124m\"\u001b[39m]\n",
      "\u001b[0;31mDJParseException\u001b[0m: Unknown operator StringConcat"
     ]
    }
   ],
   "source": [
    "parse(long)"
   ]
  },
  {
   "cell_type": "code",
   "execution_count": 18,
   "id": "90dec197",
   "metadata": {},
   "outputs": [],
   "source": [
    "from dj.typing import ColumnType"
   ]
  },
  {
   "cell_type": "code",
   "execution_count": 20,
   "id": "48b46169",
   "metadata": {},
   "outputs": [
    {
     "ename": "ColumnTypeError",
     "evalue": "MAP[STR, is not an acceptable type.",
     "output_type": "error",
     "traceback": [
      "\u001b[0;31m---------------------------------------------------------------------------\u001b[0m",
      "\u001b[0;31mColumnTypeError\u001b[0m                           Traceback (most recent call last)",
      "Cell \u001b[0;32mIn[20], line 1\u001b[0m\n\u001b[0;32m----> 1\u001b[0m \u001b[43mColumnType\u001b[49m\u001b[38;5;241;43m.\u001b[39;49m\u001b[43mROW\u001b[49m\u001b[43m[\u001b[49m\u001b[43mColumnType\u001b[49m\u001b[38;5;241;43m.\u001b[39;49m\u001b[43mMAP\u001b[49m\u001b[43m[\u001b[49m\u001b[43mColumnType\u001b[49m\u001b[38;5;241;43m.\u001b[39;49m\u001b[43mSTR\u001b[49m\u001b[43m,\u001b[49m\u001b[43m \u001b[49m\u001b[43mColumnType\u001b[49m\u001b[38;5;241;43m.\u001b[39;49m\u001b[43mSTR\u001b[49m\u001b[43m]\u001b[49m\u001b[43m,\u001b[49m\u001b[43m \u001b[49m\u001b[43mColumnType\u001b[49m\u001b[38;5;241;43m.\u001b[39;49m\u001b[43mSTR\u001b[49m\u001b[43m,\u001b[49m\u001b[43m \u001b[49m\u001b[43mColumnType\u001b[49m\u001b[38;5;241;43m.\u001b[39;49m\u001b[43mARRAY\u001b[49m\u001b[43m[\u001b[49m\u001b[43mColumnType\u001b[49m\u001b[38;5;241;43m.\u001b[39;49m\u001b[43mSTR\u001b[49m\u001b[43m]\u001b[49m\u001b[43m]\u001b[49m\n",
      "File \u001b[0;32m/code/dj/typing.py:223\u001b[0m, in \u001b[0;36mColumnType.__getitem__\u001b[0;34m(self, keys)\u001b[0m\n\u001b[1;32m    220\u001b[0m \u001b[38;5;28;01mif\u001b[39;00m \u001b[38;5;28mself\u001b[39m \u001b[38;5;129;01mnot\u001b[39;00m \u001b[38;5;129;01min\u001b[39;00m COMPLEX_TYPES:\n\u001b[1;32m    221\u001b[0m     \u001b[38;5;28;01mraise\u001b[39;00m ColumnTypeError(\u001b[38;5;124mf\u001b[39m\u001b[38;5;124m\"\u001b[39m\u001b[38;5;124mThe type \u001b[39m\u001b[38;5;132;01m{\u001b[39;00m\u001b[38;5;28mself\u001b[39m\u001b[38;5;132;01m}\u001b[39;00m\u001b[38;5;124m is not a complex type.\u001b[39m\u001b[38;5;124m\"\u001b[39m)\n\u001b[0;32m--> 223\u001b[0m args \u001b[38;5;241m=\u001b[39m \u001b[43mCOMPLEX_TYPES\u001b[49m\u001b[43m[\u001b[49m\u001b[38;5;28;43mself\u001b[39;49m\u001b[43m]\u001b[49m\u001b[43m(\u001b[49m\u001b[38;5;241;43m*\u001b[39;49m\u001b[43mkeys\u001b[49m\u001b[43m)\u001b[49m\n\u001b[1;32m    224\u001b[0m \u001b[38;5;66;03m# need to add check if args are acceptable types for the generic\u001b[39;00m\n\u001b[1;32m    225\u001b[0m obj \u001b[38;5;241m=\u001b[39m \u001b[38;5;28mstr\u001b[39m\u001b[38;5;241m.\u001b[39m\u001b[38;5;21m__new__\u001b[39m(\n\u001b[1;32m    226\u001b[0m     \u001b[38;5;28mself\u001b[39m\u001b[38;5;241m.\u001b[39m\u001b[38;5;18m__class__\u001b[39m,\n\u001b[1;32m    227\u001b[0m     \u001b[38;5;28mself\u001b[39m \u001b[38;5;241m+\u001b[39m \u001b[38;5;124m\"\u001b[39m\u001b[38;5;124m[\u001b[39m\u001b[38;5;124m\"\u001b[39m \u001b[38;5;241m+\u001b[39m \u001b[38;5;124m\"\u001b[39m\u001b[38;5;124m, \u001b[39m\u001b[38;5;124m\"\u001b[39m\u001b[38;5;241m.\u001b[39mjoin(arg \u001b[38;5;28;01mfor\u001b[39;00m arg \u001b[38;5;129;01min\u001b[39;00m args) \u001b[38;5;241m+\u001b[39m \u001b[38;5;124m\"\u001b[39m\u001b[38;5;124m]\u001b[39m\u001b[38;5;124m\"\u001b[39m,\n\u001b[1;32m    228\u001b[0m )\n",
      "File \u001b[0;32m/code/dj/typing.py:111\u001b[0m, in \u001b[0;36mprocess_row_args\u001b[0;34m(*args)\u001b[0m\n\u001b[1;32m    109\u001b[0m \u001b[38;5;28;01mfor\u001b[39;00m arg \u001b[38;5;129;01min\u001b[39;00m args:\n\u001b[1;32m    110\u001b[0m     type_, name, \u001b[38;5;241m*\u001b[39m_ \u001b[38;5;241m=\u001b[39m (\u001b[38;5;241m*\u001b[39marg\u001b[38;5;241m.\u001b[39msplit(), \u001b[38;5;28;01mNone\u001b[39;00m)\n\u001b[0;32m--> 111\u001b[0m     ret\u001b[38;5;241m.\u001b[39mappend(\u001b[43mColumnType\u001b[49m\u001b[43m(\u001b[49m\u001b[43mtype_\u001b[49m\u001b[43m,\u001b[49m\u001b[43m \u001b[49m\u001b[43mname\u001b[49m\u001b[43m \u001b[49m\u001b[38;5;129;43;01mand\u001b[39;49;00m\u001b[43m \u001b[49m\u001b[43mname\u001b[49m\u001b[38;5;241;43m.\u001b[39;49m\u001b[43mstrip\u001b[49m\u001b[43m(\u001b[49m\u001b[38;5;124;43m\"\u001b[39;49m\u001b[38;5;130;43;01m\\\"\u001b[39;49;00m\u001b[38;5;124;43m'\u001b[39;49m\u001b[38;5;124;43m \u001b[39;49m\u001b[38;5;124;43m\"\u001b[39;49m\u001b[43m)\u001b[49m\u001b[43m)\u001b[49m)\n\u001b[1;32m    112\u001b[0m \u001b[38;5;28;01mreturn\u001b[39;00m \u001b[38;5;28mtuple\u001b[39m(ret)\n",
      "File \u001b[0;32m/code/dj/typing.py:191\u001b[0m, in \u001b[0;36mColumnType.__new__\u001b[0;34m(cls, type_, name)\u001b[0m\n\u001b[1;32m    189\u001b[0m     obj \u001b[38;5;241m=\u001b[39m \u001b[38;5;28mstr\u001b[39m\u001b[38;5;241m.\u001b[39m\u001b[38;5;21m__new__\u001b[39m(\u001b[38;5;28mcls\u001b[39m, ALIASES[type_])\n\u001b[1;32m    190\u001b[0m \u001b[38;5;28;01melse\u001b[39;00m:\n\u001b[0;32m--> 191\u001b[0m     obj \u001b[38;5;241m=\u001b[39m \u001b[38;5;28;43mcls\u001b[39;49m\u001b[38;5;241;43m.\u001b[39;49m\u001b[43m_validate_type\u001b[49m\u001b[43m(\u001b[49m\u001b[43mtype_\u001b[49m\u001b[43m)\u001b[49m\n\u001b[1;32m    192\u001b[0m obj\u001b[38;5;241m.\u001b[39mname \u001b[38;5;241m=\u001b[39m name\n\u001b[1;32m    193\u001b[0m \u001b[38;5;28;01mreturn\u001b[39;00m obj\n",
      "File \u001b[0;32m/code/dj/typing.py:244\u001b[0m, in \u001b[0;36mColumnType._validate_type\u001b[0;34m(cls, type_)\u001b[0m\n\u001b[1;32m    242\u001b[0m type_ \u001b[38;5;241m=\u001b[39m ALIASES\u001b[38;5;241m.\u001b[39mget(type_, type_)\n\u001b[1;32m    243\u001b[0m \u001b[38;5;28;01mif\u001b[39;00m type_ \u001b[38;5;129;01mnot\u001b[39;00m \u001b[38;5;129;01min\u001b[39;00m PRIMITIVE_TYPES:\n\u001b[0;32m--> 244\u001b[0m     \u001b[38;5;28;01mraise\u001b[39;00m ColumnTypeError(\u001b[38;5;124mf\u001b[39m\u001b[38;5;124m\"\u001b[39m\u001b[38;5;132;01m{\u001b[39;00mtype_\u001b[38;5;132;01m}\u001b[39;00m\u001b[38;5;124m is not an acceptable type.\u001b[39m\u001b[38;5;124m\"\u001b[39m)\n\u001b[1;32m    245\u001b[0m \u001b[38;5;28;01mreturn\u001b[39;00m ColumnType(type_)\n",
      "\u001b[0;31mColumnTypeError\u001b[0m: MAP[STR, is not an acceptable type."
     ]
    },
    {
     "name": "stdout",
     "output_type": "stream",
     "text": [
      "> \u001b[0;32m/code/dj/typing.py\u001b[0m(244)\u001b[0;36m_validate_type\u001b[0;34m()\u001b[0m\n",
      "\u001b[0;32m    242 \u001b[0;31m        \u001b[0mtype_\u001b[0m \u001b[0;34m=\u001b[0m \u001b[0mALIASES\u001b[0m\u001b[0;34m.\u001b[0m\u001b[0mget\u001b[0m\u001b[0;34m(\u001b[0m\u001b[0mtype_\u001b[0m\u001b[0;34m,\u001b[0m \u001b[0mtype_\u001b[0m\u001b[0;34m)\u001b[0m\u001b[0;34m\u001b[0m\u001b[0;34m\u001b[0m\u001b[0m\n",
      "\u001b[0m\u001b[0;32m    243 \u001b[0;31m        \u001b[0;32mif\u001b[0m \u001b[0mtype_\u001b[0m \u001b[0;32mnot\u001b[0m \u001b[0;32min\u001b[0m \u001b[0mPRIMITIVE_TYPES\u001b[0m\u001b[0;34m:\u001b[0m\u001b[0;34m\u001b[0m\u001b[0;34m\u001b[0m\u001b[0m\n",
      "\u001b[0m\u001b[0;32m--> 244 \u001b[0;31m            \u001b[0;32mraise\u001b[0m \u001b[0mColumnTypeError\u001b[0m\u001b[0;34m(\u001b[0m\u001b[0;34mf\"{type_} is not an acceptable type.\"\u001b[0m\u001b[0;34m)\u001b[0m\u001b[0;34m\u001b[0m\u001b[0;34m\u001b[0m\u001b[0m\n",
      "\u001b[0m\u001b[0;32m    245 \u001b[0;31m        \u001b[0;32mreturn\u001b[0m \u001b[0mColumnType\u001b[0m\u001b[0;34m(\u001b[0m\u001b[0mtype_\u001b[0m\u001b[0;34m)\u001b[0m\u001b[0;34m\u001b[0m\u001b[0;34m\u001b[0m\u001b[0m\n",
      "\u001b[0m\u001b[0;32m    246 \u001b[0;31m\u001b[0;34m\u001b[0m\u001b[0m\n",
      "\u001b[0m\n",
      "ipdb> q\n"
     ]
    }
   ],
   "source": [
    "ColumnType.ROW[ColumnType.MAP[ColumnType.STR, ColumnType.STR], ColumnType.STR, ColumnType.ARRAY[ColumnType.STR]]"
   ]
  },
  {
   "cell_type": "code",
   "execution_count": 21,
   "id": "7b10361d",
   "metadata": {},
   "outputs": [
    {
     "data": {
      "text/plain": [
       "'ROW[STR, INT, ARRAY[BYTES]]'"
      ]
     },
     "execution_count": 21,
     "metadata": {},
     "output_type": "execute_result"
    }
   ],
   "source": [
    "ColumnType.Row[ColumnType.STR, \"INT id\", ColumnType.ARRAY[ColumnType.bytes]]"
   ]
  },
  {
   "cell_type": "code",
   "execution_count": 26,
   "id": "0b90de6c",
   "metadata": {},
   "outputs": [
    {
     "data": {
      "text/plain": [
       "'name'"
      ]
     },
     "execution_count": 26,
     "metadata": {},
     "output_type": "execute_result"
    }
   ],
   "source": [
    "ColumnType.Row[\"STR name\", \"INT age\"].args[0].name"
   ]
  },
  {
   "cell_type": "code",
   "execution_count": null,
   "id": "e9d63144",
   "metadata": {},
   "outputs": [],
   "source": []
  }
 ],
 "metadata": {
  "kernelspec": {
   "display_name": "Python 3 (ipykernel)",
   "language": "python",
   "name": "python3"
  },
  "language_info": {
   "codemirror_mode": {
    "name": "ipython",
    "version": 3
   },
   "file_extension": ".py",
   "mimetype": "text/x-python",
   "name": "python",
   "nbconvert_exporter": "python",
   "pygments_lexer": "ipython3",
   "version": "3.10.10"
  }
 },
 "nbformat": 4,
 "nbformat_minor": 5
}
