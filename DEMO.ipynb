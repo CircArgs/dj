{
 "cells": [
  {
   "cell_type": "code",
   "execution_count": 1,
   "id": "3531a590",
   "metadata": {},
   "outputs": [],
   "source": [
    "from dj.construction.extract import extract_dependencies\n",
    "from dj.construction.inference import get_type_of_expression\n",
    "from dj.sql.parsing import ast"
   ]
  },
  {
   "cell_type": "code",
   "execution_count": 34,
   "id": "78df2f81",
   "metadata": {},
   "outputs": [],
   "source": [
    "from dj.utils import get_session\n",
    "from sqlmodel import select\n",
    "from dj import models\n",
    "session = next(get_session())"
   ]
  },
  {
   "cell_type": "code",
   "execution_count": null,
   "id": "8088add6",
   "metadata": {},
   "outputs": [],
   "source": []
  },
  {
   "cell_type": "code",
   "execution_count": 3,
   "id": "efc6e936",
   "metadata": {
    "collapsed": true
   },
   "outputs": [
    {
     "name": "stdout",
     "output_type": "stream",
     "text": [
      "All Column types  [(Column(name=Name(name='country', quote_style=''), namespace=None), <ColumnType.STR: 'STR'>), (Column(name=Name(name='revenue', quote_style=''), namespace=None), <ColumnType.FLOAT: 'FLOAT'>), (Column(name=Name(name='revenue', quote_style=''), namespace=None), <ColumnType.FLOAT: 'FLOAT'>)]\n",
      "\n",
      "Column Expressions [(Column(name=Name(name='country', quote_style=''), namespace=None), None), (Column(name=Name(name='revenue', quote_style=''), namespace=None), None), (Column(name=Name(name='revenue', quote_style=''), namespace=None), None)]\n",
      "\n",
      "Projection Exp types  [(Function(name=Name(name='Sum', quote_style=''), namespace=Namespace(names=[]), args=[Column(name=Name(name='revenue', quote_style=''), namespace=None)]), <ColumnType.FLOAT: 'FLOAT'>)]\n",
      "\n"
     ]
    },
    {
     "data": {
      "text/plain": [
       "({Node(created_at=datetime.datetime(2023, 1, 12, 14, 19, 12, 301204), updated_at=datetime.datetime(2023, 1, 12, 14, 19, 12, 301210), id=23, description='', name='purchases_over_a_grand', type=<NodeType.TRANSFORM: 'transform'>, query='select country, revenue from revenue where revenue>1000.0', columns=[Column(type=<ColumnType.STR: 'STR'>, dimension_id=None, name='country', id=129, dimension_column=None), Column(type=<ColumnType.FLOAT: 'FLOAT'>, dimension_id=None, name='revenue', id=130, dimension_column=None)])},\n",
       " set())"
      ]
     },
     "execution_count": 3,
     "metadata": {},
     "output_type": "execute_result"
    }
   ],
   "source": [
    "tree, deps, danglers = extract_dependencies(session, \"\"\"\n",
    "    select Sum(revenue) from purchases_over_a_grand where revenue>1000.0 group by country\n",
    "    \"\"\", raise_=False)\n",
    "\n",
    "print(\"All Column types \", [(c, c.type) for c in list(tree.find_all(ast.Column))])\n",
    "print()\n",
    "print(\"Column Expressions\", [(c, c.expression) for c in list(tree.find_all(ast.Column))])\n",
    "print()\n",
    "print(\"Projection Exp types \", [(exp, get_type_of_expression(exp)) for exp in tree.select.projection])\n",
    "print()\n",
    "deps, danglers"
   ]
  },
  {
   "cell_type": "code",
   "execution_count": 4,
   "id": "10d8d67c",
   "metadata": {},
   "outputs": [],
   "source": [
    "from dj.sql.parsing.backends.sqloxide import parse\n",
    "\n",
    "from dj.construction.compile import compile_query, get_dj_node\n",
    "\n",
    "from dj.construction.build import build_query"
   ]
  },
  {
   "cell_type": "code",
   "execution_count": null,
   "id": "796605ee",
   "metadata": {},
   "outputs": [],
   "source": [
    "select(Node).filter(Node.name == node_name)"
   ]
  },
  {
   "cell_type": "code",
   "execution_count": null,
   "id": "54f80be2",
   "metadata": {},
   "outputs": [],
   "source": []
  },
  {
   "cell_type": "code",
   "execution_count": 46,
   "id": "303a8095",
   "metadata": {},
   "outputs": [
    {
     "data": {
      "text/plain": [
       "[Node(created_at=datetime.datetime(2022, 12, 27, 18, 42, 38, 434993), updated_at=datetime.datetime(2022, 12, 27, 18, 42, 38, 434997), id=5, description='User dimension', name='basic.dimension.users', type=<NodeType.DIMENSION: 'dimension'>, query='SELECT id,\\n       full_name,\\n       age,\\n       country,\\n       gender,\\n       preferred_language,\\n       secret_number\\nFROM basic.source.users'),\n",
       " Node(created_at=datetime.datetime(2022, 12, 27, 18, 42, 38, 475059), updated_at=datetime.datetime(2022, 12, 27, 18, 42, 38, 475063), id=6, description='User dimension', name='dbt.dimension.customers', type=<NodeType.DIMENSION: 'dimension'>, query='SELECT id,\\n       first_name,\\n       last_name\\nFROM dbt.source.jaffle_shop.customers', columns=[Column(type=<ColumnType.INT: 'INT'>, dimension_id=None, name='id', id=38, dimension_column=None), Column(type=<ColumnType.STR: 'STR'>, dimension_id=None, name='first_name', id=39, dimension_column=None), Column(type=<ColumnType.STR: 'STR'>, dimension_id=None, name='last_name', id=40, dimension_column=None)]),\n",
       " Node(created_at=datetime.datetime(2022, 12, 27, 18, 42, 38, 582020), updated_at=datetime.datetime(2022, 12, 27, 18, 42, 38, 582026), id=9, description='Country dimension', name='basic.dimension.countries', type=<NodeType.DIMENSION: 'dimension'>, query='SELECT country,\\n       COUNT(1) AS user_cnt\\nFROM basic.dimension.users\\nGROUP BY country'),\n",
       " Node(created_at=datetime.datetime(2023, 1, 12, 14, 19, 12, 15913), updated_at=datetime.datetime(2023, 1, 12, 14, 19, 12, 15921), id=19, description='', name='event_type', type=<NodeType.DIMENSION: 'dimension'>, query='SELECT DISTINCT event_type FROM customer_events'),\n",
       " Node(created_at=datetime.datetime(2023, 1, 12, 14, 19, 12, 17775), updated_at=datetime.datetime(2023, 1, 12, 14, 19, 12, 17793), id=21, description='', name='event_type_id', type=<NodeType.DIMENSION: 'dimension'>, query='SELECT DISTINCT event_id, event_type FROM customer_events')]"
      ]
     },
     "execution_count": 46,
     "metadata": {},
     "output_type": "execute_result"
    }
   ],
   "source": [
    "list(session.exec(select(models.Node).filter(models.Node.type == models.node.NodeType.DIMENSION)))"
   ]
  },
  {
   "cell_type": "code",
   "execution_count": 20,
   "id": "f06b74fa",
   "metadata": {},
   "outputs": [],
   "source": [
    "from copy import deepcopy"
   ]
  },
  {
   "cell_type": "code",
   "execution_count": 57,
   "id": "375ab579",
   "metadata": {},
   "outputs": [],
   "source": [
    "query = parse(\"\"\"\n",
    "    select Count(id) from dbt.source.jaffle_shop.orders group by dbt.dimension.customers.first_name\n",
    "    \"\"\")"
   ]
  },
  {
   "cell_type": "code",
   "execution_count": 58,
   "id": "f7d73a66",
   "metadata": {},
   "outputs": [
    {
     "name": "stdout",
     "output_type": "stream",
     "text": [
      "SELECT  Count(id) \n",
      " FROM dbt.source.jaffle_shop.orders\n",
      " \n",
      " GROUP BY  dbt.dimension.customers.first_name\n"
     ]
    }
   ],
   "source": [
    "print(str(query))"
   ]
  },
  {
   "cell_type": "code",
   "execution_count": 59,
   "id": "bf240050",
   "metadata": {},
   "outputs": [],
   "source": [
    "q2 = deepcopy(query)"
   ]
  },
  {
   "cell_type": "code",
   "execution_count": 60,
   "id": "9977b3fd",
   "metadata": {
    "scrolled": true
   },
   "outputs": [
    {
     "name": "stdout",
     "output_type": "stream",
     "text": [
      "SELECT  Count(id) \n",
      " FROM dbt.source.jaffle_shop.orders\n",
      " \n",
      " GROUP BY  dbt.dimension.customers.first_name\n"
     ]
    }
   ],
   "source": [
    "print(str(q2))#precompile"
   ]
  },
  {
   "cell_type": "code",
   "execution_count": 61,
   "id": "6de250ce",
   "metadata": {},
   "outputs": [],
   "source": [
    "query_deps = compile_query(session, query)"
   ]
  },
  {
   "cell_type": "code",
   "execution_count": 62,
   "id": "dc0ba2c0",
   "metadata": {},
   "outputs": [],
   "source": [
    "q3 = deepcopy(query)"
   ]
  },
  {
   "cell_type": "code",
   "execution_count": 63,
   "id": "113942ad",
   "metadata": {},
   "outputs": [
    {
     "name": "stdout",
     "output_type": "stream",
     "text": [
      "SELECT  Count(dbt.source.jaffle_shop.orders.id) \n",
      " FROM dbt.source.jaffle_shop.orders\n",
      " \n",
      " GROUP BY  dimension.customers.dbt.first_name\n"
     ]
    }
   ],
   "source": [
    "print(str(q3))#post compile\n",
    "# notice there is no ambiguity in column references"
   ]
  },
  {
   "cell_type": "code",
   "execution_count": 67,
   "id": "19929c45",
   "metadata": {},
   "outputs": [],
   "source": [
    "from itertools import chain"
   ]
  },
  {
   "cell_type": "code",
   "execution_count": 28,
   "id": "0bfd210e",
   "metadata": {},
   "outputs": [],
   "source": [
    "build_query(session, query, query_deps)"
   ]
  },
  {
   "cell_type": "code",
   "execution_count": 68,
   "id": "2ad9f220",
   "metadata": {
    "scrolled": true
   },
   "outputs": [
    {
     "data": {
      "text/plain": [
       "[<NodeType.DIMENSION: 'dimension'>]"
      ]
     },
     "execution_count": 68,
     "metadata": {},
     "output_type": "execute_result"
    }
   ],
   "source": [
    "# you can see there is a column with a table that references a dj node that is a dimension\n",
    "# the column's .table, not being found in tables in the FROM would mean it would need to be joined\n",
    "[c.table.dj_node.type for c in chain(*(exp.find_all(ast.Column) for exp in q3.select.group_by))]"
   ]
  },
  {
   "cell_type": "code",
   "execution_count": null,
   "id": "95f03713",
   "metadata": {},
   "outputs": [],
   "source": []
  },
  {
   "cell_type": "code",
   "execution_count": 48,
   "id": "be67227c",
   "metadata": {},
   "outputs": [
    {
     "data": {
      "text/plain": [
       "{Column(name=Name(name='country', quote_style=''), namespace=None),\n",
       " Column(name=Name(name='revenue', quote_style=''), namespace=None)}"
      ]
     },
     "execution_count": 48,
     "metadata": {},
     "output_type": "execute_result"
    }
   ],
   "source": [
    "# after compile the table knows that several columns were referenced from it\n",
    "q3.select.from_.tables[0].columns"
   ]
  },
  {
   "cell_type": "code",
   "execution_count": 32,
   "id": "74ef3067",
   "metadata": {},
   "outputs": [
    {
     "name": "stdout",
     "output_type": "stream",
     "text": [
      "SELECT  Sum((SELECT  country,\n",
      "\trevenue \n",
      " FROM revenue\n",
      " \n",
      " WHERE  revenue > 1000.0 \n",
      ") AS _purchases_over_a_grand.revenue) \n",
      " FROM (SELECT  country,\n",
      "\trevenue \n",
      " FROM revenue\n",
      " \n",
      " WHERE  revenue > 1000.0 \n",
      ") AS _purchases_over_a_grand\n",
      " \n",
      " WHERE  purchases_over_a_grand.revenue > 1000.0 \n",
      " GROUP BY  (SELECT  country,\n",
      "\trevenue \n",
      " FROM revenue\n",
      " \n",
      " WHERE  revenue > 1000.0 \n",
      ") AS _purchases_over_a_grand.country\n"
     ]
    }
   ],
   "source": [
    "print(str(query))"
   ]
  },
  {
   "cell_type": "code",
   "execution_count": 15,
   "id": "0888cffc",
   "metadata": {},
   "outputs": [
    {
     "data": {
      "text/plain": [
       "Table(name=Name(name='purchases_over_a_grand', quote_style=''), namespace=None)"
      ]
     },
     "execution_count": 15,
     "metadata": {},
     "output_type": "execute_result"
    }
   ],
   "source": [
    "query.select.where.left._table"
   ]
  },
  {
   "cell_type": "code",
   "execution_count": 7,
   "id": "742330d4",
   "metadata": {},
   "outputs": [],
   "source": [
    "from_=tree.select.projection[0]\n",
    "to=ast.Alias(ast.Name('sum_revenue'), child=from_)"
   ]
  },
  {
   "cell_type": "code",
   "execution_count": 8,
   "id": "30b58de4",
   "metadata": {},
   "outputs": [
    {
     "data": {
      "text/plain": [
       "Select(from_=From(tables=[Table(name=Name(name='purchases_over_a_grand', quote_style=''), namespace=None)], joins=[]), group_by=[Column(name=Name(name='country', quote_style=''), namespace=None)], having=None, projection=[Alias(name=Name(name='sum_revenue', quote_style=''), namespace=None, child=Function(name=Name(name='Sum', quote_style=''), namespace=Namespace(names=[]), args=[Column(name=Name(name='revenue', quote_style=''), namespace=None)]))], where=BinaryOp(op=BinaryOpKind.Gt, left=Column(name=Name(name='revenue', quote_style=''), namespace=None), right=Number(value=1000.0)), limit=None, distinct=False)"
      ]
     },
     "execution_count": 8,
     "metadata": {},
     "output_type": "execute_result"
    }
   ],
   "source": [
    "tree.select.replace(from_, to)"
   ]
  },
  {
   "cell_type": "code",
   "execution_count": 2,
   "id": "6c85d139",
   "metadata": {},
   "outputs": [
    {
     "ename": "NameError",
     "evalue": "name 'tree' is not defined",
     "output_type": "error",
     "traceback": [
      "\u001b[0;31m---------------------------------------------------------------------------\u001b[0m",
      "\u001b[0;31mNameError\u001b[0m                                 Traceback (most recent call last)",
      "Cell \u001b[0;32mIn[2], line 1\u001b[0m\n\u001b[0;32m----> 1\u001b[0m \u001b[38;5;28mprint\u001b[39m(\u001b[38;5;28mstr\u001b[39m(\u001b[43mtree\u001b[49m))\n",
      "\u001b[0;31mNameError\u001b[0m: name 'tree' is not defined"
     ]
    }
   ],
   "source": [
    "print(str(tree))"
   ]
  },
  {
   "cell_type": "code",
   "execution_count": 4,
   "id": "6b3c196a",
   "metadata": {},
   "outputs": [],
   "source": [
    "def name_exp(exp: ast.Expression, default: str):\n",
    "    if isinstance(exp, ast.Alias):\n",
    "        return make_name(exp.namespace, exp.name.name)\n",
    "    return default"
   ]
  },
  {
   "cell_type": "code",
   "execution_count": 5,
   "id": "ac5de44e",
   "metadata": {},
   "outputs": [
    {
     "data": {
      "text/plain": [
       "{'_col0': <ColumnType.FLOAT: 'FLOAT'>}"
      ]
     },
     "execution_count": 5,
     "metadata": {},
     "output_type": "execute_result"
    }
   ],
   "source": [
    "{name_exp(exp, f\"_col{i}\"): get_type_of_expression(exp) for i, exp in enumerate(tree.select.projection)}"
   ]
  },
  {
   "cell_type": "code",
   "execution_count": 6,
   "id": "23cd430d",
   "metadata": {},
   "outputs": [
    {
     "name": "stdout",
     "output_type": "stream",
     "text": [
      "All Column types  [(Column(name=Name(name='country', quote_style=''), namespace=None), <ColumnType.STR: 'STR'>), (Column(name=Name(name='revenue', quote_style=''), namespace=None), <ColumnType.FLOAT: 'FLOAT'>)]\n",
      "\n",
      "Column Expressions [(Column(name=Name(name='country', quote_style=''), namespace=None), None), (Column(name=Name(name='revenue', quote_style=''), namespace=None), None)]\n",
      "\n",
      "Projection Exp types  [(Function(name=Name(name='Count', quote_style=''), namespace=Namespace(names=[]), args=[Wildcard()]), <ColumnType.INT: 'INT'>)]\n",
      "\n"
     ]
    },
    {
     "data": {
      "text/plain": [
       "({Node(name='purchases_over_a_grand', type=<NodeType.TRANSFORM: 'transform'>, id=23, query='select country, revenue from revenue where revenue>1000.0', created_at=datetime.datetime(2023, 1, 12, 14, 19, 12, 301204), updated_at=datetime.datetime(2023, 1, 12, 14, 19, 12, 301210), description='', columns=[Column(id=129, name='country', dimension_column=None, dimension_id=None, type=<ColumnType.STR: 'STR'>), Column(id=130, name='revenue', dimension_column=None, dimension_id=None, type=<ColumnType.FLOAT: 'FLOAT'>)])},\n",
       " set())"
      ]
     },
     "execution_count": 6,
     "metadata": {},
     "output_type": "execute_result"
    }
   ],
   "source": [
    "tree, deps, danglers = extract_dependencies(session,     \"\"\"\n",
    "    select Count(*) from purchases_over_a_grand where revenue>1000.0 group by country\n",
    "    \"\"\", raise_=False)\n",
    "\n",
    "print(\"All Column types \", [(c, c.type) for c in list(tree.find_all(ast.Column))])\n",
    "print()\n",
    "print(\"Column Expressions\", [(c, c.expression) for c in list(tree.find_all(ast.Column))])\n",
    "print()\n",
    "print(\"Projection Exp types \", [(exp, get_type_of_expression(exp)) for exp in tree.select.projection])\n",
    "print()\n",
    "deps, danglers"
   ]
  },
  {
   "cell_type": "code",
   "execution_count": 7,
   "id": "7260a6ea",
   "metadata": {},
   "outputs": [
    {
     "name": "stdout",
     "output_type": "stream",
     "text": [
      "All Column types  [(Column(name=Name(name='country', quote_style=''), namespace=None), <ColumnType.STR: 'STR'>), (Column(name=Name(name='revenue', quote_style=''), namespace=None), <ColumnType.FLOAT: 'FLOAT'>), (Column(name=Name(name='revenue', quote_style=''), namespace=None), <ColumnType.FLOAT: 'FLOAT'>), (Column(name=Name(name='sum_revenue', quote_style=''), namespace=None), None)]\n",
      "\n",
      "Column Expressions [(Column(name=Name(name='country', quote_style=''), namespace=None), None), (Column(name=Name(name='revenue', quote_style=''), namespace=None), None), (Column(name=Name(name='revenue', quote_style=''), namespace=None), None), (Column(name=Name(name='sum_revenue', quote_style=''), namespace=None), Alias(name=Name(name='sum_revenue', quote_style=''), namespace=None, child=Function(name=Name(name='Sum', quote_style=''), namespace=Namespace(names=[]), args=[Column(name=Name(name='revenue', quote_style=''), namespace=None)])))]\n",
      "\n",
      "Projection Exp types  [(Column(name=Name(name='sum_revenue', quote_style=''), namespace=None), <ColumnType.FLOAT: 'FLOAT'>)]\n",
      "\n"
     ]
    },
    {
     "data": {
      "text/plain": [
       "({Node(name='purchases_over_a_grand', type=<NodeType.TRANSFORM: 'transform'>, id=23, query='select country, revenue from revenue where revenue>1000.0', created_at=datetime.datetime(2023, 1, 12, 14, 19, 12, 301204), updated_at=datetime.datetime(2023, 1, 12, 14, 19, 12, 301210), description='', columns=[Column(id=129, name='country', dimension_column=None, dimension_id=None, type=<ColumnType.STR: 'STR'>), Column(id=130, name='revenue', dimension_column=None, dimension_id=None, type=<ColumnType.FLOAT: 'FLOAT'>)])},\n",
       " set())"
      ]
     },
     "execution_count": 7,
     "metadata": {},
     "output_type": "execute_result"
    }
   ],
   "source": [
    "tree, deps, danglers = extract_dependencies(session, \"\"\"\n",
    "    select sum_revenue from (select Sum(revenue) as sum_revenue from purchases_over_a_grand where revenue>1000.0 group by country)\n",
    "    \"\"\", raise_=False)\n",
    "\n",
    "print(\"All Column types \", [(c, c.type) for c in list(tree.find_all(ast.Column))])\n",
    "print()\n",
    "print(\"Column Expressions\", [(c, c.expression) for c in list(tree.find_all(ast.Column))])\n",
    "print()\n",
    "print(\"Projection Exp types \", [(exp, get_type_of_expression(exp)) for exp in tree.select.projection])\n",
    "print()\n",
    "deps, danglers"
   ]
  },
  {
   "cell_type": "code",
   "execution_count": 8,
   "id": "fd7d4da4",
   "metadata": {},
   "outputs": [
    {
     "name": "stdout",
     "output_type": "stream",
     "text": [
      "All Column types  [(Column(name=Name(name='country', quote_style=''), namespace=None), <ColumnType.STR: 'STR'>), (Column(name=Name(name='revenue', quote_style=''), namespace=None), <ColumnType.FLOAT: 'FLOAT'>), (Column(name=Name(name='revenue', quote_style=''), namespace=None), <ColumnType.FLOAT: 'FLOAT'>), (Column(name=Name(name='sum_revenue', quote_style=''), namespace=None), None)]\n",
      "\n",
      "Column Expressions [(Column(name=Name(name='country', quote_style=''), namespace=None), None), (Column(name=Name(name='revenue', quote_style=''), namespace=None), None), (Column(name=Name(name='revenue', quote_style=''), namespace=None), None), (Column(name=Name(name='sum_revenue', quote_style=''), namespace=None), Alias(name=Name(name='sum_revenue', quote_style=''), namespace=None, child=Function(name=Name(name='Sum', quote_style=''), namespace=Namespace(names=[]), args=[Column(name=Name(name='revenue', quote_style=''), namespace=None)])))]\n",
      "\n",
      "Projection Exp types  [(Column(name=Name(name='sum_revenue', quote_style=''), namespace=None), <ColumnType.FLOAT: 'FLOAT'>)]\n",
      "\n"
     ]
    },
    {
     "data": {
      "text/plain": [
       "({Node(name='purchases_over_a_grand', type=<NodeType.TRANSFORM: 'transform'>, id=23, query='select country, revenue from revenue where revenue>1000.0', created_at=datetime.datetime(2023, 1, 12, 14, 19, 12, 301204), updated_at=datetime.datetime(2023, 1, 12, 14, 19, 12, 301210), description='', columns=[Column(id=129, name='country', dimension_column=None, dimension_id=None, type=<ColumnType.STR: 'STR'>), Column(id=130, name='revenue', dimension_column=None, dimension_id=None, type=<ColumnType.FLOAT: 'FLOAT'>)])},\n",
       " {'oops'})"
      ]
     },
     "execution_count": 8,
     "metadata": {},
     "output_type": "execute_result"
    }
   ],
   "source": [
    "tree, deps, danglers = extract_dependencies(session, \"\"\"\n",
    "    select sum_revenue from (select Sum(revenue) as sum_revenue from purchases_over_a_grand where revenue>1000.0 group by country) as a, oops\n",
    "    \"\"\", raise_=False)\n",
    "\n",
    "print(\"All Column types \", [(c, c.type) for c in list(tree.find_all(ast.Column))])\n",
    "print()\n",
    "print(\"Column Expressions\", [(c, c.expression) for c in list(tree.find_all(ast.Column))])\n",
    "print()\n",
    "print(\"Projection Exp types \", [(exp, get_type_of_expression(exp)) for exp in tree.select.projection])\n",
    "print()\n",
    "deps, danglers"
   ]
  },
  {
   "cell_type": "code",
   "execution_count": null,
   "id": "0a4e59b2",
   "metadata": {},
   "outputs": [],
   "source": []
  }
 ],
 "metadata": {
  "kernelspec": {
   "display_name": "Python 3 (ipykernel)",
   "language": "python",
   "name": "python3"
  },
  "language_info": {
   "codemirror_mode": {
    "name": "ipython",
    "version": 3
   },
   "file_extension": ".py",
   "mimetype": "text/x-python",
   "name": "python",
   "nbconvert_exporter": "python",
   "pygments_lexer": "ipython3",
   "version": "3.10.8"
  }
 },
 "nbformat": 4,
 "nbformat_minor": 5
}
