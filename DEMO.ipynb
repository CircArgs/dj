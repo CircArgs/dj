{
 "cells": [
  {
   "cell_type": "code",
   "execution_count": 1,
   "id": "cfca989c",
   "metadata": {},
   "outputs": [],
   "source": [
    "from dj.construction.compile import compile_query, compile_select\n",
    "from dj.construction.build import build_query\n",
    "from dj.sql.parsing.backends.sqloxide import parse\n",
    "from dj.sql.parsing import ast\n",
    "from dj.utils import get_session\n",
    "session = next(get_session())"
   ]
  },
  {
   "cell_type": "code",
   "execution_count": 2,
   "id": "e0801b98",
   "metadata": {},
   "outputs": [],
   "source": [
    "query = \"\"\"\n",
    "    select Count(id) from dbt.source.jaffle_shop.orders group by dbt.dimension.customers.first_name\n",
    "    \"\"\""
   ]
  },
  {
   "cell_type": "code",
   "execution_count": 3,
   "id": "a9eae6be",
   "metadata": {},
   "outputs": [],
   "source": [
    "query = parse(query)"
   ]
  },
  {
   "cell_type": "code",
   "execution_count": 4,
   "id": "fe5ecc53",
   "metadata": {},
   "outputs": [],
   "source": [
    "compile_query(session, query)"
   ]
  },
  {
   "cell_type": "code",
   "execution_count": 5,
   "id": "86a6ba04",
   "metadata": {},
   "outputs": [],
   "source": [
    "build_query(query)"
   ]
  },
  {
   "cell_type": "code",
   "execution_count": 6,
   "id": "b7b9b0ef",
   "metadata": {
    "scrolled": true
   },
   "outputs": [
    {
     "name": "stdout",
     "output_type": "stream",
     "text": [
      "SELECT  Count(dbt.source.jaffle_shop.orders.id) \n",
      " FROM dbt.source.jaffle_shop.orders\n",
      "LEFT JOIN (SELECT  id,\n",
      "\tfirst_name,\n",
      "\tlast_name \n",
      " FROM dbt.source.jaffle_shop.customers\n",
      " \n",
      ") AS dbt_DOT_dimension_DOT_customers\n",
      "        ON dbt.source.jaffle_shop.orders.user_id = dbt_DOT_dimension_DOT_customers.id \n",
      " GROUP BY  first_name\n"
     ]
    }
   ],
   "source": [
    "print(str(query))"
   ]
  },
  {
   "cell_type": "code",
   "execution_count": null,
   "id": "8cef70b8",
   "metadata": {},
   "outputs": [],
   "source": []
  },
  {
   "cell_type": "code",
   "execution_count": null,
   "id": "e2e9d22b",
   "metadata": {},
   "outputs": [],
   "source": []
  },
  {
   "cell_type": "code",
   "execution_count": 1,
   "id": "3531a590",
   "metadata": {},
   "outputs": [],
   "source": [
    "from dj.construction.extract import extract_dependencies\n",
    "from dj.construction.inference import get_type_of_expression\n",
    "from dj.sql.parsing import ast"
   ]
  },
  {
   "cell_type": "code",
   "execution_count": 2,
   "id": "df1a3ff0",
   "metadata": {},
   "outputs": [],
   "source": [
    "\n",
    "from sqlmodel import select\n",
    "from dj import models\n"
   ]
  },
  {
   "cell_type": "code",
   "execution_count": 3,
   "id": "30bb16de",
   "metadata": {},
   "outputs": [],
   "source": [
    "from typing import Dict, Generator, Iterable, List, Optional, Set, Tuple, Union, cast"
   ]
  },
  {
   "cell_type": "code",
   "execution_count": 4,
   "id": "6120ff7e",
   "metadata": {},
   "outputs": [],
   "source": [
    "from functools import reduce"
   ]
  },
  {
   "cell_type": "code",
   "execution_count": 5,
   "id": "a58bf0c9",
   "metadata": {},
   "outputs": [],
   "source": [
    "from dj.models.node import Node, NodeType"
   ]
  },
  {
   "cell_type": "code",
   "execution_count": 6,
   "id": "21c147de",
   "metadata": {},
   "outputs": [],
   "source": [
    "from string import ascii_letters, digits\n",
    "\n",
    "ACCEPTABLE_CHARS = set(ascii_letters + digits + \"_\")\n",
    "LOOKUP_CHARS = {\n",
    "    \".\": \"DOT\",\n",
    "    \"'\": \"QUOTE\",\n",
    "    '\"': \"DQUOTE\",\n",
    "    \"`\": \"BTICK\",\n",
    "    \"!\": \"EXCL\",\n",
    "    \"@\": \"AT\",\n",
    "    \"#\": \"HASH\",\n",
    "    \"$\": \"DOLLAR\",\n",
    "    \"%\": \"PERC\",\n",
    "    \"^\": \"CARAT\",\n",
    "    \"&\": \"AMP\",\n",
    "    \"*\": \"STAR\",\n",
    "    \"(\": \"LPAREN\",\n",
    "    \")\": \"RPAREN\",\n",
    "    \"[\": \"LBRACK\",\n",
    "    \"]\": \"RBRACK\",\n",
    "    \"-\": \"MINUS\",\n",
    "    \"+\": \"PLUS\",\n",
    "    \"=\": \"EQ\",\n",
    "}\n",
    "\n",
    "\n",
    "def amenable_name(name: str) -> str:\n",
    "    \"\"\"Takes a string and makes it have only alphanumerics/_\"\"\"\n",
    "    ret = []\n",
    "    cont = []\n",
    "    for c in name:\n",
    "        if c in ACCEPTABLE_CHARS:\n",
    "            cont.append(c)\n",
    "        elif c in LOOKUP_CHARS:\n",
    "            ret.append(\"\".join(cont))\n",
    "            ret.append(LOOKUP_CHARS[c])\n",
    "            cont = []\n",
    "        else:\n",
    "            ret.append(\"\".join(cont))\n",
    "            ret.append(\"_\")\n",
    "            cont = []\n",
    "\n",
    "    return \"_\".join(ret) + \"_\" + \"\".join(cont)"
   ]
  },
  {
   "cell_type": "code",
   "execution_count": 7,
   "id": "23989335",
   "metadata": {},
   "outputs": [
    {
     "ename": "RecursionError",
     "evalue": "maximum recursion depth exceeded in comparison",
     "output_type": "error",
     "traceback": [
      "\u001b[0;31m---------------------------------------------------------------------------\u001b[0m",
      "\u001b[0;31mRecursionError\u001b[0m                            Traceback (most recent call last)",
      "Cell \u001b[0;32mIn[7], line 5\u001b[0m\n\u001b[1;32m      1\u001b[0m tree, deps, danglers \u001b[38;5;241m=\u001b[39m extract_dependencies(session, \u001b[38;5;124m\"\"\"\u001b[39m\n\u001b[1;32m      2\u001b[0m \u001b[38;5;124m    select Sum(revenue) from purchases_over_a_grand where revenue>1000.0 group by country\u001b[39m\n\u001b[1;32m      3\u001b[0m \u001b[38;5;124m    \u001b[39m\u001b[38;5;124m\"\"\"\u001b[39m, raise_\u001b[38;5;241m=\u001b[39m\u001b[38;5;28;01mFalse\u001b[39;00m)\n\u001b[0;32m----> 5\u001b[0m \u001b[38;5;28mprint\u001b[39m(\u001b[38;5;124m\"\u001b[39m\u001b[38;5;124mAll Column types \u001b[39m\u001b[38;5;124m\"\u001b[39m, [(c, c\u001b[38;5;241m.\u001b[39mtype) \u001b[38;5;28;01mfor\u001b[39;00m c \u001b[38;5;129;01min\u001b[39;00m \u001b[38;5;28mlist\u001b[39m(tree\u001b[38;5;241m.\u001b[39mfind_all(ast\u001b[38;5;241m.\u001b[39mColumn))])\n\u001b[1;32m      6\u001b[0m \u001b[38;5;28mprint\u001b[39m()\n\u001b[1;32m      7\u001b[0m \u001b[38;5;28mprint\u001b[39m(\u001b[38;5;124m\"\u001b[39m\u001b[38;5;124mColumn Expressions\u001b[39m\u001b[38;5;124m\"\u001b[39m, [(c, c\u001b[38;5;241m.\u001b[39mexpression) \u001b[38;5;28;01mfor\u001b[39;00m c \u001b[38;5;129;01min\u001b[39;00m \u001b[38;5;28mlist\u001b[39m(tree\u001b[38;5;241m.\u001b[39mfind_all(ast\u001b[38;5;241m.\u001b[39mColumn))])\n",
      "Cell \u001b[0;32mIn[7], line 5\u001b[0m, in \u001b[0;36m<listcomp>\u001b[0;34m(.0)\u001b[0m\n\u001b[1;32m      1\u001b[0m tree, deps, danglers \u001b[38;5;241m=\u001b[39m extract_dependencies(session, \u001b[38;5;124m\"\"\"\u001b[39m\n\u001b[1;32m      2\u001b[0m \u001b[38;5;124m    select Sum(revenue) from purchases_over_a_grand where revenue>1000.0 group by country\u001b[39m\n\u001b[1;32m      3\u001b[0m \u001b[38;5;124m    \u001b[39m\u001b[38;5;124m\"\"\"\u001b[39m, raise_\u001b[38;5;241m=\u001b[39m\u001b[38;5;28;01mFalse\u001b[39;00m)\n\u001b[0;32m----> 5\u001b[0m \u001b[38;5;28mprint\u001b[39m(\u001b[38;5;124m\"\u001b[39m\u001b[38;5;124mAll Column types \u001b[39m\u001b[38;5;124m\"\u001b[39m, [(c, \u001b[43mc\u001b[49m\u001b[38;5;241;43m.\u001b[39;49m\u001b[43mtype\u001b[49m) \u001b[38;5;28;01mfor\u001b[39;00m c \u001b[38;5;129;01min\u001b[39;00m \u001b[38;5;28mlist\u001b[39m(tree\u001b[38;5;241m.\u001b[39mfind_all(ast\u001b[38;5;241m.\u001b[39mColumn))])\n\u001b[1;32m      6\u001b[0m \u001b[38;5;28mprint\u001b[39m()\n\u001b[1;32m      7\u001b[0m \u001b[38;5;28mprint\u001b[39m(\u001b[38;5;124m\"\u001b[39m\u001b[38;5;124mColumn Expressions\u001b[39m\u001b[38;5;124m\"\u001b[39m, [(c, c\u001b[38;5;241m.\u001b[39mexpression) \u001b[38;5;28;01mfor\u001b[39;00m c \u001b[38;5;129;01min\u001b[39;00m \u001b[38;5;28mlist\u001b[39m(tree\u001b[38;5;241m.\u001b[39mfind_all(ast\u001b[38;5;241m.\u001b[39mColumn))])\n",
      "File \u001b[0;32m/code/dj/sql/parsing/ast.py:584\u001b[0m, in \u001b[0;36mColumn.type\u001b[0;34m(self)\u001b[0m\n\u001b[1;32m    582\u001b[0m \u001b[38;5;28;01mif\u001b[39;00m \u001b[38;5;28mself\u001b[39m\u001b[38;5;241m.\u001b[39m_type:\n\u001b[1;32m    583\u001b[0m     \u001b[38;5;28;01mreturn\u001b[39;00m \u001b[38;5;28mself\u001b[39m\u001b[38;5;241m.\u001b[39m_type \n\u001b[0;32m--> 584\u001b[0m \u001b[38;5;28;01mreturn\u001b[39;00m \u001b[43mget_type_of_expression\u001b[49m\u001b[43m(\u001b[49m\u001b[38;5;28;43mself\u001b[39;49m\u001b[43m)\u001b[49m\n",
      "File \u001b[0;32m/usr/local/lib/python3.10/functools.py:889\u001b[0m, in \u001b[0;36msingledispatch.<locals>.wrapper\u001b[0;34m(*args, **kw)\u001b[0m\n\u001b[1;32m    885\u001b[0m \u001b[38;5;28;01mif\u001b[39;00m \u001b[38;5;129;01mnot\u001b[39;00m args:\n\u001b[1;32m    886\u001b[0m     \u001b[38;5;28;01mraise\u001b[39;00m \u001b[38;5;167;01mTypeError\u001b[39;00m(\u001b[38;5;124mf\u001b[39m\u001b[38;5;124m'\u001b[39m\u001b[38;5;132;01m{\u001b[39;00mfuncname\u001b[38;5;132;01m}\u001b[39;00m\u001b[38;5;124m requires at least \u001b[39m\u001b[38;5;124m'\u001b[39m\n\u001b[1;32m    887\u001b[0m                     \u001b[38;5;124m'\u001b[39m\u001b[38;5;124m1 positional argument\u001b[39m\u001b[38;5;124m'\u001b[39m)\n\u001b[0;32m--> 889\u001b[0m \u001b[38;5;28;01mreturn\u001b[39;00m \u001b[43mdispatch\u001b[49m\u001b[43m(\u001b[49m\u001b[43margs\u001b[49m\u001b[43m[\u001b[49m\u001b[38;5;241;43m0\u001b[39;49m\u001b[43m]\u001b[49m\u001b[38;5;241;43m.\u001b[39;49m\u001b[38;5;18;43m__class__\u001b[39;49m\u001b[43m)\u001b[49m\u001b[43m(\u001b[49m\u001b[38;5;241;43m*\u001b[39;49m\u001b[43margs\u001b[49m\u001b[43m,\u001b[49m\u001b[43m \u001b[49m\u001b[38;5;241;43m*\u001b[39;49m\u001b[38;5;241;43m*\u001b[39;49m\u001b[43mkw\u001b[49m\u001b[43m)\u001b[49m\n",
      "File \u001b[0;32m/code/dj/construction/inference.py:28\u001b[0m, in \u001b[0;36m_\u001b[0;34m(expression)\u001b[0m\n\u001b[1;32m     25\u001b[0m \u001b[38;5;129m@get_type_of_expression\u001b[39m\u001b[38;5;241m.\u001b[39mregister\n\u001b[1;32m     26\u001b[0m \u001b[38;5;28;01mdef\u001b[39;00m \u001b[38;5;21m_\u001b[39m(expression: ast\u001b[38;5;241m.\u001b[39mColumn):\n\u001b[1;32m     27\u001b[0m     \u001b[38;5;66;03m# column has already determined/stated its type\u001b[39;00m\n\u001b[0;32m---> 28\u001b[0m     \u001b[38;5;28;01mif\u001b[39;00m \u001b[43mexpression\u001b[49m\u001b[38;5;241;43m.\u001b[39;49m\u001b[43mtype\u001b[49m:\n\u001b[1;32m     29\u001b[0m         \u001b[38;5;28;01mreturn\u001b[39;00m expression\u001b[38;5;241m.\u001b[39mtype\n\u001b[1;32m     31\u001b[0m     \u001b[38;5;66;03m# column was derived from some other expression we can get the type of\u001b[39;00m\n",
      "File \u001b[0;32m/code/dj/sql/parsing/ast.py:584\u001b[0m, in \u001b[0;36mColumn.type\u001b[0;34m(self)\u001b[0m\n\u001b[1;32m    582\u001b[0m \u001b[38;5;28;01mif\u001b[39;00m \u001b[38;5;28mself\u001b[39m\u001b[38;5;241m.\u001b[39m_type:\n\u001b[1;32m    583\u001b[0m     \u001b[38;5;28;01mreturn\u001b[39;00m \u001b[38;5;28mself\u001b[39m\u001b[38;5;241m.\u001b[39m_type \n\u001b[0;32m--> 584\u001b[0m \u001b[38;5;28;01mreturn\u001b[39;00m \u001b[43mget_type_of_expression\u001b[49m\u001b[43m(\u001b[49m\u001b[38;5;28;43mself\u001b[39;49m\u001b[43m)\u001b[49m\n",
      "File \u001b[0;32m/usr/local/lib/python3.10/functools.py:889\u001b[0m, in \u001b[0;36msingledispatch.<locals>.wrapper\u001b[0;34m(*args, **kw)\u001b[0m\n\u001b[1;32m    885\u001b[0m \u001b[38;5;28;01mif\u001b[39;00m \u001b[38;5;129;01mnot\u001b[39;00m args:\n\u001b[1;32m    886\u001b[0m     \u001b[38;5;28;01mraise\u001b[39;00m \u001b[38;5;167;01mTypeError\u001b[39;00m(\u001b[38;5;124mf\u001b[39m\u001b[38;5;124m'\u001b[39m\u001b[38;5;132;01m{\u001b[39;00mfuncname\u001b[38;5;132;01m}\u001b[39;00m\u001b[38;5;124m requires at least \u001b[39m\u001b[38;5;124m'\u001b[39m\n\u001b[1;32m    887\u001b[0m                     \u001b[38;5;124m'\u001b[39m\u001b[38;5;124m1 positional argument\u001b[39m\u001b[38;5;124m'\u001b[39m)\n\u001b[0;32m--> 889\u001b[0m \u001b[38;5;28;01mreturn\u001b[39;00m \u001b[43mdispatch\u001b[49m\u001b[43m(\u001b[49m\u001b[43margs\u001b[49m\u001b[43m[\u001b[49m\u001b[38;5;241;43m0\u001b[39;49m\u001b[43m]\u001b[49m\u001b[38;5;241;43m.\u001b[39;49m\u001b[38;5;18;43m__class__\u001b[39;49m\u001b[43m)\u001b[49m\u001b[43m(\u001b[49m\u001b[38;5;241;43m*\u001b[39;49m\u001b[43margs\u001b[49m\u001b[43m,\u001b[49m\u001b[43m \u001b[49m\u001b[38;5;241;43m*\u001b[39;49m\u001b[38;5;241;43m*\u001b[39;49m\u001b[43mkw\u001b[49m\u001b[43m)\u001b[49m\n",
      "File \u001b[0;32m/code/dj/construction/inference.py:28\u001b[0m, in \u001b[0;36m_\u001b[0;34m(expression)\u001b[0m\n\u001b[1;32m     25\u001b[0m \u001b[38;5;129m@get_type_of_expression\u001b[39m\u001b[38;5;241m.\u001b[39mregister\n\u001b[1;32m     26\u001b[0m \u001b[38;5;28;01mdef\u001b[39;00m \u001b[38;5;21m_\u001b[39m(expression: ast\u001b[38;5;241m.\u001b[39mColumn):\n\u001b[1;32m     27\u001b[0m     \u001b[38;5;66;03m# column has already determined/stated its type\u001b[39;00m\n\u001b[0;32m---> 28\u001b[0m     \u001b[38;5;28;01mif\u001b[39;00m \u001b[43mexpression\u001b[49m\u001b[38;5;241;43m.\u001b[39;49m\u001b[43mtype\u001b[49m:\n\u001b[1;32m     29\u001b[0m         \u001b[38;5;28;01mreturn\u001b[39;00m expression\u001b[38;5;241m.\u001b[39mtype\n\u001b[1;32m     31\u001b[0m     \u001b[38;5;66;03m# column was derived from some other expression we can get the type of\u001b[39;00m\n",
      "    \u001b[0;31m[... skipping similar frames: Column.type at line 584 (987 times), singledispatch.<locals>.wrapper at line 889 (987 times), _ at line 28 (986 times)]\u001b[0m\n",
      "File \u001b[0;32m/code/dj/construction/inference.py:28\u001b[0m, in \u001b[0;36m_\u001b[0;34m(expression)\u001b[0m\n\u001b[1;32m     25\u001b[0m \u001b[38;5;129m@get_type_of_expression\u001b[39m\u001b[38;5;241m.\u001b[39mregister\n\u001b[1;32m     26\u001b[0m \u001b[38;5;28;01mdef\u001b[39;00m \u001b[38;5;21m_\u001b[39m(expression: ast\u001b[38;5;241m.\u001b[39mColumn):\n\u001b[1;32m     27\u001b[0m     \u001b[38;5;66;03m# column has already determined/stated its type\u001b[39;00m\n\u001b[0;32m---> 28\u001b[0m     \u001b[38;5;28;01mif\u001b[39;00m \u001b[43mexpression\u001b[49m\u001b[38;5;241;43m.\u001b[39;49m\u001b[43mtype\u001b[49m:\n\u001b[1;32m     29\u001b[0m         \u001b[38;5;28;01mreturn\u001b[39;00m expression\u001b[38;5;241m.\u001b[39mtype\n\u001b[1;32m     31\u001b[0m     \u001b[38;5;66;03m# column was derived from some other expression we can get the type of\u001b[39;00m\n",
      "File \u001b[0;32m/code/dj/sql/parsing/ast.py:584\u001b[0m, in \u001b[0;36mColumn.type\u001b[0;34m(self)\u001b[0m\n\u001b[1;32m    582\u001b[0m \u001b[38;5;28;01mif\u001b[39;00m \u001b[38;5;28mself\u001b[39m\u001b[38;5;241m.\u001b[39m_type:\n\u001b[1;32m    583\u001b[0m     \u001b[38;5;28;01mreturn\u001b[39;00m \u001b[38;5;28mself\u001b[39m\u001b[38;5;241m.\u001b[39m_type \n\u001b[0;32m--> 584\u001b[0m \u001b[38;5;28;01mreturn\u001b[39;00m \u001b[43mget_type_of_expression\u001b[49m\u001b[43m(\u001b[49m\u001b[38;5;28;43mself\u001b[39;49m\u001b[43m)\u001b[49m\n",
      "File \u001b[0;32m/usr/local/lib/python3.10/functools.py:889\u001b[0m, in \u001b[0;36msingledispatch.<locals>.wrapper\u001b[0;34m(*args, **kw)\u001b[0m\n\u001b[1;32m    885\u001b[0m \u001b[38;5;28;01mif\u001b[39;00m \u001b[38;5;129;01mnot\u001b[39;00m args:\n\u001b[1;32m    886\u001b[0m     \u001b[38;5;28;01mraise\u001b[39;00m \u001b[38;5;167;01mTypeError\u001b[39;00m(\u001b[38;5;124mf\u001b[39m\u001b[38;5;124m'\u001b[39m\u001b[38;5;132;01m{\u001b[39;00mfuncname\u001b[38;5;132;01m}\u001b[39;00m\u001b[38;5;124m requires at least \u001b[39m\u001b[38;5;124m'\u001b[39m\n\u001b[1;32m    887\u001b[0m                     \u001b[38;5;124m'\u001b[39m\u001b[38;5;124m1 positional argument\u001b[39m\u001b[38;5;124m'\u001b[39m)\n\u001b[0;32m--> 889\u001b[0m \u001b[38;5;28;01mreturn\u001b[39;00m \u001b[43mdispatch\u001b[49m\u001b[43m(\u001b[49m\u001b[43margs\u001b[49m\u001b[43m[\u001b[49m\u001b[38;5;241;43m0\u001b[39;49m\u001b[43m]\u001b[49m\u001b[38;5;241;43m.\u001b[39;49m\u001b[38;5;18;43m__class__\u001b[39;49m\u001b[43m)\u001b[49m(\u001b[38;5;241m*\u001b[39margs, \u001b[38;5;241m*\u001b[39m\u001b[38;5;241m*\u001b[39mkw)\n",
      "File \u001b[0;32m/usr/local/lib/python3.10/functools.py:832\u001b[0m, in \u001b[0;36msingledispatch.<locals>.dispatch\u001b[0;34m(cls)\u001b[0m\n\u001b[1;32m    830\u001b[0m         cache_token \u001b[38;5;241m=\u001b[39m current_token\n\u001b[1;32m    831\u001b[0m \u001b[38;5;28;01mtry\u001b[39;00m:\n\u001b[0;32m--> 832\u001b[0m     impl \u001b[38;5;241m=\u001b[39m \u001b[43mdispatch_cache\u001b[49m\u001b[43m[\u001b[49m\u001b[38;5;28;43mcls\u001b[39;49m\u001b[43m]\u001b[49m\n\u001b[1;32m    833\u001b[0m \u001b[38;5;28;01mexcept\u001b[39;00m \u001b[38;5;167;01mKeyError\u001b[39;00m:\n\u001b[1;32m    834\u001b[0m     \u001b[38;5;28;01mtry\u001b[39;00m:\n",
      "File \u001b[0;32m/usr/local/lib/python3.10/weakref.py:416\u001b[0m, in \u001b[0;36mWeakKeyDictionary.__getitem__\u001b[0;34m(self, key)\u001b[0m\n\u001b[1;32m    415\u001b[0m \u001b[38;5;28;01mdef\u001b[39;00m \u001b[38;5;21m__getitem__\u001b[39m(\u001b[38;5;28mself\u001b[39m, key):\n\u001b[0;32m--> 416\u001b[0m     \u001b[38;5;28;01mreturn\u001b[39;00m \u001b[38;5;28;43mself\u001b[39;49m\u001b[38;5;241;43m.\u001b[39;49m\u001b[43mdata\u001b[49m\u001b[43m[\u001b[49m\u001b[43mref\u001b[49m\u001b[43m(\u001b[49m\u001b[43mkey\u001b[49m\u001b[43m)\u001b[49m\u001b[43m]\u001b[49m\n",
      "\u001b[0;31mRecursionError\u001b[0m: maximum recursion depth exceeded in comparison"
     ]
    }
   ],
   "source": [
    "tree, deps, danglers = extract_dependencies(session, \"\"\"\n",
    "    select Sum(revenue) from purchases_over_a_grand where revenue>1000.0 group by country\n",
    "    \"\"\", raise_=False)\n",
    "\n",
    "print(\"All Column types \", [(c, c.type) for c in list(tree.find_all(ast.Column))])\n",
    "print()\n",
    "print(\"Column Expressions\", [(c, c.expression) for c in list(tree.find_all(ast.Column))])\n",
    "print()\n",
    "print(\"Projection Exp types \", [(exp, get_type_of_expression(exp)) for exp in tree.select.projection])\n",
    "print()\n",
    "deps, danglers"
   ]
  },
  {
   "cell_type": "code",
   "execution_count": 8,
   "id": "d361dc0c",
   "metadata": {},
   "outputs": [],
   "source": [
    "from dj.sql.parsing.backends.sqloxide import parse\n",
    "\n",
    "from dj.construction.compile import compile_query, get_dj_node\n",
    "\n",
    "# from dj.construction.build import build_query"
   ]
  },
  {
   "cell_type": "code",
   "execution_count": 9,
   "id": "bd8dd545",
   "metadata": {},
   "outputs": [],
   "source": [
    "from copy import deepcopy"
   ]
  },
  {
   "cell_type": "code",
   "execution_count": 10,
   "id": "f60d1bb0",
   "metadata": {},
   "outputs": [],
   "source": [
    "from itertools import chain"
   ]
  },
  {
   "cell_type": "code",
   "execution_count": 27,
   "id": "263daf60",
   "metadata": {},
   "outputs": [],
   "source": [
    "query = parse(\"\"\"\n",
    "    select Count(id) from dbt.source.jaffle_shop.orders group by dbt.dimension.customers.first_name\n",
    "    \"\"\")"
   ]
  },
  {
   "cell_type": "code",
   "execution_count": 28,
   "id": "2ef0af58",
   "metadata": {},
   "outputs": [
    {
     "name": "stdout",
     "output_type": "stream",
     "text": [
      "SELECT  Count(id) \n",
      " FROM dbt.source.jaffle_shop.orders\n",
      " \n",
      " GROUP BY  dbt.dimension.customers.first_name\n"
     ]
    }
   ],
   "source": [
    "print(str(query))"
   ]
  },
  {
   "cell_type": "code",
   "execution_count": 29,
   "id": "b02b5ebe",
   "metadata": {},
   "outputs": [],
   "source": [
    "q2 = deepcopy(query)"
   ]
  },
  {
   "cell_type": "code",
   "execution_count": 30,
   "id": "20b3bc41",
   "metadata": {
    "scrolled": true
   },
   "outputs": [
    {
     "name": "stdout",
     "output_type": "stream",
     "text": [
      "SELECT  Count(id) \n",
      " FROM dbt.source.jaffle_shop.orders\n",
      " \n",
      " GROUP BY  dbt.dimension.customers.first_name\n"
     ]
    }
   ],
   "source": [
    "print(str(q2))#precompile"
   ]
  },
  {
   "cell_type": "code",
   "execution_count": 31,
   "id": "575dcfb2",
   "metadata": {},
   "outputs": [],
   "source": [
    "query_deps = compile_query(session, query)"
   ]
  },
  {
   "cell_type": "code",
   "execution_count": 32,
   "id": "0af5b8e1",
   "metadata": {},
   "outputs": [],
   "source": [
    "q3 = deepcopy(query)"
   ]
  },
  {
   "cell_type": "code",
   "execution_count": 33,
   "id": "4b8aabb0",
   "metadata": {},
   "outputs": [
    {
     "name": "stdout",
     "output_type": "stream",
     "text": [
      "SELECT  Count(dbt.source.jaffle_shop.orders.id) \n",
      " FROM dbt.source.jaffle_shop.orders\n",
      " \n",
      " GROUP BY  dimension.customers.dbt.first_name\n"
     ]
    }
   ],
   "source": [
    "print(str(q3))#post compile\n",
    "# notice there is no ambiguity in column references"
   ]
  },
  {
   "cell_type": "code",
   "execution_count": 34,
   "id": "5589e4f2",
   "metadata": {
    "scrolled": false
   },
   "outputs": [
    {
     "data": {
      "text/plain": [
       "[<NodeType.DIMENSION: 'dimension'>]"
      ]
     },
     "execution_count": 34,
     "metadata": {},
     "output_type": "execute_result"
    }
   ],
   "source": [
    "# you can see there is a column with a table that references a dj node that is a dimension\n",
    "# the column's .table, not being found in tables in the FROM would mean it would need to be joined\n",
    "[c.table.dj_node.type for c in chain(*(exp.find_all(ast.Column) for exp in q3.select.group_by))]"
   ]
  },
  {
   "cell_type": "code",
   "execution_count": 35,
   "id": "e87a1e78",
   "metadata": {},
   "outputs": [],
   "source": [
    "from dj.models.column import Column"
   ]
  },
  {
   "cell_type": "code",
   "execution_count": 36,
   "id": "9fbab41c",
   "metadata": {},
   "outputs": [],
   "source": [
    "select = query.select"
   ]
  },
  {
   "cell_type": "code",
   "execution_count": 37,
   "id": "f4a998ee",
   "metadata": {},
   "outputs": [],
   "source": [
    "dimension_columns: Dict[Node, List[ast.Column]] = {}\n",
    "tables: Dict[Node, List[ast.Table]] = {}\n",
    "\n",
    "for table in select.find_all(ast.Table):\n",
    "    node = table.dj_node\n",
    "    node_type = node.type\n",
    "    tables[node] = (tables.get(node) or [])\n",
    "    tables[node].append(table)\n",
    "        \n",
    "for col in select.find_all(ast.Column):\n",
    "    if isinstance(col.table, ast.Table):\n",
    "        if node:= col.table.dj_node:\n",
    "            if node.type == NodeType.DIMENSION:\n",
    "                dimension_columns[node] = (dimension_columns.get(node) or [])\n",
    "                dimension_columns[node].append(col)\n",
    "\n",
    "for dim_node, dim_cols in dimension_columns.items():\n",
    "    if dim_node in tables:\n",
    "        pass\n",
    "    else:# need to join dimension\n",
    "        alias = amenable_name(dim_node.name)\n",
    "        join_info: Dict[str, Tuple[Node, List[Column]]] = {}\n",
    "        for table_node in tables:\n",
    "            join_dim_cols = [col for col in table_node.columns if col.dimension == dim_node]\n",
    "            join_info[table_node] = join_dim_cols\n",
    "        dim_query = parse(dim_node.query, dialect)\n",
    "        \n",
    "        \n",
    "        if dim_query.ctes: #will have to build ctes in as subqueries to the select\n",
    "            raise Exception(\"DJ does not currently support ctes here.\")\n",
    "        \n",
    "        dim_select = dim_query.select\n",
    "        dim_ast = ast.Alias(ast.Name(alias), child=dim_select)\n",
    "        for dim_col in dim_cols:\n",
    "            dim_col.add_table(dim_select)\n",
    "        \n",
    "        joins: List[ast.Join] = []\n",
    "\n",
    "        for table_node, cols in join_info.items():\n",
    "            ast_tables = tables[table_node]\n",
    "            for table in ast_tables:\n",
    "                on = []\n",
    "                for col in cols:\n",
    "                    on.append(\n",
    "                        ast.BinaryOp(\n",
    "                            ast.BinaryOpKind.Eq,\n",
    "                            ast.Column(ast.Name(col.name), _table=table),\n",
    "                            ast.Column(\n",
    "                                ast.Name(col.dimension_column), _table = dim_ast\n",
    "                            ),\n",
    "                        ),\n",
    "                    )\n",
    "            joins.append(\n",
    "                ast.Join(\n",
    "                    ast.JoinKind.LeftOuter,\n",
    "                    dim_ast,\n",
    "                    reduce(lambda l, r: ast.BinaryOp(ast.BinaryOpKind.And, l, r), on),\n",
    "                ),\n",
    "            )\n",
    "        \n",
    "        select.from_.joins += joins\n",
    "        \n",
    "for node, tables in tables.items():\n",
    "    if node.type==NodeType.TRANSFORM:\n",
    "        tfm_query = parse(node.query, dialect)\n",
    "        \n",
    "        \n",
    "        if tfm_query.ctes: #will have to build ctes in as subqueries to the select\n",
    "            raise Exception(\"DJ does not currently support ctes here.\")\n",
    "        \n",
    "        tfm_select = tfm_query.select\n",
    "        tfm_ast = ast.Alias(ast.Name(alias), child=tfm_select)\n",
    "        for table in tables:\n",
    "            select.replace(table, tfm_ast)"
   ]
  },
  {
   "cell_type": "code",
   "execution_count": 41,
   "id": "ff280afa",
   "metadata": {},
   "outputs": [
    {
     "name": "stdout",
     "output_type": "stream",
     "text": [
      "SELECT  Count(dbt.source.jaffle_shop.orders.id) \n",
      " FROM dbt.source.jaffle_shop.orders\n",
      "LEFT JOIN (SELECT  id,\n",
      "\tfirst_name,\n",
      "\tlast_name \n",
      " FROM dbt.source.jaffle_shop.customers\n",
      " \n",
      ") AS dbt_DOT_dimension_DOT_customers\n",
      "        ON dbt.source.jaffle_shop.orders.user_id = dbt_DOT_dimension_DOT_customers.id \n",
      " GROUP BY  first_name\n"
     ]
    }
   ],
   "source": [
    "print(str(query))"
   ]
  },
  {
   "cell_type": "code",
   "execution_count": 31,
   "id": "7dc3b154",
   "metadata": {},
   "outputs": [
    {
     "data": {
      "text/plain": [
       "'dbt_DOT_dimension_DOT_customers'"
      ]
     },
     "execution_count": 31,
     "metadata": {},
     "output_type": "execute_result"
    },
    {
     "data": {
      "application/javascript": [
       "\n",
       "            setTimeout(function() {\n",
       "                var nbb_cell_id = 31;\n",
       "                var nbb_unformatted_code = \"query.select.from_.joins[0].on.right.table.name.name\";\n",
       "                var nbb_formatted_code = \"query.select.from_.joins[0].on.right.table.name.name\";\n",
       "                var nbb_cells = Jupyter.notebook.get_cells();\n",
       "                for (var i = 0; i < nbb_cells.length; ++i) {\n",
       "                    if (nbb_cells[i].input_prompt_number == nbb_cell_id) {\n",
       "                        if (nbb_cells[i].get_text() == nbb_unformatted_code) {\n",
       "                             nbb_cells[i].set_text(nbb_formatted_code);\n",
       "                        }\n",
       "                        break;\n",
       "                    }\n",
       "                }\n",
       "            }, 500);\n",
       "            "
      ],
      "text/plain": [
       "<IPython.core.display.Javascript object>"
      ]
     },
     "metadata": {},
     "output_type": "display_data"
    }
   ],
   "source": [
    "query.select.from_.joins[0].on.right.table.name.name"
   ]
  },
  {
   "cell_type": "code",
   "execution_count": 57,
   "id": "8302f6c4",
   "metadata": {},
   "outputs": [
    {
     "name": "stdout",
     "output_type": "stream",
     "text": [
      "(SELECT  id,\n",
      "\tfirst_name,\n",
      "\tlast_name \n",
      " FROM dbt.source.jaffle_shop.customers\n",
      " \n",
      ") AS dbt_DOT_dimension_DOT_customers.id\n"
     ]
    },
    {
     "data": {
      "application/javascript": [
       "\n",
       "            setTimeout(function() {\n",
       "                var nbb_cell_id = 57;\n",
       "                var nbb_unformatted_code = \"print(str(query.select.from_.joins[0].on.right))\";\n",
       "                var nbb_formatted_code = \"print(str(query.select.from_.joins[0].on.right))\";\n",
       "                var nbb_cells = Jupyter.notebook.get_cells();\n",
       "                for (var i = 0; i < nbb_cells.length; ++i) {\n",
       "                    if (nbb_cells[i].input_prompt_number == nbb_cell_id) {\n",
       "                        if (nbb_cells[i].get_text() == nbb_unformatted_code) {\n",
       "                             nbb_cells[i].set_text(nbb_formatted_code);\n",
       "                        }\n",
       "                        break;\n",
       "                    }\n",
       "                }\n",
       "            }, 500);\n",
       "            "
      ],
      "text/plain": [
       "<IPython.core.display.Javascript object>"
      ]
     },
     "metadata": {},
     "output_type": "display_data"
    }
   ],
   "source": [
    "print(str(query.select.from_.joins[0].on.right))"
   ]
  },
  {
   "cell_type": "code",
   "execution_count": 51,
   "id": "921b5955",
   "metadata": {},
   "outputs": [
    {
     "name": "stdout",
     "output_type": "stream",
     "text": [
      "dbt.source.jaffle_shop.orders.user_id = (SELECT  id,\n",
      "\tfirst_name,\n",
      "\tlast_name \n",
      " FROM dbt.source.jaffle_shop.customers\n",
      " \n",
      ") AS dbt_DOT_dimension_DOT_customers.id\n"
     ]
    },
    {
     "data": {
      "application/javascript": [
       "\n",
       "            setTimeout(function() {\n",
       "                var nbb_cell_id = 51;\n",
       "                var nbb_unformatted_code = \"print(str((query.select.from_.joins[0].on)))\";\n",
       "                var nbb_formatted_code = \"print(str((query.select.from_.joins[0].on)))\";\n",
       "                var nbb_cells = Jupyter.notebook.get_cells();\n",
       "                for (var i = 0; i < nbb_cells.length; ++i) {\n",
       "                    if (nbb_cells[i].input_prompt_number == nbb_cell_id) {\n",
       "                        if (nbb_cells[i].get_text() == nbb_unformatted_code) {\n",
       "                             nbb_cells[i].set_text(nbb_formatted_code);\n",
       "                        }\n",
       "                        break;\n",
       "                    }\n",
       "                }\n",
       "            }, 500);\n",
       "            "
      ],
      "text/plain": [
       "<IPython.core.display.Javascript object>"
      ]
     },
     "metadata": {},
     "output_type": "display_data"
    }
   ],
   "source": [
    "print(str((query.select.from_.joins[0].on)))"
   ]
  },
  {
   "cell_type": "code",
   "execution_count": 37,
   "id": "4b0d7eb2",
   "metadata": {},
   "outputs": [
    {
     "data": {
      "text/plain": [
       "Query(select=Select(from_=From(tables=[Table(name=Name(name='orders', quote_style=''), namespace=Namespace(names=[Name(name='dbt', quote_style=''), Name(name='source', quote_style=''), Name(name='jaffle_shop', quote_style='')]))], joins=[Join(kind=JoinKind.LeftOuter, table=Alias(name=Name(name='dbt_DOT_dimension_DOT_customers', quote_style=''), namespace=None, child=Select(from_=From(tables=[Table(name=Name(name='customers', quote_style=''), namespace=Namespace(names=[Name(name='dbt', quote_style=''), Name(name='source', quote_style=''), Name(name='jaffle_shop', quote_style='')]))], joins=[]), group_by=[], having=None, projection=[Column(name=Name(name='id', quote_style=''), namespace=None), Column(name=Name(name='first_name', quote_style=''), namespace=None), Column(name=Name(name='last_name', quote_style=''), namespace=None)], where=None, limit=None, distinct=False)), on=BinaryOp(op=BinaryOpKind.Eq, left=Column(name=Name(name='user_id', quote_style=''), namespace=None), right=Column(name=Name(name='id', quote_style=''), namespace=None)))]), group_by=[Column(name=Name(name='first_name', quote_style=''), namespace=None)], having=None, projection=[Function(name=Name(name='Count', quote_style=''), namespace=Namespace(names=[]), args=[Column(name=Name(name='id', quote_style=''), namespace=None)])], where=None, limit=None, distinct=False), ctes=[])"
      ]
     },
     "execution_count": 37,
     "metadata": {},
     "output_type": "execute_result"
    },
    {
     "data": {
      "application/javascript": [
       "\n",
       "            setTimeout(function() {\n",
       "                var nbb_cell_id = 37;\n",
       "                var nbb_unformatted_code = \"\\nQuery(select=Select(from_=From(tables=[Table(name=Name(name='orders', quote_style=''), namespace=Namespace(names=[Name(name='dbt', quote_style=''), Name(name='source', quote_style=''), Name(name='jaffle_shop', quote_style='')]))], joins=[Join(kind=JoinKind.LeftOuter, table=Alias(name=Name(name='dbt_DOT_dimension_DOT_customers', quote_style=''), namespace=None, child=Select(from_=From(tables=[Table(name=Name(name='customers', quote_style=''), namespace=Namespace(names=[Name(name='dbt', quote_style=''), Name(name='source', quote_style=''), Name(name='jaffle_shop', quote_style='')]))], joins=[]), group_by=[], having=None, projection=[Column(name=Name(name='id', quote_style=''), namespace=None), Column(name=Name(name='first_name', quote_style=''), namespace=None), Column(name=Name(name='last_name', quote_style=''), namespace=None)], where=None, limit=None, distinct=False)), on=BinaryOp(op=BinaryOpKind.Eq, left=Column(name=Name(name='user_id', quote_style=''), namespace=None), right=Column(name=Name(name='id', quote_style=''), namespace=None)))]), group_by=[Column(name=Name(name='first_name', quote_style=''), namespace=None)], having=None, projection=[Function(name=Name(name='Count', quote_style=''), namespace=Namespace(names=[]), args=[Column(name=Name(name='id', quote_style=''), namespace=None)])], where=None, limit=None, distinct=False), ctes=[])\";\n",
       "                var nbb_formatted_code = \"Query(\\n    select=Select(\\n        from_=From(\\n            tables=[\\n                Table(\\n                    name=Name(name=\\\"orders\\\", quote_style=\\\"\\\"),\\n                    namespace=Namespace(\\n                        names=[\\n                            Name(name=\\\"dbt\\\", quote_style=\\\"\\\"),\\n                            Name(name=\\\"source\\\", quote_style=\\\"\\\"),\\n                            Name(name=\\\"jaffle_shop\\\", quote_style=\\\"\\\"),\\n                        ]\\n                    ),\\n                )\\n            ],\\n            joins=[\\n                Join(\\n                    kind=JoinKind.LeftOuter,\\n                    table=Alias(\\n                        name=Name(\\n                            name=\\\"dbt_DOT_dimension_DOT_customers\\\", quote_style=\\\"\\\"\\n                        ),\\n                        namespace=None,\\n                        child=Select(\\n                            from_=From(\\n                                tables=[\\n                                    Table(\\n                                        name=Name(name=\\\"customers\\\", quote_style=\\\"\\\"),\\n                                        namespace=Namespace(\\n                                            names=[\\n                                                Name(name=\\\"dbt\\\", quote_style=\\\"\\\"),\\n                                                Name(name=\\\"source\\\", quote_style=\\\"\\\"),\\n                                                Name(\\n                                                    name=\\\"jaffle_shop\\\", quote_style=\\\"\\\"\\n                                                ),\\n                                            ]\\n                                        ),\\n                                    )\\n                                ],\\n                                joins=[],\\n                            ),\\n                            group_by=[],\\n                            having=None,\\n                            projection=[\\n                                Column(\\n                                    name=Name(name=\\\"id\\\", quote_style=\\\"\\\"), namespace=None\\n                                ),\\n                                Column(\\n                                    name=Name(name=\\\"first_name\\\", quote_style=\\\"\\\"),\\n                                    namespace=None,\\n                                ),\\n                                Column(\\n                                    name=Name(name=\\\"last_name\\\", quote_style=\\\"\\\"),\\n                                    namespace=None,\\n                                ),\\n                            ],\\n                            where=None,\\n                            limit=None,\\n                            distinct=False,\\n                        ),\\n                    ),\\n                    on=BinaryOp(\\n                        op=BinaryOpKind.Eq,\\n                        left=Column(\\n                            name=Name(name=\\\"user_id\\\", quote_style=\\\"\\\"), namespace=None\\n                        ),\\n                        right=Column(\\n                            name=Name(name=\\\"id\\\", quote_style=\\\"\\\"), namespace=None\\n                        ),\\n                    ),\\n                )\\n            ],\\n        ),\\n        group_by=[Column(name=Name(name=\\\"first_name\\\", quote_style=\\\"\\\"), namespace=None)],\\n        having=None,\\n        projection=[\\n            Function(\\n                name=Name(name=\\\"Count\\\", quote_style=\\\"\\\"),\\n                namespace=Namespace(names=[]),\\n                args=[Column(name=Name(name=\\\"id\\\", quote_style=\\\"\\\"), namespace=None)],\\n            )\\n        ],\\n        where=None,\\n        limit=None,\\n        distinct=False,\\n    ),\\n    ctes=[],\\n)\";\n",
       "                var nbb_cells = Jupyter.notebook.get_cells();\n",
       "                for (var i = 0; i < nbb_cells.length; ++i) {\n",
       "                    if (nbb_cells[i].input_prompt_number == nbb_cell_id) {\n",
       "                        if (nbb_cells[i].get_text() == nbb_unformatted_code) {\n",
       "                             nbb_cells[i].set_text(nbb_formatted_code);\n",
       "                        }\n",
       "                        break;\n",
       "                    }\n",
       "                }\n",
       "            }, 500);\n",
       "            "
      ],
      "text/plain": [
       "<IPython.core.display.Javascript object>"
      ]
     },
     "metadata": {},
     "output_type": "display_data"
    }
   ],
   "source": [
    "Query(\n",
    "    select=Select(\n",
    "        from_=From(\n",
    "            tables=[\n",
    "                Table(\n",
    "                    name=Name(name=\"orders\", quote_style=\"\"),\n",
    "                    namespace=Namespace(\n",
    "                        names=[\n",
    "                            Name(name=\"dbt\", quote_style=\"\"),\n",
    "                            Name(name=\"source\", quote_style=\"\"),\n",
    "                            Name(name=\"jaffle_shop\", quote_style=\"\"),\n",
    "                        ]\n",
    "                    ),\n",
    "                )\n",
    "            ],\n",
    "            joins=[\n",
    "                Join(\n",
    "                    kind=JoinKind.LeftOuter,\n",
    "                    table=Alias(\n",
    "                        name=Name(\n",
    "                            name=\"dbt_DOT_dimension_DOT_customers\", quote_style=\"\"\n",
    "                        ),\n",
    "                        namespace=None,\n",
    "                        child=Select(\n",
    "                            from_=From(\n",
    "                                tables=[\n",
    "                                    Table(\n",
    "                                        name=Name(name=\"customers\", quote_style=\"\"),\n",
    "                                        namespace=Namespace(\n",
    "                                            names=[\n",
    "                                                Name(name=\"dbt\", quote_style=\"\"),\n",
    "                                                Name(name=\"source\", quote_style=\"\"),\n",
    "                                                Name(\n",
    "                                                    name=\"jaffle_shop\", quote_style=\"\"\n",
    "                                                ),\n",
    "                                            ]\n",
    "                                        ),\n",
    "                                    )\n",
    "                                ],\n",
    "                                joins=[],\n",
    "                            ),\n",
    "                            group_by=[],\n",
    "                            having=None,\n",
    "                            projection=[\n",
    "                                Column(\n",
    "                                    name=Name(name=\"id\", quote_style=\"\"), namespace=None\n",
    "                                ),\n",
    "                                Column(\n",
    "                                    name=Name(name=\"first_name\", quote_style=\"\"),\n",
    "                                    namespace=None,\n",
    "                                ),\n",
    "                                Column(\n",
    "                                    name=Name(name=\"last_name\", quote_style=\"\"),\n",
    "                                    namespace=None,\n",
    "                                ),\n",
    "                            ],\n",
    "                            where=None,\n",
    "                            limit=None,\n",
    "                            distinct=False,\n",
    "                        ),\n",
    "                    ),\n",
    "                    on=BinaryOp(\n",
    "                        op=BinaryOpKind.Eq,\n",
    "                        left=Column(\n",
    "                            name=Name(name=\"user_id\", quote_style=\"\"), namespace=None\n",
    "                        ),\n",
    "                        right=Column(\n",
    "                            name=Name(name=\"id\", quote_style=\"\"), namespace=None\n",
    "                        ),\n",
    "                    ),\n",
    "                )\n",
    "            ],\n",
    "        ),\n",
    "        group_by=[Column(name=Name(name=\"first_name\", quote_style=\"\"), namespace=None)],\n",
    "        having=None,\n",
    "        projection=[\n",
    "            Function(\n",
    "                name=Name(name=\"Count\", quote_style=\"\"),\n",
    "                namespace=Namespace(names=[]),\n",
    "                args=[Column(name=Name(name=\"id\", quote_style=\"\"), namespace=None)],\n",
    "            )\n",
    "        ],\n",
    "        where=None,\n",
    "        limit=None,\n",
    "        distinct=False,\n",
    "    ),\n",
    "    ctes=[],\n",
    ")"
   ]
  },
  {
   "cell_type": "code",
   "execution_count": 33,
   "id": "fa2e573f",
   "metadata": {},
   "outputs": [
    {
     "name": "stdout",
     "output_type": "stream",
     "text": [
      "SELECT  Count(dbt.source.jaffle_shop.orders.id) \n",
      " FROM dbt.source.jaffle_shop.orders\n",
      "LEFT JOIN (SELECT  id,\n",
      "\tfirst_name,\n",
      "\tlast_name \n",
      " FROM dbt.source.jaffle_shop.customers\n",
      " \n",
      ") AS dbt_DOT_dimension_DOT_customers\n",
      "        ON dbt.source.jaffle_shop.orders.user_id = (SELECT  id,\n",
      "\tfirst_name,\n",
      "\tlast_name \n",
      " FROM dbt.source.jaffle_shop.customers\n",
      " \n",
      ") AS dbt_DOT_dimension_DOT_customers.id \n",
      " GROUP BY  dbt_DOT_dimension_DOT_customers.first_name\n"
     ]
    }
   ],
   "source": [
    "print(str(query))"
   ]
  },
  {
   "cell_type": "code",
   "execution_count": 29,
   "id": "2b8c44c0",
   "metadata": {},
   "outputs": [],
   "source": [
    "ast.JoinKind??"
   ]
  },
  {
   "cell_type": "code",
   "execution_count": 37,
   "id": "fb404111",
   "metadata": {},
   "outputs": [
    {
     "ename": "NameError",
     "evalue": "name 'Alias' is not defined",
     "output_type": "error",
     "traceback": [
      "\u001b[0;31m---------------------------------------------------------------------------\u001b[0m",
      "\u001b[0;31mNameError\u001b[0m                                 Traceback (most recent call last)",
      "Cell \u001b[0;32mIn[37], line 15\u001b[0m\n\u001b[1;32m      9\u001b[0m     dim_cols \u001b[38;5;241m=\u001b[39m [col \u001b[38;5;28;01mfor\u001b[39;00m col \u001b[38;5;129;01min\u001b[39;00m table_node\u001b[38;5;241m.\u001b[39mcolumns \u001b[38;5;28;01mif\u001b[39;00m col\u001b[38;5;241m.\u001b[39mdimension \u001b[38;5;241m==\u001b[39m dim_node]\n\u001b[1;32m     10\u001b[0m     join_info[table_node\u001b[38;5;241m.\u001b[39mname] \u001b[38;5;241m=\u001b[39m (\n\u001b[1;32m     11\u001b[0m         table_node,\n\u001b[1;32m     12\u001b[0m         dim_cols,\n\u001b[1;32m     13\u001b[0m     )\n\u001b[0;32m---> 15\u001b[0m dim_ast \u001b[38;5;241m=\u001b[39m \u001b[43mAlias\u001b[49m(Name(alias), child\u001b[38;5;241m=\u001b[39mparse(dim\u001b[38;5;241m.\u001b[39mquery, dialect))\n",
      "\u001b[0;31mNameError\u001b[0m: name 'Alias' is not defined"
     ]
    }
   ],
   "source": [
    "for dim_col in dimension_columns:\n",
    "    dim_node = dim_col.table.dj_node\n",
    "    if dim_node in tables_nodes: # dimension does not require joining\n",
    "        ...\n",
    "    else:# need to join dimension\n",
    "        alias = amenable_name(dim_node.name)\n",
    "        join_info: Dict[str, Tuple[Node, List[Column]]] = {}\n",
    "        for table_node in tables_nodes:\n",
    "            dim_cols = [col for col in table_node.columns if col.dimension == dim_node]\n",
    "            join_info[table_node.name] = (\n",
    "                table_node,\n",
    "                dim_cols,\n",
    "            )\n",
    "        \n",
    "        for col in dimension_columns\n",
    "        \n",
    "        dim_ast = ast.Alias(ast.Name(alias), child=parse(dim.query, dialect))\n",
    "        \n",
    "        joins: List[ast.Join] = []\n",
    "\n",
    "        for tables, cols in join_info.values():\n",
    "            for table in tables:\n",
    "                on = []\n",
    "                for col in cols:\n",
    "                    on.append(\n",
    "                        ast.BinaryOp(\n",
    "                            ast.BinaryOpKind.Eq,\n",
    "                            ast.Column(ast.Name(col.name), _table=table),\n",
    "                            ast.Column(\n",
    "                                ast.Name(col.dimension_column),\n",
    "                                ast.Namespace([Name(alias)]),\n",
    "                            ),\n",
    "                        ),\n",
    "                    )\n",
    "            joins.append(\n",
    "                ast.Join(\n",
    "                    ast.JoinKind.LeftOuterdim,\n",
    "                    dim_ast,\n",
    "                    reduce(lambda l, r: ast.BinaryOp(ast.BinaryOpKind.And, l, r), on),\n",
    "                ),\n",
    "            )\n",
    "        \n",
    "        select.from_.joins += joins"
   ]
  },
  {
   "cell_type": "code",
   "execution_count": null,
   "id": "248465ef",
   "metadata": {},
   "outputs": [],
   "source": []
  },
  {
   "cell_type": "code",
   "execution_count": null,
   "id": "dde42b96",
   "metadata": {},
   "outputs": [],
   "source": []
  },
  {
   "cell_type": "code",
   "execution_count": null,
   "id": "c0454853",
   "metadata": {},
   "outputs": [],
   "source": []
  },
  {
   "cell_type": "code",
   "execution_count": null,
   "id": "9d7a5d1c",
   "metadata": {},
   "outputs": [],
   "source": []
  },
  {
   "cell_type": "code",
   "execution_count": null,
   "id": "435f582d",
   "metadata": {},
   "outputs": [],
   "source": []
  },
  {
   "cell_type": "code",
   "execution_count": 48,
   "id": "87d8b951",
   "metadata": {},
   "outputs": [
    {
     "data": {
      "text/plain": [
       "{Column(name=Name(name='country', quote_style=''), namespace=None),\n",
       " Column(name=Name(name='revenue', quote_style=''), namespace=None)}"
      ]
     },
     "execution_count": 48,
     "metadata": {},
     "output_type": "execute_result"
    }
   ],
   "source": [
    "# after compile the table knows that several columns were referenced from it\n",
    "q3.select.from_.tables[0].columns"
   ]
  },
  {
   "cell_type": "code",
   "execution_count": 32,
   "id": "51e7acaa",
   "metadata": {},
   "outputs": [
    {
     "name": "stdout",
     "output_type": "stream",
     "text": [
      "SELECT  Sum((SELECT  country,\n",
      "\trevenue \n",
      " FROM revenue\n",
      " \n",
      " WHERE  revenue > 1000.0 \n",
      ") AS _purchases_over_a_grand.revenue) \n",
      " FROM (SELECT  country,\n",
      "\trevenue \n",
      " FROM revenue\n",
      " \n",
      " WHERE  revenue > 1000.0 \n",
      ") AS _purchases_over_a_grand\n",
      " \n",
      " WHERE  purchases_over_a_grand.revenue > 1000.0 \n",
      " GROUP BY  (SELECT  country,\n",
      "\trevenue \n",
      " FROM revenue\n",
      " \n",
      " WHERE  revenue > 1000.0 \n",
      ") AS _purchases_over_a_grand.country\n"
     ]
    }
   ],
   "source": [
    "print(str(query))"
   ]
  },
  {
   "cell_type": "code",
   "execution_count": 15,
   "id": "59874817",
   "metadata": {},
   "outputs": [
    {
     "data": {
      "text/plain": [
       "Table(name=Name(name='purchases_over_a_grand', quote_style=''), namespace=None)"
      ]
     },
     "execution_count": 15,
     "metadata": {},
     "output_type": "execute_result"
    }
   ],
   "source": [
    "query.select.where.left._table"
   ]
  },
  {
   "cell_type": "code",
   "execution_count": 7,
   "id": "8e6b1c33",
   "metadata": {},
   "outputs": [],
   "source": [
    "from_=tree.select.projection[0]\n",
    "to=ast.Alias(ast.Name('sum_revenue'), child=from_)"
   ]
  },
  {
   "cell_type": "code",
   "execution_count": 8,
   "id": "4acbe75e",
   "metadata": {},
   "outputs": [
    {
     "data": {
      "text/plain": [
       "Select(from_=From(tables=[Table(name=Name(name='purchases_over_a_grand', quote_style=''), namespace=None)], joins=[]), group_by=[Column(name=Name(name='country', quote_style=''), namespace=None)], having=None, projection=[Alias(name=Name(name='sum_revenue', quote_style=''), namespace=None, child=Function(name=Name(name='Sum', quote_style=''), namespace=Namespace(names=[]), args=[Column(name=Name(name='revenue', quote_style=''), namespace=None)]))], where=BinaryOp(op=BinaryOpKind.Gt, left=Column(name=Name(name='revenue', quote_style=''), namespace=None), right=Number(value=1000.0)), limit=None, distinct=False)"
      ]
     },
     "execution_count": 8,
     "metadata": {},
     "output_type": "execute_result"
    }
   ],
   "source": [
    "tree.select.replace(from_, to)"
   ]
  },
  {
   "cell_type": "code",
   "execution_count": 2,
   "id": "5f12bbf2",
   "metadata": {},
   "outputs": [
    {
     "ename": "NameError",
     "evalue": "name 'tree' is not defined",
     "output_type": "error",
     "traceback": [
      "\u001b[0;31m---------------------------------------------------------------------------\u001b[0m",
      "\u001b[0;31mNameError\u001b[0m                                 Traceback (most recent call last)",
      "Cell \u001b[0;32mIn[2], line 1\u001b[0m\n\u001b[0;32m----> 1\u001b[0m \u001b[38;5;28mprint\u001b[39m(\u001b[38;5;28mstr\u001b[39m(\u001b[43mtree\u001b[49m))\n",
      "\u001b[0;31mNameError\u001b[0m: name 'tree' is not defined"
     ]
    }
   ],
   "source": [
    "print(str(tree))"
   ]
  },
  {
   "cell_type": "code",
   "execution_count": 4,
   "id": "df94bc8e",
   "metadata": {},
   "outputs": [],
   "source": [
    "def name_exp(exp: ast.Expression, default: str):\n",
    "    if isinstance(exp, ast.Alias):\n",
    "        return make_name(exp.namespace, exp.name.name)\n",
    "    return default"
   ]
  },
  {
   "cell_type": "code",
   "execution_count": 5,
   "id": "46797090",
   "metadata": {},
   "outputs": [
    {
     "data": {
      "text/plain": [
       "{'_col0': <ColumnType.FLOAT: 'FLOAT'>}"
      ]
     },
     "execution_count": 5,
     "metadata": {},
     "output_type": "execute_result"
    }
   ],
   "source": [
    "{name_exp(exp, f\"_col{i}\"): get_type_of_expression(exp) for i, exp in enumerate(tree.select.projection)}"
   ]
  },
  {
   "cell_type": "code",
   "execution_count": 6,
   "id": "c5c6fe25",
   "metadata": {},
   "outputs": [
    {
     "name": "stdout",
     "output_type": "stream",
     "text": [
      "All Column types  [(Column(name=Name(name='country', quote_style=''), namespace=None), <ColumnType.STR: 'STR'>), (Column(name=Name(name='revenue', quote_style=''), namespace=None), <ColumnType.FLOAT: 'FLOAT'>)]\n",
      "\n",
      "Column Expressions [(Column(name=Name(name='country', quote_style=''), namespace=None), None), (Column(name=Name(name='revenue', quote_style=''), namespace=None), None)]\n",
      "\n",
      "Projection Exp types  [(Function(name=Name(name='Count', quote_style=''), namespace=Namespace(names=[]), args=[Wildcard()]), <ColumnType.INT: 'INT'>)]\n",
      "\n"
     ]
    },
    {
     "data": {
      "text/plain": [
       "({Node(name='purchases_over_a_grand', type=<NodeType.TRANSFORM: 'transform'>, id=23, query='select country, revenue from revenue where revenue>1000.0', created_at=datetime.datetime(2023, 1, 12, 14, 19, 12, 301204), updated_at=datetime.datetime(2023, 1, 12, 14, 19, 12, 301210), description='', columns=[Column(id=129, name='country', dimension_column=None, dimension_id=None, type=<ColumnType.STR: 'STR'>), Column(id=130, name='revenue', dimension_column=None, dimension_id=None, type=<ColumnType.FLOAT: 'FLOAT'>)])},\n",
       " set())"
      ]
     },
     "execution_count": 6,
     "metadata": {},
     "output_type": "execute_result"
    }
   ],
   "source": [
    "tree, deps, danglers = extract_dependencies(session,     \"\"\"\n",
    "    select Count(*) from purchases_over_a_grand where revenue>1000.0 group by country\n",
    "    \"\"\", raise_=False)\n",
    "\n",
    "print(\"All Column types \", [(c, c.type) for c in list(tree.find_all(ast.Column))])\n",
    "print()\n",
    "print(\"Column Expressions\", [(c, c.expression) for c in list(tree.find_all(ast.Column))])\n",
    "print()\n",
    "print(\"Projection Exp types \", [(exp, get_type_of_expression(exp)) for exp in tree.select.projection])\n",
    "print()\n",
    "deps, danglers"
   ]
  },
  {
   "cell_type": "code",
   "execution_count": 7,
   "id": "0c9b0127",
   "metadata": {},
   "outputs": [
    {
     "name": "stdout",
     "output_type": "stream",
     "text": [
      "All Column types  [(Column(name=Name(name='country', quote_style=''), namespace=None), <ColumnType.STR: 'STR'>), (Column(name=Name(name='revenue', quote_style=''), namespace=None), <ColumnType.FLOAT: 'FLOAT'>), (Column(name=Name(name='revenue', quote_style=''), namespace=None), <ColumnType.FLOAT: 'FLOAT'>), (Column(name=Name(name='sum_revenue', quote_style=''), namespace=None), None)]\n",
      "\n",
      "Column Expressions [(Column(name=Name(name='country', quote_style=''), namespace=None), None), (Column(name=Name(name='revenue', quote_style=''), namespace=None), None), (Column(name=Name(name='revenue', quote_style=''), namespace=None), None), (Column(name=Name(name='sum_revenue', quote_style=''), namespace=None), Alias(name=Name(name='sum_revenue', quote_style=''), namespace=None, child=Function(name=Name(name='Sum', quote_style=''), namespace=Namespace(names=[]), args=[Column(name=Name(name='revenue', quote_style=''), namespace=None)])))]\n",
      "\n",
      "Projection Exp types  [(Column(name=Name(name='sum_revenue', quote_style=''), namespace=None), <ColumnType.FLOAT: 'FLOAT'>)]\n",
      "\n"
     ]
    },
    {
     "data": {
      "text/plain": [
       "({Node(name='purchases_over_a_grand', type=<NodeType.TRANSFORM: 'transform'>, id=23, query='select country, revenue from revenue where revenue>1000.0', created_at=datetime.datetime(2023, 1, 12, 14, 19, 12, 301204), updated_at=datetime.datetime(2023, 1, 12, 14, 19, 12, 301210), description='', columns=[Column(id=129, name='country', dimension_column=None, dimension_id=None, type=<ColumnType.STR: 'STR'>), Column(id=130, name='revenue', dimension_column=None, dimension_id=None, type=<ColumnType.FLOAT: 'FLOAT'>)])},\n",
       " set())"
      ]
     },
     "execution_count": 7,
     "metadata": {},
     "output_type": "execute_result"
    }
   ],
   "source": [
    "tree, deps, danglers = extract_dependencies(session, \"\"\"\n",
    "    select sum_revenue from (select Sum(revenue) as sum_revenue from purchases_over_a_grand where revenue>1000.0 group by country)\n",
    "    \"\"\", raise_=False)\n",
    "\n",
    "print(\"All Column types \", [(c, c.type) for c in list(tree.find_all(ast.Column))])\n",
    "print()\n",
    "print(\"Column Expressions\", [(c, c.expression) for c in list(tree.find_all(ast.Column))])\n",
    "print()\n",
    "print(\"Projection Exp types \", [(exp, get_type_of_expression(exp)) for exp in tree.select.projection])\n",
    "print()\n",
    "deps, danglers"
   ]
  },
  {
   "cell_type": "code",
   "execution_count": 8,
   "id": "a23dd884",
   "metadata": {},
   "outputs": [
    {
     "name": "stdout",
     "output_type": "stream",
     "text": [
      "All Column types  [(Column(name=Name(name='country', quote_style=''), namespace=None), <ColumnType.STR: 'STR'>), (Column(name=Name(name='revenue', quote_style=''), namespace=None), <ColumnType.FLOAT: 'FLOAT'>), (Column(name=Name(name='revenue', quote_style=''), namespace=None), <ColumnType.FLOAT: 'FLOAT'>), (Column(name=Name(name='sum_revenue', quote_style=''), namespace=None), None)]\n",
      "\n",
      "Column Expressions [(Column(name=Name(name='country', quote_style=''), namespace=None), None), (Column(name=Name(name='revenue', quote_style=''), namespace=None), None), (Column(name=Name(name='revenue', quote_style=''), namespace=None), None), (Column(name=Name(name='sum_revenue', quote_style=''), namespace=None), Alias(name=Name(name='sum_revenue', quote_style=''), namespace=None, child=Function(name=Name(name='Sum', quote_style=''), namespace=Namespace(names=[]), args=[Column(name=Name(name='revenue', quote_style=''), namespace=None)])))]\n",
      "\n",
      "Projection Exp types  [(Column(name=Name(name='sum_revenue', quote_style=''), namespace=None), <ColumnType.FLOAT: 'FLOAT'>)]\n",
      "\n"
     ]
    },
    {
     "data": {
      "text/plain": [
       "({Node(name='purchases_over_a_grand', type=<NodeType.TRANSFORM: 'transform'>, id=23, query='select country, revenue from revenue where revenue>1000.0', created_at=datetime.datetime(2023, 1, 12, 14, 19, 12, 301204), updated_at=datetime.datetime(2023, 1, 12, 14, 19, 12, 301210), description='', columns=[Column(id=129, name='country', dimension_column=None, dimension_id=None, type=<ColumnType.STR: 'STR'>), Column(id=130, name='revenue', dimension_column=None, dimension_id=None, type=<ColumnType.FLOAT: 'FLOAT'>)])},\n",
       " {'oops'})"
      ]
     },
     "execution_count": 8,
     "metadata": {},
     "output_type": "execute_result"
    }
   ],
   "source": [
    "tree, deps, danglers = extract_dependencies(session, \"\"\"\n",
    "    select sum_revenue from (select Sum(revenue) as sum_revenue from purchases_over_a_grand where revenue>1000.0 group by country) as a, oops\n",
    "    \"\"\", raise_=False)\n",
    "\n",
    "print(\"All Column types \", [(c, c.type) for c in list(tree.find_all(ast.Column))])\n",
    "print()\n",
    "print(\"Column Expressions\", [(c, c.expression) for c in list(tree.find_all(ast.Column))])\n",
    "print()\n",
    "print(\"Projection Exp types \", [(exp, get_type_of_expression(exp)) for exp in tree.select.projection])\n",
    "print()\n",
    "deps, danglers"
   ]
  },
  {
   "cell_type": "code",
   "execution_count": null,
   "id": "0a4e59b2",
   "metadata": {},
   "outputs": [],
   "source": []
  }
 ],
 "metadata": {
  "kernelspec": {
   "display_name": "Python 3 (ipykernel)",
   "language": "python",
   "name": "python3"
  },
  "language_info": {
   "codemirror_mode": {
    "name": "ipython",
    "version": 3
   },
   "file_extension": ".py",
   "mimetype": "text/x-python",
   "name": "python",
   "nbconvert_exporter": "python",
   "pygments_lexer": "ipython3",
   "version": "3.10.8"
  }
 },
 "nbformat": 4,
 "nbformat_minor": 5
}
