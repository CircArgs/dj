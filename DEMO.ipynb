{
 "cells": [
  {
   "cell_type": "code",
   "execution_count": 1,
   "id": "3531a590",
   "metadata": {},
   "outputs": [],
   "source": [
    "from dj.construction.extract import extract_dependencies\n",
    "from dj.construction.inference import get_type_of_expression\n",
    "from dj.sql.parsing import ast"
   ]
  },
  {
   "cell_type": "code",
   "execution_count": 2,
   "id": "61c6f870",
   "metadata": {},
   "outputs": [],
   "source": [
    "from dj.utils import get_session\n",
    "session = next(get_session())"
   ]
  },
  {
   "cell_type": "code",
   "execution_count": 3,
   "id": "a8bcc66d",
   "metadata": {
    "scrolled": true
   },
   "outputs": [
    {
     "name": "stdout",
     "output_type": "stream",
     "text": [
      "All Column types  [(Column(name=Name(name='country', quote_style=''), namespace=None), <ColumnType.STR: 'STR'>), (Column(name=Name(name='revenue', quote_style=''), namespace=None), <ColumnType.FLOAT: 'FLOAT'>), (Column(name=Name(name='revenue', quote_style=''), namespace=None), <ColumnType.FLOAT: 'FLOAT'>)]\n",
      "\n",
      "Column Expressions [(Column(name=Name(name='country', quote_style=''), namespace=None), None), (Column(name=Name(name='revenue', quote_style=''), namespace=None), None), (Column(name=Name(name='revenue', quote_style=''), namespace=None), None)]\n",
      "\n",
      "Projection Exp types  [(Function(name=Name(name='Sum', quote_style=''), namespace=Namespace(names=[]), args=[Column(name=Name(name='revenue', quote_style=''), namespace=None)]), <ColumnType.FLOAT: 'FLOAT'>)]\n",
      "\n"
     ]
    },
    {
     "data": {
      "text/plain": [
       "({Node(name='purchases_over_a_grand', type=<NodeType.TRANSFORM: 'transform'>, id=23, query='select country, revenue from revenue where revenue>1000.0', created_at=datetime.datetime(2023, 1, 12, 14, 19, 12, 301204), updated_at=datetime.datetime(2023, 1, 12, 14, 19, 12, 301210), description='', columns=[Column(id=129, name='country', dimension_column=None, dimension_id=None, type=<ColumnType.STR: 'STR'>), Column(id=130, name='revenue', dimension_column=None, dimension_id=None, type=<ColumnType.FLOAT: 'FLOAT'>)])},\n",
       " set())"
      ]
     },
     "execution_count": 3,
     "metadata": {},
     "output_type": "execute_result"
    }
   ],
   "source": [
    "tree, deps, danglers = extract_dependencies(session, \"\"\"\n",
    "    select Sum(revenue) from purchases_over_a_grand where revenue>1000.0 group by country\n",
    "    \"\"\", raise_=False)\n",
    "\n",
    "print(\"All Column types \", [(c, c.type) for c in list(tree.find_all(ast.Column))])\n",
    "print()\n",
    "print(\"Column Expressions\", [(c, c.expression) for c in list(tree.find_all(ast.Column))])\n",
    "print()\n",
    "print(\"Projection Exp types \", [(exp, get_type_of_expression(exp)) for exp in tree.select.projection])\n",
    "print()\n",
    "deps, danglers"
   ]
  },
  {
   "cell_type": "code",
   "execution_count": 4,
   "id": "195e79ed",
   "metadata": {},
   "outputs": [],
   "source": [
    "def name_exp(exp: ast.Expression, default: str):\n",
    "    if isinstance(exp, ast.Alias):\n",
    "        return make_name(exp.namespace, exp.name.name)\n",
    "    return default"
   ]
  },
  {
   "cell_type": "code",
   "execution_count": 5,
   "id": "01445b6e",
   "metadata": {},
   "outputs": [
    {
     "data": {
      "text/plain": [
       "{'_col0': <ColumnType.FLOAT: 'FLOAT'>}"
      ]
     },
     "execution_count": 5,
     "metadata": {},
     "output_type": "execute_result"
    }
   ],
   "source": [
    "{name_exp(exp, f\"_col{i}\"): get_type_of_expression(exp) for i, exp in enumerate(tree.select.projection)}"
   ]
  },
  {
   "cell_type": "code",
   "execution_count": 6,
   "id": "328cf97d",
   "metadata": {},
   "outputs": [
    {
     "name": "stdout",
     "output_type": "stream",
     "text": [
      "All Column types  [(Column(name=Name(name='country', quote_style=''), namespace=None), <ColumnType.STR: 'STR'>), (Column(name=Name(name='revenue', quote_style=''), namespace=None), <ColumnType.FLOAT: 'FLOAT'>)]\n",
      "\n",
      "Column Expressions [(Column(name=Name(name='country', quote_style=''), namespace=None), None), (Column(name=Name(name='revenue', quote_style=''), namespace=None), None)]\n",
      "\n",
      "Projection Exp types  [(Function(name=Name(name='Count', quote_style=''), namespace=Namespace(names=[]), args=[Wildcard()]), <ColumnType.INT: 'INT'>)]\n",
      "\n"
     ]
    },
    {
     "data": {
      "text/plain": [
       "({Node(name='purchases_over_a_grand', type=<NodeType.TRANSFORM: 'transform'>, id=23, query='select country, revenue from revenue where revenue>1000.0', created_at=datetime.datetime(2023, 1, 12, 14, 19, 12, 301204), updated_at=datetime.datetime(2023, 1, 12, 14, 19, 12, 301210), description='', columns=[Column(id=129, name='country', dimension_column=None, dimension_id=None, type=<ColumnType.STR: 'STR'>), Column(id=130, name='revenue', dimension_column=None, dimension_id=None, type=<ColumnType.FLOAT: 'FLOAT'>)])},\n",
       " set())"
      ]
     },
     "execution_count": 6,
     "metadata": {},
     "output_type": "execute_result"
    }
   ],
   "source": [
    "tree, deps, danglers = extract_dependencies(session,     \"\"\"\n",
    "    select Count(*) from purchases_over_a_grand where revenue>1000.0 group by country\n",
    "    \"\"\", raise_=False)\n",
    "\n",
    "print(\"All Column types \", [(c, c.type) for c in list(tree.find_all(ast.Column))])\n",
    "print()\n",
    "print(\"Column Expressions\", [(c, c.expression) for c in list(tree.find_all(ast.Column))])\n",
    "print()\n",
    "print(\"Projection Exp types \", [(exp, get_type_of_expression(exp)) for exp in tree.select.projection])\n",
    "print()\n",
    "deps, danglers"
   ]
  },
  {
   "cell_type": "code",
   "execution_count": 7,
   "id": "b1591a36",
   "metadata": {},
   "outputs": [
    {
     "name": "stdout",
     "output_type": "stream",
     "text": [
      "All Column types  [(Column(name=Name(name='country', quote_style=''), namespace=None), <ColumnType.STR: 'STR'>), (Column(name=Name(name='revenue', quote_style=''), namespace=None), <ColumnType.FLOAT: 'FLOAT'>), (Column(name=Name(name='revenue', quote_style=''), namespace=None), <ColumnType.FLOAT: 'FLOAT'>), (Column(name=Name(name='sum_revenue', quote_style=''), namespace=None), None)]\n",
      "\n",
      "Column Expressions [(Column(name=Name(name='country', quote_style=''), namespace=None), None), (Column(name=Name(name='revenue', quote_style=''), namespace=None), None), (Column(name=Name(name='revenue', quote_style=''), namespace=None), None), (Column(name=Name(name='sum_revenue', quote_style=''), namespace=None), Alias(name=Name(name='sum_revenue', quote_style=''), namespace=None, child=Function(name=Name(name='Sum', quote_style=''), namespace=Namespace(names=[]), args=[Column(name=Name(name='revenue', quote_style=''), namespace=None)])))]\n",
      "\n",
      "Projection Exp types  [(Column(name=Name(name='sum_revenue', quote_style=''), namespace=None), <ColumnType.FLOAT: 'FLOAT'>)]\n",
      "\n"
     ]
    },
    {
     "data": {
      "text/plain": [
       "({Node(name='purchases_over_a_grand', type=<NodeType.TRANSFORM: 'transform'>, id=23, query='select country, revenue from revenue where revenue>1000.0', created_at=datetime.datetime(2023, 1, 12, 14, 19, 12, 301204), updated_at=datetime.datetime(2023, 1, 12, 14, 19, 12, 301210), description='', columns=[Column(id=129, name='country', dimension_column=None, dimension_id=None, type=<ColumnType.STR: 'STR'>), Column(id=130, name='revenue', dimension_column=None, dimension_id=None, type=<ColumnType.FLOAT: 'FLOAT'>)])},\n",
       " set())"
      ]
     },
     "execution_count": 7,
     "metadata": {},
     "output_type": "execute_result"
    }
   ],
   "source": [
    "tree, deps, danglers = extract_dependencies(session, \"\"\"\n",
    "    select sum_revenue from (select Sum(revenue) as sum_revenue from purchases_over_a_grand where revenue>1000.0 group by country)\n",
    "    \"\"\", raise_=False)\n",
    "\n",
    "print(\"All Column types \", [(c, c.type) for c in list(tree.find_all(ast.Column))])\n",
    "print()\n",
    "print(\"Column Expressions\", [(c, c.expression) for c in list(tree.find_all(ast.Column))])\n",
    "print()\n",
    "print(\"Projection Exp types \", [(exp, get_type_of_expression(exp)) for exp in tree.select.projection])\n",
    "print()\n",
    "deps, danglers"
   ]
  },
  {
   "cell_type": "code",
   "execution_count": 8,
   "id": "5ddd7f66",
   "metadata": {},
   "outputs": [
    {
     "name": "stdout",
     "output_type": "stream",
     "text": [
      "All Column types  [(Column(name=Name(name='country', quote_style=''), namespace=None), <ColumnType.STR: 'STR'>), (Column(name=Name(name='revenue', quote_style=''), namespace=None), <ColumnType.FLOAT: 'FLOAT'>), (Column(name=Name(name='revenue', quote_style=''), namespace=None), <ColumnType.FLOAT: 'FLOAT'>), (Column(name=Name(name='sum_revenue', quote_style=''), namespace=None), None)]\n",
      "\n",
      "Column Expressions [(Column(name=Name(name='country', quote_style=''), namespace=None), None), (Column(name=Name(name='revenue', quote_style=''), namespace=None), None), (Column(name=Name(name='revenue', quote_style=''), namespace=None), None), (Column(name=Name(name='sum_revenue', quote_style=''), namespace=None), Alias(name=Name(name='sum_revenue', quote_style=''), namespace=None, child=Function(name=Name(name='Sum', quote_style=''), namespace=Namespace(names=[]), args=[Column(name=Name(name='revenue', quote_style=''), namespace=None)])))]\n",
      "\n",
      "Projection Exp types  [(Column(name=Name(name='sum_revenue', quote_style=''), namespace=None), <ColumnType.FLOAT: 'FLOAT'>)]\n",
      "\n"
     ]
    },
    {
     "data": {
      "text/plain": [
       "({Node(name='purchases_over_a_grand', type=<NodeType.TRANSFORM: 'transform'>, id=23, query='select country, revenue from revenue where revenue>1000.0', created_at=datetime.datetime(2023, 1, 12, 14, 19, 12, 301204), updated_at=datetime.datetime(2023, 1, 12, 14, 19, 12, 301210), description='', columns=[Column(id=129, name='country', dimension_column=None, dimension_id=None, type=<ColumnType.STR: 'STR'>), Column(id=130, name='revenue', dimension_column=None, dimension_id=None, type=<ColumnType.FLOAT: 'FLOAT'>)])},\n",
       " {'oops'})"
      ]
     },
     "execution_count": 8,
     "metadata": {},
     "output_type": "execute_result"
    }
   ],
   "source": [
    "tree, deps, danglers = extract_dependencies(session, \"\"\"\n",
    "    select sum_revenue from (select Sum(revenue) as sum_revenue from purchases_over_a_grand where revenue>1000.0 group by country) as a, oops\n",
    "    \"\"\", raise_=False)\n",
    "\n",
    "print(\"All Column types \", [(c, c.type) for c in list(tree.find_all(ast.Column))])\n",
    "print()\n",
    "print(\"Column Expressions\", [(c, c.expression) for c in list(tree.find_all(ast.Column))])\n",
    "print()\n",
    "print(\"Projection Exp types \", [(exp, get_type_of_expression(exp)) for exp in tree.select.projection])\n",
    "print()\n",
    "deps, danglers"
   ]
  },
  {
   "cell_type": "code",
   "execution_count": null,
   "id": "0a4e59b2",
   "metadata": {},
   "outputs": [],
   "source": []
  }
 ],
 "metadata": {
  "kernelspec": {
   "display_name": "Python 3 (ipykernel)",
   "language": "python",
   "name": "python3"
  },
  "language_info": {
   "codemirror_mode": {
    "name": "ipython",
    "version": 3
   },
   "file_extension": ".py",
   "mimetype": "text/x-python",
   "name": "python",
   "nbconvert_exporter": "python",
   "pygments_lexer": "ipython3",
   "version": "3.10.8"
  }
 },
 "nbformat": 4,
 "nbformat_minor": 5
}
