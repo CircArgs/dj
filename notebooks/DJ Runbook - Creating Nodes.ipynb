{
 "cells": [
  {
   "cell_type": "markdown",
   "id": "db0646c3",
   "metadata": {},
   "source": [
    "# DJ Runbook - Creating Nodes"
   ]
  },
  {
   "cell_type": "markdown",
   "id": "618db7b2",
   "metadata": {},
   "source": [
    "This notebook performs a collection of basic requests to a running DJ server."
   ]
  },
  {
   "cell_type": "code",
   "execution_count": null,
   "id": "c35d779c",
   "metadata": {},
   "outputs": [],
   "source": [
    "import requests\n",
    "\n",
    "DJ_PROTOCOL = \"http\"\n",
    "DJ_HOST = \"localhost\"\n",
    "DJ_PORT = 8000\n",
    "DJ_URL = f\"{DJ_PROTOCOL}://{DJ_HOST}:{DJ_PORT}\""
   ]
  },
  {
   "cell_type": "markdown",
   "id": "a1abb330",
   "metadata": {},
   "source": [
    "## Create some source nodes."
   ]
  },
  {
   "cell_type": "code",
   "execution_count": null,
   "id": "0b2bc781",
   "metadata": {},
   "outputs": [],
   "source": [
    "response = requests.post(\n",
    "    f\"{DJ_URL}/nodes/\",\n",
    "    json={\n",
    "        \"columns\": {\n",
    "            \"payment_id\": {\"type\": \"INT\"},\n",
    "            \"payment_type\": {\"type\": \"INT\"},\n",
    "            \"payment_amount\": {\"type\": \"FLOAT\"},\n",
    "            \"customer_id\": {\"type\": \"INT\"},\n",
    "            \"account_type\": {\"type\": \"STR\"},\n",
    "        },\n",
    "        \"description\": \"A source table for revenue data\",\n",
    "        \"mode\": \"published\",\n",
    "        \"name\": \"revenue_source\",\n",
    "        \"type\": \"source\",\n",
    "    },\n",
    ")\n",
    "response.json()"
   ]
  },
  {
   "cell_type": "code",
   "execution_count": null,
   "id": "621abdf4",
   "metadata": {},
   "outputs": [],
   "source": [
    "response = requests.post(\n",
    "    f\"{DJ_URL}/nodes/\",\n",
    "    json={\n",
    "        \"columns\": {\n",
    "            \"id\": {\"type\": \"INT\"},\n",
    "            \"account_type_name\": {\"type\": \"STR\"},\n",
    "            \"account_type_classification\": {\"type\": \"INT\"},\n",
    "            \"preferred_payment_method\": {\"type\": \"INT\"},\n",
    "        },\n",
    "        \"description\": \"A source table for account type data\",\n",
    "        \"mode\": \"published\",\n",
    "        \"name\": \"account_type_table\",\n",
    "        \"type\": \"source\",\n",
    "    },\n",
    ")\n",
    "response.json()"
   ]
  },
  {
   "cell_type": "code",
   "execution_count": null,
   "id": "75c64ef2",
   "metadata": {},
   "outputs": [],
   "source": [
    "response = requests.post(\n",
    "    f\"{DJ_URL}/nodes/\",\n",
    "    json={\n",
    "        \"columns\": {\n",
    "            \"id\": {\"type\": \"INT\"},\n",
    "            \"payment_type_name\": {\"type\": \"STR\"},\n",
    "            \"payment_type_classification\": {\"type\": \"INT\"},\n",
    "        },\n",
    "        \"description\": \"A source table for different types of payments\",\n",
    "        \"mode\": \"published\",\n",
    "        \"name\": \"payment_type_table\",\n",
    "        \"type\": \"source\",\n",
    "    },\n",
    ")\n",
    "response.json()"
   ]
  },
  {
   "cell_type": "code",
   "execution_count": null,
   "id": "c6f65511",
   "metadata": {},
   "outputs": [],
   "source": [
    "response = requests.post(\n",
    "    f\"{DJ_URL}/nodes/\",\n",
    "    json={\n",
    "        \"columns\": {\n",
    "            \"customer_id\": {\"type\": \"INT\"},\n",
    "            \"first_name\": {\"type\": \"STR\"},\n",
    "            \"last_name\": {\"type\": \"STR\"},\n",
    "        },\n",
    "        \"description\": \"A source table for customer data\",\n",
    "        \"mode\": \"published\",\n",
    "        \"name\": \"customers_table\",\n",
    "        \"type\": \"source\",\n",
    "    },\n",
    ")\n",
    "response.json()"
   ]
  },
  {
   "cell_type": "code",
   "execution_count": null,
   "id": "7bc974af",
   "metadata": {},
   "outputs": [],
   "source": [
    "response = requests.post(\n",
    "    f\"{DJ_URL}/nodes/\",\n",
    "    json={\n",
    "        \"columns\": {\n",
    "            \"customer_id\": {\"type\": \"INT\"},\n",
    "            \"account_type\": {\"type\": \"STR\"},\n",
    "            \"default_payment_type\": {\"type\": \"INT\"},\n",
    "        },\n",
    "        \"description\": \"A source table for customer default payment preference\",\n",
    "        \"mode\": \"published\",\n",
    "        \"name\": \"default_payment_account_table\",\n",
    "        \"type\": \"source\",\n",
    "    },\n",
    ")\n",
    "response.json()"
   ]
  },
  {
   "cell_type": "markdown",
   "id": "7963fc44",
   "metadata": {},
   "source": [
    "## Create some dimension nodes."
   ]
  },
  {
   "cell_type": "code",
   "execution_count": null,
   "id": "0050518a",
   "metadata": {},
   "outputs": [],
   "source": [
    "response = requests.post(\n",
    "    f\"{DJ_URL}/nodes/\",\n",
    "    json={\n",
    "        \"description\": \"Payment type dimensions\",\n",
    "        \"query\": \"SELECT id, payment_type_name, payment_type_classification FROM payment_type_table\",\n",
    "        \"mode\": \"published\",\n",
    "        \"name\": \"payment_type\",\n",
    "        \"type\": \"dimension\",\n",
    "    },\n",
    ")\n",
    "response.json()"
   ]
  },
  {
   "cell_type": "code",
   "execution_count": null,
   "id": "8fd3d1f3",
   "metadata": {},
   "outputs": [],
   "source": [
    "response = requests.post(\n",
    "    f\"{DJ_URL}/nodes/\",\n",
    "    json={\n",
    "        \"description\": \"Customer dimension\",\n",
    "        \"query\": \"SELECT customer_id, first_name, last_name FROM customers_table\",\n",
    "        \"mode\": \"published\",\n",
    "        \"name\": \"customers\",\n",
    "        \"type\": \"dimension\",\n",
    "    },\n",
    ")\n",
    "response.json()"
   ]
  },
  {
   "cell_type": "code",
   "execution_count": null,
   "id": "8002070d",
   "metadata": {},
   "outputs": [],
   "source": [
    "response = requests.post(\n",
    "    f\"{DJ_URL}/nodes/\",\n",
    "    json={\n",
    "        \"description\": \"Account type dimension\",\n",
    "        \"query\": \"SELECT id, account_type_name, account_type_classification FROM account_type_table\",\n",
    "        \"mode\": \"published\",\n",
    "        \"name\": \"account_type\",\n",
    "        \"type\": \"dimension\",\n",
    "    },\n",
    ")\n",
    "response.json()"
   ]
  },
  {
   "cell_type": "markdown",
   "id": "df453f8a",
   "metadata": {},
   "source": [
    "## Create some transform nodes."
   ]
  },
  {
   "cell_type": "code",
   "execution_count": null,
   "id": "3aaeda0a",
   "metadata": {},
   "outputs": [],
   "source": [
    "response = requests.post(\n",
    "    f\"{DJ_URL}/nodes/\",\n",
    "    json={\n",
    "        \"description\": \"Revenue data filtered to large payments only\",\n",
    "        \"query\": \"SELECT payment_id, payment_amount, customer_id, account_type FROM revenue_source LEFT JOIN payment_type on payment_type = payment_type.id WHERE payment_amount > 1000000\",\n",
    "        \"mode\": \"published\",\n",
    "        \"name\": \"large_revenue_payments_only\",\n",
    "        \"type\": \"transform\",\n",
    "    },\n",
    ")\n",
    "response.json()"
   ]
  },
  {
   "cell_type": "code",
   "execution_count": null,
   "id": "93c7b68c",
   "metadata": {},
   "outputs": [],
   "source": [
    "response = requests.post(\n",
    "    f\"{DJ_URL}/nodes/\",\n",
    "    json={\n",
    "        \"description\": \"Revenue data filtered to large business payments only\",\n",
    "        \"query\": \"SELECT payment_id, payment_amount, customer_id, account_type FROM revenue_source WHERE payment_amount > 1000000 AND account_type = 'BUSINESS'\",\n",
    "        \"mode\": \"published\",\n",
    "        \"name\": \"large_revenue_payments_and_business_only\",\n",
    "        \"type\": \"transform\",\n",
    "    },\n",
    ")\n",
    "response.json()"
   ]
  },
  {
   "cell_type": "markdown",
   "id": "68b3fec5",
   "metadata": {},
   "source": [
    "## Create some metric nodes."
   ]
  },
  {
   "cell_type": "code",
   "execution_count": null,
   "id": "6e09774e",
   "metadata": {},
   "outputs": [],
   "source": [
    "response = requests.post(\n",
    "    f\"{DJ_URL}/nodes/\",\n",
    "    json={\n",
    "        \"description\": \"Total company revenue\",\n",
    "        \"query\": \"SELECT sum(payment_amount) as total_revenue FROM revenue_source\",\n",
    "        \"mode\": \"published\",\n",
    "        \"name\": \"total_revenue\",\n",
    "        \"type\": \"metric\",\n",
    "    },\n",
    ")\n",
    "response.json()"
   ]
  },
  {
   "cell_type": "code",
   "execution_count": null,
   "id": "8c9c6b03",
   "metadata": {},
   "outputs": [],
   "source": [
    "response = requests.post(\n",
    "    f\"{DJ_URL}/nodes/\",\n",
    "    json={\n",
    "        \"description\": \"Total number of account types\",\n",
    "        \"query\": \"SELECT count(id) as num_accounts FROM account_type\",\n",
    "        \"mode\": \"published\",\n",
    "        \"name\": \"number_of_account_types\",\n",
    "        \"type\": \"metric\",\n",
    "    },\n",
    ")\n",
    "response.json()"
   ]
  },
  {
   "cell_type": "markdown",
   "id": "de536045",
   "metadata": {},
   "source": [
    "## Add a catalog"
   ]
  },
  {
   "cell_type": "code",
   "execution_count": null,
   "id": "28fa3d80",
   "metadata": {},
   "outputs": [],
   "source": [
    "response = requests.post(\n",
    "    f\"{DJ_URL}/catalogs/\",\n",
    "    json={\"name\": \"test\"},\n",
    ")\n",
    "response.json()"
   ]
  },
  {
   "cell_type": "markdown",
   "id": "3797feff",
   "metadata": {},
   "source": [
    "## Add tables to nodes"
   ]
  },
  {
   "cell_type": "code",
   "execution_count": null,
   "id": "dcc79270",
   "metadata": {},
   "outputs": [],
   "source": [
    "response = requests.post(\n",
    "    f\"{DJ_URL}/nodes/revenue_source/table/\",\n",
    "    json={\n",
    "        \"database_name\": \"postgres\",\n",
    "        \"catalog_name\": \"test\",\n",
    "        \"cost\": 1.0,\n",
    "        \"schema\": \"accounting\",\n",
    "        \"table\": \"revenue\",\n",
    "        \"columns\": [\n",
    "            {\"name\": \"payment_id\", \"type\": \"INT\"},\n",
    "            {\"name\": \"payment_type\", \"type\": \"INT\"},\n",
    "            {\"name\": \"payment_amount\", \"type\": \"FLOAT\"},\n",
    "            {\"name\": \"customer_id\", \"type\": \"INT\"},\n",
    "            {\"name\": \"account_type\", \"type\": \"STR\"},\n",
    "        ],\n",
    "    },\n",
    ")\n",
    "response.json()"
   ]
  },
  {
   "cell_type": "code",
   "execution_count": null,
   "id": "f0d1b403",
   "metadata": {},
   "outputs": [],
   "source": [
    "response = requests.post(\n",
    "    f\"{DJ_URL}/nodes/account_type_table/table/\",\n",
    "    json={\n",
    "        \"database_name\": \"postgres\",\n",
    "        \"catalog_name\": \"test\",\n",
    "        \"cost\": 1.0,\n",
    "        \"schema\": \"accounting\",\n",
    "        \"table\": \"account_type\",\n",
    "        \"columns\": [\n",
    "            {\"name\": \"id\", \"type\": \"INT\"},\n",
    "            {\"name\": \"account_type_name\", \"type\": \"STR\"},\n",
    "            {\"name\": \"account_type_classification\", \"type\": \"INT\"},\n",
    "            {\"name\": \"preferred_payment_method\", \"type\": \"INT\"},\n",
    "        ],\n",
    "    },\n",
    ")\n",
    "response.json()"
   ]
  },
  {
   "cell_type": "code",
   "execution_count": null,
   "id": "acf86fc8",
   "metadata": {},
   "outputs": [],
   "source": [
    "response = requests.post(\n",
    "    f\"{DJ_URL}/nodes/payment_type_table/table/\",\n",
    "    json={\n",
    "        \"database_name\": \"postgres\",\n",
    "        \"catalog_name\": \"test\",\n",
    "        \"cost\": 1.0,\n",
    "        \"schema\": \"accounting\",\n",
    "        \"table\": \"payment_type\",\n",
    "        \"columns\": [\n",
    "            {\"name\": \"id\", \"type\": \"INT\"},\n",
    "            {\"name\": \"payment_type_name\", \"type\": \"STR\"},\n",
    "            {\"name\": \"payment_type_classification\", \"type\": \"INT\"},\n",
    "        ],\n",
    "    },\n",
    ")\n",
    "response.json()"
   ]
  },
  {
   "cell_type": "code",
   "execution_count": null,
   "id": "83700c47",
   "metadata": {},
   "outputs": [],
   "source": [
    "response = requests.post(\n",
    "    f\"{DJ_URL}/nodes/customers_table/table/\",\n",
    "    json={\n",
    "        \"database_name\": \"postgres\",\n",
    "        \"catalog_name\": \"test\",\n",
    "        \"cost\": 1.0,\n",
    "        \"schema\": \"accounting\",\n",
    "        \"table\": \"customers\",\n",
    "        \"columns\": [\n",
    "            {\"name\": \"customer_id\", \"type\": \"INT\"},\n",
    "            {\"name\": \"first_name\", \"type\": \"STR\"},\n",
    "            {\"name\": \"last_name\", \"type\": \"STR\"},\n",
    "        ],\n",
    "    },\n",
    ")\n",
    "response.json()"
   ]
  },
  {
   "cell_type": "code",
   "execution_count": null,
   "id": "c3f4633f",
   "metadata": {},
   "outputs": [],
   "source": [
    "response = requests.post(\n",
    "    f\"{DJ_URL}/nodes/default_payment_account_table/table/\",\n",
    "    json={\n",
    "        \"database_name\": \"postgres\",\n",
    "        \"catalog_name\": \"test\",\n",
    "        \"cost\": 1.0,\n",
    "        \"schema\": \"accounting\",\n",
    "        \"table\": \"default_payment_account\",\n",
    "        \"columns\": [\n",
    "            {\"name\": \"customer_id\", \"type\": \"INT\"},\n",
    "            {\"name\": \"account_type\", \"type\": \"STR\"},\n",
    "            {\"name\": \"default_payment_type\", \"type\": \"INT\"},\n",
    "        ],\n",
    "    },\n",
    ")\n",
    "response.json()"
   ]
  },
  {
   "cell_type": "markdown",
   "id": "3b16a302",
   "metadata": {},
   "source": [
    "## Label Foreign Keys With Dimension Nodes"
   ]
  },
  {
   "cell_type": "code",
   "execution_count": null,
   "id": "cd673aea",
   "metadata": {},
   "outputs": [],
   "source": [
    "response = requests.post(\n",
    "    f\"{DJ_URL}/nodes/revenue_source/columns/payment_type/?dimension=payment_type\"\n",
    ")\n",
    "response.json()"
   ]
  },
  {
   "cell_type": "code",
   "execution_count": null,
   "id": "6fa7ad62",
   "metadata": {},
   "outputs": [],
   "source": [
    "response = requests.post(\n",
    "    f\"{DJ_URL}/nodes/revenue_source/columns/customer_id/?dimension=customers\"\n",
    ")\n",
    "response.json()"
   ]
  },
  {
   "cell_type": "code",
   "execution_count": null,
   "id": "a7c75c17",
   "metadata": {},
   "outputs": [],
   "source": [
    "response = requests.post(\n",
    "    f\"{DJ_URL}/nodes/default_payment_account_table/columns/account_type/?dimension=account_type\"\n",
    ")\n",
    "response.json()"
   ]
  },
  {
   "cell_type": "code",
   "execution_count": null,
   "id": "a6b15a74",
   "metadata": {},
   "outputs": [],
   "source": [
    "response = requests.post(\n",
    "    f\"{DJ_URL}/nodes/default_payment_account_table/columns/default_payment_type/?dimension=payment_type\"\n",
    ")\n",
    "response.json()"
   ]
  }
 ],
 "metadata": {
  "kernelspec": {
   "display_name": "Python 3 (ipykernel)",
   "language": "python",
   "name": "python3"
  },
  "language_info": {
   "codemirror_mode": {
    "name": "ipython",
    "version": 3
   },
   "file_extension": ".py",
   "mimetype": "text/x-python",
   "name": "python",
   "nbconvert_exporter": "python",
   "pygments_lexer": "ipython3",
   "version": "3.10.9"
  }
 },
 "nbformat": 4,
 "nbformat_minor": 5
}
