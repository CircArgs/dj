{
 "cells": [
  {
   "cell_type": "markdown",
   "id": "db0646c3",
   "metadata": {},
   "source": [
    "# DJ Runbook - Creating and Linking Nodes"
   ]
  },
  {
   "cell_type": "markdown",
   "id": "618db7b2",
   "metadata": {},
   "source": [
    "This notebook performs a collection of basic requests to a running DJ server to create and link nodes."
   ]
  },
  {
   "cell_type": "code",
   "execution_count": 1,
   "id": "c35d779c",
   "metadata": {},
   "outputs": [],
   "source": [
    "import requests\n",
    "\n",
    "DJ_PROTOCOL = \"http\"\n",
    "DJ_HOST = \"localhost\"\n",
    "DJ_PORT = 8000\n",
    "DJ_URL = f\"{DJ_PROTOCOL}://{DJ_HOST}:{DJ_PORT}\""
   ]
  },
  {
   "cell_type": "markdown",
   "id": "a1abb330",
   "metadata": {},
   "source": [
    "## Create some source nodes."
   ]
  },
  {
   "cell_type": "code",
   "execution_count": 2,
   "id": "0b2bc781",
   "metadata": {},
   "outputs": [
    {
     "data": {
      "text/plain": [
       "{'node_revision_id': 13,\n",
       " 'node_id': 13,\n",
       " 'type': 'source',\n",
       " 'name': 'revenue_source',\n",
       " 'display_name': 'Revenue Source',\n",
       " 'version': '1',\n",
       " 'description': 'A source table for revenue data',\n",
       " 'query': None,\n",
       " 'availability': None,\n",
       " 'columns': [{'name': 'payment_id', 'type': 'INT'},\n",
       "  {'name': 'payment_type', 'type': 'INT'},\n",
       "  {'name': 'payment_amount', 'type': 'FLOAT'},\n",
       "  {'name': 'customer_id', 'type': 'INT'},\n",
       "  {'name': 'account_type', 'type': 'STR'}],\n",
       " 'tables': [],\n",
       " 'updated_at': '2023-02-13T03:50:06.679701+00:00',\n",
       " 'created_at': '2023-02-13T03:50:06.677898+00:00'}"
      ]
     },
     "execution_count": 2,
     "metadata": {},
     "output_type": "execute_result"
    }
   ],
   "source": [
    "response = requests.post(\n",
    "    f\"{DJ_URL}/nodes/\",\n",
    "    json={\n",
    "        \"columns\": {\n",
    "            \"payment_id\": {\"type\": \"INT\"},\n",
    "            \"payment_type\": {\"type\": \"INT\"},\n",
    "            \"payment_amount\": {\"type\": \"FLOAT\"},\n",
    "            \"customer_id\": {\"type\": \"INT\"},\n",
    "            \"account_type\": {\"type\": \"STR\"},\n",
    "        },\n",
    "        \"description\": \"A source table for revenue data\",\n",
    "        \"mode\": \"published\",\n",
    "        \"name\": \"revenue_source\",\n",
    "        \"type\": \"source\",\n",
    "    },\n",
    ")\n",
    "response.json()"
   ]
  },
  {
   "cell_type": "code",
   "execution_count": 3,
   "id": "621abdf4",
   "metadata": {},
   "outputs": [
    {
     "data": {
      "text/plain": [
       "{'node_revision_id': 14,\n",
       " 'node_id': 14,\n",
       " 'type': 'source',\n",
       " 'name': 'account_type_table',\n",
       " 'display_name': 'Account Type Table',\n",
       " 'version': '1',\n",
       " 'description': 'A source table for account type data',\n",
       " 'query': None,\n",
       " 'availability': None,\n",
       " 'columns': [{'name': 'id', 'type': 'INT'},\n",
       "  {'name': 'account_type_name', 'type': 'STR'},\n",
       "  {'name': 'account_type_classification', 'type': 'INT'},\n",
       "  {'name': 'preferred_payment_method', 'type': 'INT'}],\n",
       " 'tables': [],\n",
       " 'updated_at': '2023-02-13T03:50:06.902134+00:00',\n",
       " 'created_at': '2023-02-13T03:50:06.900526+00:00'}"
      ]
     },
     "execution_count": 3,
     "metadata": {},
     "output_type": "execute_result"
    }
   ],
   "source": [
    "response = requests.post(\n",
    "    f\"{DJ_URL}/nodes/\",\n",
    "    json={\n",
    "        \"columns\": {\n",
    "            \"id\": {\"type\": \"INT\"},\n",
    "            \"account_type_name\": {\"type\": \"STR\"},\n",
    "            \"account_type_classification\": {\"type\": \"INT\"},\n",
    "            \"preferred_payment_method\": {\"type\": \"INT\"},\n",
    "        },\n",
    "        \"description\": \"A source table for account type data\",\n",
    "        \"mode\": \"published\",\n",
    "        \"name\": \"account_type_table\",\n",
    "        \"type\": \"source\",\n",
    "    },\n",
    ")\n",
    "response.json()"
   ]
  },
  {
   "cell_type": "code",
   "execution_count": 4,
   "id": "75c64ef2",
   "metadata": {},
   "outputs": [
    {
     "data": {
      "text/plain": [
       "{'node_revision_id': 15,\n",
       " 'node_id': 15,\n",
       " 'type': 'source',\n",
       " 'name': 'payment_type_table',\n",
       " 'display_name': 'Payment Type Table',\n",
       " 'version': '1',\n",
       " 'description': 'A source table for different types of payments',\n",
       " 'query': None,\n",
       " 'availability': None,\n",
       " 'columns': [{'name': 'id', 'type': 'INT'},\n",
       "  {'name': 'payment_type_name', 'type': 'STR'},\n",
       "  {'name': 'payment_type_classification', 'type': 'INT'}],\n",
       " 'tables': [],\n",
       " 'updated_at': '2023-02-13T03:50:07.075401+00:00',\n",
       " 'created_at': '2023-02-13T03:50:07.074081+00:00'}"
      ]
     },
     "execution_count": 4,
     "metadata": {},
     "output_type": "execute_result"
    }
   ],
   "source": [
    "response = requests.post(\n",
    "    f\"{DJ_URL}/nodes/\",\n",
    "    json={\n",
    "        \"columns\": {\n",
    "            \"id\": {\"type\": \"INT\"},\n",
    "            \"payment_type_name\": {\"type\": \"STR\"},\n",
    "            \"payment_type_classification\": {\"type\": \"INT\"},\n",
    "        },\n",
    "        \"description\": \"A source table for different types of payments\",\n",
    "        \"mode\": \"published\",\n",
    "        \"name\": \"payment_type_table\",\n",
    "        \"type\": \"source\",\n",
    "    },\n",
    ")\n",
    "response.json()"
   ]
  },
  {
   "cell_type": "code",
   "execution_count": 5,
   "id": "c6f65511",
   "metadata": {},
   "outputs": [
    {
     "data": {
      "text/plain": [
       "{'node_revision_id': 16,\n",
       " 'node_id': 16,\n",
       " 'type': 'source',\n",
       " 'name': 'customers_table',\n",
       " 'display_name': 'Customers Table',\n",
       " 'version': '1',\n",
       " 'description': 'A source table for customer data',\n",
       " 'query': None,\n",
       " 'availability': None,\n",
       " 'columns': [{'name': 'customer_id', 'type': 'INT'},\n",
       "  {'name': 'first_name', 'type': 'STR'},\n",
       "  {'name': 'last_name', 'type': 'STR'}],\n",
       " 'tables': [],\n",
       " 'updated_at': '2023-02-13T03:50:07.232772+00:00',\n",
       " 'created_at': '2023-02-13T03:50:07.231517+00:00'}"
      ]
     },
     "execution_count": 5,
     "metadata": {},
     "output_type": "execute_result"
    }
   ],
   "source": [
    "response = requests.post(\n",
    "    f\"{DJ_URL}/nodes/\",\n",
    "    json={\n",
    "        \"columns\": {\n",
    "            \"customer_id\": {\"type\": \"INT\"},\n",
    "            \"first_name\": {\"type\": \"STR\"},\n",
    "            \"last_name\": {\"type\": \"STR\"},\n",
    "        },\n",
    "        \"description\": \"A source table for customer data\",\n",
    "        \"mode\": \"published\",\n",
    "        \"name\": \"customers_table\",\n",
    "        \"type\": \"source\",\n",
    "    },\n",
    ")\n",
    "response.json()"
   ]
  },
  {
   "cell_type": "code",
   "execution_count": 6,
   "id": "7bc974af",
   "metadata": {},
   "outputs": [
    {
     "data": {
      "text/plain": [
       "{'node_revision_id': 17,\n",
       " 'node_id': 17,\n",
       " 'type': 'source',\n",
       " 'name': 'default_payment_account_table',\n",
       " 'display_name': 'Default Payment Account Table',\n",
       " 'version': '1',\n",
       " 'description': 'A source table for customer default payment preference',\n",
       " 'query': None,\n",
       " 'availability': None,\n",
       " 'columns': [{'name': 'customer_id', 'type': 'INT'},\n",
       "  {'name': 'account_type', 'type': 'STR'},\n",
       "  {'name': 'default_payment_type', 'type': 'INT'}],\n",
       " 'tables': [],\n",
       " 'updated_at': '2023-02-13T03:50:07.387441+00:00',\n",
       " 'created_at': '2023-02-13T03:50:07.386160+00:00'}"
      ]
     },
     "execution_count": 6,
     "metadata": {},
     "output_type": "execute_result"
    }
   ],
   "source": [
    "response = requests.post(\n",
    "    f\"{DJ_URL}/nodes/\",\n",
    "    json={\n",
    "        \"columns\": {\n",
    "            \"customer_id\": {\"type\": \"INT\"},\n",
    "            \"account_type\": {\"type\": \"STR\"},\n",
    "            \"default_payment_type\": {\"type\": \"INT\"},\n",
    "        },\n",
    "        \"description\": \"A source table for customer default payment preference\",\n",
    "        \"mode\": \"published\",\n",
    "        \"name\": \"default_payment_account_table\",\n",
    "        \"type\": \"source\",\n",
    "    },\n",
    ")\n",
    "response.json()"
   ]
  },
  {
   "cell_type": "markdown",
   "id": "7963fc44",
   "metadata": {},
   "source": [
    "## Create some dimension nodes."
   ]
  },
  {
   "cell_type": "code",
   "execution_count": 7,
   "id": "0050518a",
   "metadata": {},
   "outputs": [
    {
     "data": {
      "text/plain": [
       "{'node_revision_id': 18,\n",
       " 'node_id': 18,\n",
       " 'type': 'dimension',\n",
       " 'name': 'payment_type',\n",
       " 'display_name': 'Payment Type',\n",
       " 'version': '1',\n",
       " 'description': 'Payment type dimensions',\n",
       " 'query': 'SELECT id, payment_type_name, payment_type_classification FROM payment_type_table',\n",
       " 'availability': None,\n",
       " 'columns': [{'name': 'id', 'type': 'INT'},\n",
       "  {'name': 'payment_type_name', 'type': 'STR'},\n",
       "  {'name': 'payment_type_classification', 'type': 'INT'}],\n",
       " 'tables': [],\n",
       " 'updated_at': '2023-02-13T03:50:07.543238+00:00',\n",
       " 'created_at': '2023-02-13T03:50:07.542399+00:00'}"
      ]
     },
     "execution_count": 7,
     "metadata": {},
     "output_type": "execute_result"
    }
   ],
   "source": [
    "response = requests.post(\n",
    "    f\"{DJ_URL}/nodes/\",\n",
    "    json={\n",
    "        \"description\": \"Payment type dimensions\",\n",
    "        \"query\": \"SELECT id, payment_type_name, payment_type_classification FROM payment_type_table\",\n",
    "        \"mode\": \"published\",\n",
    "        \"name\": \"payment_type\",\n",
    "        \"type\": \"dimension\",\n",
    "    },\n",
    ")\n",
    "response.json()"
   ]
  },
  {
   "cell_type": "code",
   "execution_count": 8,
   "id": "8fd3d1f3",
   "metadata": {},
   "outputs": [
    {
     "data": {
      "text/plain": [
       "{'node_revision_id': 19,\n",
       " 'node_id': 19,\n",
       " 'type': 'dimension',\n",
       " 'name': 'customers',\n",
       " 'display_name': 'Customers',\n",
       " 'version': '1',\n",
       " 'description': 'Customer dimension',\n",
       " 'query': 'SELECT customer_id, first_name, last_name FROM customers_table',\n",
       " 'availability': None,\n",
       " 'columns': [{'name': 'customer_id', 'type': 'INT'},\n",
       "  {'name': 'first_name', 'type': 'STR'},\n",
       "  {'name': 'last_name', 'type': 'STR'}],\n",
       " 'tables': [],\n",
       " 'updated_at': '2023-02-13T03:50:07.739831+00:00',\n",
       " 'created_at': '2023-02-13T03:50:07.739152+00:00'}"
      ]
     },
     "execution_count": 8,
     "metadata": {},
     "output_type": "execute_result"
    }
   ],
   "source": [
    "response = requests.post(\n",
    "    f\"{DJ_URL}/nodes/\",\n",
    "    json={\n",
    "        \"description\": \"Customer dimension\",\n",
    "        \"query\": \"SELECT customer_id, first_name, last_name FROM customers_table\",\n",
    "        \"mode\": \"published\",\n",
    "        \"name\": \"customers\",\n",
    "        \"type\": \"dimension\",\n",
    "    },\n",
    ")\n",
    "response.json()"
   ]
  },
  {
   "cell_type": "code",
   "execution_count": 9,
   "id": "8002070d",
   "metadata": {},
   "outputs": [
    {
     "data": {
      "text/plain": [
       "{'node_revision_id': 20,\n",
       " 'node_id': 20,\n",
       " 'type': 'dimension',\n",
       " 'name': 'account_type',\n",
       " 'display_name': 'Account Type',\n",
       " 'version': '1',\n",
       " 'description': 'Account type dimension',\n",
       " 'query': 'SELECT id, account_type_name, account_type_classification FROM account_type_table',\n",
       " 'availability': None,\n",
       " 'columns': [{'name': 'id', 'type': 'INT'},\n",
       "  {'name': 'account_type_name', 'type': 'STR'},\n",
       "  {'name': 'account_type_classification', 'type': 'INT'}],\n",
       " 'tables': [],\n",
       " 'updated_at': '2023-02-13T03:50:07.921304+00:00',\n",
       " 'created_at': '2023-02-13T03:50:07.920718+00:00'}"
      ]
     },
     "execution_count": 9,
     "metadata": {},
     "output_type": "execute_result"
    }
   ],
   "source": [
    "response = requests.post(\n",
    "    f\"{DJ_URL}/nodes/\",\n",
    "    json={\n",
    "        \"description\": \"Account type dimension\",\n",
    "        \"query\": \"SELECT id, account_type_name, account_type_classification FROM account_type_table\",\n",
    "        \"mode\": \"published\",\n",
    "        \"name\": \"account_type\",\n",
    "        \"type\": \"dimension\",\n",
    "    },\n",
    ")\n",
    "response.json()"
   ]
  },
  {
   "cell_type": "markdown",
   "id": "df453f8a",
   "metadata": {},
   "source": [
    "## Create some transform nodes."
   ]
  },
  {
   "cell_type": "code",
   "execution_count": 10,
   "id": "3aaeda0a",
   "metadata": {},
   "outputs": [
    {
     "data": {
      "text/plain": [
       "{'node_revision_id': 21,\n",
       " 'node_id': 21,\n",
       " 'type': 'transform',\n",
       " 'name': 'large_revenue_payments_only',\n",
       " 'display_name': 'Large Revenue Payments Only',\n",
       " 'version': '1',\n",
       " 'description': 'Revenue data filtered to large payments only',\n",
       " 'query': 'SELECT payment_id, payment_amount, customer_id, account_type FROM revenue_source LEFT JOIN payment_type on payment_type = payment_type.id WHERE payment_amount > 1000000',\n",
       " 'availability': None,\n",
       " 'columns': [{'name': 'payment_id', 'type': 'INT'},\n",
       "  {'name': 'payment_amount', 'type': 'FLOAT'},\n",
       "  {'name': 'customer_id', 'type': 'INT'},\n",
       "  {'name': 'account_type', 'type': 'STR'}],\n",
       " 'tables': [],\n",
       " 'updated_at': '2023-02-13T03:50:08.105057+00:00',\n",
       " 'created_at': '2023-02-13T03:50:08.104387+00:00'}"
      ]
     },
     "execution_count": 10,
     "metadata": {},
     "output_type": "execute_result"
    }
   ],
   "source": [
    "response = requests.post(\n",
    "    f\"{DJ_URL}/nodes/\",\n",
    "    json={\n",
    "        \"description\": \"Revenue data filtered to large payments only\",\n",
    "        \"query\": \"SELECT payment_id, payment_amount, customer_id, account_type FROM revenue_source LEFT JOIN payment_type on payment_type = payment_type.id WHERE payment_amount > 1000000\",\n",
    "        \"mode\": \"published\",\n",
    "        \"name\": \"large_revenue_payments_only\",\n",
    "        \"type\": \"transform\",\n",
    "    },\n",
    ")\n",
    "response.json()"
   ]
  },
  {
   "cell_type": "code",
   "execution_count": 11,
   "id": "93c7b68c",
   "metadata": {},
   "outputs": [
    {
     "data": {
      "text/plain": [
       "{'node_revision_id': 22,\n",
       " 'node_id': 22,\n",
       " 'type': 'transform',\n",
       " 'name': 'large_revenue_payments_and_business_only',\n",
       " 'display_name': 'Large Revenue Payments And Business Only',\n",
       " 'version': '1',\n",
       " 'description': 'Revenue data filtered to large business payments only',\n",
       " 'query': \"SELECT payment_id, payment_amount, customer_id, account_type FROM revenue_source WHERE payment_amount > 1000000 AND account_type = 'BUSINESS'\",\n",
       " 'availability': None,\n",
       " 'columns': [{'name': 'payment_id', 'type': 'INT'},\n",
       "  {'name': 'payment_amount', 'type': 'FLOAT'},\n",
       "  {'name': 'customer_id', 'type': 'INT'},\n",
       "  {'name': 'account_type', 'type': 'STR'}],\n",
       " 'tables': [],\n",
       " 'updated_at': '2023-02-13T03:50:08.337469+00:00',\n",
       " 'created_at': '2023-02-13T03:50:08.336711+00:00'}"
      ]
     },
     "execution_count": 11,
     "metadata": {},
     "output_type": "execute_result"
    }
   ],
   "source": [
    "response = requests.post(\n",
    "    f\"{DJ_URL}/nodes/\",\n",
    "    json={\n",
    "        \"description\": \"Revenue data filtered to large business payments only\",\n",
    "        \"query\": \"SELECT payment_id, payment_amount, customer_id, account_type FROM revenue_source WHERE payment_amount > 1000000 AND account_type = 'BUSINESS'\",\n",
    "        \"mode\": \"published\",\n",
    "        \"name\": \"large_revenue_payments_and_business_only\",\n",
    "        \"type\": \"transform\",\n",
    "    },\n",
    ")\n",
    "response.json()"
   ]
  },
  {
   "cell_type": "markdown",
   "id": "68b3fec5",
   "metadata": {},
   "source": [
    "## Create some metric nodes."
   ]
  },
  {
   "cell_type": "code",
   "execution_count": 12,
   "id": "6e09774e",
   "metadata": {},
   "outputs": [
    {
     "data": {
      "text/plain": [
       "{'node_revision_id': 23,\n",
       " 'node_id': 23,\n",
       " 'type': 'metric',\n",
       " 'name': 'total_revenue',\n",
       " 'display_name': 'Total Revenue',\n",
       " 'version': '1',\n",
       " 'description': 'Total company revenue',\n",
       " 'query': 'SELECT sum(payment_amount) as total_revenue FROM revenue_source',\n",
       " 'availability': None,\n",
       " 'columns': [{'name': 'total_revenue', 'type': 'FLOAT'}],\n",
       " 'tables': [],\n",
       " 'updated_at': '2023-02-13T03:50:08.529165+00:00',\n",
       " 'created_at': '2023-02-13T03:50:08.528590+00:00'}"
      ]
     },
     "execution_count": 12,
     "metadata": {},
     "output_type": "execute_result"
    }
   ],
   "source": [
    "response = requests.post(\n",
    "    f\"{DJ_URL}/nodes/\",\n",
    "    json={\n",
    "        \"description\": \"Total company revenue\",\n",
    "        \"query\": \"SELECT sum(payment_amount) as total_revenue FROM revenue_source\",\n",
    "        \"mode\": \"published\",\n",
    "        \"name\": \"total_revenue\",\n",
    "        \"type\": \"metric\",\n",
    "    },\n",
    ")\n",
    "response.json()"
   ]
  },
  {
   "cell_type": "code",
   "execution_count": 13,
   "id": "8c9c6b03",
   "metadata": {},
   "outputs": [
    {
     "data": {
      "text/plain": [
       "{'node_revision_id': 24,\n",
       " 'node_id': 24,\n",
       " 'type': 'metric',\n",
       " 'name': 'number_of_account_types',\n",
       " 'display_name': 'Number Of Account Types',\n",
       " 'version': '1',\n",
       " 'description': 'Total number of account types',\n",
       " 'query': 'SELECT count(id) as num_accounts FROM account_type',\n",
       " 'availability': None,\n",
       " 'columns': [{'name': 'num_accounts', 'type': 'INT'}],\n",
       " 'tables': [],\n",
       " 'updated_at': '2023-02-13T03:50:08.712647+00:00',\n",
       " 'created_at': '2023-02-13T03:50:08.712059+00:00'}"
      ]
     },
     "execution_count": 13,
     "metadata": {},
     "output_type": "execute_result"
    }
   ],
   "source": [
    "response = requests.post(\n",
    "    f\"{DJ_URL}/nodes/\",\n",
    "    json={\n",
    "        \"description\": \"Total number of account types\",\n",
    "        \"query\": \"SELECT count(id) as num_accounts FROM account_type\",\n",
    "        \"mode\": \"published\",\n",
    "        \"name\": \"number_of_account_types\",\n",
    "        \"type\": \"metric\",\n",
    "    },\n",
    ")\n",
    "response.json()"
   ]
  },
  {
   "cell_type": "markdown",
   "id": "41528aac",
   "metadata": {},
   "source": [
    "## Create some cube nodes"
   ]
  },
  {
   "cell_type": "code",
   "execution_count": 14,
   "id": "fc32727a",
   "metadata": {},
   "outputs": [
    {
     "data": {
      "text/plain": [
       "{'node_revision_id': 25,\n",
       " 'node_id': 25,\n",
       " 'type': 'cube',\n",
       " 'name': 'total_revenue_by_customer_payment_type',\n",
       " 'display_name': 'Total Revenue By Customer Payment Type',\n",
       " 'version': '1',\n",
       " 'description': 'A cube of Total Revenue grouped by customer and payment type',\n",
       " 'query': None,\n",
       " 'availability': None,\n",
       " 'columns': [],\n",
       " 'tables': [],\n",
       " 'updated_at': '2023-02-13T03:50:08.898922+00:00',\n",
       " 'created_at': '2023-02-13T03:50:08.892201+00:00'}"
      ]
     },
     "execution_count": 14,
     "metadata": {},
     "output_type": "execute_result"
    }
   ],
   "source": [
    "response = requests.post(\n",
    "    f\"{DJ_URL}/nodes/\",\n",
    "    json={\n",
    "        \"cube_elements\": [\"total_revenue\", \"payment_type\", \"customers\"],\n",
    "        \"description\": \"A cube of Total Revenue grouped by customer and payment type\",\n",
    "        \"mode\": \"published\",\n",
    "        \"name\": \"total_revenue_by_customer_payment_type\",\n",
    "        \"type\": \"cube\",\n",
    "    },\n",
    ")\n",
    "response.json()"
   ]
  },
  {
   "cell_type": "code",
   "execution_count": 15,
   "id": "8317edb9",
   "metadata": {},
   "outputs": [
    {
     "data": {
      "text/plain": [
       "{'node_revision_id': 26,\n",
       " 'node_id': 26,\n",
       " 'type': 'cube',\n",
       " 'name': 'number_of_accounts_by_account_type',\n",
       " 'display_name': 'Number Of Accounts By Account Type',\n",
       " 'version': '1',\n",
       " 'description': 'A cube of number of accounts grouped by account type',\n",
       " 'query': None,\n",
       " 'availability': None,\n",
       " 'columns': [],\n",
       " 'tables': [],\n",
       " 'updated_at': '2023-02-13T03:50:09.058746+00:00',\n",
       " 'created_at': '2023-02-13T03:50:09.052833+00:00'}"
      ]
     },
     "execution_count": 15,
     "metadata": {},
     "output_type": "execute_result"
    }
   ],
   "source": [
    "response = requests.post(\n",
    "    f\"{DJ_URL}/nodes/\",\n",
    "    json={\n",
    "        \"cube_elements\": [\"number_of_account_types\", \"account_type\"],\n",
    "        \"description\": \"A cube of number of accounts grouped by account type\",\n",
    "        \"mode\": \"published\",\n",
    "        \"name\": \"number_of_accounts_by_account_type\",\n",
    "        \"type\": \"cube\",\n",
    "    },\n",
    ")\n",
    "response.json()"
   ]
  },
  {
   "cell_type": "markdown",
   "id": "de536045",
   "metadata": {},
   "source": [
    "## Add a catalog"
   ]
  },
  {
   "cell_type": "code",
   "execution_count": 16,
   "id": "28fa3d80",
   "metadata": {},
   "outputs": [
    {
     "data": {
      "text/plain": [
       "{'name': 'test', 'engines': []}"
      ]
     },
     "execution_count": 16,
     "metadata": {},
     "output_type": "execute_result"
    }
   ],
   "source": [
    "response = requests.post(\n",
    "    f\"{DJ_URL}/catalogs/\",\n",
    "    json={\"name\": \"test\"},\n",
    ")\n",
    "response.json()"
   ]
  },
  {
   "cell_type": "markdown",
   "id": "3797feff",
   "metadata": {},
   "source": [
    "## Add tables to nodes"
   ]
  },
  {
   "cell_type": "code",
   "execution_count": 17,
   "id": "dcc79270",
   "metadata": {},
   "outputs": [
    {
     "data": {
      "text/plain": [
       "{'message': 'Table revenue has been successfully linked to node revenue_source'}"
      ]
     },
     "execution_count": 17,
     "metadata": {},
     "output_type": "execute_result"
    }
   ],
   "source": [
    "response = requests.post(\n",
    "    f\"{DJ_URL}/nodes/revenue_source/table/\",\n",
    "    json={\n",
    "        \"database_name\": \"postgres\",\n",
    "        \"catalog_name\": \"test\",\n",
    "        \"cost\": 1.0,\n",
    "        \"schema\": \"accounting\",\n",
    "        \"table\": \"revenue\",\n",
    "        \"columns\": [\n",
    "            {\"name\": \"payment_id\", \"type\": \"INT\"},\n",
    "            {\"name\": \"payment_type\", \"type\": \"INT\"},\n",
    "            {\"name\": \"payment_amount\", \"type\": \"FLOAT\"},\n",
    "            {\"name\": \"customer_id\", \"type\": \"INT\"},\n",
    "            {\"name\": \"account_type\", \"type\": \"STR\"},\n",
    "        ],\n",
    "    },\n",
    ")\n",
    "response.json()"
   ]
  },
  {
   "cell_type": "code",
   "execution_count": 18,
   "id": "f0d1b403",
   "metadata": {},
   "outputs": [
    {
     "data": {
      "text/plain": [
       "{'message': 'Table account_type has been successfully linked to node account_type_table'}"
      ]
     },
     "execution_count": 18,
     "metadata": {},
     "output_type": "execute_result"
    }
   ],
   "source": [
    "response = requests.post(\n",
    "    f\"{DJ_URL}/nodes/account_type_table/table/\",\n",
    "    json={\n",
    "        \"database_name\": \"postgres\",\n",
    "        \"catalog_name\": \"test\",\n",
    "        \"cost\": 1.0,\n",
    "        \"schema\": \"accounting\",\n",
    "        \"table\": \"account_type\",\n",
    "        \"columns\": [\n",
    "            {\"name\": \"id\", \"type\": \"INT\"},\n",
    "            {\"name\": \"account_type_name\", \"type\": \"STR\"},\n",
    "            {\"name\": \"account_type_classification\", \"type\": \"INT\"},\n",
    "            {\"name\": \"preferred_payment_method\", \"type\": \"INT\"},\n",
    "        ],\n",
    "    },\n",
    ")\n",
    "response.json()"
   ]
  },
  {
   "cell_type": "code",
   "execution_count": 19,
   "id": "acf86fc8",
   "metadata": {},
   "outputs": [
    {
     "data": {
      "text/plain": [
       "{'message': 'Table payment_type has been successfully linked to node payment_type_table'}"
      ]
     },
     "execution_count": 19,
     "metadata": {},
     "output_type": "execute_result"
    }
   ],
   "source": [
    "response = requests.post(\n",
    "    f\"{DJ_URL}/nodes/payment_type_table/table/\",\n",
    "    json={\n",
    "        \"database_name\": \"postgres\",\n",
    "        \"catalog_name\": \"test\",\n",
    "        \"cost\": 1.0,\n",
    "        \"schema\": \"accounting\",\n",
    "        \"table\": \"payment_type\",\n",
    "        \"columns\": [\n",
    "            {\"name\": \"id\", \"type\": \"INT\"},\n",
    "            {\"name\": \"payment_type_name\", \"type\": \"STR\"},\n",
    "            {\"name\": \"payment_type_classification\", \"type\": \"INT\"},\n",
    "        ],\n",
    "    },\n",
    ")\n",
    "response.json()"
   ]
  },
  {
   "cell_type": "code",
   "execution_count": 20,
   "id": "83700c47",
   "metadata": {},
   "outputs": [
    {
     "data": {
      "text/plain": [
       "{'message': 'Table customers has been successfully linked to node customers_table'}"
      ]
     },
     "execution_count": 20,
     "metadata": {},
     "output_type": "execute_result"
    }
   ],
   "source": [
    "response = requests.post(\n",
    "    f\"{DJ_URL}/nodes/customers_table/table/\",\n",
    "    json={\n",
    "        \"database_name\": \"postgres\",\n",
    "        \"catalog_name\": \"test\",\n",
    "        \"cost\": 1.0,\n",
    "        \"schema\": \"accounting\",\n",
    "        \"table\": \"customers\",\n",
    "        \"columns\": [\n",
    "            {\"name\": \"customer_id\", \"type\": \"INT\"},\n",
    "            {\"name\": \"first_name\", \"type\": \"STR\"},\n",
    "            {\"name\": \"last_name\", \"type\": \"STR\"},\n",
    "        ],\n",
    "    },\n",
    ")\n",
    "response.json()"
   ]
  },
  {
   "cell_type": "code",
   "execution_count": 21,
   "id": "c3f4633f",
   "metadata": {},
   "outputs": [
    {
     "data": {
      "text/plain": [
       "{'message': 'Table default_payment_account has been successfully linked to node default_payment_account_table'}"
      ]
     },
     "execution_count": 21,
     "metadata": {},
     "output_type": "execute_result"
    }
   ],
   "source": [
    "response = requests.post(\n",
    "    f\"{DJ_URL}/nodes/default_payment_account_table/table/\",\n",
    "    json={\n",
    "        \"database_name\": \"postgres\",\n",
    "        \"catalog_name\": \"test\",\n",
    "        \"cost\": 1.0,\n",
    "        \"schema\": \"accounting\",\n",
    "        \"table\": \"default_payment_account\",\n",
    "        \"columns\": [\n",
    "            {\"name\": \"customer_id\", \"type\": \"INT\"},\n",
    "            {\"name\": \"account_type\", \"type\": \"STR\"},\n",
    "            {\"name\": \"default_payment_type\", \"type\": \"INT\"},\n",
    "        ],\n",
    "    },\n",
    ")\n",
    "response.json()"
   ]
  },
  {
   "cell_type": "markdown",
   "id": "3b16a302",
   "metadata": {},
   "source": [
    "## Label Foreign Keys With Dimension Nodes"
   ]
  },
  {
   "cell_type": "code",
   "execution_count": 22,
   "id": "cd673aea",
   "metadata": {},
   "outputs": [
    {
     "data": {
      "text/plain": [
       "{'message': 'Dimension node payment_type has been successfully linked to column payment_type on node revenue_source'}"
      ]
     },
     "execution_count": 22,
     "metadata": {},
     "output_type": "execute_result"
    }
   ],
   "source": [
    "response = requests.post(\n",
    "    f\"{DJ_URL}/nodes/revenue_source/columns/payment_type/?dimension=payment_type\"\n",
    ")\n",
    "response.json()"
   ]
  },
  {
   "cell_type": "code",
   "execution_count": 23,
   "id": "6fa7ad62",
   "metadata": {},
   "outputs": [
    {
     "data": {
      "text/plain": [
       "{'message': 'Dimension node customers has been successfully linked to column customer_id on node revenue_source'}"
      ]
     },
     "execution_count": 23,
     "metadata": {},
     "output_type": "execute_result"
    }
   ],
   "source": [
    "response = requests.post(\n",
    "    f\"{DJ_URL}/nodes/revenue_source/columns/customer_id/?dimension=customers\"\n",
    ")\n",
    "response.json()"
   ]
  },
  {
   "cell_type": "code",
   "execution_count": 24,
   "id": "a7c75c17",
   "metadata": {},
   "outputs": [
    {
     "data": {
      "text/plain": [
       "{'message': 'Dimension node account_type has been successfully linked to column account_type on node default_payment_account_table'}"
      ]
     },
     "execution_count": 24,
     "metadata": {},
     "output_type": "execute_result"
    }
   ],
   "source": [
    "response = requests.post(\n",
    "    f\"{DJ_URL}/nodes/default_payment_account_table/columns/account_type/?dimension=account_type\"\n",
    ")\n",
    "response.json()"
   ]
  },
  {
   "cell_type": "code",
   "execution_count": 25,
   "id": "a6b15a74",
   "metadata": {},
   "outputs": [
    {
     "data": {
      "text/plain": [
       "{'message': 'Dimension node payment_type has been successfully linked to column default_payment_type on node default_payment_account_table'}"
      ]
     },
     "execution_count": 25,
     "metadata": {},
     "output_type": "execute_result"
    }
   ],
   "source": [
    "response = requests.post(\n",
    "    f\"{DJ_URL}/nodes/default_payment_account_table/columns/default_payment_type/?dimension=payment_type\"\n",
    ")\n",
    "response.json()"
   ]
  },
  {
   "cell_type": "markdown",
   "id": "25852a0a",
   "metadata": {},
   "source": [
    "## Generate SQL For Metrics and Dimensions"
   ]
  },
  {
   "cell_type": "code",
   "execution_count": 26,
   "id": "af911957",
   "metadata": {},
   "outputs": [
    {
     "name": "stdout",
     "output_type": "stream",
     "text": [
      "SELECT  sum(test.accounting.revenue.payment_amount) AS total_revenue,\n",
      "\t_payment_type.id \n",
      " FROM test.accounting.revenue\n",
      "LEFT JOIN (SELECT  test.accounting.payment_type.id,\n",
      "\ttest.accounting.payment_type.payment_type_name,\n",
      "\ttest.accounting.payment_type.payment_type_classification \n",
      " FROM test.accounting.payment_type\n",
      " \n",
      ") AS _payment_type\n",
      "        ON test.accounting.revenue.payment_type = _payment_type.id \n",
      " GROUP BY  _payment_type.id\n"
     ]
    }
   ],
   "source": [
    "response = requests.get(\n",
    "    f\"{DJ_URL}/metrics/total_revenue/sql/?dimensions=payment_type.id\"\n",
    ").json()\n",
    "print(response[\"sql\"])"
   ]
  },
  {
   "cell_type": "code",
   "execution_count": 27,
   "id": "23558a7b",
   "metadata": {},
   "outputs": [
    {
     "name": "stdout",
     "output_type": "stream",
     "text": [
      "SELECT  SUM(basic_DOT_transform_DOT_country_agg.num_users),\n",
      "\tbasic_DOT_transform_DOT_country_agg.country \n",
      " FROM (SELECT  basic.dim_users.country,\n",
      "\tCOUNT(DISTINCT basic.dim_users.id) AS num_users \n",
      " FROM basic.dim_users\n",
      " \n",
      " GROUP BY  1) AS basic_DOT_transform_DOT_country_agg\n",
      " \n",
      " GROUP BY  basic_DOT_transform_DOT_country_agg.country\n"
     ]
    }
   ],
   "source": [
    "response = requests.get(\n",
    "    f\"{DJ_URL}/metrics/basic.num_users/sql/?dimensions=basic.transform.country_agg.country\"\n",
    ").json()\n",
    "print(response[\"sql\"])"
   ]
  },
  {
   "cell_type": "code",
   "execution_count": null,
   "id": "bef3f043",
   "metadata": {},
   "outputs": [],
   "source": []
  },
  {
   "cell_type": "code",
   "execution_count": null,
   "id": "cf0b7f8c",
   "metadata": {},
   "outputs": [],
   "source": []
  },
  {
   "cell_type": "code",
   "execution_count": null,
   "id": "69746768",
   "metadata": {},
   "outputs": [],
   "source": []
  }
 ],
 "metadata": {
  "kernelspec": {
   "display_name": "Python 3 (ipykernel)",
   "language": "python",
   "name": "python3"
  },
  "language_info": {
   "codemirror_mode": {
    "name": "ipython",
    "version": 3
   },
   "file_extension": ".py",
   "mimetype": "text/x-python",
   "name": "python",
   "nbconvert_exporter": "python",
   "pygments_lexer": "ipython3",
   "version": "3.10.10"
  }
 },
 "nbformat": 4,
 "nbformat_minor": 5
}
