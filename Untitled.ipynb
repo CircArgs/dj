{
 "cells": [
  {
   "cell_type": "code",
   "execution_count": 1,
   "id": "0204a4de",
   "metadata": {},
   "outputs": [
    {
     "data": {
      "application/javascript": [
       "\n",
       "            setTimeout(function() {\n",
       "                var nbb_cell_id = 1;\n",
       "                var nbb_unformatted_code = \"%load_ext nb_black\";\n",
       "                var nbb_formatted_code = \"%load_ext nb_black\";\n",
       "                var nbb_cells = Jupyter.notebook.get_cells();\n",
       "                for (var i = 0; i < nbb_cells.length; ++i) {\n",
       "                    if (nbb_cells[i].input_prompt_number == nbb_cell_id) {\n",
       "                        if (nbb_cells[i].get_text() == nbb_unformatted_code) {\n",
       "                             nbb_cells[i].set_text(nbb_formatted_code);\n",
       "                        }\n",
       "                        break;\n",
       "                    }\n",
       "                }\n",
       "            }, 500);\n",
       "            "
      ],
      "text/plain": [
       "<IPython.core.display.Javascript object>"
      ]
     },
     "metadata": {},
     "output_type": "display_data"
    }
   ],
   "source": [
    "%load_ext nb_black"
   ]
  },
  {
   "cell_type": "code",
   "execution_count": 2,
   "id": "935ec781",
   "metadata": {},
   "outputs": [
    {
     "name": "stderr",
     "output_type": "stream",
     "text": [
      "WARNING:root:no boto3 module found\n"
     ]
    },
    {
     "data": {
      "application/javascript": [
       "\n",
       "            setTimeout(function() {\n",
       "                var nbb_cell_id = 2;\n",
       "                var nbb_unformatted_code = \"from dj.sql.parsing.backends.sqloxide import parse\\nfrom dj.sql.parsing.backends.exceptions import DJParseException\\nfrom dj.construction.utils import make_name, get_dj_node, amenable_name\\nfrom dj.construction.build import build_ast_for_database\\nfrom dj.construction.compile import _compile_select_ast\\nfrom dj.sql.parsing import ast\\nfrom typing import Optional, List, Tuple\\nfrom sqlmodel import Session\\nfrom dj.models.node import Node, NodeType, NodeRevision\\nfrom dj.models.database import Database\\nfrom dj.errors import DJException\";\n",
       "                var nbb_formatted_code = \"from dj.sql.parsing.backends.sqloxide import parse\\nfrom dj.sql.parsing.backends.exceptions import DJParseException\\nfrom dj.construction.utils import make_name, get_dj_node, amenable_name\\nfrom dj.construction.build import build_ast_for_database\\nfrom dj.construction.compile import _compile_select_ast\\nfrom dj.sql.parsing import ast\\nfrom typing import Optional, List, Tuple\\nfrom sqlmodel import Session\\nfrom dj.models.node import Node, NodeType, NodeRevision\\nfrom dj.models.database import Database\\nfrom dj.errors import DJException\";\n",
       "                var nbb_cells = Jupyter.notebook.get_cells();\n",
       "                for (var i = 0; i < nbb_cells.length; ++i) {\n",
       "                    if (nbb_cells[i].input_prompt_number == nbb_cell_id) {\n",
       "                        if (nbb_cells[i].get_text() == nbb_unformatted_code) {\n",
       "                             nbb_cells[i].set_text(nbb_formatted_code);\n",
       "                        }\n",
       "                        break;\n",
       "                    }\n",
       "                }\n",
       "            }, 500);\n",
       "            "
      ],
      "text/plain": [
       "<IPython.core.display.Javascript object>"
      ]
     },
     "metadata": {},
     "output_type": "display_data"
    }
   ],
   "source": [
    "from dj.sql.parsing.backends.sqloxide import parse\n",
    "from dj.sql.parsing.backends.exceptions import DJParseException\n",
    "from dj.construction.utils import make_name, get_dj_node, amenable_name\n",
    "from dj.construction.build import build_ast_for_database\n",
    "from dj.construction.compile import _compile_select_ast\n",
    "from dj.sql.parsing import ast\n",
    "from typing import Optional, List, Tuple\n",
    "from sqlmodel import Session\n",
    "from dj.models.node import Node, NodeType, NodeRevision\n",
    "from dj.models.database import Database\n",
    "from dj.errors import DJException"
   ]
  },
  {
   "cell_type": "code",
   "execution_count": 3,
   "id": "064fad8e",
   "metadata": {},
   "outputs": [
    {
     "data": {
      "application/javascript": [
       "\n",
       "            setTimeout(function() {\n",
       "                var nbb_cell_id = 3;\n",
       "                var nbb_unformatted_code = \"from sqlalchemy import select as built_select\";\n",
       "                var nbb_formatted_code = \"from sqlalchemy import select as built_select\";\n",
       "                var nbb_cells = Jupyter.notebook.get_cells();\n",
       "                for (var i = 0; i < nbb_cells.length; ++i) {\n",
       "                    if (nbb_cells[i].input_prompt_number == nbb_cell_id) {\n",
       "                        if (nbb_cells[i].get_text() == nbb_unformatted_code) {\n",
       "                             nbb_cells[i].set_text(nbb_formatted_code);\n",
       "                        }\n",
       "                        break;\n",
       "                    }\n",
       "                }\n",
       "            }, 500);\n",
       "            "
      ],
      "text/plain": [
       "<IPython.core.display.Javascript object>"
      ]
     },
     "metadata": {},
     "output_type": "display_data"
    }
   ],
   "source": [
    "from sqlalchemy import select as built_select"
   ]
  },
  {
   "cell_type": "code",
   "execution_count": 4,
   "id": "5e425c28",
   "metadata": {},
   "outputs": [
    {
     "data": {
      "application/javascript": [
       "\n",
       "            setTimeout(function() {\n",
       "                var nbb_cell_id = 4;\n",
       "                var nbb_unformatted_code = \"from dj.utils import get_session\";\n",
       "                var nbb_formatted_code = \"from dj.utils import get_session\";\n",
       "                var nbb_cells = Jupyter.notebook.get_cells();\n",
       "                for (var i = 0; i < nbb_cells.length; ++i) {\n",
       "                    if (nbb_cells[i].input_prompt_number == nbb_cell_id) {\n",
       "                        if (nbb_cells[i].get_text() == nbb_unformatted_code) {\n",
       "                             nbb_cells[i].set_text(nbb_formatted_code);\n",
       "                        }\n",
       "                        break;\n",
       "                    }\n",
       "                }\n",
       "            }, 500);\n",
       "            "
      ],
      "text/plain": [
       "<IPython.core.display.Javascript object>"
      ]
     },
     "metadata": {},
     "output_type": "display_data"
    }
   ],
   "source": [
    "from dj.utils import get_session"
   ]
  },
  {
   "cell_type": "code",
   "execution_count": 5,
   "id": "b13f1448",
   "metadata": {},
   "outputs": [
    {
     "data": {
      "application/javascript": [
       "\n",
       "            setTimeout(function() {\n",
       "                var nbb_cell_id = 5;\n",
       "                var nbb_unformatted_code = \"session = next(get_session())\";\n",
       "                var nbb_formatted_code = \"session = next(get_session())\";\n",
       "                var nbb_cells = Jupyter.notebook.get_cells();\n",
       "                for (var i = 0; i < nbb_cells.length; ++i) {\n",
       "                    if (nbb_cells[i].input_prompt_number == nbb_cell_id) {\n",
       "                        if (nbb_cells[i].get_text() == nbb_unformatted_code) {\n",
       "                             nbb_cells[i].set_text(nbb_formatted_code);\n",
       "                        }\n",
       "                        break;\n",
       "                    }\n",
       "                }\n",
       "            }, 500);\n",
       "            "
      ],
      "text/plain": [
       "<IPython.core.display.Javascript object>"
      ]
     },
     "metadata": {},
     "output_type": "display_data"
    }
   ],
   "source": [
    "session = next(get_session())"
   ]
  },
  {
   "cell_type": "code",
   "execution_count": 6,
   "id": "8243e985",
   "metadata": {},
   "outputs": [
    {
     "data": {
      "application/javascript": [
       "\n",
       "            setTimeout(function() {\n",
       "                var nbb_cell_id = 6;\n",
       "                var nbb_unformatted_code = \"query = \\\"\\\"\\\"\\nSELECT Avg(n_comments),\\n       age\\nFROM   (SELECT basic.num_comments            AS n_comments,\\n               basic.dimension.users.country country,\\n               basic.dimension.users.age     AS age\\n        FROM   metrics\\n        GROUP  BY basic.dimension.users.country)\\nGROUP  BY age \\n\\\"\\\"\\\"\";\n",
       "                var nbb_formatted_code = \"query = \\\"\\\"\\\"\\nSELECT Avg(n_comments),\\n       age\\nFROM   (SELECT basic.num_comments            AS n_comments,\\n               basic.dimension.users.country country,\\n               basic.dimension.users.age     AS age\\n        FROM   metrics\\n        GROUP  BY basic.dimension.users.country)\\nGROUP  BY age \\n\\\"\\\"\\\"\";\n",
       "                var nbb_cells = Jupyter.notebook.get_cells();\n",
       "                for (var i = 0; i < nbb_cells.length; ++i) {\n",
       "                    if (nbb_cells[i].input_prompt_number == nbb_cell_id) {\n",
       "                        if (nbb_cells[i].get_text() == nbb_unformatted_code) {\n",
       "                             nbb_cells[i].set_text(nbb_formatted_code);\n",
       "                        }\n",
       "                        break;\n",
       "                    }\n",
       "                }\n",
       "            }, 500);\n",
       "            "
      ],
      "text/plain": [
       "<IPython.core.display.Javascript object>"
      ]
     },
     "metadata": {},
     "output_type": "display_data"
    }
   ],
   "source": [
    "query = \"\"\"\n",
    "SELECT Avg(n_comments),\n",
    "       age\n",
    "FROM   (SELECT basic.num_comments            AS n_comments,\n",
    "               basic.dimension.users.country country,\n",
    "               basic.dimension.users.age     AS age\n",
    "        FROM   metrics\n",
    "        GROUP  BY basic.dimension.users.country)\n",
    "GROUP  BY age \n",
    "\"\"\""
   ]
  },
  {
   "cell_type": "code",
   "execution_count": 7,
   "id": "d568a07c",
   "metadata": {},
   "outputs": [
    {
     "data": {
      "application/javascript": [
       "\n",
       "            setTimeout(function() {\n",
       "                var nbb_cell_id = 7;\n",
       "                var nbb_unformatted_code = \"async def build_dj_query(\\n    session: Session,\\n    query: str,\\n    dialect: Optional[str] = None,\\n    database_id: Optional[int] = None,\\n) -> Tuple[ast.Query, Database]:\\n    \\\"\\\"\\\"\\n    Build a dj query\\n    \\\"\\\"\\\"\\n    query_ast = parse(query, dialect)\\n    select = query_ast._to_select()\\n\\n    for col in select.find_all(ast.Column):\\n        froms = []\\n        col_name = make_name(col.namespace, col.name.name)\\n        if metric_node := get_dj_node(\\n            session, col_name, {NodeType.METRIC}, raise_=False\\n        ):\\n            parent_select = col.get_nearest_parent_of_type(ast.Select)\\n            if not getattr(parent_select, \\\"_validated\\\", False):\\n                if len(parent_select.from_.tables) != 1 or parent_select.from_.joins:\\n                    raise DJParseException(\\n                        \\\"Any SELECT referencing a Metric must source from a single unaliased Table named 'metrics.'.\\\"\\n                    )\\n                metrics_ref = parent_select.from_.tables[0]\\n                metrics_ref_name = make_name(\\n                    metrics_ref.namespace, metrics_ref.name.name\\n                )\\n                if metrics_ref_name != \\\"metrics\\\":\\n                    raise DJParseException(\\n                        \\\"The name of the table for a Metric select must be 'metrics'.\\\"\\n                    )\\n                parent_select.from_ = ast.From([])\\n                parent_select._validated = True\\n\\n            metric_name = amenable_name(metric_node.name)\\n            metric_select = parse(metric_node.query)._to_select()\\n            tables = metric_select.from_.tables + [\\n                join.table for join in metric_select.from_.joins\\n            ]\\n            for table in tables:\\n                if isinstance(table, ast.Select):\\n                    continue\\n                if isinstance(table, ast.Alias):\\n                    if isinstance(table.child, ast.Select):\\n                        continue\\n                    table = table.child\\n                table_name = make_name(table.namespace, table.name.name)\\n                if table_node := get_dj_node(\\n                    session,\\n                    table_name,\\n                    {NodeType.SOURCE, NodeType.TRANSFORM, NodeType.DIMENSION},\\n                    raise_=False,\\n                ):\\n                    metric_select.projection += [\\n                        ast.Column(ast.Name(col.name)) for col in table_node.columns\\n                    ]\\n                    froms.append(table.copy())\\n\\n            metric_table_expression = ast.Alias(\\n                ast.Name(metric_name), None, metric_select\\n            )\\n            froms.append(metric_table_expression)\\n            metric_column = ast.Column(\\n                ast.Name(metric_node.columns[0].name), _table=metric_table_expression\\n            )\\n            parent_select.replace(col, metric_column)\\n            parent_select.from_.tables += froms\\n\\n    for col in select.find_all(ast.Column):\\n        col_name = make_name(col.namespace)\\n        if get_dj_node(session, col_name, {NodeType.DIMENSION}, raise_=False):\\n            col.set_api_column(True)\\n\\n    return await build_ast_for_database(\\n        session, query=ast.Query(select), dialect=dialect, database_id=database_id\\n    )\";\n",
       "                var nbb_formatted_code = \"async def build_dj_query(\\n    session: Session,\\n    query: str,\\n    dialect: Optional[str] = None,\\n    database_id: Optional[int] = None,\\n) -> Tuple[ast.Query, Database]:\\n    \\\"\\\"\\\"\\n    Build a dj query\\n    \\\"\\\"\\\"\\n    query_ast = parse(query, dialect)\\n    select = query_ast._to_select()\\n\\n    for col in select.find_all(ast.Column):\\n        froms = []\\n        col_name = make_name(col.namespace, col.name.name)\\n        if metric_node := get_dj_node(\\n            session, col_name, {NodeType.METRIC}, raise_=False\\n        ):\\n            parent_select = col.get_nearest_parent_of_type(ast.Select)\\n            if not getattr(parent_select, \\\"_validated\\\", False):\\n                if len(parent_select.from_.tables) != 1 or parent_select.from_.joins:\\n                    raise DJParseException(\\n                        \\\"Any SELECT referencing a Metric must source from a single unaliased Table named 'metrics.'.\\\"\\n                    )\\n                metrics_ref = parent_select.from_.tables[0]\\n                metrics_ref_name = make_name(\\n                    metrics_ref.namespace, metrics_ref.name.name\\n                )\\n                if metrics_ref_name != \\\"metrics\\\":\\n                    raise DJParseException(\\n                        \\\"The name of the table for a Metric select must be 'metrics'.\\\"\\n                    )\\n                parent_select.from_ = ast.From([])\\n                parent_select._validated = True\\n\\n            metric_name = amenable_name(metric_node.name)\\n            metric_select = parse(metric_node.query)._to_select()\\n            tables = metric_select.from_.tables + [\\n                join.table for join in metric_select.from_.joins\\n            ]\\n            for table in tables:\\n                if isinstance(table, ast.Select):\\n                    continue\\n                if isinstance(table, ast.Alias):\\n                    if isinstance(table.child, ast.Select):\\n                        continue\\n                    table = table.child\\n                table_name = make_name(table.namespace, table.name.name)\\n                if table_node := get_dj_node(\\n                    session,\\n                    table_name,\\n                    {NodeType.SOURCE, NodeType.TRANSFORM, NodeType.DIMENSION},\\n                    raise_=False,\\n                ):\\n                    metric_select.projection += [\\n                        ast.Column(ast.Name(col.name)) for col in table_node.columns\\n                    ]\\n                    froms.append(table.copy())\\n\\n            metric_table_expression = ast.Alias(\\n                ast.Name(metric_name), None, metric_select\\n            )\\n            froms.append(metric_table_expression)\\n            metric_column = ast.Column(\\n                ast.Name(metric_node.columns[0].name), _table=metric_table_expression\\n            )\\n            parent_select.replace(col, metric_column)\\n            parent_select.from_.tables += froms\\n\\n    for col in select.find_all(ast.Column):\\n        col_name = make_name(col.namespace)\\n        if get_dj_node(session, col_name, {NodeType.DIMENSION}, raise_=False):\\n            col.set_api_column(True)\\n\\n    return await build_ast_for_database(\\n        session, query=ast.Query(select), dialect=dialect, database_id=database_id\\n    )\";\n",
       "                var nbb_cells = Jupyter.notebook.get_cells();\n",
       "                for (var i = 0; i < nbb_cells.length; ++i) {\n",
       "                    if (nbb_cells[i].input_prompt_number == nbb_cell_id) {\n",
       "                        if (nbb_cells[i].get_text() == nbb_unformatted_code) {\n",
       "                             nbb_cells[i].set_text(nbb_formatted_code);\n",
       "                        }\n",
       "                        break;\n",
       "                    }\n",
       "                }\n",
       "            }, 500);\n",
       "            "
      ],
      "text/plain": [
       "<IPython.core.display.Javascript object>"
      ]
     },
     "metadata": {},
     "output_type": "display_data"
    }
   ],
   "source": [
    "async def build_dj_query(\n",
    "    session: Session,\n",
    "    query: str,\n",
    "    dialect: Optional[str] = None,\n",
    "    database_id: Optional[int] = None,\n",
    ") -> Tuple[ast.Query, Database]:\n",
    "    \"\"\"\n",
    "    Build a dj query\n",
    "    \"\"\"\n",
    "    query_ast = parse(query, dialect)\n",
    "    select = query_ast._to_select()\n",
    "\n",
    "    for col in select.find_all(ast.Column):\n",
    "        froms = []\n",
    "        col_name = make_name(col.namespace, col.name.name)\n",
    "        if metric_node := get_dj_node(\n",
    "            session, col_name, {NodeType.METRIC}, raise_=False\n",
    "        ):\n",
    "            parent_select = col.get_nearest_parent_of_type(ast.Select)\n",
    "            if not getattr(parent_select, \"_validated\", False):\n",
    "                if len(parent_select.from_.tables) != 1 or parent_select.from_.joins:\n",
    "                    raise DJParseException(\n",
    "                        \"Any SELECT referencing a Metric must source from a single unaliased Table named 'metrics.'.\"\n",
    "                    )\n",
    "                metrics_ref = parent_select.from_.tables[0]\n",
    "                metrics_ref_name = make_name(\n",
    "                    metrics_ref.namespace, metrics_ref.name.name\n",
    "                )\n",
    "                if metrics_ref_name != \"metrics\":\n",
    "                    raise DJParseException(\n",
    "                        \"The name of the table for a Metric select must be 'metrics'.\"\n",
    "                    )\n",
    "                parent_select.from_ = ast.From([])\n",
    "                parent_select._validated = True\n",
    "\n",
    "            metric_name = amenable_name(metric_node.name)\n",
    "            metric_select = parse(metric_node.query)._to_select()\n",
    "            tables = metric_select.from_.tables + [\n",
    "                join.table for join in metric_select.from_.joins\n",
    "            ]\n",
    "            for table in tables:\n",
    "                if isinstance(table, ast.Select):\n",
    "                    continue\n",
    "                if isinstance(table, ast.Alias):\n",
    "                    if isinstance(table.child, ast.Select):\n",
    "                        continue\n",
    "                    table = table.child\n",
    "                table_name = make_name(table.namespace, table.name.name)\n",
    "                if table_node := get_dj_node(\n",
    "                    session,\n",
    "                    table_name,\n",
    "                    {NodeType.SOURCE, NodeType.TRANSFORM, NodeType.DIMENSION},\n",
    "                    raise_=False,\n",
    "                ):\n",
    "                    metric_select.projection += [\n",
    "                        ast.Column(ast.Name(col.name)) for col in table_node.columns\n",
    "                    ]\n",
    "                    froms.append(table.copy())\n",
    "\n",
    "            metric_table_expression = ast.Alias(\n",
    "                ast.Name(metric_name), None, metric_select\n",
    "            )\n",
    "            froms.append(metric_table_expression)\n",
    "            metric_column = ast.Column(\n",
    "                ast.Name(metric_node.columns[0].name), _table=metric_table_expression\n",
    "            )\n",
    "            parent_select.replace(col, metric_column)\n",
    "            parent_select.from_.tables += froms\n",
    "\n",
    "    for col in select.find_all(ast.Column):\n",
    "        col_name = make_name(col.namespace)\n",
    "        if get_dj_node(session, col_name, {NodeType.DIMENSION}, raise_=False):\n",
    "            col.set_api_column(True)\n",
    "\n",
    "    return await build_ast_for_database(\n",
    "        session, query=ast.Query(select), dialect=dialect, database_id=database_id\n",
    "    )"
   ]
  },
  {
   "cell_type": "code",
   "execution_count": 8,
   "id": "605ae63d",
   "metadata": {},
   "outputs": [
    {
     "name": "stderr",
     "output_type": "stream",
     "text": [
      "/usr/local/lib/python3.10/site-packages/sqlmodel/orm/session.py:60: SAWarning: relationship 'Node.cubes' will copy column node.id to column noderevision.node_id, which conflicts with relationship(s): 'Node.revisions' (copies node.id to noderevision.node_id). If this is not the intention, consider if these relationships should be linked with back_populates, or if viewonly=True should be applied to one or more if they are read-only. For the less common case that foreign key constraints are partially overlapping, the orm.foreign() annotation can be used to isolate the columns that should be written towards.   To silence this warning, add the parameter 'overlaps=\"revisions\"' to the 'Node.cubes' relationship. (Background on this error at: https://sqlalche.me/e/14/qzyx)\n",
      "  results = super().execute(\n",
      "/usr/local/lib/python3.10/site-packages/sqlmodel/orm/session.py:60: SAWarning: relationship 'NodeRevision.node' will copy column node.id to column noderevision.node_id, which conflicts with relationship(s): 'Node.cubes' (copies node.id to noderevision.node_id). If this is not the intention, consider if these relationships should be linked with back_populates, or if viewonly=True should be applied to one or more if they are read-only. For the less common case that foreign key constraints are partially overlapping, the orm.foreign() annotation can be used to isolate the columns that should be written towards.   To silence this warning, add the parameter 'overlaps=\"cubes\"' to the 'NodeRevision.node' relationship. (Background on this error at: https://sqlalche.me/e/14/qzyx)\n",
      "  results = super().execute(\n",
      "/usr/local/lib/python3.10/site-packages/sqlmodel/orm/session.py:60: SAWarning: relationship 'NodeRevision.parent_links' will copy column noderevision.id to column noderelationship.child_id, which conflicts with relationship(s): 'Node.children' (copies noderevision.id to noderelationship.child_id), 'NodeRevision.parents' (copies noderevision.id to noderelationship.child_id). If this is not the intention, consider if these relationships should be linked with back_populates, or if viewonly=True should be applied to one or more if they are read-only. For the less common case that foreign key constraints are partially overlapping, the orm.foreign() annotation can be used to isolate the columns that should be written towards.   To silence this warning, add the parameter 'overlaps=\"children,parents\"' to the 'NodeRevision.parent_links' relationship. (Background on this error at: https://sqlalche.me/e/14/qzyx)\n",
      "  results = super().execute(\n"
     ]
    },
    {
     "data": {
      "application/javascript": [
       "\n",
       "            setTimeout(function() {\n",
       "                var nbb_cell_id = 8;\n",
       "                var nbb_unformatted_code = \"query_ast, db = await build_dj_query(session, query)\";\n",
       "                var nbb_formatted_code = \"query_ast, db = await build_dj_query(session, query)\";\n",
       "                var nbb_cells = Jupyter.notebook.get_cells();\n",
       "                for (var i = 0; i < nbb_cells.length; ++i) {\n",
       "                    if (nbb_cells[i].input_prompt_number == nbb_cell_id) {\n",
       "                        if (nbb_cells[i].get_text() == nbb_unformatted_code) {\n",
       "                             nbb_cells[i].set_text(nbb_formatted_code);\n",
       "                        }\n",
       "                        break;\n",
       "                    }\n",
       "                }\n",
       "            }, 500);\n",
       "            "
      ],
      "text/plain": [
       "<IPython.core.display.Javascript object>"
      ]
     },
     "metadata": {},
     "output_type": "display_data"
    }
   ],
   "source": [
    "query_ast, db = await build_dj_query(session, query)"
   ]
  },
  {
   "cell_type": "code",
   "execution_count": 9,
   "id": "f1a3e045",
   "metadata": {},
   "outputs": [
    {
     "name": "stdout",
     "output_type": "stream",
     "text": [
      "SELECT  Avg(n_comments),\n",
      "\tage \n",
      " FROM (SELECT  basic_DOT_num_comments.cnt AS n_comments,\n",
      "\tbasic_DOT_dimension_DOT_users.country AS country,\n",
      "\tbasic_DOT_dimension_DOT_users.age AS age \n",
      " FROM comments, (SELECT  COUNT(1) AS cnt,\n",
      "\tcomments.id,\n",
      "\tcomments.user_id,\n",
      "\tcomments.timestamp,\n",
      "\tcomments.text \n",
      " FROM comments\n",
      " \n",
      ") AS basic_DOT_num_comments\n",
      "LEFT JOIN (SELECT  users.id,\n",
      "\tusers.full_name,\n",
      "\tusers.age,\n",
      "\tusers.country,\n",
      "\tusers.gender,\n",
      "\tusers.preferred_language,\n",
      "\tusers.secret_number \n",
      " FROM users\n",
      " \n",
      ") AS basic_DOT_dimension_DOT_users\n",
      "        ON comments.user_id = basic_DOT_dimension_DOT_users.id AND comments.user_id = basic_DOT_dimension_DOT_users.id \n",
      " GROUP BY  basic_DOT_dimension_DOT_users.country)\n",
      " \n",
      " GROUP BY  age\n"
     ]
    },
    {
     "data": {
      "application/javascript": [
       "\n",
       "            setTimeout(function() {\n",
       "                var nbb_cell_id = 9;\n",
       "                var nbb_unformatted_code = \"print(query_ast)\";\n",
       "                var nbb_formatted_code = \"print(query_ast)\";\n",
       "                var nbb_cells = Jupyter.notebook.get_cells();\n",
       "                for (var i = 0; i < nbb_cells.length; ++i) {\n",
       "                    if (nbb_cells[i].input_prompt_number == nbb_cell_id) {\n",
       "                        if (nbb_cells[i].get_text() == nbb_unformatted_code) {\n",
       "                             nbb_cells[i].set_text(nbb_formatted_code);\n",
       "                        }\n",
       "                        break;\n",
       "                    }\n",
       "                }\n",
       "            }, 500);\n",
       "            "
      ],
      "text/plain": [
       "<IPython.core.display.Javascript object>"
      ]
     },
     "metadata": {},
     "output_type": "display_data"
    }
   ],
   "source": [
    "print(query_ast)"
   ]
  },
  {
   "cell_type": "code",
   "execution_count": 10,
   "id": "a5d3c888",
   "metadata": {},
   "outputs": [
    {
     "data": {
      "application/javascript": [
       "\n",
       "            setTimeout(function() {\n",
       "                var nbb_cell_id = 10;\n",
       "                var nbb_unformatted_code = \"from sqlalchemy.sql import text\";\n",
       "                var nbb_formatted_code = \"from sqlalchemy.sql import text\";\n",
       "                var nbb_cells = Jupyter.notebook.get_cells();\n",
       "                for (var i = 0; i < nbb_cells.length; ++i) {\n",
       "                    if (nbb_cells[i].input_prompt_number == nbb_cell_id) {\n",
       "                        if (nbb_cells[i].get_text() == nbb_unformatted_code) {\n",
       "                             nbb_cells[i].set_text(nbb_formatted_code);\n",
       "                        }\n",
       "                        break;\n",
       "                    }\n",
       "                }\n",
       "            }, 500);\n",
       "            "
      ],
      "text/plain": [
       "<IPython.core.display.Javascript object>"
      ]
     },
     "metadata": {},
     "output_type": "display_data"
    }
   ],
   "source": [
    "from sqlalchemy.sql import text"
   ]
  },
  {
   "cell_type": "code",
   "execution_count": 11,
   "id": "ab676375",
   "metadata": {},
   "outputs": [
    {
     "data": {
      "application/javascript": [
       "\n",
       "            setTimeout(function() {\n",
       "                var nbb_cell_id = 11;\n",
       "                var nbb_unformatted_code = \"import pandas as pd\";\n",
       "                var nbb_formatted_code = \"import pandas as pd\";\n",
       "                var nbb_cells = Jupyter.notebook.get_cells();\n",
       "                for (var i = 0; i < nbb_cells.length; ++i) {\n",
       "                    if (nbb_cells[i].input_prompt_number == nbb_cell_id) {\n",
       "                        if (nbb_cells[i].get_text() == nbb_unformatted_code) {\n",
       "                             nbb_cells[i].set_text(nbb_formatted_code);\n",
       "                        }\n",
       "                        break;\n",
       "                    }\n",
       "                }\n",
       "            }, 500);\n",
       "            "
      ],
      "text/plain": [
       "<IPython.core.display.Javascript object>"
      ]
     },
     "metadata": {},
     "output_type": "display_data"
    }
   ],
   "source": [
    "import pandas as pd"
   ]
  },
  {
   "cell_type": "code",
   "execution_count": 12,
   "id": "c46cb949",
   "metadata": {},
   "outputs": [
    {
     "data": {
      "application/javascript": [
       "\n",
       "            setTimeout(function() {\n",
       "                var nbb_cell_id = 12;\n",
       "                var nbb_unformatted_code = \"with db.engine.connect() as conn:\\n    df = pd.read_sql(\\n        text(str(query_ast)),\\n        conn,\\n    )\";\n",
       "                var nbb_formatted_code = \"with db.engine.connect() as conn:\\n    df = pd.read_sql(\\n        text(str(query_ast)),\\n        conn,\\n    )\";\n",
       "                var nbb_cells = Jupyter.notebook.get_cells();\n",
       "                for (var i = 0; i < nbb_cells.length; ++i) {\n",
       "                    if (nbb_cells[i].input_prompt_number == nbb_cell_id) {\n",
       "                        if (nbb_cells[i].get_text() == nbb_unformatted_code) {\n",
       "                             nbb_cells[i].set_text(nbb_formatted_code);\n",
       "                        }\n",
       "                        break;\n",
       "                    }\n",
       "                }\n",
       "            }, 500);\n",
       "            "
      ],
      "text/plain": [
       "<IPython.core.display.Javascript object>"
      ]
     },
     "metadata": {},
     "output_type": "display_data"
    }
   ],
   "source": [
    "with db.engine.connect() as conn:\n",
    "    df = pd.read_sql(\n",
    "        text(str(query_ast)),\n",
    "        conn,\n",
    "    )"
   ]
  },
  {
   "cell_type": "code",
   "execution_count": 13,
   "id": "5afd1422",
   "metadata": {},
   "outputs": [
    {
     "data": {
      "text/html": [
       "<div>\n",
       "<style scoped>\n",
       "    .dataframe tbody tr th:only-of-type {\n",
       "        vertical-align: middle;\n",
       "    }\n",
       "\n",
       "    .dataframe tbody tr th {\n",
       "        vertical-align: top;\n",
       "    }\n",
       "\n",
       "    .dataframe thead th {\n",
       "        text-align: right;\n",
       "    }\n",
       "</style>\n",
       "<table border=\"1\" class=\"dataframe\">\n",
       "  <thead>\n",
       "    <tr style=\"text-align: right;\">\n",
       "      <th></th>\n",
       "      <th>Avg(n_comments)</th>\n",
       "      <th>age</th>\n",
       "    </tr>\n",
       "  </thead>\n",
       "  <tbody>\n",
       "    <tr>\n",
       "      <th>0</th>\n",
       "      <td>21.0</td>\n",
       "      <td>10.0</td>\n",
       "    </tr>\n",
       "    <tr>\n",
       "      <th>1</th>\n",
       "      <td>21.0</td>\n",
       "      <td>15.0</td>\n",
       "    </tr>\n",
       "    <tr>\n",
       "      <th>2</th>\n",
       "      <td>21.0</td>\n",
       "      <td>20.0</td>\n",
       "    </tr>\n",
       "    <tr>\n",
       "      <th>3</th>\n",
       "      <td>21.0</td>\n",
       "      <td>25.0</td>\n",
       "    </tr>\n",
       "    <tr>\n",
       "      <th>4</th>\n",
       "      <td>21.0</td>\n",
       "      <td>27.0</td>\n",
       "    </tr>\n",
       "    <tr>\n",
       "      <th>5</th>\n",
       "      <td>21.0</td>\n",
       "      <td>29.0</td>\n",
       "    </tr>\n",
       "  </tbody>\n",
       "</table>\n",
       "</div>"
      ],
      "text/plain": [
       "   Avg(n_comments)   age\n",
       "0             21.0  10.0\n",
       "1             21.0  15.0\n",
       "2             21.0  20.0\n",
       "3             21.0  25.0\n",
       "4             21.0  27.0\n",
       "5             21.0  29.0"
      ]
     },
     "execution_count": 13,
     "metadata": {},
     "output_type": "execute_result"
    },
    {
     "data": {
      "application/javascript": [
       "\n",
       "            setTimeout(function() {\n",
       "                var nbb_cell_id = 13;\n",
       "                var nbb_unformatted_code = \"df\";\n",
       "                var nbb_formatted_code = \"df\";\n",
       "                var nbb_cells = Jupyter.notebook.get_cells();\n",
       "                for (var i = 0; i < nbb_cells.length; ++i) {\n",
       "                    if (nbb_cells[i].input_prompt_number == nbb_cell_id) {\n",
       "                        if (nbb_cells[i].get_text() == nbb_unformatted_code) {\n",
       "                             nbb_cells[i].set_text(nbb_formatted_code);\n",
       "                        }\n",
       "                        break;\n",
       "                    }\n",
       "                }\n",
       "            }, 500);\n",
       "            "
      ],
      "text/plain": [
       "<IPython.core.display.Javascript object>"
      ]
     },
     "metadata": {},
     "output_type": "display_data"
    }
   ],
   "source": [
    "df"
   ]
  },
  {
   "cell_type": "code",
   "execution_count": null,
   "id": "1819dc35",
   "metadata": {},
   "outputs": [],
   "source": []
  }
 ],
 "metadata": {
  "kernelspec": {
   "display_name": "Python 3 (ipykernel)",
   "language": "python",
   "name": "python3"
  },
  "language_info": {
   "codemirror_mode": {
    "name": "ipython",
    "version": 3
   },
   "file_extension": ".py",
   "mimetype": "text/x-python",
   "name": "python",
   "nbconvert_exporter": "python",
   "pygments_lexer": "ipython3",
   "version": "3.10.10"
  }
 },
 "nbformat": 4,
 "nbformat_minor": 5
}
