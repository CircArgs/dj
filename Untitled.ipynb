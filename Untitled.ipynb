{
 "cells": [
  {
   "cell_type": "code",
   "execution_count": 1,
   "id": "ef769fac",
   "metadata": {},
   "outputs": [],
   "source": [
    "import pytest\n",
    "from sqlmodel import Session, select\n",
    "\n",
    "from dj.construction.build import (\n",
    "    ColumnDependencies,\n",
    "    CompoundBuildException,\n",
    "    InvalidSQLException,\n",
    "    MissingColumnException,\n",
    "    NodeTypeException,\n",
    "    UnknownNodeException,\n",
    "    extract_dependencies,\n",
    "    extract_dependencies_from_query,\n",
    "    extract_dependencies_from_select,\n",
    "    get_dj_node,\n",
    "    make_name,\n",
    ")\n",
    "from dj.models import Column\n",
    "from dj.models.node import Node, NodeType\n",
    "from dj.sql.parsing.ast import Alias, BinaryOp, BinaryOpKind\n",
    "from dj.sql.parsing.ast import Column as ASTColumn\n",
    "from dj.sql.parsing.ast import (\n",
    "    From,\n",
    "    Join,\n",
    "    JoinKind,\n",
    "    Name,\n",
    "    Namespace,\n",
    "    Query,\n",
    "    Select,\n",
    "    String,\n",
    "    Table,\n",
    ")\n",
    "from dj.sql.parsing.backends.sqloxide import parse\n",
    "from dj.typing import ColumnType"
   ]
  },
  {
   "cell_type": "code",
   "execution_count": 2,
   "id": "749c5f3b",
   "metadata": {},
   "outputs": [],
   "source": [
    "query = parse(\n",
    "    \"\"\"\n",
    "SELECT r2.id as matched_id\n",
    "FROM dbt.transform.customer_agg r1\n",
    "LEFT JOIN dbt.transform.customer_agg r2\n",
    "ON r1.purchase_id = r2.id\n",
    "WHERE r2.id is not null\n",
    "\"\"\",\n",
    "    \"hive\",\n",
    ")"
   ]
  },
  {
   "cell_type": "code",
   "execution_count": 3,
   "id": "2c33b54d",
   "metadata": {},
   "outputs": [],
   "source": [
    "from dj.utils import get_session\n",
    "session = next(get_session())"
   ]
  },
  {
   "cell_type": "code",
   "execution_count": 11,
   "id": "a87cea1f",
   "metadata": {},
   "outputs": [
    {
     "name": "stdout",
     "output_type": "stream",
     "text": [
      "Automatic pdb calling has been turned ON\n"
     ]
    }
   ],
   "source": [
    "%pdb"
   ]
  },
  {
   "cell_type": "code",
   "execution_count": 4,
   "id": "1f81f915",
   "metadata": {},
   "outputs": [
    {
     "ename": "InvalidSQLException",
     "evalue": "Namespace `r1` has no column `purchase_id`. `r1.purchase_id` from `r1.purchase_id = r2.id`",
     "output_type": "error",
     "traceback": [
      "\u001b[0;31m---------------------------------------------------------------------------\u001b[0m",
      "\u001b[0;31mInvalidSQLException\u001b[0m                       Traceback (most recent call last)",
      "Cell \u001b[0;32mIn[4], line 1\u001b[0m\n\u001b[0;32m----> 1\u001b[0m query_dependencies \u001b[38;5;241m=\u001b[39m \u001b[43mextract_dependencies_from_query\u001b[49m\u001b[43m(\u001b[49m\u001b[43msession\u001b[49m\u001b[43m,\u001b[49m\u001b[43m \u001b[49m\u001b[43mquery\u001b[49m\u001b[43m)\u001b[49m\n",
      "File \u001b[0;32m/code/dj/construction/build.py:504\u001b[0m, in \u001b[0;36mextract_dependencies_from_query\u001b[0;34m(session, query)\u001b[0m\n\u001b[1;32m    498\u001b[0m \u001b[38;5;28;01mdef\u001b[39;00m \u001b[38;5;21mextract_dependencies_from_query\u001b[39m(\n\u001b[1;32m    499\u001b[0m     session: Session,\n\u001b[1;32m    500\u001b[0m     query: Query,\n\u001b[1;32m    501\u001b[0m ) \u001b[38;5;241m-\u001b[39m\u001b[38;5;241m>\u001b[39m QueryDependencies:\n\u001b[1;32m    502\u001b[0m     \u001b[38;5;124;03m\"\"\"get all dj node dependencies from a sql query while validating\"\"\"\u001b[39;00m\n\u001b[1;32m    503\u001b[0m     \u001b[38;5;28;01mreturn\u001b[39;00m QueryDependencies(\n\u001b[0;32m--> 504\u001b[0m         select\u001b[38;5;241m=\u001b[39m\u001b[43mextract_dependencies_from_select\u001b[49m\u001b[43m(\u001b[49m\u001b[43msession\u001b[49m\u001b[43m,\u001b[49m\u001b[43m \u001b[49m\u001b[43mquery\u001b[49m\u001b[38;5;241;43m.\u001b[39;49m\u001b[43mselect\u001b[49m\u001b[43m)\u001b[49m,\n\u001b[1;32m    505\u001b[0m     )\n",
      "File \u001b[0;32m/code/dj/construction/build.py:449\u001b[0m, in \u001b[0;36mextract_dependencies_from_select\u001b[0;34m(session, select)\u001b[0m\n\u001b[1;32m    443\u001b[0m             \u001b[38;5;28;01mraise\u001b[39;00m InvalidSQLException(\n\u001b[1;32m    444\u001b[0m                 \u001b[38;5;124m\"\u001b[39m\u001b[38;5;124mCannot reference a dimension here.\u001b[39m\u001b[38;5;124m\"\u001b[39m,\n\u001b[1;32m    445\u001b[0m                 col,\n\u001b[1;32m    446\u001b[0m                 col\u001b[38;5;241m.\u001b[39mparent,\n\u001b[1;32m    447\u001b[0m             )\n\u001b[1;32m    448\u001b[0m         \u001b[38;5;28;01melif\u001b[39;00m bad_col_exc \u001b[38;5;129;01mis\u001b[39;00m \u001b[38;5;129;01mnot\u001b[39;00m \u001b[38;5;28;01mNone\u001b[39;00m:\n\u001b[0;32m--> 449\u001b[0m             \u001b[38;5;28;01mraise\u001b[39;00m bad_col_exc\n\u001b[1;32m    451\u001b[0m \u001b[38;5;28;01melse\u001b[39;00m:\n\u001b[1;32m    453\u001b[0m     dim \u001b[38;5;241m=\u001b[39m get_dj_node(session, namespace, {NodeType\u001b[38;5;241m.\u001b[39mDIMENSION})\n",
      "File \u001b[0;32m/code/dj/construction/build.py:428\u001b[0m, in \u001b[0;36mextract_dependencies_from_select\u001b[0;34m(session, select)\u001b[0m\n\u001b[1;32m    426\u001b[0m bad_col_exc \u001b[38;5;241m=\u001b[39m \u001b[38;5;28;01mNone\u001b[39;00m\n\u001b[1;32m    427\u001b[0m \u001b[38;5;28;01mtry\u001b[39;00m:\n\u001b[0;32m--> 428\u001b[0m     namespace \u001b[38;5;241m=\u001b[39m \u001b[43mcheck_col\u001b[49m\u001b[43m(\u001b[49m\u001b[43mcol\u001b[49m\u001b[43m,\u001b[49m\u001b[43m \u001b[49m\u001b[43madd\u001b[49m\u001b[43m)\u001b[49m  \u001b[38;5;66;03m# type: ignore\u001b[39;00m\n\u001b[1;32m    429\u001b[0m     bad_namespace \u001b[38;5;241m=\u001b[39m namespace \u001b[38;5;129;01mis\u001b[39;00m \u001b[38;5;28;01mNone\u001b[39;00m\n\u001b[1;32m    430\u001b[0m \u001b[38;5;28;01mexcept\u001b[39;00m BuildException \u001b[38;5;28;01mas\u001b[39;00m exc:\n",
      "File \u001b[0;32m/code/dj/construction/build.py:367\u001b[0m, in \u001b[0;36mextract_dependencies_from_select.<locals>.check_col\u001b[0;34m(col, add)\u001b[0m\n\u001b[1;32m    365\u001b[0m             exc_msg \u001b[38;5;241m=\u001b[39m \u001b[38;5;124mf\u001b[39m\u001b[38;5;124m\"\u001b[39m\u001b[38;5;124m`\u001b[39m\u001b[38;5;132;01m{\u001b[39;00mcol\u001b[38;5;241m.\u001b[39mname\u001b[38;5;241m.\u001b[39mname\u001b[38;5;132;01m}\u001b[39;00m\u001b[38;5;124m` appears in multiple references and so must be namespaced.\u001b[39m\u001b[38;5;124m\"\u001b[39m  \u001b[38;5;66;03m# pylint: disable=C0301\u001b[39;00m\n\u001b[1;32m    366\u001b[0m     \u001b[38;5;28;01mwith\u001b[39;00m CompoundBuildException()\u001b[38;5;241m.\u001b[39mcatch:\n\u001b[0;32m--> 367\u001b[0m         \u001b[38;5;28;01mraise\u001b[39;00m InvalidSQLException(exc_msg, col, col\u001b[38;5;241m.\u001b[39mparent)\n\u001b[1;32m    369\u001b[0m     \u001b[38;5;28;01mreturn\u001b[39;00m \u001b[38;5;28;01mNone\u001b[39;00m\n\u001b[1;32m    370\u001b[0m \u001b[38;5;28;01mif\u001b[39;00m namespace:\n",
      "\u001b[0;31mInvalidSQLException\u001b[0m: Namespace `r1` has no column `purchase_id`. `r1.purchase_id` from `r1.purchase_id = r2.id`"
     ]
    }
   ],
   "source": [
    "query_dependencies = extract_dependencies_from_query(session, query)"
   ]
  },
  {
   "cell_type": "code",
   "execution_count": 2,
   "id": "38458d0f",
   "metadata": {},
   "outputs": [],
   "source": [
    "query=\"\"\"WITH customer_total_return AS\n",
    "(\n",
    "           SELECT     sr_customer_sk     AS ctr_customer_sk,\n",
    "                      sr_store_sk        AS ctr_store_sk,\n",
    "                      Sum(sr_return_amt) AS ctr_total_return\n",
    "           FROM       store_returns\n",
    "           INNER JOIN date_dim\n",
    "           ON         store_returns.sr_customer_sk=date_dim.d_date_sk\n",
    "           WHERE      sr_returned_date_sk = d_date_sk\n",
    "           AND        d_year = 2001\n",
    "           GROUP BY   sr_customer_sk,\n",
    "                      sr_store_sk)\n",
    "SELECT     c_customer_id\n",
    "FROM       customer_total_return ctr1\n",
    "INNER JOIN store\n",
    "ON         s_store_sk = ctr1.ctr_store_sk\n",
    "AND        s_state = 'TN'\n",
    "AND        ctr1.ctr_customer_sk = c_customer_sk\n",
    "LEFT JOIN customer\n",
    "ON         s_store_sk = ctr1.ctr_store_sk\n",
    "AND        s_state = 'TN'\n",
    "AND        ctr1.ctr_customer_sk = c_customer_sk\n",
    "WHERE      ctr1.ctr_total_return >\n",
    "           (\n",
    "                  SELECT DISTINCT Avg(ctr_total_return) * 1.2\n",
    "                  FROM   customer_total_return ctr2\n",
    "                  WHERE  ctr1.ctr_store_sk = ctr2.ctr_store_sk)\n",
    "AND        s_store_sk = ctr1.ctr_store_sk\n",
    "OR         s_state <> 'TN'\n",
    "AND        ctr1.ctr_customer_sk = c_customer_sk\n",
    "LIMIT 100\n",
    "\"\"\""
   ]
  },
  {
   "cell_type": "code",
   "execution_count": 4,
   "id": "0387bba5",
   "metadata": {},
   "outputs": [
    {
     "data": {
      "text/plain": [
       "Query(select=Select(from_=From(tables=[Alias(name=Name(name='ctr1', quote_style=''), namespace=None, child=Table(name=Name(name='customer_total_return', quote_style=''), namespace=None))], joins=[Join(kind=JoinKind.Inner, table=Table(name=Name(name='store', quote_style=''), namespace=None), on=BinaryOp(op=BinaryOpKind.And, left=BinaryOp(op=BinaryOpKind.And, left=BinaryOp(op=BinaryOpKind.Eq, left=Column(name=Name(name='s_store_sk', quote_style=''), namespace=None), right=Column(name=Name(name='ctr_store_sk', quote_style=''), namespace=Namespace(names=[Name(name='ctr1', quote_style='')]))), right=BinaryOp(op=BinaryOpKind.Eq, left=Column(name=Name(name='s_state', quote_style=''), namespace=None), right=String(value='TN'))), right=BinaryOp(op=BinaryOpKind.Eq, left=Column(name=Name(name='ctr_customer_sk', quote_style=''), namespace=Namespace(names=[Name(name='ctr1', quote_style='')])), right=Column(name=Name(name='c_customer_sk', quote_style=''), namespace=None)))), Join(kind=JoinKind.LeftOuter, table=Table(name=Name(name='customer', quote_style=''), namespace=None), on=BinaryOp(op=BinaryOpKind.And, left=BinaryOp(op=BinaryOpKind.And, left=BinaryOp(op=BinaryOpKind.Eq, left=Column(name=Name(name='s_store_sk', quote_style=''), namespace=None), right=Column(name=Name(name='ctr_store_sk', quote_style=''), namespace=Namespace(names=[Name(name='ctr1', quote_style='')]))), right=BinaryOp(op=BinaryOpKind.Eq, left=Column(name=Name(name='s_state', quote_style=''), namespace=None), right=String(value='TN'))), right=BinaryOp(op=BinaryOpKind.Eq, left=Column(name=Name(name='ctr_customer_sk', quote_style=''), namespace=Namespace(names=[Name(name='ctr1', quote_style='')])), right=Column(name=Name(name='c_customer_sk', quote_style=''), namespace=None))))]), group_by=[], having=None, projection=[Column(name=Name(name='c_customer_id', quote_style=''), namespace=None)], where=BinaryOp(op=BinaryOpKind.Or, left=BinaryOp(op=BinaryOpKind.And, left=BinaryOp(op=BinaryOpKind.Gt, left=Column(name=Name(name='ctr_total_return', quote_style=''), namespace=Namespace(names=[Name(name='ctr1', quote_style='')])), right=Query(select=Select(from_=From(tables=[Alias(name=Name(name='ctr2', quote_style=''), namespace=None, child=Table(name=Name(name='customer_total_return', quote_style=''), namespace=None))], joins=[]), group_by=[], having=None, projection=[BinaryOp(op=BinaryOpKind.Multiply, left=Function(name=Name(name='Avg', quote_style=''), namespace=Namespace(names=[]), args=[Column(name=Name(name='ctr_total_return', quote_style=''), namespace=None)]), right=Number(value=1.2))], where=BinaryOp(op=BinaryOpKind.Eq, left=Column(name=Name(name='ctr_store_sk', quote_style=''), namespace=Namespace(names=[Name(name='ctr1', quote_style='')])), right=Column(name=Name(name='ctr_store_sk', quote_style=''), namespace=Namespace(names=[Name(name='ctr2', quote_style='')]))), limit=None, distinct=True), ctes=[])), right=BinaryOp(op=BinaryOpKind.Eq, left=Column(name=Name(name='s_store_sk', quote_style=''), namespace=None), right=Column(name=Name(name='ctr_store_sk', quote_style=''), namespace=Namespace(names=[Name(name='ctr1', quote_style='')])))), right=BinaryOp(op=BinaryOpKind.And, left=BinaryOp(op=BinaryOpKind.NotEq, left=Column(name=Name(name='s_state', quote_style=''), namespace=None), right=String(value='TN')), right=BinaryOp(op=BinaryOpKind.Eq, left=Column(name=Name(name='ctr_customer_sk', quote_style=''), namespace=Namespace(names=[Name(name='ctr1', quote_style='')])), right=Column(name=Name(name='c_customer_sk', quote_style=''), namespace=None)))), limit=Number(value=100), distinct=False), ctes=[Alias(name=Name(name='customer_total_return', quote_style=''), namespace=None, child=Select(from_=From(tables=[Table(name=Name(name='store_returns', quote_style=''), namespace=None)], joins=[Join(kind=JoinKind.Inner, table=Table(name=Name(name='date_dim', quote_style=''), namespace=None), on=BinaryOp(op=BinaryOpKind.Eq, left=Column(name=Name(name='sr_customer_sk', quote_style=''), namespace=Namespace(names=[Name(name='store_returns', quote_style='')])), right=Column(name=Name(name='d_date_sk', quote_style=''), namespace=Namespace(names=[Name(name='date_dim', quote_style='')]))))]), group_by=[Column(name=Name(name='sr_customer_sk', quote_style=''), namespace=None), Column(name=Name(name='sr_store_sk', quote_style=''), namespace=None)], having=None, projection=[Alias(name=Name(name='ctr_customer_sk', quote_style=''), namespace=None, child=Column(name=Name(name='sr_customer_sk', quote_style=''), namespace=None)), Alias(name=Name(name='ctr_store_sk', quote_style=''), namespace=None, child=Column(name=Name(name='sr_store_sk', quote_style=''), namespace=None)), Alias(name=Name(name='ctr_total_return', quote_style=''), namespace=None, child=Function(name=Name(name='Sum', quote_style=''), namespace=Namespace(names=[]), args=[Column(name=Name(name='sr_return_amt', quote_style=''), namespace=None)]))], where=BinaryOp(op=BinaryOpKind.And, left=BinaryOp(op=BinaryOpKind.Eq, left=Column(name=Name(name='sr_returned_date_sk', quote_style=''), namespace=None), right=Column(name=Name(name='d_date_sk', quote_style=''), namespace=None)), right=BinaryOp(op=BinaryOpKind.Eq, left=Column(name=Name(name='d_year', quote_style=''), namespace=None), right=Number(value=2001))), limit=None, distinct=False))])"
      ]
     },
     "execution_count": 4,
     "metadata": {},
     "output_type": "execute_result"
    }
   ],
   "source": [
    "parse(str(parse(query)))"
   ]
  },
  {
   "cell_type": "code",
   "execution_count": 6,
   "id": "b6e080aa",
   "metadata": {},
   "outputs": [
    {
     "name": "stdout",
     "output_type": "stream",
     "text": [
      "> \u001b[0;32m/code/dj/sql/parsing/ast.py\u001b[0m(736)\u001b[0;36m__str__\u001b[0;34m()\u001b[0m\n",
      "\u001b[0;32m    734 \u001b[0;31m        \u001b[0mselect\u001b[0m \u001b[0;34m=\u001b[0m \u001b[0;34m\" \"\u001b[0m\u001b[0;34m.\u001b[0m\u001b[0mjoin\u001b[0m\u001b[0;34m(\u001b[0m\u001b[0mparts\u001b[0m\u001b[0;34m)\u001b[0m\u001b[0;34m\u001b[0m\u001b[0;34m\u001b[0m\u001b[0m\n",
      "\u001b[0m\u001b[0;32m    735 \u001b[0;31m        \u001b[0;32mimport\u001b[0m \u001b[0mpdb\u001b[0m\u001b[0;34m;\u001b[0m \u001b[0mpdb\u001b[0m\u001b[0;34m.\u001b[0m\u001b[0mset_trace\u001b[0m\u001b[0;34m(\u001b[0m\u001b[0;34m)\u001b[0m\u001b[0;34m\u001b[0m\u001b[0;34m\u001b[0m\u001b[0m\n",
      "\u001b[0m\u001b[0;32m--> 736 \u001b[0;31m        \u001b[0;32mif\u001b[0m \u001b[0msubselect\u001b[0m\u001b[0;34m:\u001b[0m\u001b[0;34m\u001b[0m\u001b[0;34m\u001b[0m\u001b[0m\n",
      "\u001b[0m\u001b[0;32m    737 \u001b[0;31m            \u001b[0;32mreturn\u001b[0m \u001b[0;34m\"(\"\u001b[0m \u001b[0;34m+\u001b[0m \u001b[0mselect\u001b[0m \u001b[0;34m+\u001b[0m \u001b[0;34m\")\"\u001b[0m\u001b[0;34m\u001b[0m\u001b[0;34m\u001b[0m\u001b[0m\n",
      "\u001b[0m\u001b[0;32m    738 \u001b[0;31m        \u001b[0;32mreturn\u001b[0m \u001b[0mselect\u001b[0m\u001b[0;34m\u001b[0m\u001b[0;34m\u001b[0m\u001b[0m\n",
      "\u001b[0m\n",
      "ipdb> c\n",
      "(SELECT  sr_customer_sk AS ctr_customer_sk,\n",
      "\tsr_store_sk AS ctr_store_sk,\n",
      "\tSum(sr_return_amt) AS ctr_total_return \n",
      " FROM store_returns\n",
      "INNER JOIN date_dim\n",
      "        ON store_returns.sr_customer_sk = date_dim.d_date_sk \n",
      " WHERE  sr_returned_date_sk = d_date_sk AND d_year = 2001 \n",
      " GROUP BY  sr_customer_sk, sr_store_sk) AS customer_total_return\n"
     ]
    }
   ],
   "source": [
    "print(str(parse(query).ctes[0]))"
   ]
  },
  {
   "cell_type": "code",
   "execution_count": null,
   "id": "9d03615c",
   "metadata": {},
   "outputs": [],
   "source": [
    "dependencies = query_dependencies.select"
   ]
  }
 ],
 "metadata": {
  "kernelspec": {
   "display_name": "Python 3 (ipykernel)",
   "language": "python",
   "name": "python3"
  },
  "language_info": {
   "codemirror_mode": {
    "name": "ipython",
    "version": 3
   },
   "file_extension": ".py",
   "mimetype": "text/x-python",
   "name": "python",
   "nbconvert_exporter": "python",
   "pygments_lexer": "ipython3",
   "version": "3.10.8"
  }
 },
 "nbformat": 4,
 "nbformat_minor": 5
}
