{
 "cells": [
  {
   "cell_type": "code",
   "execution_count": 1,
   "id": "90d3d14d",
   "metadata": {},
   "outputs": [],
   "source": [
    "import pytest\n",
    "from sqlmodel import Session, select\n",
    "\n",
    "from dj.construction.build import (\n",
    "    ColumnDependencies,\n",
    "    CompoundBuildException,\n",
    "    InvalidSQLException,\n",
    "    MissingColumnException,\n",
    "    NodeTypeException,\n",
    "    UnknownNodeException,\n",
    "    extract_dependencies,\n",
    "    extract_dependencies_from_query,\n",
    "    extract_dependencies_from_select,\n",
    "    get_dj_node,\n",
    "    make_name,\n",
    ")\n",
    "from dj.models import Column\n",
    "from dj.models.node import Node, NodeType\n",
    "from dj.sql.parsing.ast import Alias, BinaryOp, BinaryOpKind\n",
    "from dj.sql.parsing.ast import Column as ASTColumn\n",
    "from dj.sql.parsing.ast import (\n",
    "    From,\n",
    "    Join,\n",
    "    JoinKind,\n",
    "    Name,\n",
    "    Namespace,\n",
    "    Query,\n",
    "    Select,\n",
    "    String,\n",
    "    Table,\n",
    ")\n",
    "from dj.sql.parsing.backends.sqloxide import parse\n",
    "from dj.typing import ColumnType"
   ]
  },
  {
   "cell_type": "code",
   "execution_count": 43,
   "id": "7ec3343a",
   "metadata": {},
   "outputs": [],
   "source": [
    "        purchases = Node(\n",
    "            name=\"purchases\",\n",
    "            type=NodeType.SOURCE,\n",
    "            columns=[\n",
    "                Column(name=\"transaction_id\", type=ColumnType.INT),\n",
    "                Column(name=\"transaction_time\", type=ColumnType.DATETIME),\n",
    "                Column(name=\"transaction_amount\", type=ColumnType.FLOAT),\n",
    "                Column(name=\"customer_id\", type=ColumnType.INT),\n",
    "            ],\n",
    "        )\n",
    "        customer_events = Node(\n",
    "            name=\"customer_events\",\n",
    "            type=NodeType.SOURCE,\n",
    "            columns=[\n",
    "                Column(name=\"event_id\", type=ColumnType.INT),\n",
    "                Column(name=\"event_time\", type=ColumnType.DATETIME),\n",
    "                Column(name=\"event_type\", type=ColumnType.STR),\n",
    "                Column(name=\"customer_id\", type=ColumnType.INT),\n",
    "                Column(name=\"message\", type=ColumnType.STR),\n",
    "            ],\n",
    "        )\n",
    "        returns = Node(\n",
    "            name=\"returns\",\n",
    "            type=NodeType.SOURCE,\n",
    "            columns=[\n",
    "                Column(name=\"transaction_id\", type=ColumnType.INT),\n",
    "                Column(name=\"transaction_time\", type=ColumnType.DATETIME),\n",
    "                Column(name=\"purchase_transaction_id\", type=ColumnType.INT),\n",
    "            ],\n",
    "        )\n",
    "\n",
    "        eligible_purchases = Node(\n",
    "            name=\"eligible_purchases\",\n",
    "            query=\"\"\"\n",
    "                    SELECT transaction_id, transaction_time, transaction_amount, customer_id\n",
    "                    FROM purchases\n",
    "                    WHERE transaction_amount > 100.0\n",
    "                \"\"\",\n",
    "            type=NodeType.TRANSFORM,\n",
    "            columns=[\n",
    "                Column(name=\"transaction_id\", type=ColumnType.INT),\n",
    "                Column(name=\"transaction_time\", type=ColumnType.DATETIME),\n",
    "                Column(name=\"transaction_amount\", type=ColumnType.FLOAT),\n",
    "                Column(name=\"customer_id\", type=ColumnType.INT),\n",
    "            ],\n",
    "        )\n",
    "\n",
    "        returned_transactions = Node(\n",
    "            name=\"returned_transactions\",\n",
    "            query=\"\"\"\n",
    "                    SELECT transaction_id, transaction_time, transaction_amount, customer_id\n",
    "                    FROM purchases p\n",
    "                    LEFT JOIN returns r\n",
    "                    ON p.transaction_id = r.purchase_transaction_id\n",
    "                    WHERE r.purchase_transaction_id is not null\n",
    "                \"\"\",\n",
    "            type=NodeType.TRANSFORM,\n",
    "            columns=[\n",
    "                Column(name=\"transaction_id\", type=ColumnType.INT),\n",
    "                Column(name=\"transaction_time\", type=ColumnType.DATETIME),\n",
    "                Column(name=\"transaction_amount\", type=ColumnType.FLOAT),\n",
    "                Column(name=\"customer_id\", type=ColumnType.INT),\n",
    "            ],\n",
    "        )\n",
    "\n",
    "        event_type = Node(\n",
    "            name=\"event_type\",\n",
    "            type=NodeType.DIMENSION,\n",
    "            query=\"SELECT DISTINCT event_type FROM customer_events\",\n",
    "            columns=[\n",
    "                Column(name=\"event_type\", type=ColumnType.STR),\n",
    "            ],\n",
    "        )\n",
    "        session.add(purchases)\n",
    "        session.add(customer_events)\n",
    "        session.add(returns)\n",
    "        session.add(eligible_purchases)\n",
    "        session.add(returned_transactions)\n",
    "        session.add(event_type)"
   ]
  },
  {
   "cell_type": "code",
   "execution_count": 15,
   "id": "d50af610",
   "metadata": {},
   "outputs": [
    {
     "data": {
      "text/plain": [
       "-771431139317362362"
      ]
     },
     "execution_count": 15,
     "metadata": {},
     "output_type": "execute_result"
    }
   ],
   "source": [
    "hash(Name('a'))"
   ]
  },
  {
   "cell_type": "code",
   "execution_count": 19,
   "id": "e1ab2b0e",
   "metadata": {},
   "outputs": [],
   "source": [
    "query = parse(\n",
    "    \"\"\"\n",
    "SELECT r2.id as matched_id\n",
    "FROM dbt.transform.customer_agg r1\n",
    "LEFT JOIN dbt.transform.customer_agg r2\n",
    "ON r1.id = r2.id\n",
    "WHERE r2.id is not null\n",
    "\"\"\",\n",
    "    \"hive\",\n",
    ")"
   ]
  },
  {
   "cell_type": "code",
   "execution_count": 23,
   "id": "30128e6d",
   "metadata": {},
   "outputs": [
    {
     "name": "stdout",
     "output_type": "stream",
     "text": [
      "1.03 ms ± 62.7 µs per loop (mean ± std. dev. of 7 runs, 1,000 loops each)\n"
     ]
    }
   ],
   "source": [
    "%timeit hash(query)==hash(query)"
   ]
  },
  {
   "cell_type": "code",
   "execution_count": 24,
   "id": "727a6873",
   "metadata": {},
   "outputs": [
    {
     "name": "stdout",
     "output_type": "stream",
     "text": [
      "1.68 ms ± 79.3 µs per loop (mean ± std. dev. of 7 runs, 100 loops each)\n"
     ]
    }
   ],
   "source": [
    "%timeit query.compare(query)"
   ]
  },
  {
   "cell_type": "code",
   "execution_count": 20,
   "id": "e99d51bd",
   "metadata": {},
   "outputs": [
    {
     "ename": "TypeError",
     "evalue": "argument 'sql': 'Query' object cannot be converted to 'PyString'",
     "output_type": "error",
     "traceback": [
      "\u001b[0;31m---------------------------------------------------------------------------\u001b[0m",
      "\u001b[0;31mTypeError\u001b[0m                                 Traceback (most recent call last)",
      "Cell \u001b[0;32mIn[20], line 1\u001b[0m\n\u001b[0;32m----> 1\u001b[0m \u001b[43mparse\u001b[49m\u001b[43m(\u001b[49m\u001b[43mquery\u001b[49m\u001b[43m)\u001b[49m\u001b[38;5;66;03m#.compare(parse(query))\u001b[39;00m\n",
      "File \u001b[0;32m/code/dj/sql/parsing/backends/sqloxide.py:359\u001b[0m, in \u001b[0;36mparse\u001b[0;34m(sql, dialect)\u001b[0m\n\u001b[1;32m    357\u001b[0m \u001b[38;5;28;01mif\u001b[39;00m dialect \u001b[38;5;129;01mis\u001b[39;00m \u001b[38;5;28;01mNone\u001b[39;00m:\n\u001b[1;32m    358\u001b[0m     dialect \u001b[38;5;241m=\u001b[39m \u001b[38;5;124m\"\u001b[39m\u001b[38;5;124mansi\u001b[39m\u001b[38;5;124m\"\u001b[39m\n\u001b[0;32m--> 359\u001b[0m oxide_parsed \u001b[38;5;241m=\u001b[39m \u001b[43mparse_sql\u001b[49m\u001b[43m(\u001b[49m\u001b[43msql\u001b[49m\u001b[43m,\u001b[49m\u001b[43m \u001b[49m\u001b[43mdialect\u001b[49m\u001b[43m)\u001b[49m\n\u001b[1;32m    360\u001b[0m \u001b[38;5;28;01mif\u001b[39;00m \u001b[38;5;28mlen\u001b[39m(oxide_parsed) \u001b[38;5;241m!=\u001b[39m \u001b[38;5;241m1\u001b[39m:\n\u001b[1;32m    361\u001b[0m     \u001b[38;5;28;01mraise\u001b[39;00m DJParseException(\u001b[38;5;124m\"\u001b[39m\u001b[38;5;124mExpected a single sql statement.\u001b[39m\u001b[38;5;124m\"\u001b[39m)\n",
      "\u001b[0;31mTypeError\u001b[0m: argument 'sql': 'Query' object cannot be converted to 'PyString'"
     ]
    }
   ],
   "source": [
    "parse(query)#.compare(parse(query))"
   ]
  },
  {
   "cell_type": "code",
   "execution_count": 26,
   "id": "e43d1319",
   "metadata": {},
   "outputs": [],
   "source": [
    "from dj.utils import get_session\n",
    "session = next(get_session())"
   ]
  },
  {
   "cell_type": "code",
   "execution_count": 32,
   "id": "30ec5f89",
   "metadata": {
    "scrolled": true
   },
   "outputs": [
    {
     "name": "stdout",
     "output_type": "stream",
     "text": [
      "Automatic pdb calling has been turned OFF\n"
     ]
    }
   ],
   "source": [
    "%pdb"
   ]
  },
  {
   "cell_type": "code",
   "execution_count": 33,
   "id": "3474e32d",
   "metadata": {},
   "outputs": [],
   "source": [
    "query_dependencies = extract_dependencies_from_query(session, query)"
   ]
  },
  {
   "cell_type": "code",
   "execution_count": 16,
   "id": "25191a88",
   "metadata": {},
   "outputs": [],
   "source": [
    "from dj.sql.parsing.ast import flatten"
   ]
  },
  {
   "cell_type": "code",
   "execution_count": 18,
   "id": "62b73f62",
   "metadata": {},
   "outputs": [
    {
     "data": {
      "text/plain": [
       "['hello', 'world']"
      ]
     },
     "execution_count": 18,
     "metadata": {},
     "output_type": "execute_result"
    }
   ],
   "source": [
    "list(flatten(['hello', ['world']]))"
   ]
  },
  {
   "cell_type": "code",
   "execution_count": 15,
   "id": "bac34406",
   "metadata": {},
   "outputs": [
    {
     "data": {
      "text/plain": [
       "ColumnDependencies(projection=[(Column(name=Name(name='id', quote_style=''), namespace=Namespace(names=[Name(name='r2', quote_style='')])), Table(name=Name(name='customer_agg', quote_style=''), namespace=Namespace(names=[Name(name='dbt', quote_style=''), Name(name='transform', quote_style='')])))], group_by=[], filters=[(Column(name=Name(name='id', quote_style=''), namespace=Namespace(names=[Name(name='r2', quote_style='')])), Table(name=Name(name='customer_agg', quote_style=''), namespace=Namespace(names=[Name(name='dbt', quote_style=''), Name(name='transform', quote_style='')])))], ons=[(Column(name=Name(name='id', quote_style=''), namespace=Namespace(names=[Name(name='r1', quote_style='')])), Table(name=Name(name='customer_agg', quote_style=''), namespace=Namespace(names=[Name(name='dbt', quote_style=''), Name(name='transform', quote_style='')]))), (Column(name=Name(name='id', quote_style=''), namespace=Namespace(names=[Name(name='r2', quote_style='')])), Table(name=Name(name='customer_agg', quote_style=''), namespace=Namespace(names=[Name(name='dbt', quote_style=''), Name(name='transform', quote_style='')])))])"
      ]
     },
     "execution_count": 15,
     "metadata": {},
     "output_type": "execute_result"
    }
   ],
   "source": [
    "query_dependencies.select.columns"
   ]
  },
  {
   "cell_type": "code",
   "execution_count": 2,
   "id": "e2fe9f44",
   "metadata": {},
   "outputs": [],
   "source": [
    "query=\"\"\"WITH customer_total_return AS\n",
    "(\n",
    "           SELECT     sr_customer_sk     AS ctr_customer_sk,\n",
    "                      sr_store_sk        AS ctr_store_sk,\n",
    "                      Sum(sr_return_amt) AS ctr_total_return\n",
    "           FROM       store_returns\n",
    "           INNER JOIN date_dim\n",
    "           ON         store_returns.sr_customer_sk=date_dim.d_date_sk\n",
    "           WHERE      sr_returned_date_sk = d_date_sk\n",
    "           AND        d_year = 2001\n",
    "           GROUP BY   sr_customer_sk,\n",
    "                      sr_store_sk)\n",
    "SELECT     c_customer_id\n",
    "FROM       customer_total_return ctr1\n",
    "INNER JOIN store\n",
    "ON         s_store_sk = ctr1.ctr_store_sk\n",
    "AND        s_state = 'TN'\n",
    "AND        ctr1.ctr_customer_sk = c_customer_sk\n",
    "LEFT JOIN customer\n",
    "ON         s_store_sk = ctr1.ctr_store_sk\n",
    "AND        s_state = 'TN'\n",
    "AND        ctr1.ctr_customer_sk = c_customer_sk\n",
    "WHERE      ctr1.ctr_total_return >\n",
    "           (\n",
    "                  SELECT DISTINCT Avg(ctr_total_return) * 1.2\n",
    "                  FROM   customer_total_return ctr2\n",
    "                  WHERE  ctr1.ctr_store_sk = ctr2.ctr_store_sk)\n",
    "AND        s_store_sk = ctr1.ctr_store_sk\n",
    "OR         s_state <> 'TN'\n",
    "AND        ctr1.ctr_customer_sk = c_customer_sk\n",
    "LIMIT 100\n",
    "\"\"\""
   ]
  },
  {
   "cell_type": "code",
   "execution_count": 4,
   "id": "a46f73de",
   "metadata": {},
   "outputs": [
    {
     "data": {
      "text/plain": [
       "Query(select=Select(from_=From(tables=[Alias(name=Name(name='ctr1', quote_style=''), namespace=None, child=Table(name=Name(name='customer_total_return', quote_style=''), namespace=None))], joins=[Join(kind=JoinKind.Inner, table=Table(name=Name(name='store', quote_style=''), namespace=None), on=BinaryOp(op=BinaryOpKind.And, left=BinaryOp(op=BinaryOpKind.And, left=BinaryOp(op=BinaryOpKind.Eq, left=Column(name=Name(name='s_store_sk', quote_style=''), namespace=None), right=Column(name=Name(name='ctr_store_sk', quote_style=''), namespace=Namespace(names=[Name(name='ctr1', quote_style='')]))), right=BinaryOp(op=BinaryOpKind.Eq, left=Column(name=Name(name='s_state', quote_style=''), namespace=None), right=String(value='TN'))), right=BinaryOp(op=BinaryOpKind.Eq, left=Column(name=Name(name='ctr_customer_sk', quote_style=''), namespace=Namespace(names=[Name(name='ctr1', quote_style='')])), right=Column(name=Name(name='c_customer_sk', quote_style=''), namespace=None)))), Join(kind=JoinKind.LeftOuter, table=Table(name=Name(name='customer', quote_style=''), namespace=None), on=BinaryOp(op=BinaryOpKind.And, left=BinaryOp(op=BinaryOpKind.And, left=BinaryOp(op=BinaryOpKind.Eq, left=Column(name=Name(name='s_store_sk', quote_style=''), namespace=None), right=Column(name=Name(name='ctr_store_sk', quote_style=''), namespace=Namespace(names=[Name(name='ctr1', quote_style='')]))), right=BinaryOp(op=BinaryOpKind.Eq, left=Column(name=Name(name='s_state', quote_style=''), namespace=None), right=String(value='TN'))), right=BinaryOp(op=BinaryOpKind.Eq, left=Column(name=Name(name='ctr_customer_sk', quote_style=''), namespace=Namespace(names=[Name(name='ctr1', quote_style='')])), right=Column(name=Name(name='c_customer_sk', quote_style=''), namespace=None))))]), group_by=[], having=None, projection=[Column(name=Name(name='c_customer_id', quote_style=''), namespace=None)], where=BinaryOp(op=BinaryOpKind.Or, left=BinaryOp(op=BinaryOpKind.And, left=BinaryOp(op=BinaryOpKind.Gt, left=Column(name=Name(name='ctr_total_return', quote_style=''), namespace=Namespace(names=[Name(name='ctr1', quote_style='')])), right=Query(select=Select(from_=From(tables=[Alias(name=Name(name='ctr2', quote_style=''), namespace=None, child=Table(name=Name(name='customer_total_return', quote_style=''), namespace=None))], joins=[]), group_by=[], having=None, projection=[BinaryOp(op=BinaryOpKind.Multiply, left=Function(name=Name(name='Avg', quote_style=''), namespace=Namespace(names=[]), args=[Column(name=Name(name='ctr_total_return', quote_style=''), namespace=None)]), right=Number(value=1.2))], where=BinaryOp(op=BinaryOpKind.Eq, left=Column(name=Name(name='ctr_store_sk', quote_style=''), namespace=Namespace(names=[Name(name='ctr1', quote_style='')])), right=Column(name=Name(name='ctr_store_sk', quote_style=''), namespace=Namespace(names=[Name(name='ctr2', quote_style='')]))), limit=None, distinct=True), ctes=[])), right=BinaryOp(op=BinaryOpKind.Eq, left=Column(name=Name(name='s_store_sk', quote_style=''), namespace=None), right=Column(name=Name(name='ctr_store_sk', quote_style=''), namespace=Namespace(names=[Name(name='ctr1', quote_style='')])))), right=BinaryOp(op=BinaryOpKind.And, left=BinaryOp(op=BinaryOpKind.NotEq, left=Column(name=Name(name='s_state', quote_style=''), namespace=None), right=String(value='TN')), right=BinaryOp(op=BinaryOpKind.Eq, left=Column(name=Name(name='ctr_customer_sk', quote_style=''), namespace=Namespace(names=[Name(name='ctr1', quote_style='')])), right=Column(name=Name(name='c_customer_sk', quote_style=''), namespace=None)))), limit=Number(value=100), distinct=False), ctes=[Alias(name=Name(name='customer_total_return', quote_style=''), namespace=None, child=Select(from_=From(tables=[Table(name=Name(name='store_returns', quote_style=''), namespace=None)], joins=[Join(kind=JoinKind.Inner, table=Table(name=Name(name='date_dim', quote_style=''), namespace=None), on=BinaryOp(op=BinaryOpKind.Eq, left=Column(name=Name(name='sr_customer_sk', quote_style=''), namespace=Namespace(names=[Name(name='store_returns', quote_style='')])), right=Column(name=Name(name='d_date_sk', quote_style=''), namespace=Namespace(names=[Name(name='date_dim', quote_style='')]))))]), group_by=[Column(name=Name(name='sr_customer_sk', quote_style=''), namespace=None), Column(name=Name(name='sr_store_sk', quote_style=''), namespace=None)], having=None, projection=[Alias(name=Name(name='ctr_customer_sk', quote_style=''), namespace=None, child=Column(name=Name(name='sr_customer_sk', quote_style=''), namespace=None)), Alias(name=Name(name='ctr_store_sk', quote_style=''), namespace=None, child=Column(name=Name(name='sr_store_sk', quote_style=''), namespace=None)), Alias(name=Name(name='ctr_total_return', quote_style=''), namespace=None, child=Function(name=Name(name='Sum', quote_style=''), namespace=Namespace(names=[]), args=[Column(name=Name(name='sr_return_amt', quote_style=''), namespace=None)]))], where=BinaryOp(op=BinaryOpKind.And, left=BinaryOp(op=BinaryOpKind.Eq, left=Column(name=Name(name='sr_returned_date_sk', quote_style=''), namespace=None), right=Column(name=Name(name='d_date_sk', quote_style=''), namespace=None)), right=BinaryOp(op=BinaryOpKind.Eq, left=Column(name=Name(name='d_year', quote_style=''), namespace=None), right=Number(value=2001))), limit=None, distinct=False))])"
      ]
     },
     "execution_count": 4,
     "metadata": {},
     "output_type": "execute_result"
    }
   ],
   "source": [
    "parse(str(parse(query)))"
   ]
  },
  {
   "cell_type": "code",
   "execution_count": 6,
   "id": "3a6319e6",
   "metadata": {},
   "outputs": [
    {
     "name": "stdout",
     "output_type": "stream",
     "text": [
      "> \u001b[0;32m/code/dj/sql/parsing/ast.py\u001b[0m(736)\u001b[0;36m__str__\u001b[0;34m()\u001b[0m\n",
      "\u001b[0;32m    734 \u001b[0;31m        \u001b[0mselect\u001b[0m \u001b[0;34m=\u001b[0m \u001b[0;34m\" \"\u001b[0m\u001b[0;34m.\u001b[0m\u001b[0mjoin\u001b[0m\u001b[0;34m(\u001b[0m\u001b[0mparts\u001b[0m\u001b[0;34m)\u001b[0m\u001b[0;34m\u001b[0m\u001b[0;34m\u001b[0m\u001b[0m\n",
      "\u001b[0m\u001b[0;32m    735 \u001b[0;31m        \u001b[0;32mimport\u001b[0m \u001b[0mpdb\u001b[0m\u001b[0;34m;\u001b[0m \u001b[0mpdb\u001b[0m\u001b[0;34m.\u001b[0m\u001b[0mset_trace\u001b[0m\u001b[0;34m(\u001b[0m\u001b[0;34m)\u001b[0m\u001b[0;34m\u001b[0m\u001b[0;34m\u001b[0m\u001b[0m\n",
      "\u001b[0m\u001b[0;32m--> 736 \u001b[0;31m        \u001b[0;32mif\u001b[0m \u001b[0msubselect\u001b[0m\u001b[0;34m:\u001b[0m\u001b[0;34m\u001b[0m\u001b[0;34m\u001b[0m\u001b[0m\n",
      "\u001b[0m\u001b[0;32m    737 \u001b[0;31m            \u001b[0;32mreturn\u001b[0m \u001b[0;34m\"(\"\u001b[0m \u001b[0;34m+\u001b[0m \u001b[0mselect\u001b[0m \u001b[0;34m+\u001b[0m \u001b[0;34m\")\"\u001b[0m\u001b[0;34m\u001b[0m\u001b[0;34m\u001b[0m\u001b[0m\n",
      "\u001b[0m\u001b[0;32m    738 \u001b[0;31m        \u001b[0;32mreturn\u001b[0m \u001b[0mselect\u001b[0m\u001b[0;34m\u001b[0m\u001b[0;34m\u001b[0m\u001b[0m\n",
      "\u001b[0m\n",
      "ipdb> c\n",
      "(SELECT  sr_customer_sk AS ctr_customer_sk,\n",
      "\tsr_store_sk AS ctr_store_sk,\n",
      "\tSum(sr_return_amt) AS ctr_total_return \n",
      " FROM store_returns\n",
      "INNER JOIN date_dim\n",
      "        ON store_returns.sr_customer_sk = date_dim.d_date_sk \n",
      " WHERE  sr_returned_date_sk = d_date_sk AND d_year = 2001 \n",
      " GROUP BY  sr_customer_sk, sr_store_sk) AS customer_total_return\n"
     ]
    }
   ],
   "source": [
    "print(str(parse(query).ctes[0]))"
   ]
  },
  {
   "cell_type": "code",
   "execution_count": 44,
   "id": "0b72daae",
   "metadata": {},
   "outputs": [
    {
     "ename": "UnknownNodeException",
     "evalue": "No NodeType.TRANSFORM or NodeType.DIMENSION or NodeType.SOURCE node `returns` exists. `returns`",
     "output_type": "error",
     "traceback": [
      "\u001b[0;31m---------------------------------------------------------------------------\u001b[0m",
      "\u001b[0;31mNoResultFound\u001b[0m                             Traceback (most recent call last)",
      "File \u001b[0;32m/code/dj/construction/build.py:152\u001b[0m, in \u001b[0;36mget_dj_node\u001b[0;34m(session, node_name, kinds)\u001b[0m\n\u001b[1;32m    151\u001b[0m \u001b[38;5;28;01mtry\u001b[39;00m:\n\u001b[0;32m--> 152\u001b[0m     match \u001b[38;5;241m=\u001b[39m \u001b[43msession\u001b[49m\u001b[38;5;241;43m.\u001b[39;49m\u001b[43mexec\u001b[49m\u001b[43m(\u001b[49m\u001b[43mquery\u001b[49m\u001b[43m)\u001b[49m\u001b[38;5;241;43m.\u001b[39;49m\u001b[43mone\u001b[49m\u001b[43m(\u001b[49m\u001b[43m)\u001b[49m\n\u001b[1;32m    153\u001b[0m \u001b[38;5;28;01mexcept\u001b[39;00m NoResultFound \u001b[38;5;28;01mas\u001b[39;00m exc:\n",
      "File \u001b[0;32m/usr/local/lib/python3.10/site-packages/sqlalchemy/engine/result.py:1408\u001b[0m, in \u001b[0;36mScalarResult.one\u001b[0;34m(self)\u001b[0m\n\u001b[1;32m   1401\u001b[0m \u001b[38;5;124;03m\"\"\"Return exactly one object or raise an exception.\u001b[39;00m\n\u001b[1;32m   1402\u001b[0m \n\u001b[1;32m   1403\u001b[0m \u001b[38;5;124;03mEquivalent to :meth:`_result.Result.one` except that\u001b[39;00m\n\u001b[0;32m   (...)\u001b[0m\n\u001b[1;32m   1406\u001b[0m \n\u001b[1;32m   1407\u001b[0m \u001b[38;5;124;03m\"\"\"\u001b[39;00m\n\u001b[0;32m-> 1408\u001b[0m \u001b[38;5;28;01mreturn\u001b[39;00m \u001b[38;5;28;43mself\u001b[39;49m\u001b[38;5;241;43m.\u001b[39;49m\u001b[43m_only_one_row\u001b[49m\u001b[43m(\u001b[49m\n\u001b[1;32m   1409\u001b[0m \u001b[43m    \u001b[49m\u001b[43mraise_for_second_row\u001b[49m\u001b[38;5;241;43m=\u001b[39;49m\u001b[38;5;28;43;01mTrue\u001b[39;49;00m\u001b[43m,\u001b[49m\u001b[43m \u001b[49m\u001b[43mraise_for_none\u001b[49m\u001b[38;5;241;43m=\u001b[39;49m\u001b[38;5;28;43;01mTrue\u001b[39;49;00m\u001b[43m,\u001b[49m\u001b[43m \u001b[49m\u001b[43mscalar\u001b[49m\u001b[38;5;241;43m=\u001b[39;49m\u001b[38;5;28;43;01mFalse\u001b[39;49;00m\n\u001b[1;32m   1410\u001b[0m \u001b[43m\u001b[49m\u001b[43m)\u001b[49m\n",
      "File \u001b[0;32m/usr/local/lib/python3.10/site-packages/sqlalchemy/engine/result.py:562\u001b[0m, in \u001b[0;36mResultInternal._only_one_row\u001b[0;34m(self, raise_for_second_row, raise_for_none, scalar)\u001b[0m\n\u001b[1;32m    561\u001b[0m \u001b[38;5;28;01mif\u001b[39;00m raise_for_none:\n\u001b[0;32m--> 562\u001b[0m     \u001b[38;5;28;01mraise\u001b[39;00m exc\u001b[38;5;241m.\u001b[39mNoResultFound(\n\u001b[1;32m    563\u001b[0m         \u001b[38;5;124m\"\u001b[39m\u001b[38;5;124mNo row was found when one was required\u001b[39m\u001b[38;5;124m\"\u001b[39m\n\u001b[1;32m    564\u001b[0m     )\n\u001b[1;32m    565\u001b[0m \u001b[38;5;28;01melse\u001b[39;00m:\n",
      "\u001b[0;31mNoResultFound\u001b[0m: No row was found when one was required",
      "\nThe above exception was the direct cause of the following exception:\n",
      "\u001b[0;31mUnknownNodeException\u001b[0m                      Traceback (most recent call last)",
      "Cell \u001b[0;32mIn[44], line 11\u001b[0m\n\u001b[1;32m      1\u001b[0m query \u001b[38;5;241m=\u001b[39m parse(\n\u001b[1;32m      2\u001b[0m     \u001b[38;5;124;03m\"\"\"\u001b[39;00m\n\u001b[1;32m      3\u001b[0m \u001b[38;5;124;03mSELECT r2.transaction_id as matched_id\u001b[39;00m\n\u001b[0;32m   (...)\u001b[0m\n\u001b[1;32m      9\u001b[0m     \u001b[38;5;124m\"\u001b[39m\u001b[38;5;124mhive\u001b[39m\u001b[38;5;124m\"\u001b[39m,\n\u001b[1;32m     10\u001b[0m )\n\u001b[0;32m---> 11\u001b[0m query_dependencies \u001b[38;5;241m=\u001b[39m \u001b[43mextract_dependencies_from_query\u001b[49m\u001b[43m(\u001b[49m\u001b[43msession\u001b[49m\u001b[43m,\u001b[49m\u001b[43m \u001b[49m\u001b[43mquery\u001b[49m\u001b[43m)\u001b[49m\n\u001b[1;32m     12\u001b[0m dependencies \u001b[38;5;241m=\u001b[39m query_dependencies\u001b[38;5;241m.\u001b[39mselect\n",
      "File \u001b[0;32m/code/dj/construction/build.py:506\u001b[0m, in \u001b[0;36mextract_dependencies_from_query\u001b[0;34m(session, query)\u001b[0m\n\u001b[1;32m    500\u001b[0m \u001b[38;5;28;01mdef\u001b[39;00m \u001b[38;5;21mextract_dependencies_from_query\u001b[39m(\n\u001b[1;32m    501\u001b[0m     session: Session,\n\u001b[1;32m    502\u001b[0m     query: Query,\n\u001b[1;32m    503\u001b[0m ) \u001b[38;5;241m-\u001b[39m\u001b[38;5;241m>\u001b[39m QueryDependencies:\n\u001b[1;32m    504\u001b[0m     \u001b[38;5;124;03m\"\"\"get all dj node dependencies from a sql query while validating\"\"\"\u001b[39;00m\n\u001b[1;32m    505\u001b[0m     \u001b[38;5;28;01mreturn\u001b[39;00m QueryDependencies(\n\u001b[0;32m--> 506\u001b[0m         select\u001b[38;5;241m=\u001b[39m\u001b[43mextract_dependencies_from_select\u001b[49m\u001b[43m(\u001b[49m\u001b[43msession\u001b[49m\u001b[43m,\u001b[49m\u001b[43m \u001b[49m\u001b[43mquery\u001b[49m\u001b[38;5;241;43m.\u001b[39;49m\u001b[43mselect\u001b[49m\u001b[43m)\u001b[49m,\n\u001b[1;32m    507\u001b[0m     )\n",
      "File \u001b[0;32m/code/dj/construction/build.py:321\u001b[0m, in \u001b[0;36mextract_dependencies_from_select\u001b[0;34m(session, select)\u001b[0m\n\u001b[1;32m    319\u001b[0m \u001b[38;5;28;01melif\u001b[39;00m \u001b[38;5;28misinstance\u001b[39m(table, Table):\n\u001b[1;32m    320\u001b[0m     node_name \u001b[38;5;241m=\u001b[39m make_name(table\u001b[38;5;241m.\u001b[39mnamespace, table\u001b[38;5;241m.\u001b[39mname\u001b[38;5;241m.\u001b[39mname)\n\u001b[0;32m--> 321\u001b[0m     table_node \u001b[38;5;241m=\u001b[39m \u001b[43mget_dj_node\u001b[49m\u001b[43m(\u001b[49m\n\u001b[1;32m    322\u001b[0m \u001b[43m        \u001b[49m\u001b[43msession\u001b[49m\u001b[43m,\u001b[49m\n\u001b[1;32m    323\u001b[0m \u001b[43m        \u001b[49m\u001b[43mnode_name\u001b[49m\u001b[43m,\u001b[49m\n\u001b[1;32m    324\u001b[0m \u001b[43m        \u001b[49m\u001b[43m{\u001b[49m\u001b[43mNodeType\u001b[49m\u001b[38;5;241;43m.\u001b[39;49m\u001b[43mSOURCE\u001b[49m\u001b[43m,\u001b[49m\u001b[43m \u001b[49m\u001b[43mNodeType\u001b[49m\u001b[38;5;241;43m.\u001b[39;49m\u001b[43mTRANSFORM\u001b[49m\u001b[43m,\u001b[49m\u001b[43m \u001b[49m\u001b[43mNodeType\u001b[49m\u001b[38;5;241;43m.\u001b[39;49m\u001b[43mDIMENSION\u001b[49m\u001b[43m}\u001b[49m\u001b[43m,\u001b[49m\n\u001b[1;32m    325\u001b[0m \u001b[43m    \u001b[49m\u001b[43m)\u001b[49m\n\u001b[1;32m    326\u001b[0m     \u001b[38;5;28;01mif\u001b[39;00m table_node \u001b[38;5;129;01mis\u001b[39;00m \u001b[38;5;129;01mnot\u001b[39;00m \u001b[38;5;28;01mNone\u001b[39;00m:\n\u001b[1;32m    327\u001b[0m         namespaces[namespace] \u001b[38;5;241m|\u001b[39m\u001b[38;5;241m=\u001b[39m {c\u001b[38;5;241m.\u001b[39mname \u001b[38;5;28;01mfor\u001b[39;00m c \u001b[38;5;129;01min\u001b[39;00m table_node\u001b[38;5;241m.\u001b[39mcolumns}\n",
      "File \u001b[0;32m/code/dj/construction/build.py:156\u001b[0m, in \u001b[0;36mget_dj_node\u001b[0;34m(session, node_name, kinds)\u001b[0m\n\u001b[1;32m    154\u001b[0m     \u001b[38;5;28;01mwith\u001b[39;00m CompoundBuildException()\u001b[38;5;241m.\u001b[39mcatch:\n\u001b[1;32m    155\u001b[0m         kind_msg \u001b[38;5;241m=\u001b[39m \u001b[38;5;124m\"\u001b[39m\u001b[38;5;124m or \u001b[39m\u001b[38;5;124m\"\u001b[39m\u001b[38;5;241m.\u001b[39mjoin(\u001b[38;5;28mstr\u001b[39m(k) \u001b[38;5;28;01mfor\u001b[39;00m k \u001b[38;5;129;01min\u001b[39;00m kinds) \u001b[38;5;28;01mif\u001b[39;00m kinds \u001b[38;5;28;01melse\u001b[39;00m \u001b[38;5;124m\"\u001b[39m\u001b[38;5;124m\"\u001b[39m\n\u001b[0;32m--> 156\u001b[0m         \u001b[38;5;28;01mraise\u001b[39;00m UnknownNodeException(\n\u001b[1;32m    157\u001b[0m             \u001b[38;5;124mf\u001b[39m\u001b[38;5;124m\"\u001b[39m\u001b[38;5;124mNo \u001b[39m\u001b[38;5;132;01m{\u001b[39;00mkind_msg\u001b[38;5;132;01m}\u001b[39;00m\u001b[38;5;124m node `\u001b[39m\u001b[38;5;132;01m{\u001b[39;00mnode_name\u001b[38;5;132;01m}\u001b[39;00m\u001b[38;5;124m` exists.\u001b[39m\u001b[38;5;124m\"\u001b[39m,\n\u001b[1;32m    158\u001b[0m             node_name,\n\u001b[1;32m    159\u001b[0m         ) \u001b[38;5;28;01mfrom\u001b[39;00m \u001b[38;5;21;01mexc\u001b[39;00m\n\u001b[1;32m    161\u001b[0m \u001b[38;5;28;01mif\u001b[39;00m match \u001b[38;5;129;01mand\u001b[39;00m kinds \u001b[38;5;129;01mand\u001b[39;00m (match\u001b[38;5;241m.\u001b[39mtype \u001b[38;5;129;01mnot\u001b[39;00m \u001b[38;5;129;01min\u001b[39;00m kinds):\n\u001b[1;32m    162\u001b[0m     \u001b[38;5;28;01mwith\u001b[39;00m CompoundBuildException()\u001b[38;5;241m.\u001b[39mcatch:\n",
      "\u001b[0;31mUnknownNodeException\u001b[0m: No NodeType.TRANSFORM or NodeType.DIMENSION or NodeType.SOURCE node `returns` exists. `returns`"
     ]
    }
   ],
   "source": [
    "query = parse(\n",
    "    \"\"\"\n",
    "SELECT r2.transaction_id as matched_id\n",
    "FROM returns r1\n",
    "LEFT JOIN returns r2\n",
    "ON r1.purchase_transaction_id = r2.transaction_id\n",
    "WHERE r2.transaction_id is not null\n",
    "\"\"\",\n",
    "    \"hive\",\n",
    ")\n",
    "query_dependencies = extract_dependencies_from_query(session, query)\n",
    "dependencies = query_dependencies.select"
   ]
  },
  {
   "cell_type": "code",
   "execution_count": null,
   "id": "fc3082ac",
   "metadata": {},
   "outputs": [],
   "source": []
  },
  {
   "cell_type": "code",
   "execution_count": 40,
   "id": "ff989c61",
   "metadata": {},
   "outputs": [
    {
     "data": {
      "text/plain": [
       "2507612997478913879"
      ]
     },
     "execution_count": 40,
     "metadata": {},
     "output_type": "execute_result"
    }
   ],
   "source": [
    "hash(tuple(query_dependencies.select.columns.all_columns))"
   ]
  },
  {
   "cell_type": "code",
   "execution_count": 41,
   "id": "70784230",
   "metadata": {},
   "outputs": [
    {
     "data": {
      "text/plain": [
       "2507612997478913879"
      ]
     },
     "execution_count": 41,
     "metadata": {},
     "output_type": "execute_result"
    }
   ],
   "source": [
    "hash(tuple(query_dependencies.select.columns.all_columns))"
   ]
  },
  {
   "cell_type": "code",
   "execution_count": null,
   "id": "21b6733a",
   "metadata": {},
   "outputs": [],
   "source": [
    "dependencies = query_dependencies.select"
   ]
  }
 ],
 "metadata": {
  "kernelspec": {
   "display_name": "Python 3 (ipykernel)",
   "language": "python",
   "name": "python3"
  },
  "language_info": {
   "codemirror_mode": {
    "name": "ipython",
    "version": 3
   },
   "file_extension": ".py",
   "mimetype": "text/x-python",
   "name": "python",
   "nbconvert_exporter": "python",
   "pygments_lexer": "ipython3",
   "version": "3.10.8"
  }
 },
 "nbformat": 4,
 "nbformat_minor": 5
}
