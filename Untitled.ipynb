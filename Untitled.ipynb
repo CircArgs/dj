{
 "cells": [
  {
   "cell_type": "code",
   "execution_count": 1,
   "id": "3531a590",
   "metadata": {},
   "outputs": [],
   "source": [
    "from dj.construction.extract import *"
   ]
  },
  {
   "cell_type": "code",
   "execution_count": 2,
   "id": "b0cd2469",
   "metadata": {},
   "outputs": [],
   "source": [
    "from dj.utils import get_session"
   ]
  },
  {
   "cell_type": "code",
   "execution_count": 3,
   "id": "01b23b41",
   "metadata": {},
   "outputs": [],
   "source": [
    "session = next(get_session())"
   ]
  },
  {
   "cell_type": "code",
   "execution_count": 4,
   "id": "792dd55c",
   "metadata": {},
   "outputs": [],
   "source": [
    "from typing import Optional\n",
    "\n",
    "# pylint: disable=too-many-lines\n",
    "import pytest\n",
    "from sqlmodel import Session, select\n",
    "\n",
    "from dj.construction.extract import (\n",
    "    ColumnDependencies,\n",
    "    CompoundBuildException,\n",
    "    extract_dependencies,\n",
    "    extract_dependencies_from_query,\n",
    "    get_dj_node,\n",
    "    make_name,\n",
    ")\n",
    "from dj.errors import DJError, DJException, ErrorCode\n",
    "from dj.models import Column\n",
    "from dj.models.node import Node, NodeType\n",
    "from dj.sql.parsing.ast import Alias, BinaryOp, BinaryOpKind\n",
    "from dj.sql.parsing.ast import Column as ASTColumn\n",
    "from dj.sql.parsing.ast import (\n",
    "    From,\n",
    "    Join,\n",
    "    JoinKind,\n",
    "    Name,\n",
    "    Namespace,\n",
    "    Select,\n",
    "    String,\n",
    "    Table,\n",
    ")\n",
    "from dj.sql.parsing.backends.sqloxide import parse\n",
    "from dj.typing import ColumnType"
   ]
  },
  {
   "cell_type": "raw",
   "id": "780fb90c",
   "metadata": {},
   "source": [
    "purchases = Node(\n",
    "    name=\"purchases\",\n",
    "    type=NodeType.SOURCE,\n",
    "    columns=[\n",
    "        Column(name=\"transaction_id\", type=ColumnType.INT),\n",
    "        Column(name=\"transaction_time\", type=ColumnType.DATETIME),\n",
    "        Column(name=\"transaction_amount\", type=ColumnType.FLOAT),\n",
    "        Column(name=\"customer_id\", type=ColumnType.INT),\n",
    "        Column(name=\"system_version\", type=ColumnType.STR),\n",
    "    ],\n",
    ")\n",
    "customer_events = Node(\n",
    "    name=\"customer_events\",\n",
    "    type=NodeType.SOURCE,\n",
    "    columns=[\n",
    "        Column(name=\"event_id\", type=ColumnType.INT),\n",
    "        Column(name=\"event_time\", type=ColumnType.DATETIME),\n",
    "        Column(name=\"event_type\", type=ColumnType.STR),\n",
    "        Column(name=\"customer_id\", type=ColumnType.INT),\n",
    "        Column(name=\"message\", type=ColumnType.STR),\n",
    "    ],\n",
    ")\n",
    "returns = Node(\n",
    "    name=\"returns\",\n",
    "    type=NodeType.SOURCE,\n",
    "    columns=[\n",
    "        Column(name=\"transaction_id\", type=ColumnType.INT),\n",
    "        Column(name=\"transaction_time\", type=ColumnType.DATETIME),\n",
    "        Column(name=\"purchase_transaction_id\", type=ColumnType.INT),\n",
    "    ],\n",
    ")\n",
    "\n",
    "eligible_purchases = Node(\n",
    "    name=\"eligible_purchases\",\n",
    "    query=\"\"\"\n",
    "            SELECT transaction_id, transaction_time, transaction_amount, customer_id, system_version\n",
    "            FROM purchases\n",
    "            WHERE transaction_amount > 100.0\n",
    "        \"\"\",\n",
    "    type=NodeType.TRANSFORM,\n",
    "    columns=[\n",
    "        Column(name=\"transaction_id\", type=ColumnType.INT),\n",
    "        Column(name=\"transaction_time\", type=ColumnType.DATETIME),\n",
    "        Column(name=\"transaction_amount\", type=ColumnType.FLOAT),\n",
    "        Column(name=\"customer_id\", type=ColumnType.INT),\n",
    "        Column(name=\"system_version\", type=ColumnType.STR),\n",
    "    ],\n",
    ")\n",
    "\n",
    "eligible_purchases_new_system = Node(\n",
    "    name=\"eligible_purchases_new_system\",\n",
    "    query=\"\"\"\n",
    "            SELECT transaction_id, transaction_time, transaction_amount, customer_id\n",
    "            FROM eligible_purchases\n",
    "            WHERE transaction_amount > 100.0\n",
    "            AND system_version = 'v2'\n",
    "        \"\"\",\n",
    "    type=NodeType.TRANSFORM,\n",
    "    columns=[\n",
    "        Column(name=\"transaction_id\", type=ColumnType.INT),\n",
    "        Column(name=\"transaction_time\", type=ColumnType.DATETIME),\n",
    "        Column(name=\"transaction_amount\", type=ColumnType.FLOAT),\n",
    "        Column(name=\"customer_id\", type=ColumnType.INT),\n",
    "        Column(name=\"system_version\", type=ColumnType.STR),\n",
    "    ],\n",
    ")\n",
    "\n",
    "returned_transactions = Node(\n",
    "    name=\"returned_transactions\",\n",
    "    query=\"\"\"\n",
    "            SELECT transaction_id, transaction_time, transaction_amount, customer_id\n",
    "            FROM purchases p\n",
    "            LEFT JOIN returns r\n",
    "            ON p.transaction_id = r.purchase_transaction_id\n",
    "            WHERE r.purchase_transaction_id is not null\n",
    "        \"\"\",\n",
    "    type=NodeType.TRANSFORM,\n",
    "    columns=[\n",
    "        Column(name=\"transaction_id\", type=ColumnType.INT),\n",
    "        Column(name=\"transaction_time\", type=ColumnType.DATETIME),\n",
    "        Column(name=\"transaction_amount\", type=ColumnType.FLOAT),\n",
    "        Column(name=\"customer_id\", type=ColumnType.INT),\n",
    "    ],\n",
    ")\n",
    "\n",
    "event_type = Node(\n",
    "    name=\"event_type\",\n",
    "    type=NodeType.DIMENSION,\n",
    "    query=\"SELECT DISTINCT event_type FROM customer_events\",\n",
    "    columns=[\n",
    "        Column(name=\"event_type\", type=ColumnType.STR),\n",
    "    ],\n",
    ")\n",
    "event_type_id = Node(\n",
    "    name=\"event_type_id\",\n",
    "    type=NodeType.DIMENSION,\n",
    "    query=\"SELECT DISTINCT event_id, event_type FROM customer_events\",\n",
    "    columns=[\n",
    "        Column(name=\"event_id\", type=ColumnType.INT),\n",
    "        Column(name=\"event_type\", type=ColumnType.STR),\n",
    "    ],\n",
    ")\n",
    "customer_events2 = Node(\n",
    "    name=\"customer_events2\",\n",
    "    type=NodeType.SOURCE,\n",
    "    columns=[\n",
    "        Column(\n",
    "            name=\"event_id\",\n",
    "            type=ColumnType.INT,\n",
    "            dimension=event_type_id,\n",
    "            dimension_column=\"event_id\",\n",
    "        ),\n",
    "        Column(name=\"event_time\", type=ColumnType.DATETIME),\n",
    "        Column(name=\"event_type\", type=ColumnType.STR),\n",
    "        Column(name=\"customer_id\", type=ColumnType.INT),\n",
    "        Column(name=\"message\", type=ColumnType.STR),\n",
    "    ],\n",
    ")\n",
    "\n",
    "session.add(purchases)\n",
    "session.add(customer_events)\n",
    "session.add(returns)\n",
    "session.add(eligible_purchases)\n",
    "session.add(eligible_purchases_new_system)\n",
    "session.add(returned_transactions)\n",
    "session.add(event_type)\n",
    "session.add(customer_events2)\n",
    "session.add(event_type_id)\n",
    "session.commit()\n",
    "\n",
    "revenue = Node(\n",
    "    name=\"revenue\",\n",
    "    type=NodeType.SOURCE,\n",
    "    columns=[\n",
    "        Column(\n",
    "            name=\"country\",\n",
    "            type=ColumnType.STR,\n",
    "        ),\n",
    "        Column(name=\"revenue\", type=ColumnType.FLOAT),\n",
    "    ],\n",
    ")\n",
    "purchases_over_a_grand = Node(\n",
    "    name=\"purchases_over_a_grand\",\n",
    "    query=\"select country, revenue from revenue where revenue>1000.0\",\n",
    "    type=NodeType.TRANSFORM,\n",
    "    columns=[\n",
    "        Column(\n",
    "            name=\"country\",\n",
    "            type=ColumnType.STR,\n",
    "        ),\n",
    "        Column(name=\"revenue\", type=ColumnType.FLOAT),\n",
    "    ],\n",
    ")\n",
    "session.add(revenue)\n",
    "session.add(purchases_over_a_grand)\n",
    "session.commit()"
   ]
  },
  {
   "cell_type": "code",
   "execution_count": 5,
   "id": "5ed3ec45",
   "metadata": {},
   "outputs": [],
   "source": [
    "from dj.sql.parsing import ast"
   ]
  },
  {
   "cell_type": "code",
   "execution_count": 6,
   "id": "be5c594f",
   "metadata": {},
   "outputs": [],
   "source": [
    "from dj.typing import ColumnType"
   ]
  },
  {
   "cell_type": "code",
   "execution_count": 7,
   "id": "affba00e",
   "metadata": {},
   "outputs": [],
   "source": [
    "from functools import singledispatch"
   ]
  },
  {
   "cell_type": "code",
   "execution_count": 8,
   "id": "b93a3dbf",
   "metadata": {},
   "outputs": [],
   "source": [
    "from dj.sql.functions import function_registry"
   ]
  },
  {
   "cell_type": "code",
   "execution_count": 9,
   "id": "3016fe20",
   "metadata": {},
   "outputs": [],
   "source": [
    "from dj.sql.parsing.backends.exceptions import DJParseException"
   ]
  },
  {
   "cell_type": "code",
   "execution_count": 10,
   "id": "e4a5f8a3",
   "metadata": {},
   "outputs": [],
   "source": [
    "@singledispatch\n",
    "def get_type_of_expression(expression: ast.Expression)->ColumnType:\n",
    "    raise NotImplementedError(f\"Cannot get type of expression {e}\")\n",
    "\n",
    "@get_type_of_expression.register\n",
    "def _(expression: ast.Alias):\n",
    "    return get_type_of_expression(expression.child)\n",
    "    \n",
    "@get_type_of_expression.register\n",
    "def _(expression: ast.Column):\n",
    "    #column has already determined/stated its type\n",
    "    if expression.type:\n",
    "        return expression.type\n",
    "    \n",
    "    # column was derived from some other expression we can get the type of\n",
    "    if expression.expression:\n",
    "        return get_type_of_expression(expression.expression)\n",
    "    \n",
    "    # column is from a table expression we can look through\n",
    "    if table_pos_alias:=expression.table:\n",
    "        if isinstance(table, Alias):\n",
    "            table = table_pos_alias.child\n",
    "        else:\n",
    "            table = table_pos_alias\n",
    "        if isinstance(table, ast.Table):\n",
    "            if table.dj_node:\n",
    "                for col in table.dj_node.columns:\n",
    "                    if col.name==expression.name.name:\n",
    "                        expression.set_type(col.type)\n",
    "                        return col.type\n",
    "            else:\n",
    "                raise DJParseException(f\"Cannot resolve type of column {expression}. \"\n",
    "                                      \"column's table does not have a DJ Node.\"\n",
    "                                      )\n",
    "        else:\n",
    "            raise DJParseException(f\"Cannot resolve type of column {expression}. \"\n",
    "                                  \"DJ does not currently traverse subqueries for type information. \"\n",
    "                                  \"Consider extraction first.\"\n",
    "                                  )\n",
    "        #else:#if subquery\n",
    "        #currently don't even bother checking subqueries.\n",
    "        #the extract will have built it for us in crucial cases\n",
    "    raise DJParseException(f\"Cannot resolve type of column {expression}.\")\n",
    "    \n",
    "@get_type_of_expression.register\n",
    "def _(expression: ast.String):\n",
    "    return ColumnType.STR\n",
    "\n",
    "@get_type_of_expression.register\n",
    "def _(expression: ast.Number):\n",
    "    if isinstance(expression.value, int):\n",
    "        return ColumnType.INT\n",
    "    return ColumnType.FLOAT\n",
    "\n",
    "@get_type_of_expression.register\n",
    "def _(expression: ast.Boolean):\n",
    "    return ColumnType.BOOL\n",
    "\n",
    "@get_type_of_expression.register\n",
    "def _(expression: ast.Wildcard):\n",
    "    return ColumnType.WILDCARD\n",
    "\n",
    "@get_type_of_expression.register\n",
    "def _(expression: ast.Function):\n",
    "    name = expression.name.name.upper()\n",
    "    dj_func = function_registry[name]\n",
    "    return dj_func.infer_type(*(get_type_of_expression(exp) for exp in expression.args))"
   ]
  },
  {
   "cell_type": "code",
   "execution_count": 11,
   "id": "b99f58bb",
   "metadata": {},
   "outputs": [
    {
     "data": {
      "text/plain": [
       "<ColumnType.INT: 'INT'>"
      ]
     },
     "execution_count": 11,
     "metadata": {},
     "output_type": "execute_result"
    }
   ],
   "source": [
    "f = ast.Function(Name(\"Count\"), args = [ast.Wildcard()])\n",
    "\n",
    "get_type_of_expression(f)"
   ]
  },
  {
   "cell_type": "code",
   "execution_count": 12,
   "id": "0e95bf35",
   "metadata": {},
   "outputs": [
    {
     "data": {
      "text/plain": [
       "SelectDependencies(tables=[(Table(name=Name(name='purchases_over_a_grand', quote_style=''), namespace=None), Node(name='purchases_over_a_grand', type=<NodeType.TRANSFORM: 'transform'>, id=23, query='select country, revenue from revenue where revenue>1000.0', created_at=datetime.datetime(2023, 1, 12, 14, 19, 12, 301204), updated_at=datetime.datetime(2023, 1, 12, 14, 19, 12, 301210), description='', columns=[Column(id=129, name='country', dimension_column=None, dimension_id=None, type=<ColumnType.STR: 'STR'>), Column(id=130, name='revenue', dimension_column=None, dimension_id=None, type=<ColumnType.FLOAT: 'FLOAT'>)]))], columns=ColumnDependencies(projection=[(Column(name=Name(name='country', quote_style=''), namespace=None), Table(name=Name(name='purchases_over_a_grand', quote_style=''), namespace=None)), (Column(name=Name(name='revenue', quote_style=''), namespace=None), Table(name=Name(name='purchases_over_a_grand', quote_style=''), namespace=None))], group_by=[], filters=[(Column(name=Name(name='revenue', quote_style=''), namespace=None), Table(name=Name(name='purchases_over_a_grand', quote_style=''), namespace=None))], ons=[]), subqueries=[])"
      ]
     },
     "execution_count": 12,
     "metadata": {},
     "output_type": "execute_result"
    }
   ],
   "source": [
    "tree = parse(\n",
    "    \"\"\"\n",
    "    select country as cntry_alias, revenue from purchases_over_a_grand where revenue>1000.0\n",
    "    \"\"\"\n",
    ")\n",
    "\n",
    "extract_dependencies_from_select(session, tree.select)"
   ]
  },
  {
   "cell_type": "code",
   "execution_count": 13,
   "id": "526b4322",
   "metadata": {},
   "outputs": [
    {
     "data": {
      "text/plain": [
       "[(Column(name=Name(name='country', quote_style=''), namespace=None),\n",
       "  <ColumnType.STR: 'STR'>),\n",
       " (Column(name=Name(name='revenue', quote_style=''), namespace=None),\n",
       "  <ColumnType.FLOAT: 'FLOAT'>),\n",
       " (Column(name=Name(name='revenue', quote_style=''), namespace=None),\n",
       "  <ColumnType.FLOAT: 'FLOAT'>)]"
      ]
     },
     "execution_count": 13,
     "metadata": {},
     "output_type": "execute_result"
    }
   ],
   "source": [
    "[(c, c.type) for c in list(tree.find_all(ast.Column))]"
   ]
  },
  {
   "cell_type": "code",
   "execution_count": 14,
   "id": "c6410a8d",
   "metadata": {},
   "outputs": [
    {
     "data": {
      "text/plain": [
       "[(Column(name=Name(name='country', quote_style=''), namespace=None), None),\n",
       " (Column(name=Name(name='revenue', quote_style=''), namespace=None), None),\n",
       " (Column(name=Name(name='revenue', quote_style=''), namespace=None), None)]"
      ]
     },
     "execution_count": 14,
     "metadata": {},
     "output_type": "execute_result"
    }
   ],
   "source": [
    "[(c, c.expression) for c in list(tree.find_all(ast.Column))]"
   ]
  },
  {
   "cell_type": "code",
   "execution_count": 15,
   "id": "ae04922a",
   "metadata": {},
   "outputs": [
    {
     "data": {
      "text/plain": [
       "[(Alias(name=Name(name='cntry_alias', quote_style=''), namespace=None, child=Column(name=Name(name='country', quote_style=''), namespace=None)),\n",
       "  <ColumnType.STR: 'STR'>),\n",
       " (Column(name=Name(name='revenue', quote_style=''), namespace=None),\n",
       "  <ColumnType.FLOAT: 'FLOAT'>)]"
      ]
     },
     "execution_count": 15,
     "metadata": {},
     "output_type": "execute_result"
    }
   ],
   "source": [
    "[(exp, get_type_of_expression(exp)) for exp in tree.select.projection]"
   ]
  },
  {
   "cell_type": "code",
   "execution_count": 16,
   "id": "8dd27df5",
   "metadata": {},
   "outputs": [
    {
     "data": {
      "text/plain": [
       "SelectDependencies(tables=[(Table(name=Name(name='purchases_over_a_grand', quote_style=''), namespace=None), Node(name='purchases_over_a_grand', type=<NodeType.TRANSFORM: 'transform'>, id=23, query='select country, revenue from revenue where revenue>1000.0', created_at=datetime.datetime(2023, 1, 12, 14, 19, 12, 301204), updated_at=datetime.datetime(2023, 1, 12, 14, 19, 12, 301210), description='', columns=[Column(id=129, name='country', dimension_column=None, dimension_id=None, type=<ColumnType.STR: 'STR'>), Column(id=130, name='revenue', dimension_column=None, dimension_id=None, type=<ColumnType.FLOAT: 'FLOAT'>)]))], columns=ColumnDependencies(projection=[(Column(name=Name(name='revenue', quote_style=''), namespace=None), Table(name=Name(name='purchases_over_a_grand', quote_style=''), namespace=None))], group_by=[(Column(name=Name(name='country', quote_style=''), namespace=None), Table(name=Name(name='purchases_over_a_grand', quote_style=''), namespace=None))], filters=[(Column(name=Name(name='revenue', quote_style=''), namespace=None), Table(name=Name(name='purchases_over_a_grand', quote_style=''), namespace=None))], ons=[]), subqueries=[])"
      ]
     },
     "execution_count": 16,
     "metadata": {},
     "output_type": "execute_result"
    }
   ],
   "source": [
    "tree = parse(\n",
    "    \"\"\"\n",
    "    select Sum(revenue) from purchases_over_a_grand where revenue>1000.0 group by country\n",
    "    \"\"\"\n",
    ")\n",
    "\n",
    "extract_dependencies_from_select(session, tree.select)"
   ]
  },
  {
   "cell_type": "code",
   "execution_count": 17,
   "id": "b83c0c49",
   "metadata": {},
   "outputs": [
    {
     "data": {
      "text/plain": [
       "[(Column(name=Name(name='country', quote_style=''), namespace=None),\n",
       "  <ColumnType.STR: 'STR'>),\n",
       " (Column(name=Name(name='revenue', quote_style=''), namespace=None),\n",
       "  <ColumnType.FLOAT: 'FLOAT'>),\n",
       " (Column(name=Name(name='revenue', quote_style=''), namespace=None),\n",
       "  <ColumnType.FLOAT: 'FLOAT'>)]"
      ]
     },
     "execution_count": 17,
     "metadata": {},
     "output_type": "execute_result"
    }
   ],
   "source": [
    "[(c, c.type) for c in list(tree.find_all(ast.Column))]"
   ]
  },
  {
   "cell_type": "code",
   "execution_count": 18,
   "id": "6acd37be",
   "metadata": {},
   "outputs": [
    {
     "data": {
      "text/plain": [
       "[(Column(name=Name(name='country', quote_style=''), namespace=None), None),\n",
       " (Column(name=Name(name='revenue', quote_style=''), namespace=None), None),\n",
       " (Column(name=Name(name='revenue', quote_style=''), namespace=None), None)]"
      ]
     },
     "execution_count": 18,
     "metadata": {},
     "output_type": "execute_result"
    }
   ],
   "source": [
    "[(c, c.expression) for c in list(tree.find_all(ast.Column))]"
   ]
  },
  {
   "cell_type": "code",
   "execution_count": 19,
   "id": "fe5f0740",
   "metadata": {},
   "outputs": [
    {
     "data": {
      "text/plain": [
       "[(Function(name=Name(name='Sum', quote_style=''), namespace=Namespace(names=[]), args=[Column(name=Name(name='revenue', quote_style=''), namespace=None)]),\n",
       "  <ColumnType.FLOAT: 'FLOAT'>)]"
      ]
     },
     "execution_count": 19,
     "metadata": {},
     "output_type": "execute_result"
    }
   ],
   "source": [
    "[(exp, get_type_of_expression(exp)) for exp in tree.select.projection]"
   ]
  },
  {
   "cell_type": "code",
   "execution_count": null,
   "id": "32013acb",
   "metadata": {},
   "outputs": [],
   "source": []
  },
  {
   "cell_type": "code",
   "execution_count": 20,
   "id": "bb34b228",
   "metadata": {},
   "outputs": [
    {
     "data": {
      "text/plain": [
       "SelectDependencies(tables=[(Table(name=Name(name='purchases_over_a_grand', quote_style=''), namespace=None), Node(name='purchases_over_a_grand', type=<NodeType.TRANSFORM: 'transform'>, id=23, query='select country, revenue from revenue where revenue>1000.0', created_at=datetime.datetime(2023, 1, 12, 14, 19, 12, 301204), updated_at=datetime.datetime(2023, 1, 12, 14, 19, 12, 301210), description='', columns=[Column(id=129, name='country', dimension_column=None, dimension_id=None, type=<ColumnType.STR: 'STR'>), Column(id=130, name='revenue', dimension_column=None, dimension_id=None, type=<ColumnType.FLOAT: 'FLOAT'>)]))], columns=ColumnDependencies(projection=[], group_by=[(Column(name=Name(name='country', quote_style=''), namespace=None), Table(name=Name(name='purchases_over_a_grand', quote_style=''), namespace=None))], filters=[(Column(name=Name(name='revenue', quote_style=''), namespace=None), Table(name=Name(name='purchases_over_a_grand', quote_style=''), namespace=None))], ons=[]), subqueries=[])"
      ]
     },
     "execution_count": 20,
     "metadata": {},
     "output_type": "execute_result"
    }
   ],
   "source": [
    "tree = parse(\n",
    "    \"\"\"\n",
    "    select Count(*) from purchases_over_a_grand where revenue>1000.0 group by country\n",
    "    \"\"\"\n",
    ")\n",
    "\n",
    "extract_dependencies_from_select(session, tree.select)"
   ]
  },
  {
   "cell_type": "code",
   "execution_count": 21,
   "id": "190cd0d1",
   "metadata": {},
   "outputs": [
    {
     "data": {
      "text/plain": [
       "[(Function(name=Name(name='Count', quote_style=''), namespace=Namespace(names=[]), args=[Wildcard()]),\n",
       "  <ColumnType.INT: 'INT'>)]"
      ]
     },
     "execution_count": 21,
     "metadata": {},
     "output_type": "execute_result"
    }
   ],
   "source": [
    "[(exp, get_type_of_expression(exp)) for exp in tree.select.projection]"
   ]
  },
  {
   "cell_type": "code",
   "execution_count": 23,
   "id": "948fa2c1",
   "metadata": {},
   "outputs": [
    {
     "data": {
      "text/plain": [
       "SelectDependencies(tables=[], columns=ColumnDependencies(projection=[(Column(name=Name(name='sum_revenue', quote_style=''), namespace=None), Select(from_=From(tables=[Table(name=Name(name='purchases_over_a_grand', quote_style=''), namespace=None)], joins=[]), group_by=[Column(name=Name(name='country', quote_style=''), namespace=None)], having=None, projection=[Alias(name=Name(name='sum_revenue', quote_style=''), namespace=None, child=Function(name=Name(name='Sum', quote_style=''), namespace=Namespace(names=[]), args=[Column(name=Name(name='revenue', quote_style=''), namespace=None)]))], where=BinaryOp(op=BinaryOpKind.Gt, left=Column(name=Name(name='revenue', quote_style=''), namespace=None), right=Number(value=1000.0)), limit=None, distinct=False))], group_by=[], filters=[], ons=[]), subqueries=[(Select(from_=From(tables=[Table(name=Name(name='purchases_over_a_grand', quote_style=''), namespace=None)], joins=[]), group_by=[Column(name=Name(name='country', quote_style=''), namespace=None)], having=None, projection=[Alias(name=Name(name='sum_revenue', quote_style=''), namespace=None, child=Function(name=Name(name='Sum', quote_style=''), namespace=Namespace(names=[]), args=[Column(name=Name(name='revenue', quote_style=''), namespace=None)]))], where=BinaryOp(op=BinaryOpKind.Gt, left=Column(name=Name(name='revenue', quote_style=''), namespace=None), right=Number(value=1000.0)), limit=None, distinct=False), SelectDependencies(tables=[(Table(name=Name(name='purchases_over_a_grand', quote_style=''), namespace=None), Node(name='purchases_over_a_grand', type=<NodeType.TRANSFORM: 'transform'>, id=23, query='select country, revenue from revenue where revenue>1000.0', created_at=datetime.datetime(2023, 1, 12, 14, 19, 12, 301204), updated_at=datetime.datetime(2023, 1, 12, 14, 19, 12, 301210), description='', columns=[Column(id=129, name='country', dimension_column=None, dimension_id=None, type=<ColumnType.STR: 'STR'>), Column(id=130, name='revenue', dimension_column=None, dimension_id=None, type=<ColumnType.FLOAT: 'FLOAT'>)]))], columns=ColumnDependencies(projection=[(Column(name=Name(name='revenue', quote_style=''), namespace=None), Table(name=Name(name='purchases_over_a_grand', quote_style=''), namespace=None))], group_by=[(Column(name=Name(name='country', quote_style=''), namespace=None), Table(name=Name(name='purchases_over_a_grand', quote_style=''), namespace=None))], filters=[(Column(name=Name(name='revenue', quote_style=''), namespace=None), Table(name=Name(name='purchases_over_a_grand', quote_style=''), namespace=None))], ons=[]), subqueries=[]))])"
      ]
     },
     "execution_count": 23,
     "metadata": {},
     "output_type": "execute_result"
    }
   ],
   "source": [
    "tree = parse(\n",
    "    \"\"\"\n",
    "    select sum_revenue from (select Sum(revenue) as sum_revenue from purchases_over_a_grand where revenue>1000.0 group by country)\n",
    "    \"\"\"\n",
    ")\n",
    "\n",
    "extract_dependencies_from_select(session, tree.select)"
   ]
  },
  {
   "cell_type": "code",
   "execution_count": 24,
   "id": "b5012afb",
   "metadata": {},
   "outputs": [
    {
     "data": {
      "text/plain": [
       "Alias(name=Name(name='sum_revenue', quote_style=''), namespace=None, child=Function(name=Name(name='Sum', quote_style=''), namespace=Namespace(names=[]), args=[Column(name=Name(name='revenue', quote_style=''), namespace=None)]))"
      ]
     },
     "execution_count": 24,
     "metadata": {},
     "output_type": "execute_result"
    }
   ],
   "source": [
    "tree.select.projection[0].expression"
   ]
  },
  {
   "cell_type": "code",
   "execution_count": 25,
   "id": "1c7a00a9",
   "metadata": {},
   "outputs": [
    {
     "data": {
      "text/plain": [
       "[(Column(name=Name(name='sum_revenue', quote_style=''), namespace=None),\n",
       "  <ColumnType.FLOAT: 'FLOAT'>)]"
      ]
     },
     "execution_count": 25,
     "metadata": {},
     "output_type": "execute_result"
    }
   ],
   "source": [
    "# you can see the types of all expression in the top projection\n",
    "[(exp, get_type_of_expression(exp)) for exp in tree.select.projection]"
   ]
  },
  {
   "cell_type": "code",
   "execution_count": 31,
   "id": "1d8a60a3",
   "metadata": {},
   "outputs": [],
   "source": [
    "# any Table with a dj_node is a dependency\n",
    "\n",
    "tables = tree.find_all(ast.Table)\n",
    "deps = {t.dj_node for t in tables if t.dj_node}\n",
    "danglers = {make_name(t.namespace, t.name.name) for t in tables if not t.dj_node}"
   ]
  },
  {
   "cell_type": "code",
   "execution_count": 32,
   "id": "69ef0c17",
   "metadata": {},
   "outputs": [
    {
     "data": {
      "text/plain": [
       "{Node(name='purchases_over_a_grand', type=<NodeType.TRANSFORM: 'transform'>, id=23, query='select country, revenue from revenue where revenue>1000.0', created_at=datetime.datetime(2023, 1, 12, 14, 19, 12, 301204), updated_at=datetime.datetime(2023, 1, 12, 14, 19, 12, 301210), description='', columns=[Column(id=129, name='country', dimension_column=None, dimension_id=None, type=<ColumnType.STR: 'STR'>), Column(id=130, name='revenue', dimension_column=None, dimension_id=None, type=<ColumnType.FLOAT: 'FLOAT'>)])}"
      ]
     },
     "execution_count": 32,
     "metadata": {},
     "output_type": "execute_result"
    }
   ],
   "source": [
    "deps"
   ]
  },
  {
   "cell_type": "code",
   "execution_count": 33,
   "id": "aa2a10a7",
   "metadata": {},
   "outputs": [
    {
     "data": {
      "text/plain": [
       "set()"
      ]
     },
     "execution_count": 33,
     "metadata": {},
     "output_type": "execute_result"
    }
   ],
   "source": [
    "danglers"
   ]
  },
  {
   "cell_type": "code",
   "execution_count": 38,
   "id": "5d03491e",
   "metadata": {},
   "outputs": [],
   "source": [
    "CompoundBuildException().reset()\n",
    "CompoundBuildException().set_raise(False)"
   ]
  },
  {
   "cell_type": "code",
   "execution_count": 39,
   "id": "b3c01cfa",
   "metadata": {},
   "outputs": [
    {
     "data": {
      "text/plain": [
       "SelectDependencies(tables=[], columns=ColumnDependencies(projection=[(Column(name=Name(name='sum_revenue', quote_style=''), namespace=None), Select(from_=From(tables=[Table(name=Name(name='purchases_over_a_grand', quote_style=''), namespace=None)], joins=[]), group_by=[Column(name=Name(name='country', quote_style=''), namespace=None)], having=None, projection=[Alias(name=Name(name='sum_revenue', quote_style=''), namespace=None, child=Function(name=Name(name='Sum', quote_style=''), namespace=Namespace(names=[]), args=[Column(name=Name(name='revenue', quote_style=''), namespace=None)]))], where=BinaryOp(op=BinaryOpKind.Gt, left=Column(name=Name(name='revenue', quote_style=''), namespace=None), right=Number(value=1000.0)), limit=None, distinct=False))], group_by=[], filters=[], ons=[]), subqueries=[(Select(from_=From(tables=[Table(name=Name(name='purchases_over_a_grand', quote_style=''), namespace=None)], joins=[]), group_by=[Column(name=Name(name='country', quote_style=''), namespace=None)], having=None, projection=[Alias(name=Name(name='sum_revenue', quote_style=''), namespace=None, child=Function(name=Name(name='Sum', quote_style=''), namespace=Namespace(names=[]), args=[Column(name=Name(name='revenue', quote_style=''), namespace=None)]))], where=BinaryOp(op=BinaryOpKind.Gt, left=Column(name=Name(name='revenue', quote_style=''), namespace=None), right=Number(value=1000.0)), limit=None, distinct=False), SelectDependencies(tables=[(Table(name=Name(name='purchases_over_a_grand', quote_style=''), namespace=None), Node(name='purchases_over_a_grand', type=<NodeType.TRANSFORM: 'transform'>, id=23, query='select country, revenue from revenue where revenue>1000.0', created_at=datetime.datetime(2023, 1, 12, 14, 19, 12, 301204), updated_at=datetime.datetime(2023, 1, 12, 14, 19, 12, 301210), description='', columns=[Column(id=129, name='country', dimension_column=None, dimension_id=None, type=<ColumnType.STR: 'STR'>), Column(id=130, name='revenue', dimension_column=None, dimension_id=None, type=<ColumnType.FLOAT: 'FLOAT'>)]))], columns=ColumnDependencies(projection=[(Column(name=Name(name='revenue', quote_style=''), namespace=None), Table(name=Name(name='purchases_over_a_grand', quote_style=''), namespace=None))], group_by=[(Column(name=Name(name='country', quote_style=''), namespace=None), Table(name=Name(name='purchases_over_a_grand', quote_style=''), namespace=None))], filters=[(Column(name=Name(name='revenue', quote_style=''), namespace=None), Table(name=Name(name='purchases_over_a_grand', quote_style=''), namespace=None))], ons=[]), subqueries=[]))])"
      ]
     },
     "execution_count": 39,
     "metadata": {},
     "output_type": "execute_result"
    }
   ],
   "source": [
    "tree = parse(\n",
    "    \"\"\"\n",
    "    select sum_revenue from (select Sum(revenue) as sum_revenue from purchases_over_a_grand where revenue>1000.0 group by country) as a, oops\n",
    "    \"\"\"\n",
    ")\n",
    "\n",
    "extract_dependencies_from_select(session, tree.select)"
   ]
  },
  {
   "cell_type": "code",
   "execution_count": 46,
   "id": "f933a553",
   "metadata": {},
   "outputs": [],
   "source": [
    "# any Table with a dj_node is a dependency\n",
    "\n",
    "deps = {t.dj_node for t in tree.find_all(ast.Table) if t.dj_node}\n",
    "danglers = {make_name(t.namespace, t.name.name) for t in tree.find_all(ast.Table) if not t.dj_node}"
   ]
  },
  {
   "cell_type": "code",
   "execution_count": 47,
   "id": "3f731f33",
   "metadata": {},
   "outputs": [
    {
     "data": {
      "text/plain": [
       "{Node(name='purchases_over_a_grand', type=<NodeType.TRANSFORM: 'transform'>, id=23, query='select country, revenue from revenue where revenue>1000.0', created_at=datetime.datetime(2023, 1, 12, 14, 19, 12, 301204), updated_at=datetime.datetime(2023, 1, 12, 14, 19, 12, 301210), description='', columns=[Column(id=129, name='country', dimension_column=None, dimension_id=None, type=<ColumnType.STR: 'STR'>), Column(id=130, name='revenue', dimension_column=None, dimension_id=None, type=<ColumnType.FLOAT: 'FLOAT'>)])}"
      ]
     },
     "execution_count": 47,
     "metadata": {},
     "output_type": "execute_result"
    }
   ],
   "source": [
    "deps"
   ]
  },
  {
   "cell_type": "code",
   "execution_count": 48,
   "id": "a7f5ac13",
   "metadata": {},
   "outputs": [
    {
     "data": {
      "text/plain": [
       "{'oops'}"
      ]
     },
     "execution_count": 48,
     "metadata": {},
     "output_type": "execute_result"
    }
   ],
   "source": [
    "danglers"
   ]
  },
  {
   "cell_type": "code",
   "execution_count": null,
   "id": "0a4e59b2",
   "metadata": {},
   "outputs": [],
   "source": []
  }
 ],
 "metadata": {
  "kernelspec": {
   "display_name": "Python 3 (ipykernel)",
   "language": "python",
   "name": "python3"
  },
  "language_info": {
   "codemirror_mode": {
    "name": "ipython",
    "version": 3
   },
   "file_extension": ".py",
   "mimetype": "text/x-python",
   "name": "python",
   "nbconvert_exporter": "python",
   "pygments_lexer": "ipython3",
   "version": "3.10.8"
  }
 },
 "nbformat": 4,
 "nbformat_minor": 5
}
