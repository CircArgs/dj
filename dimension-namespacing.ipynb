{
 "cells": [
  {
   "cell_type": "code",
   "execution_count": 1,
   "id": "d5e0179b",
   "metadata": {},
   "outputs": [],
   "source": [
    "dimension = \"user_playback_country:basic.dimension.country.country_name\""
   ]
  },
  {
   "cell_type": "code",
   "execution_count": 2,
   "id": "97090f94",
   "metadata": {},
   "outputs": [],
   "source": [
    "split = dimension.split(\":\")"
   ]
  },
  {
   "cell_type": "code",
   "execution_count": 3,
   "id": "4a55759c",
   "metadata": {},
   "outputs": [
    {
     "name": "stderr",
     "output_type": "stream",
     "text": [
      "WARNING:root:no boto3 module found\n"
     ]
    }
   ],
   "source": [
    "from dataclasses import dataclass, field\n",
    "from typing import Optional, List\n",
    "from dj.sql.parsing import ast\n",
    "from itertools import zip_longest\n",
    "from functools import reduce"
   ]
  },
  {
   "cell_type": "code",
   "execution_count": 4,
   "id": "1f97ddb0",
   "metadata": {},
   "outputs": [],
   "source": [
    "@dataclass\n",
    "class JoinInfo:\n",
    "    joinee_table: ast.Table # table being joined on\n",
    "    joinee_columns: List[ast.Column] # columns being used to join `joinee_table` on\n",
    "    joiner_table: Optional[ast.Table] = None # table being joined to\n",
    "    joiner_columns: List[ast.Column] = field(default_factory=list) # columns being used to join to\n",
    "                        \n",
    "    def make_join_expression(self)->ast.BinaryOp:\n",
    "        ops = []\n",
    "        for joiner_col, dim_col in zip_longest(self.joiner_columns, self.dimension_columns):\n",
    "            if joiner_col is None or dim_col is None:\n",
    "                raise Exception(\"Different numbers of joinee and joiner columns.\")\n",
    "            op = ast.BinaryOp(\n",
    "                    ast.BinaryOpKind.Eq,\n",
    "                    joiner_col.add_table(self.joiner_table),\n",
    "                    joinee_col.add_table(self.joinee_table),\n",
    "                )\n",
    "            ops.append(op)\n",
    "            \n",
    "        return reduce(\n",
    "                    lambda left, right: ast.BinaryOp(\n",
    "                        ast.BinaryOpKind.And,\n",
    "                        left,\n",
    "                        right,\n",
    "                    ),\n",
    "                    ops,\n",
    "                )"
   ]
  },
  {
   "cell_type": "code",
   "execution_count": 7,
   "id": "ca16a41e",
   "metadata": {},
   "outputs": [],
   "source": [
    "from dj.sql.parsing.backends.sqloxide import parse"
   ]
  },
  {
   "cell_type": "code",
   "execution_count": 12,
   "id": "89eccb7f",
   "metadata": {},
   "outputs": [],
   "source": [
    "def parse_expression(expression: str, dialect: Optional[str] = None):\n",
    "    query = f\"SELECT {expression}\"\n",
    "    tree = parse(query, dialect=dialect)\n",
    "    return tree.select.projection[0]"
   ]
  },
  {
   "cell_type": "code",
   "execution_count": 15,
   "id": "7b6f290c",
   "metadata": {},
   "outputs": [
    {
     "data": {
      "text/plain": [
       "BinaryOp(op=BinaryOpKind.And, left=Column(name=Name(name='hello', quote_style=''), namespace=None, _api_column=False), right=Number(value=5))"
      ]
     },
     "execution_count": 15,
     "metadata": {},
     "output_type": "execute_result"
    }
   ],
   "source": [
    "parse_expression(\"hello and 5\")"
   ]
  },
  {
   "cell_type": "code",
   "execution_count": 5,
   "id": "c3b88648",
   "metadata": {},
   "outputs": [
    {
     "ename": "IndentationError",
     "evalue": "expected an indented block after 'elif' statement on line 3 (1298838090.py, line 5)",
     "output_type": "error",
     "traceback": [
      "\u001b[0;36m  Cell \u001b[0;32mIn[5], line 5\u001b[0;36m\u001b[0m\n\u001b[0;31m    else:\u001b[0m\n\u001b[0m    ^\u001b[0m\n\u001b[0;31mIndentationError\u001b[0m\u001b[0;31m:\u001b[0m expected an indented block after 'elif' statement on line 3\n"
     ]
    }
   ],
   "source": [
    "if len(split)==1:\n",
    "    \n",
    "elif len(split)==2:\n",
    "    \n",
    "else:\n",
    "    raise Exception(\"\")"
   ]
  },
  {
   "cell_type": "code",
   "execution_count": null,
   "id": "eeb65dd9",
   "metadata": {},
   "outputs": [],
   "source": []
  }
 ],
 "metadata": {
  "kernelspec": {
   "display_name": "Python 3 (ipykernel)",
   "language": "python",
   "name": "python3"
  },
  "language_info": {
   "codemirror_mode": {
    "name": "ipython",
    "version": 3
   },
   "file_extension": ".py",
   "mimetype": "text/x-python",
   "name": "python",
   "nbconvert_exporter": "python",
   "pygments_lexer": "ipython3",
   "version": "3.10.10"
  }
 },
 "nbformat": 4,
 "nbformat_minor": 5
}
